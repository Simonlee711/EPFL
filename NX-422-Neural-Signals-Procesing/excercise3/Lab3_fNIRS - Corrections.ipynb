{
 "cells": [
  {
   "cell_type": "markdown",
   "id": "d262f461-32ce-4de7-8149-6156e599d4a7",
   "metadata": {},
   "source": [
    "sphinx:\n",
    "  config:\n",
    "    mathjax_path: https://cdn.jsdelivr.net/npm/mathjax@3/es5/tex-mml-chtml.js"
   ]
  },
  {
   "cell_type": "markdown",
   "id": "775a8a63-df82-4cae-b9d1-f28fcec4f71b",
   "metadata": {},
   "source": [
    "Welcome to the laboratory computers for the course \"Neural signals and signal processing\". The aim of the laboratories is to provide insights on how to analyze imaging data, e.g., from functional Magnetic Resonance Imaging (fMRI), elecrophysiological neural signals, e.g., from Electroencephalogram (EEG) or neurophysiological signals, e.g., from functional Near Infrared Spectroscopy (fNRIS)."
   ]
  },
  {
   "cell_type": "markdown",
   "id": "0005f9d3-e329-4837-918e-9df0b384489e",
   "metadata": {},
   "source": [
    "<img src=\"https://www.epfl.ch/about/overview/wp-content/uploads/2020/07/logo-epfl-1024x576.png\" style=\"padding-right:10px;width:140px;float:left\"></td>\n",
    "<h2 style=\"white-space: nowrap\">Neural Signals and Signal Processing (NX-421)</h2>\n",
    "<hr style=\"clear:both\"></hr>\n",
    "<h1><font color='black'>Laboratory exercise: Get acquainted with fNIRS data </font></h1>\n"
   ]
  },
  {
   "cell_type": "markdown",
   "id": "2f1c6b5f-1039-4978-90b1-67578580ef22",
   "metadata": {
    "tags": []
   },
   "source": [
    "# 1. Import of libraries\n",
    "\n"
   ]
  },
  {
   "cell_type": "markdown",
   "id": "20a76f7d-9773-4bfc-90dd-4db7d18762b0",
   "metadata": {},
   "source": [
    "Let's first install the [`%mne`](https://mne.tools/stable/index.html) library which will serve as support for visualization and preprocessing tools for fNIRS data in this lab.\n",
    "\n",
    "Run the next cell to import the mne library and other related libraries/functions. "
   ]
  },
  {
   "cell_type": "code",
   "execution_count": 2,
   "id": "9f6ab33e-4267-41ab-bed9-a57a3ff04fb1",
   "metadata": {},
   "outputs": [],
   "source": [
    "#Import library for analyzing human neurophysiological data \n",
    "import mne"
   ]
  },
  {
   "cell_type": "markdown",
   "id": "374204d9-f885-4150-a43d-123f7e3e49d8",
   "metadata": {},
   "source": [
    "Verify that the requirements for mne library are satisfied by running the next cell."
   ]
  },
  {
   "cell_type": "code",
   "execution_count": 3,
   "id": "61b2e74a-783b-492d-a191-1b8983fc989b",
   "metadata": {},
   "outputs": [
    {
     "name": "stdout",
     "output_type": "stream",
     "text": [
      "/usr/local/lib/python3.8/dist-packages/pkg_resources/__init__.py:123: PkgResourcesDeprecationWarning: nest-2.20.1 is an invalid version and will not be supported in a future release\n",
      "  warnings.warn(\n",
      "/usr/local/lib/python3.8/dist-packages/pkg_resources/__init__.py:123: PkgResourcesDeprecationWarning: 0.23ubuntu1 is an invalid version and will not be supported in a future release\n",
      "  warnings.warn(\n",
      "/usr/local/lib/python3.8/dist-packages/pkg_resources/__init__.py:123: PkgResourcesDeprecationWarning: 0.1.36ubuntu1 is an invalid version and will not be supported in a future release\n",
      "  warnings.warn(\n",
      "Requirement already satisfied: mne in ./.local/lib/python3.8/site-packages (1.1.0)\n",
      "Requirement already satisfied: numpy>=1.15.4 in /usr/local/lib/python3.8/dist-packages (from mne) (1.22.4)\n",
      "Requirement already satisfied: scipy>=1.1.0 in /usr/local/lib/python3.8/dist-packages (from mne) (1.9.1)\n",
      "Requirement already satisfied: matplotlib in /usr/local/lib/python3.8/dist-packages (from mne) (3.5.3)\n",
      "Requirement already satisfied: tqdm in /usr/local/lib/python3.8/dist-packages (from mne) (4.64.0)\n",
      "Requirement already satisfied: pooch>=1.5 in ./.local/lib/python3.8/site-packages (from mne) (1.6.0)\n",
      "Requirement already satisfied: decorator in /usr/local/lib/python3.8/dist-packages (from mne) (5.1.1)\n",
      "Requirement already satisfied: packaging in /usr/local/lib/python3.8/dist-packages (from mne) (21.3)\n",
      "Requirement already satisfied: jinja2 in /usr/local/lib/python3.8/dist-packages (from mne) (3.1.2)\n",
      "Requirement already satisfied: cycler>=0.10 in /usr/local/lib/python3.8/dist-packages (from matplotlib->mne) (0.11.0)\n",
      "Requirement already satisfied: fonttools>=4.22.0 in /usr/local/lib/python3.8/dist-packages (from matplotlib->mne) (4.37.1)\n",
      "Requirement already satisfied: kiwisolver>=1.0.1 in /usr/local/lib/python3.8/dist-packages (from matplotlib->mne) (1.4.4)\n",
      "Requirement already satisfied: pillow>=6.2.0 in /usr/local/lib/python3.8/dist-packages (from matplotlib->mne) (9.2.0)\n",
      "Requirement already satisfied: pyparsing>=2.2.1 in /usr/local/lib/python3.8/dist-packages (from matplotlib->mne) (3.0.9)\n",
      "Requirement already satisfied: python-dateutil>=2.7 in /usr/local/lib/python3.8/dist-packages (from matplotlib->mne) (2.8.2)\n",
      "Requirement already satisfied: appdirs>=1.3.0 in /usr/local/lib/python3.8/dist-packages (from pooch>=1.5->mne) (1.4.4)\n",
      "Requirement already satisfied: requests>=2.19.0 in /usr/local/lib/python3.8/dist-packages (from pooch>=1.5->mne) (2.28.1)\n",
      "Requirement already satisfied: MarkupSafe>=2.0 in /usr/local/lib/python3.8/dist-packages (from jinja2->mne) (2.1.1)\n",
      "Requirement already satisfied: six>=1.5 in /usr/lib/python3/dist-packages (from python-dateutil>=2.7->matplotlib->mne) (1.14.0)\n",
      "Requirement already satisfied: charset-normalizer<3,>=2 in /usr/local/lib/python3.8/dist-packages (from requests>=2.19.0->pooch>=1.5->mne) (2.1.1)\n",
      "Requirement already satisfied: idna<4,>=2.5 in /usr/local/lib/python3.8/dist-packages (from requests>=2.19.0->pooch>=1.5->mne) (3.3)\n",
      "Requirement already satisfied: urllib3<1.27,>=1.21.1 in /usr/local/lib/python3.8/dist-packages (from requests>=2.19.0->pooch>=1.5->mne) (1.26.12)\n",
      "Requirement already satisfied: certifi>=2017.4.17 in /usr/local/lib/python3.8/dist-packages (from requests>=2.19.0->pooch>=1.5->mne) (2022.6.15)\n"
     ]
    }
   ],
   "source": [
    "!pip install mne"
   ]
  },
  {
   "cell_type": "markdown",
   "id": "116d6041-c04e-4cd8-b1ff-ff63696efba3",
   "metadata": {},
   "source": [
    "For a user-friendly and interactive visualization of the analyzed data and signals, you might need to use the functions of the python-based library [`matplotlib`](https://pypi.org/project/matplotlib/).\n",
    "\n",
    "Run the next cell to import the matplotlip library and run some of the main functions."
   ]
  },
  {
   "cell_type": "code",
   "execution_count": 3,
   "id": "b06019af-f072-43d1-8f2d-faba3c3092dc",
   "metadata": {},
   "outputs": [],
   "source": [
    "#Import library for static, animated, and interactive visualizations\n",
    "import matplotlib\n",
    "#Run next command to configure a display with the graphics library integrated into Notebook\n",
    "%matplotlib inline\n",
    "#Run next command to make nteractive plots and simple cases of programmatic plot\n",
    "import matplotlib.pyplot as plt"
   ]
  },
  {
   "cell_type": "markdown",
   "id": "8200403c-0b4f-468c-8763-073f6b51d3d9",
   "metadata": {},
   "source": [
    "Last but not least... For an efficient looping, import the compress function from the [`itertools`](https://docs.python.org/3/library/itertools.html) library. This function will permit to filter elements from a set of data to return only those that have a corresponding element.\n",
    "\n",
    "Run the next cell to import the compress function from the itertools library."
   ]
  },
  {
   "cell_type": "code",
   "execution_count": 12,
   "id": "64f40c32-b0de-4089-8015-1af099cdcac8",
   "metadata": {},
   "outputs": [],
   "source": [
    "from itertools import compress"
   ]
  },
  {
   "cell_type": "markdown",
   "id": "da7ec8bb-fae0-4c7f-8f85-9226daaa50f1",
   "metadata": {},
   "source": [
    "# 2. Vizualisation of neurophysiological signals</font></h1>"
   ]
  },
  {
   "cell_type": "markdown",
   "id": "c39a5f92-f5c6-419f-8e53-5ce8922d4a22",
   "metadata": {},
   "source": [
    "fMRI has become the gold standard for in-vivo visualization of the human brain. Nevertheless, this technique is restricted to a laboratory set-up in which the participant is restricted to a fixed position. In contrast, fNIRS experimental set-up stands out for more ecological validity, thanks to a portable version of the device that allows to perform experiments in realistic environments. Still in comparison with fMRI, fNIRS has a relatively higher temporal resolution of 0,01s that allows to disentangle between fluctuations of oxygenated hemoglobin (HbO) and deoxygenated hemoglobin (HbR). But unlike fMRI magnets, fNIRS optical sensors are limited by a low spatial resolution of 3mm and a penetration depth of 1,5mm which does not allow to probe deep areas of the brain.\n",
    "\n",
    "Given these measurement settings, let's visualize and inspect data generated with fNIRS! "
   ]
  },
  {
   "cell_type": "markdown",
   "id": "405ddcbc-ad58-46b9-99e1-955885332020",
   "metadata": {},
   "source": [
    "### Dataset"
   ]
  },
  {
   "cell_type": "markdown",
   "id": "0c3790ca-1acb-48e1-bb57-61c2d4200991",
   "metadata": {},
   "source": [
    "We will work on a set of hemodynamic data measured on one subject during a finger tapping paradigm with three conditions: 1) Tapping the left thumb to fingers, 2) Tapping the right thumb to fingers and 3) A control when nothing happens. Each tapping lasts 5 seconds and there are 30 trials in each condition.The measurement was performed using fNIRS sensors, which were located over motor areas of the cortex. \n",
    "\n",
    "Data were provided by Luke, R., & McAlpine, D. (2021). fNIRS Finger Tapping Data in BIDS Format (Version v0.0.1) (https://doi.org/10.5281/zenodo.5529797),"
   ]
  },
  {
   "cell_type": "markdown",
   "id": "53e47d01-5980-44d8-80ae-21fb655d082f",
   "metadata": {
    "tags": []
   },
   "source": [
    "### Download and load data"
   ]
  },
  {
   "cell_type": "markdown",
   "id": "59c6c748-8bc0-4404-84ad-19de9386850f",
   "metadata": {},
   "source": [
    "First, you need to create a folder to store the downloaded data. \n",
    "\n",
    "Create this new folder by running the next cell."
   ]
  },
  {
   "cell_type": "code",
   "execution_count": 5,
   "id": "601d8a06-6484-4ef3-bb2b-7664311c946d",
   "metadata": {},
   "outputs": [
    {
     "name": "stdout",
     "output_type": "stream",
     "text": [
      "mkdir: cannot create directory ‘mne_data’: File exists\n"
     ]
    }
   ],
   "source": [
    "!mkdir mne_data"
   ]
  },
  {
   "cell_type": "markdown",
   "id": "65eca6c2-6752-42d0-8a72-c641a7172cd4",
   "metadata": {},
   "source": [
    "Load the dataset by running the next cell."
   ]
  },
  {
   "cell_type": "code",
   "execution_count": 4,
   "id": "a2ceb50a-fe37-4943-9d9e-5817f0767cca",
   "metadata": {},
   "outputs": [
    {
     "name": "stdout",
     "output_type": "stream",
     "text": [
      "Loading /home/mne_data/MNE-fNIRS-motor-data/Participant-1\n",
      "Reading 0 ... 23238  =      0.000 ...  2974.464 secs...\n"
     ]
    }
   ],
   "source": [
    "#Download measurement\n",
    "fnirs_data_folder = mne.datasets.fnirs_motor.data_path()\n",
    "#Get the path for the measurement folder \n",
    "fnirs_data_folder=\"/home/mne_data/MNE-fNIRS-motor-data/Participant-1\"\n",
    "#Load the measurement \n",
    "raw_intensity = mne.io.read_raw_nirx(fnirs_data_folder, verbose=True, preload=True)"
   ]
  },
  {
   "cell_type": "markdown",
   "id": "b2c16446-b605-4aef-b3d6-c4481d1d2b34",
   "metadata": {},
   "source": [
    "Display and read information on the measurement setting such as the number of channels, the file duration or the sampling frequency by runing the next cell. "
   ]
  },
  {
   "cell_type": "code",
   "execution_count": 5,
   "id": "32a5c5e7-86c8-4ebd-890d-53720c5b2041",
   "metadata": {},
   "outputs": [
    {
     "data": {
      "text/html": [
       "<table class=\"table table-hover table-striped table-sm table-responsive small\">\n",
       "    <tr>\n",
       "        <th>Measurement date</th>\n",
       "        \n",
       "        <td>November 02, 2019  13:16:16 GMT</td>\n",
       "        \n",
       "    </tr>\n",
       "    <tr>\n",
       "        <th>Experimenter</th>\n",
       "        \n",
       "        <td>Unknown</td>\n",
       "        \n",
       "    </tr>\n",
       "        <th>Participant</th>\n",
       "        \n",
       "            \n",
       "            <td>P1</td>\n",
       "            \n",
       "        \n",
       "    </tr>\n",
       "    <tr>\n",
       "        <th>Digitized points</th>\n",
       "        \n",
       "        <td>31 points</td>\n",
       "        \n",
       "    </tr>\n",
       "    <tr>\n",
       "        <th>Good channels</th>\n",
       "        <td>56 fNIRS (CW amplitude)</td>\n",
       "    </tr>\n",
       "    <tr>\n",
       "        <th>Bad channels</th>\n",
       "        <td>None</td>\n",
       "    </tr>\n",
       "    <tr>\n",
       "        <th>EOG channels</th>\n",
       "        <td>Not available</td>\n",
       "    </tr>\n",
       "    <tr>\n",
       "        <th>ECG channels</th>\n",
       "        <td>Not available</td>\n",
       "    \n",
       "    <tr>\n",
       "        <th>Sampling frequency</th>\n",
       "        <td>7.81 Hz</td>\n",
       "    </tr>\n",
       "    \n",
       "    \n",
       "    <tr>\n",
       "        <th>Highpass</th>\n",
       "        <td>0.00 Hz</td>\n",
       "    </tr>\n",
       "    \n",
       "    \n",
       "    <tr>\n",
       "        <th>Lowpass</th>\n",
       "        <td>3.91 Hz</td>\n",
       "    </tr>\n",
       "    \n",
       "    \n",
       "    \n",
       "    <tr>\n",
       "        <th>Filenames</th>\n",
       "        <td>Participant-1</td>\n",
       "    </tr>\n",
       "    \n",
       "    <tr>\n",
       "        <th>Duration</th>\n",
       "        <td>00:49:34 (HH:MM:SS)</td>\n",
       "    </tr>\n",
       "</table>"
      ],
      "text/plain": [
       "<RawNIRX | Participant-1, 56 x 23239 (2974.5 s), ~10.0 MB, data loaded>"
      ]
     },
     "execution_count": 5,
     "metadata": {},
     "output_type": "execute_result"
    }
   ],
   "source": [
    "#Display information on measurement setting\n",
    "raw_intensity"
   ]
  },
  {
   "cell_type": "markdown",
   "id": "94d0cf60-9d52-47b2-968e-1119147d627a",
   "metadata": {
    "tags": []
   },
   "source": [
    "##### Multiple Choice Question:\n",
    "Among the choices below, what is the shape of the measured dataset (number of channels, timepoints) ?\n",
    "   * 1. (17, 98888),\n",
    "   * 2. (56, 23239),\n",
    "   * 3. (56, 78889), or\n",
    "   * 4. (17, 23239)."
   ]
  },
  {
   "cell_type": "code",
   "execution_count": null,
   "id": "195077cc-f82b-4344-a45a-7e99cf5ed724",
   "metadata": {},
   "outputs": [],
   "source": [
    "#Correct answer: 2"
   ]
  },
  {
   "cell_type": "markdown",
   "id": "c5ba0d68-ea25-4278-8c7c-f45eb31d155d",
   "metadata": {},
   "source": [
    "Verify your answer by applying the function shape on your dataset. Beforehand, you need to extract the dataset from the measuerment file using the function get_data(). Look at the mne documentation by clicking on the following link: https://mne.tools/stable/generated/mne.io.Raw.html."
   ]
  },
  {
   "cell_type": "code",
   "execution_count": 6,
   "id": "654dd59f-1783-4903-89e4-991aaf7e156b",
   "metadata": {},
   "outputs": [
    {
     "data": {
      "text/plain": [
       "(56, 23239)"
      ]
     },
     "execution_count": 6,
     "metadata": {},
     "output_type": "execute_result"
    }
   ],
   "source": [
    "raw_intensity.get_data().shape"
   ]
  },
  {
   "cell_type": "markdown",
   "id": "9a0d3ad9-382b-49ab-9d4a-4a9becbc7bb9",
   "metadata": {},
   "source": [
    "As another measurement setting, the location of brain sensors is very important to understand the spatial resolution of data. Especially, fNIRS sensors, by only covering predefined regions of the cortex, show a low spatial resolution. \n",
    "\n",
    "Run the next cell to view the locations of sensors over the brain surface. "
   ]
  },
  {
   "cell_type": "code",
   "execution_count": 8,
   "id": "0c0e8f0a-f190-4c2b-8a5b-c556a70e6328",
   "metadata": {},
   "outputs": [
    {
     "data": {
      "image/png": "[encoded data removed]",
      "text/plain": [
       "<Figure size 640x640 with 1 Axes>"
      ]
     },
     "metadata": {},
     "output_type": "display_data"
    },
    {
     "data": {
      "image/png": "[encoded data removed]",
      "text/plain": [
       "<Figure size 640x640 with 1 Axes>"
      ]
     },
     "execution_count": 8,
     "metadata": {},
     "output_type": "execute_result"
    }
   ],
   "source": [
    "#View location of sensors over brain surface\n",
    "raw_intensity.plot_sensors()"
   ]
  },
  {
   "cell_type": "markdown",
   "id": "bcd23aec-dbc9-458b-a5de-1bd8f32cb952",
   "metadata": {},
   "source": [
    "##### Multiple Choice Question\n",
    "What are the lobes covered by this measurement ?\n",
    "* 1. Temporal lobe\n",
    "* 2. Occipital lobe\n",
    "* 3. Prefrontal lobe \n",
    "* 4. Parietal lobe"
   ]
  },
  {
   "cell_type": "code",
   "execution_count": null,
   "id": "28c77844-f6cd-4b15-b5ed-7bbb26d0c144",
   "metadata": {},
   "outputs": [],
   "source": [
    "# Correct answers: Temporal and parietal lobes"
   ]
  },
  {
   "cell_type": "markdown",
   "id": "f89c02f5-2d5a-44e7-9c09-9b17f0690c1b",
   "metadata": {},
   "source": [
    "Let's now have a look at the experimental design used for this measurement.\n",
    "\n",
    "The experimental designs most commonly employed by auditory fNIRS researchers are block- and event-related designs. Event-related design refers to multiple stimuli that are assumed to occur instantaneously and have randomized time between events. In an event-related finger tapping experiment, the participant would tap a button with the finger approximately every 20 seconds. In a block design, the finger tapping would be performed continuously during a certain time interval and would be followed by a short block of rest.\n",
    "\n",
    "In turn, the choice of the experimental design depends on a range of factors, including the statistical power of the protocol, the duration of the experiment, and whether the design provides the flexibility to study the effect of interest. While the block design might lead to higher detection power, it can also induce learning and boredom effects which may bias the results. On the other hand, event-related designs reduce the effects of learning, boredom and other events unrelated to the task while exhibiting loss in detection power. "
   ]
  },
  {
   "cell_type": "markdown",
   "id": "6df6d506-59bc-4300-b1ec-e0b55747c4f7",
   "metadata": {},
   "source": [
    "Run the next cell to display the sequence of events implemented in this measurement."
   ]
  },
  {
   "cell_type": "code",
   "execution_count": 9,
   "id": "f5bf4725-0aee-46a5-a0f9-8c4ba23aa854",
   "metadata": {},
   "outputs": [
    {
     "data": {
      "image/png": "[encoded data removed]",
      "text/plain": [
       "<Figure size 1000x600 with 1 Axes>"
      ]
     },
     "metadata": {},
     "output_type": "display_data"
    }
   ],
   "source": [
    "#Load the event annotations\n",
    "events, event_dict=mne.events_from_annotations(raw_intensity,verbose=False)\n",
    "#Label the events\n",
    "event_dict={'Control':1,'Tapping/Left':4,'Tapping/Right':3,'ExperimentEnds':2}\n",
    "#Display the sequence of events \n",
    "plt.rcParams[\"figure.figsize\"]=(10,6)\n",
    "mne.viz.plot_events(events,event_id=event_dict,sfreq=raw_intensity.info['sfreq']);"
   ]
  },
  {
   "cell_type": "markdown",
   "id": "f213d4ad-e49f-4cf3-b4ab-c4ef1cb6ef0a",
   "metadata": {},
   "source": [
    "As you may observe, each individual stimulus is separated to the others by long interstimulus interval. We can thus conclude that an event-related design was used for the studied measurement."
   ]
  },
  {
   "cell_type": "markdown",
   "id": "c8efc021-9a54-4deb-adb8-232f6e0a6729",
   "metadata": {},
   "source": [
    "##### Question\n",
    "Roughly, what is the average interstimulus interval of this design ?"
   ]
  },
  {
   "cell_type": "code",
   "execution_count": 7,
   "id": "5d4f2a7f-926c-4427-a0df-a29341a2be0b",
   "metadata": {},
   "outputs": [],
   "source": [
    "# Correct answer: 35 seconds"
   ]
  },
  {
   "cell_type": "markdown",
   "id": "fbb2a3f7-feec-4b81-8128-9ed70614ab17",
   "metadata": {},
   "source": [
    "Let's now vizualise the data. Run the next cell to display data obtained with the fNIRS system. \n"
   ]
  },
  {
   "cell_type": "code",
   "execution_count": null,
   "id": "4a7ec009-9a2d-47e3-98a9-7c9b25862b99",
   "metadata": {},
   "outputs": [
    {
     "name": "stdout",
     "output_type": "stream",
     "text": [
      "Using qt as 2D backend.\n"
     ]
    }
   ],
   "source": [
    "#Create a figure window\n",
    "plt.rcParams[\"figure.figsize\"]=(40,40)\n",
    "#Plot a time-series of light intensity \n",
    "raw_intensity.plot(duration=100,n_channels=len(raw_intensity.ch_names))"
   ]
  },
  {
   "cell_type": "markdown",
   "id": "d1d9737f-d7b7-42f4-9c34-59b0e9afd454",
   "metadata": {},
   "source": [
    "The near-infrared light sent by a source (labelled \"S\" in our system) is absorbed by the HbO and HHb with a maximal absorption observed at the wavelengths 760nm and 850nm, respectively. The amounts of light absorbed by the two molecules are then detected by a detector  (labelled \"D\" in our system). As a consequence, each channel provides with two time-series of concentration changes, one for the HbO and the other for the HHb. \n",
    "\n",
    "Data are thus initially provided in a raw format of light intensity. This can be converted using the Beer-Lambert law (see equation below), into an optical density which in turn can be translated into concentrations change of HbO and HbR, as proxies of the brain activity."
   ]
  },
  {
   "cell_type": "markdown",
   "id": "1547df8e-0e72-45ec-8e38-4ac81da9f2fd",
   "metadata": {},
   "source": [
    "\\begin{equation}\n",
    "    log_{10}(\\frac{I_0}{I})=\\epsilon l c\n",
    "    \\end{equation}"
   ]
  },
  {
   "cell_type": "markdown",
   "id": "386e0262-9fb3-4f55-9644-d980fa138240",
   "metadata": {},
   "source": [
    "With $OD_\\lambda$, $I_o$, I, $\\epsilon$, c and l respectively corresponding to the absorbance, the incident light intensity, the transmitted light intensity, the moral absorption coefficient (in $M^-1 cm^-1$), the molar concentration (in M) and the optical pathlength for a given wavelength $\\lambda$."
   ]
  },
  {
   "cell_type": "markdown",
   "id": "4291f369-529e-4c2e-bec1-bb9fc263046a",
   "metadata": {},
   "source": [
    "But since the human tissue is a strong scattering medium for the near-infrared light, the Beer–Lambert law cannot be directly applied to biological tissue. Subsequently, a modified version of the Beer-Lambert law that takes into account the light scattering has been proposed (see equation below)."
   ]
  },
  {
   "cell_type": "markdown",
   "id": "89d24940-f47a-4a8a-8d50-3a09392a6f10",
   "metadata": {},
   "source": [
    "\\begin{equation}\n",
    "OD_\\lambda= log\\frac{I_o}{I}=\\epsilon_\\lambda lcB + OD_{R\\lambda}\n",
    "\\end{equation}\n",
    "\n",
    "With B and $OD_{R\\lambda}$ respectively corresponding to the pathlength correction factor and the oxygen independent light losses due to scattering in the tissue. For more information on the equation, see the reference: Delpy DT, Cope M, Zee P van der, Arridge S, Wray S, Wyatt J. Estimation of optical pathlength \n",
    "through tissue from direct time of flight measurements. Phys Med Biol 1988; 33: 1433-1442."
   ]
  },
  {
   "cell_type": "markdown",
   "id": "47f7931b-3449-4789-8ca1-49f54afa377e",
   "metadata": {},
   "source": [
    "Run the next cell to convert raw intensity into optical density."
   ]
  },
  {
   "cell_type": "code",
   "execution_count": 8,
   "id": "dc7e624f-b7bb-4f19-8da6-6480a56cbe19",
   "metadata": {},
   "outputs": [],
   "source": [
    "#Convert raw intensity into optical density\n",
    "raw_od=mne.preprocessing.nirs.optical_density(raw_intensity)"
   ]
  },
  {
   "cell_type": "markdown",
   "id": "a7dbf9d2-eb2d-4f6e-9114-a1afb0c286f3",
   "metadata": {},
   "source": [
    "And then, run the cell below to convert optical density into concentration change."
   ]
  },
  {
   "cell_type": "code",
   "execution_count": 9,
   "id": "5957ebae-707c-46b7-b342-41d81f33356c",
   "metadata": {},
   "outputs": [],
   "source": [
    "#Import required beer-lambert law related function\n",
    "from mne.preprocessing.nirs import beer_lambert_law\n",
    "#Convert optical density into concentration change\n",
    "raw_haemo=beer_lambert_law(raw_od)"
   ]
  },
  {
   "cell_type": "markdown",
   "id": "587aa5b2-8603-4b11-8078-4036d24ec130",
   "metadata": {},
   "source": [
    "Now let's check the quality of the converted data. \n",
    "\n",
    "As highly perfused tissues, extra-cortical compartments such as the scalp, the skin, the meninges, or the cerebrospinal fluid can absorb the near-infrared light emitted by fNIRS sensors. In turn, the signal measured with fNIRS will confound changes of HbO and HbR concentrations that are evoked by a neural activation in the cortex or by intrinsic mechanism in extra-cortical compartments. For instance, a common change observed in fNIRS signal is the intrinsic variation of cardiac rhythm occurring in extra-cortical tissues."
   ]
  },
  {
   "cell_type": "markdown",
   "id": "523f76c2-eb9c-46e0-9666-e6d0315dac7c",
   "metadata": {},
   "source": [
    "Despite the presence of cardiac oscilliations in the signal is undesirable, it can be used wisely. In particular, the amount of physiological noise measured in a signal has been shown to reflect the optical coupling between the measuring channel and the scalp. Subsequently, a measure of the prominence of the cardiac oscilliations has been established to assess the scalp coupling index (SCI). For more information on the metric computation, see the references:\n",
    "* Pollonini L et al., “PHOEBE: a method for real time mapping of optodes-scalp coupling in functional near-infrared spectroscopy” in Biomed. Opt. Express 7, 5104-5119 (2016). \n",
    "* Hernandez, Samuel Montero, and Luca Pollonini. \"NIRSplot: a tool for quality assessment of fNIRS scans.\" Optics and the Brain. Optical Society of America, 2020."
   ]
  },
  {
   "cell_type": "markdown",
   "id": "463ea886-1645-4756-8987-a456b585ed20",
   "metadata": {},
   "source": [
    "Run the next cell to compute the SCI and plot the result."
   ]
  },
  {
   "cell_type": "code",
   "execution_count": 10,
   "id": "574ab6fa-8b95-4790-a94c-ec654b4fcfce",
   "metadata": {},
   "outputs": [
    {
     "data": {
      "text/plain": [
       "[Text(0.5, 0, 'Scalp Coupling Index'), Text(0, 0.5, 'Count'), (0.0, 1.0)]"
      ]
     },
     "execution_count": 10,
     "metadata": {},
     "output_type": "execute_result"
    },
    {
     "data": {
      "image/png": "[encoded data removed]",
      "text/plain": [
       "<Figure size 640x480 with 1 Axes>"
      ]
     },
     "metadata": {},
     "output_type": "display_data"
    }
   ],
   "source": [
    "#Compute the SCI\n",
    "sci=mne.preprocessing.nirs.scalp_coupling_index(raw_od)\n",
    "#Plot the SCI\n",
    "fig,ax=plt.subplots()\n",
    "ax.hist(sci)\n",
    "ax.set(xlabel='Scalp Coupling Index',ylabel='Count',xlim=[0, 1]) "
   ]
  },
  {
   "cell_type": "markdown",
   "id": "b4e63e8a-62d5-4db1-9a3f-f557a16a6157",
   "metadata": {},
   "source": [
    "##### Question\n",
    "What is the number of bad channels (SCI < 6) ?"
   ]
  },
  {
   "cell_type": "code",
   "execution_count": 14,
   "id": "f674b3fc-a088-4af2-8672-0ce9c6f86919",
   "metadata": {},
   "outputs": [
    {
     "data": {
      "text/plain": [
       "['S1_D9 760', 'S1_D9 850']"
      ]
     },
     "execution_count": 14,
     "metadata": {},
     "output_type": "execute_result"
    }
   ],
   "source": [
    "raw_od.info['bads']"
   ]
  },
  {
   "cell_type": "markdown",
   "id": "90266f9a-fdc6-4d76-9820-07fe8ea088a9",
   "metadata": {},
   "source": [
    "Run the next cell to mark the bad channels."
   ]
  },
  {
   "cell_type": "code",
   "execution_count": 13,
   "id": "240f565f-e54c-42be-b97f-44c9ad792a75",
   "metadata": {},
   "outputs": [],
   "source": [
    "raw_od.info['bads'] = list(compress(raw_od.ch_names, sci < 0.6))"
   ]
  },
  {
   "cell_type": "markdown",
   "id": "ba952ae1-d0dc-4962-89bf-8a3aa842eea4",
   "metadata": {},
   "source": [
    "Let's now detect and correct the remaining component of the signal that originates from the cardiac oscillations. \n",
    "\n",
    "The cardiac oscilliations represent the major frequency component of the signal. \n",
    "\n",
    "Run the next cell to do decompose the power of the signal into its frequency components. Can you detect the frequency component corresponding to the cardiac oscillations ?  "
   ]
  },
  {
   "cell_type": "code",
   "execution_count": null,
   "id": "35b2be7f-45ec-4eb5-b430-7db01d3395ec",
   "metadata": {},
   "outputs": [],
   "source": [
    "#Plot the hemoglobin concentration change\n",
    "fig = raw_haemo.plot_psd(average=False)\n",
    "fig.suptitle('Before filtering', weight='bold', size='x-large')\n",
    "fig.subplots_adjust(top=0.88)"
   ]
  },
  {
   "cell_type": "markdown",
   "id": "9df54679-bb1a-4005-bb96-248cd96b2b8b",
   "metadata": {
    "tags": []
   },
   "source": [
    "The power spectrum gives a frequency peak at 1,25 Hz which would correspond to approximately 1 beat / second. You may notice that this frequency corresponds to the cardiac rhythm. "
   ]
  },
  {
   "cell_type": "markdown",
   "id": "544417a9-64d9-4bc6-9624-63131941bd6b",
   "metadata": {},
   "source": [
    "Fortunately, the noise induced by cardiac oscillations can be removed by filtering, since the corresponding frequency band is well distinguished from that of hemodynamic responses (< 0,5Hz). "
   ]
  },
  {
   "cell_type": "markdown",
   "id": "ee8ac0a6-3c4b-4e03-b7ac-389dc8a01cb8",
   "metadata": {},
   "source": [
    "Based on the above information, apply a low-pass filter to only retain the hemodynamic responses in your signal. You may especially need to read the documentation on filters proposed by mne library (https://mne.tools/stable/generated/mne.filter.filter_data.html)."
   ]
  },
  {
   "cell_type": "code",
   "execution_count": null,
   "id": "f7add7bc-d02e-4c74-98d6-4512eaa7ce7a",
   "metadata": {},
   "outputs": [],
   "source": [
    "raw_haemofiltered = raw_haemo.filter(0.05, 0.7, h_trans_bandwidth=0.2,\n",
    "                             l_trans_bandwidth=0.02) "
   ]
  },
  {
   "cell_type": "markdown",
   "id": "ccd00034-147c-46d0-80cc-c31d1e2a2332",
   "metadata": {},
   "source": [
    "Run the next cell to plot your filtered signal."
   ]
  },
  {
   "cell_type": "code",
   "execution_count": null,
   "id": "c6f388af-7022-4e96-bd80-c84625f06a64",
   "metadata": {},
   "outputs": [],
   "source": [
    "#Plot the hemoglobin concentration change\n",
    "fig = raw_haemofiltered.plot_psd(average=False)\n",
    "fig.suptitle('After filtering', weight='bold', size='x-large')\n",
    "fig.subplots_adjust(top=0.88)"
   ]
  },
  {
   "cell_type": "markdown",
   "id": "721ff740-756b-44cc-8c8b-3074c0e5dc6c",
   "metadata": {},
   "source": [
    "Let's now vizualise the data. Run the next cell to display the preprocessed time-series of one channel."
   ]
  },
  {
   "cell_type": "code",
   "execution_count": null,
   "id": "f067e665-7722-4107-ba13-694b221506af",
   "metadata": {},
   "outputs": [],
   "source": [
    "#Plot the time-series of one channel\n",
    "plt.rcParams[\"figure.figsize\"]=(40,40)\n",
    "raw_haemofiltered.pick(picks=[0,1]).plot(duration=100,n_channels=len(raw_intensity.ch_names),scalings=dict(hb0=1e-5,hbr=1e-5))"
   ]
  },
  {
   "cell_type": "markdown",
   "id": "1ac02d6a-d896-48e0-a36c-e280f83b37df",
   "metadata": {},
   "source": [
    "<div class=\"alert alert-success\">\n",
    "<p><b>Congratulations for having finished this part of the laboratory! </b></p>\n",
    "</div>"
   ]
  }
 ],
 "metadata": {
  "kernelspec": {
   "display_name": "Python",
   "language": "python",
   "name": "python3"
  },
  "language_info": {
   "codemirror_mode": {
    "name": "ipython",
    "version": 3
   },
   "file_extension": ".py",
   "mimetype": "text/x-python",
   "name": "python",
   "nbconvert_exporter": "python",
   "pygments_lexer": "ipython3",
   "version": "3.8.10"
  }
 },
 "nbformat": 4,
 "nbformat_minor": 5
}
