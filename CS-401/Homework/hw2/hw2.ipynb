{
 "cells": [
  {
   "cell_type": "markdown",
   "metadata": {},
   "source": [
    "# Homework 2 (HW2)\n",
    "\n",
    "By the end of this homework, we expect you to be able to:\n",
    "\n",
    "- Preprocess data and make it amenable to statistical analysis and machine learning models;\n",
    "- Train and test out-of-the-box machine learning models in Python;\n",
    "- Carry out simple multivariate regression analyses;\n",
    "- Use techniques to control for covariates;\n",
    "- Conduct an observational study and reason about its results.\n",
    "\n",
    "---\n",
    "\n",
    "## Important Dates\n",
    "\n",
    "- Homework release: Fri 18 Nov 2022\n",
    "- **Homework due**: Fri 02 Dec 2022, 23:59\n",
    "- Grade release: Mon 12 Dec 2022\n",
    "\n",
    "---\n",
    "\n",
    "##  Some rules\n",
    "\n",
    "1. You are allowed to use any built-in Python library that comes with Anaconda. If you want to use an external library, you may do so, but must justify your choice.\n",
    "2. Make sure you use the `data` folder provided in the repository in read-only mode. (Or alternatively, be sure you don’t change any of the files.)\n",
    "3. Be sure to provide a textual description of your thought process, the assumptions you made, the solution you implemented, and explanations for your answers. A notebook that only has code cells will not suffice.\n",
    "4. For questions containing the **/Discuss:/** prefix, answer not with code, but with a textual explanation (**in markdown**).\n",
    "5. Back up any hypotheses and claims with data, since this is an important aspect of the course.\n",
    "6. Please write all your comments in English, and use meaningful variable names in your code. Your repo should have a single notebook (plus the required data files) in the *master/main* branch. If there are multiple notebooks present, we will **not grade** anything.\n",
    "7. We will **not run your notebook for you**! Rather, we will grade it as is, which means that only the results contained in your evaluated code cells will be considered, and we will not see the results in unevaluated code cells. Thus, be sure to hand in a **fully-run and evaluated notebook**. In order to check whether everything looks as intended, you can check the rendered notebook on the GitHub website once you have pushed your solution there.\n",
    "8. In continuation to the previous point, interactive plots, such as those generated using `plotly`, should be **strictly avoided**!\n",
    "9. Make sure to print results or dataframes that confirm you have properly addressed the task.\n",
    "\n",
    "---"
   ]
  },
  {
   "cell_type": "markdown",
   "metadata": {},
   "source": [
    "## Context\n",
    "\n",
    "Congratulations! You have just been hired as a data scientist at [FC Tokyo, a J1 League Japanese professional football club based in Chōfu, Tokyo](https://en.wikipedia.org/wiki/FC_Tokyo). The company hired you to carry out a variety of data-related tasks, which will be explained in further detail below.\n",
    "\n",
    "Your manager, Mr. Naoki Ogane, has noticed that an unusually high number of players in your team have birthdays in either April or May, so he asked you to investigate this further -- is this just a coincidence, or are players born in April or May simply better?\n",
    "\n",
    "## Data\n",
    "\n",
    "To answer Mr. Ogane's questions, you will use data from Wikipedia biographies. This is a subset of the Pantheon dataset (1). For tasks 1 to 4, you will use the file `japanese_athletes.csv.gz`. For task 5, you will use the file `all_entities.csv.gz`. Both datasets are`.csv` files with the same columns:\n",
    "\n",
    "- `id`: a unique identifier per individual.\n",
    "- `name`: name of the individual.\n",
    "- `occupation`: the occupation of the individual (for `japanese_athletes.csv.gz`, these are all sports-related).\n",
    "- `gender`: gender of the athlete.\n",
    "- `alive`: flag indicating if the athlete was alive in 2020 when the dataset was collected.\n",
    "- `bplace_country`: the country where the athlete was born  (for `japanese_athletes.csv.gz`, the value here is always 'Japan').\n",
    "- `birthdate`: the date when the athlete was born.\n",
    "- `birthyear`: the year when the athlete was born.\n",
    "- `pageviews`: number of pageviews received by the athlete's page across Wikipedia language editions.\n",
    "\n",
    "(1) Yu, A. Z., et al. (2016). Pantheon 1.0, a manually verified dataset of globally famous biographies. Scientific Data 2:150075. doi: 10.1038/sdata.2015.75"
   ]
  },
  {
   "cell_type": "markdown",
   "metadata": {},
   "source": [
    "## Task 1 — 20 pts\n",
    "\n",
    "As a good data scientist, you first load the data and perform some small sanity checks on it.\n",
    "\n",
    "**1.1** Load the dataset containing data about Japanese athletes into memory using pandas. First, load the data directly from the compressed file. Then, print the first few lines of the dataset."
   ]
  },
  {
   "cell_type": "code",
   "execution_count": 13,
   "metadata": {},
   "outputs": [],
   "source": [
    "import pandas as pd\n",
    "import matplotlib.pyplot as plt\n",
    "import numpy as np\n",
    "import seaborn as sns\n",
    "from scipy.stats import gmean\n",
    "from scipy.stats import bootstrap\n",
    "from statsmodels.stats import diagnostic\n",
    "from scipy import stats\n",
    "import statsmodels.api as sm\n",
    "import statsmodels.formula.api as smf\n",
    "from sklearn.model_selection import train_test_split\n",
    "import sys\n",
    "np.set_printoptions(threshold=sys.maxsize)\n",
    "pd.set_option('display.max_colwidth', None)"
   ]
  },
  {
   "cell_type": "code",
   "execution_count": 14,
   "metadata": {},
   "outputs": [
    {
     "data": {
      "text/html": [
       "<div>\n",
       "<style scoped>\n",
       "    .dataframe tbody tr th:only-of-type {\n",
       "        vertical-align: middle;\n",
       "    }\n",
       "\n",
       "    .dataframe tbody tr th {\n",
       "        vertical-align: top;\n",
       "    }\n",
       "\n",
       "    .dataframe thead th {\n",
       "        text-align: right;\n",
       "    }\n",
       "</style>\n",
       "<table border=\"1\" class=\"dataframe\">\n",
       "  <thead>\n",
       "    <tr style=\"text-align: right;\">\n",
       "      <th></th>\n",
       "      <th>id</th>\n",
       "      <th>name</th>\n",
       "      <th>occupation</th>\n",
       "      <th>gender</th>\n",
       "      <th>alive</th>\n",
       "      <th>bplace_country</th>\n",
       "      <th>birthdate</th>\n",
       "      <th>birthyear</th>\n",
       "      <th>pageviews</th>\n",
       "    </tr>\n",
       "  </thead>\n",
       "  <tbody>\n",
       "    <tr>\n",
       "      <th>0</th>\n",
       "      <td>25864486</td>\n",
       "      <td>Hisataka Okamoto</td>\n",
       "      <td>SOCCER PLAYER</td>\n",
       "      <td>M</td>\n",
       "      <td>True</td>\n",
       "      <td>Japan</td>\n",
       "      <td>1933-12-14</td>\n",
       "      <td>1933.0</td>\n",
       "      <td>455.0</td>\n",
       "    </tr>\n",
       "    <tr>\n",
       "      <th>1</th>\n",
       "      <td>1682054</td>\n",
       "      <td>Kunishige Kamamoto</td>\n",
       "      <td>SOCCER PLAYER</td>\n",
       "      <td>M</td>\n",
       "      <td>True</td>\n",
       "      <td>Japan</td>\n",
       "      <td>1944-04-15</td>\n",
       "      <td>1944.0</td>\n",
       "      <td>57847.0</td>\n",
       "    </tr>\n",
       "    <tr>\n",
       "      <th>2</th>\n",
       "      <td>20639249</td>\n",
       "      <td>Akira Kitaguchi</td>\n",
       "      <td>SOCCER PLAYER</td>\n",
       "      <td>M</td>\n",
       "      <td>True</td>\n",
       "      <td>Japan</td>\n",
       "      <td>1935-03-08</td>\n",
       "      <td>1935.0</td>\n",
       "      <td>759.0</td>\n",
       "    </tr>\n",
       "    <tr>\n",
       "      <th>3</th>\n",
       "      <td>20641463</td>\n",
       "      <td>Tsukasa Hosaka</td>\n",
       "      <td>SOCCER PLAYER</td>\n",
       "      <td>M</td>\n",
       "      <td>False</td>\n",
       "      <td>Japan</td>\n",
       "      <td>1937-03-03</td>\n",
       "      <td>1937.0</td>\n",
       "      <td>1672.0</td>\n",
       "    </tr>\n",
       "    <tr>\n",
       "      <th>4</th>\n",
       "      <td>25864343</td>\n",
       "      <td>Takashi Kasahara</td>\n",
       "      <td>SOCCER PLAYER</td>\n",
       "      <td>M</td>\n",
       "      <td>True</td>\n",
       "      <td>Japan</td>\n",
       "      <td>1918-03-26</td>\n",
       "      <td>1918.0</td>\n",
       "      <td>541.0</td>\n",
       "    </tr>\n",
       "  </tbody>\n",
       "</table>\n",
       "</div>"
      ],
      "text/plain": [
       "         id                name     occupation gender  alive bplace_country  \\\n",
       "0  25864486    Hisataka Okamoto  SOCCER PLAYER      M   True          Japan   \n",
       "1   1682054  Kunishige Kamamoto  SOCCER PLAYER      M   True          Japan   \n",
       "2  20639249     Akira Kitaguchi  SOCCER PLAYER      M   True          Japan   \n",
       "3  20641463      Tsukasa Hosaka  SOCCER PLAYER      M  False          Japan   \n",
       "4  25864343    Takashi Kasahara  SOCCER PLAYER      M   True          Japan   \n",
       "\n",
       "    birthdate  birthyear  pageviews  \n",
       "0  1933-12-14     1933.0      455.0  \n",
       "1  1944-04-15     1944.0    57847.0  \n",
       "2  1935-03-08     1935.0      759.0  \n",
       "3  1937-03-03     1937.0     1672.0  \n",
       "4  1918-03-26     1918.0      541.0  "
      ]
     },
     "execution_count": 14,
     "metadata": {},
     "output_type": "execute_result"
    }
   ],
   "source": [
    "#1.1 Loading the data\n",
    "data_file = 'data/japanese_athletes.csv.gz'\n",
    "df = pd.read_csv(data_file, compression='infer')\n",
    "df.head()"
   ]
  },
  {
   "cell_type": "code",
   "execution_count": 15,
   "metadata": {},
   "outputs": [
    {
     "data": {
      "text/plain": [
       "False"
      ]
     },
     "execution_count": 15,
     "metadata": {},
     "output_type": "execute_result"
    }
   ],
   "source": [
    "df.isnull().values.any()"
   ]
  },
  {
   "cell_type": "markdown",
   "metadata": {},
   "source": [
    "**1.2** Find the different occupations in the data and how many individuals belong to each occupation."
   ]
  },
  {
   "cell_type": "code",
   "execution_count": 16,
   "metadata": {},
   "outputs": [
    {
     "data": {
      "text/plain": [
       "occupation\n",
       "ATHLETE                40\n",
       "BASKETBALL PLAYER       2\n",
       "BOXER                   2\n",
       "CYCLIST                 4\n",
       "GYMNAST                15\n",
       "SKATER                 21\n",
       "SKIER                  11\n",
       "SOCCER PLAYER        3929\n",
       "SWIMMER                21\n",
       "TENNIS PLAYER          18\n",
       "WRESTLER               60\n",
       "Name: occupation, dtype: int64"
      ]
     },
     "execution_count": 16,
     "metadata": {},
     "output_type": "execute_result"
    }
   ],
   "source": [
    "#1.2 Determine the number individuals per occupation\n",
    "df.groupby(by='occupation')['occupation'].count()"
   ]
  },
  {
   "cell_type": "markdown",
   "metadata": {},
   "source": [
    "**1.3** Calculate the percentage of individuals who remain alive in the data."
   ]
  },
  {
   "cell_type": "code",
   "execution_count": 17,
   "metadata": {},
   "outputs": [
    {
     "name": "stdout",
     "output_type": "stream",
     "text": [
      "The percentage of athlete still is alive is: 97.19%\n"
     ]
    }
   ],
   "source": [
    "#1.3 The percentage of individuals alive\n",
    "count_alive_dead = df.groupby(by='alive')['alive'].count()\n",
    "print('The percentage of athlete still is alive is: {:.2f}%'.format((count_alive_dead.values[1]/count_alive_dead.sum())*100))"
   ]
  },
  {
   "cell_type": "markdown",
   "metadata": {},
   "source": [
    "**1.4** Plot the distribution of birth years in the dataset. In other words, what fraction of individuals are born each year? (Note that the data contains individuals born only after the year 1900)."
   ]
  },
  {
   "cell_type": "code",
   "execution_count": 18,
   "metadata": {},
   "outputs": [
    {
     "name": "stdout",
     "output_type": "stream",
     "text": [
      "<class 'pandas.core.frame.DataFrame'>\n",
      "RangeIndex: 4123 entries, 0 to 4122\n",
      "Data columns (total 9 columns):\n",
      " #   Column          Non-Null Count  Dtype  \n",
      "---  ------          --------------  -----  \n",
      " 0   id              4123 non-null   int64  \n",
      " 1   name            4123 non-null   object \n",
      " 2   occupation      4123 non-null   object \n",
      " 3   gender          4123 non-null   object \n",
      " 4   alive           4123 non-null   bool   \n",
      " 5   bplace_country  4123 non-null   object \n",
      " 6   birthdate       4123 non-null   object \n",
      " 7   birthyear       4123 non-null   float64\n",
      " 8   pageviews       4123 non-null   float64\n",
      "dtypes: bool(1), float64(2), int64(1), object(5)\n",
      "memory usage: 261.8+ KB\n"
     ]
    }
   ],
   "source": [
    "#1.4 Plot the distribution of birth years in the dataset.\n",
    "df.info()"
   ]
  },
  {
   "cell_type": "code",
   "execution_count": 19,
   "metadata": {},
   "outputs": [
    {
     "name": "stdout",
     "output_type": "stream",
     "text": [
      "<class 'pandas.core.frame.DataFrame'>\n",
      "RangeIndex: 4123 entries, 0 to 4122\n",
      "Data columns (total 9 columns):\n",
      " #   Column          Non-Null Count  Dtype         \n",
      "---  ------          --------------  -----         \n",
      " 0   id              4123 non-null   int64         \n",
      " 1   name            4123 non-null   object        \n",
      " 2   occupation      4123 non-null   object        \n",
      " 3   gender          4123 non-null   object        \n",
      " 4   alive           4123 non-null   bool          \n",
      " 5   bplace_country  4123 non-null   object        \n",
      " 6   birthdate       4123 non-null   datetime64[ns]\n",
      " 7   birthyear       4123 non-null   int64         \n",
      " 8   pageviews       4123 non-null   float64       \n",
      "dtypes: bool(1), datetime64[ns](1), float64(1), int64(2), object(4)\n",
      "memory usage: 261.8+ KB\n"
     ]
    }
   ],
   "source": [
    "#Convert birthdate to datetime & birthyear to int\n",
    "df['birthdate'] = pd.to_datetime(df['birthdate'])\n",
    "df['birthyear'] = df.birthyear.astype(int)\n",
    "df.info()"
   ]
  },
  {
   "cell_type": "code",
   "execution_count": 20,
   "metadata": {},
   "outputs": [
    {
     "data": {
      "text/html": [
       "<div>\n",
       "<style scoped>\n",
       "    .dataframe tbody tr th:only-of-type {\n",
       "        vertical-align: middle;\n",
       "    }\n",
       "\n",
       "    .dataframe tbody tr th {\n",
       "        vertical-align: top;\n",
       "    }\n",
       "\n",
       "    .dataframe thead th {\n",
       "        text-align: right;\n",
       "    }\n",
       "</style>\n",
       "<table border=\"1\" class=\"dataframe\">\n",
       "  <thead>\n",
       "    <tr style=\"text-align: right;\">\n",
       "      <th></th>\n",
       "      <th>id</th>\n",
       "      <th>name</th>\n",
       "      <th>occupation</th>\n",
       "      <th>gender</th>\n",
       "      <th>alive</th>\n",
       "      <th>bplace_country</th>\n",
       "      <th>birthdate</th>\n",
       "      <th>birthyear</th>\n",
       "      <th>pageviews</th>\n",
       "    </tr>\n",
       "  </thead>\n",
       "  <tbody>\n",
       "    <tr>\n",
       "      <th>0</th>\n",
       "      <td>25864486</td>\n",
       "      <td>Hisataka Okamoto</td>\n",
       "      <td>SOCCER PLAYER</td>\n",
       "      <td>M</td>\n",
       "      <td>True</td>\n",
       "      <td>Japan</td>\n",
       "      <td>1933-12-14</td>\n",
       "      <td>1933</td>\n",
       "      <td>455.0</td>\n",
       "    </tr>\n",
       "    <tr>\n",
       "      <th>1</th>\n",
       "      <td>1682054</td>\n",
       "      <td>Kunishige Kamamoto</td>\n",
       "      <td>SOCCER PLAYER</td>\n",
       "      <td>M</td>\n",
       "      <td>True</td>\n",
       "      <td>Japan</td>\n",
       "      <td>1944-04-15</td>\n",
       "      <td>1944</td>\n",
       "      <td>57847.0</td>\n",
       "    </tr>\n",
       "    <tr>\n",
       "      <th>2</th>\n",
       "      <td>20639249</td>\n",
       "      <td>Akira Kitaguchi</td>\n",
       "      <td>SOCCER PLAYER</td>\n",
       "      <td>M</td>\n",
       "      <td>True</td>\n",
       "      <td>Japan</td>\n",
       "      <td>1935-03-08</td>\n",
       "      <td>1935</td>\n",
       "      <td>759.0</td>\n",
       "    </tr>\n",
       "    <tr>\n",
       "      <th>3</th>\n",
       "      <td>20641463</td>\n",
       "      <td>Tsukasa Hosaka</td>\n",
       "      <td>SOCCER PLAYER</td>\n",
       "      <td>M</td>\n",
       "      <td>False</td>\n",
       "      <td>Japan</td>\n",
       "      <td>1937-03-03</td>\n",
       "      <td>1937</td>\n",
       "      <td>1672.0</td>\n",
       "    </tr>\n",
       "    <tr>\n",
       "      <th>4</th>\n",
       "      <td>25864343</td>\n",
       "      <td>Takashi Kasahara</td>\n",
       "      <td>SOCCER PLAYER</td>\n",
       "      <td>M</td>\n",
       "      <td>True</td>\n",
       "      <td>Japan</td>\n",
       "      <td>1918-03-26</td>\n",
       "      <td>1918</td>\n",
       "      <td>541.0</td>\n",
       "    </tr>\n",
       "  </tbody>\n",
       "</table>\n",
       "</div>"
      ],
      "text/plain": [
       "         id                name     occupation gender  alive bplace_country  \\\n",
       "0  25864486    Hisataka Okamoto  SOCCER PLAYER      M   True          Japan   \n",
       "1   1682054  Kunishige Kamamoto  SOCCER PLAYER      M   True          Japan   \n",
       "2  20639249     Akira Kitaguchi  SOCCER PLAYER      M   True          Japan   \n",
       "3  20641463      Tsukasa Hosaka  SOCCER PLAYER      M  False          Japan   \n",
       "4  25864343    Takashi Kasahara  SOCCER PLAYER      M   True          Japan   \n",
       "\n",
       "   birthdate  birthyear  pageviews  \n",
       "0 1933-12-14       1933      455.0  \n",
       "1 1944-04-15       1944    57847.0  \n",
       "2 1935-03-08       1935      759.0  \n",
       "3 1937-03-03       1937     1672.0  \n",
       "4 1918-03-26       1918      541.0  "
      ]
     },
     "execution_count": 20,
     "metadata": {},
     "output_type": "execute_result"
    }
   ],
   "source": [
    "df.head()"
   ]
  },
  {
   "cell_type": "code",
   "execution_count": 21,
   "metadata": {},
   "outputs": [
    {
     "data": {
      "image/png": "[encoded data removed]",
      "text/plain": [
       "<Figure size 1600x800 with 1 Axes>"
      ]
     },
     "metadata": {},
     "output_type": "display_data"
    }
   ],
   "source": [
    "#Maybe we should reduce the number of xticks \n",
    "df.groupby(by='birthyear')['birthyear'].count().plot.bar(xlabel='year', ylabel='count', figsize=(16,8))\n",
    "plt.tick_params(axis='x', labelrotation=90)"
   ]
  },
  {
   "cell_type": "markdown",
   "metadata": {},
   "source": [
    "**1.5** Plot the empirical cumulative distribution function (CDF) to visualize the distribution of pageviews. Here you should use a linear scale for both the x-axis and the y-axis."
   ]
  },
  {
   "cell_type": "code",
   "execution_count": 22,
   "metadata": {},
   "outputs": [
    {
     "data": {
      "text/plain": [
       "<AxesSubplot:xlabel='pageviews', ylabel='Proportion'>"
      ]
     },
     "execution_count": 22,
     "metadata": {},
     "output_type": "execute_result"
    },
    {
     "data": {
      "image/png": "[encoded data removed]",
      "text/plain": [
       "<Figure size 640x480 with 1 Axes>"
      ]
     },
     "metadata": {},
     "output_type": "display_data"
    }
   ],
   "source": [
    "#1.5 Plot the empirical cumulative distribution function (CDF) to visualize the distribution of pageviews.\n",
    "sns.ecdfplot(data=df, x='pageviews')"
   ]
  },
  {
   "cell_type": "markdown",
   "metadata": {},
   "source": [
    "**Question 1.6 why is it hard to visualize the distribution in the above ECDF plot?:** \n",
    "\n",
    "Because a great majority of value for pageviews is close to 0, which means that the distribution of the data is heavily skewed to the left. Therefore the ecdf jumps straight to 1.\n"
   ]
  },
  {
   "cell_type": "markdown",
   "metadata": {},
   "source": [
    "**1.7** Re-do the above CDF plot using a log scale for both the x-axis and the y-axis. Additionally, plot vertical lines that indicate the distribution's arithmetic and geometric means."
   ]
  },
  {
   "cell_type": "code",
   "execution_count": 23,
   "metadata": {},
   "outputs": [
    {
     "data": {
      "text/plain": [
       "<matplotlib.legend.Legend at 0x7f89d1ac87c0>"
      ]
     },
     "execution_count": 23,
     "metadata": {},
     "output_type": "execute_result"
    },
    {
     "data": {
      "image/png": "[encoded data removed]",
      "text/plain": [
       "<Figure size 640x480 with 1 Axes>"
      ]
     },
     "metadata": {},
     "output_type": "display_data"
    }
   ],
   "source": [
    "#1.7 Re-do the above CDF plot using a log scale for both the x-axis and the y-axis. Additionally, plot vertical lines that indicate the distribution's arithmetic and geometric means.\n",
    "sns.ecdfplot(data=df, x='pageviews', log_scale=True, label='ecdf')\n",
    "plt.xscale('log')\n",
    "plt.yscale('log')\n",
    "plt.axvline(x=gmean(df.pageviews), label='geometric mean', color='r')\n",
    "plt.axvline(x=df.pageviews.mean(), label='arithmetic mean', color='g')\n",
    "plt.legend()"
   ]
  },
  {
   "cell_type": "markdown",
   "metadata": {},
   "source": [
    "**Question 1.8 Visually, does it look like the distribution is a power law?**"
   ]
  },
  {
   "cell_type": "markdown",
   "metadata": {},
   "source": [
    "(I don't think so.) As discussed in the lectures, a power distribution can be seen when we have a negative slope on our log scaled portrayal and in our case we do not have one. (Someone please check) "
   ]
  },
  {
   "cell_type": "markdown",
   "metadata": {},
   "source": [
    "**1.9** Estimate the 95% confidence intervals of the geometric mean and the arithmetic mean of pageviews using bootstrap resampling."
   ]
  },
  {
   "cell_type": "code",
   "execution_count": 24,
   "metadata": {},
   "outputs": [],
   "source": [
    "#1.9 Estimate the 95% confidence intervals of the geometric mean and the arithmetic mean of pageviews using bootstrap resampling.\n",
    "res_arithmetic = bootstrap((df.pageviews.values,), np.mean, confidence_level=0.95)\n",
    "res_geometric = bootstrap((df.pageviews.values,), gmean, confidence_level=0.95)"
   ]
  },
  {
   "cell_type": "code",
   "execution_count": 25,
   "metadata": {},
   "outputs": [
    {
     "name": "stdout",
     "output_type": "stream",
     "text": [
      "The 95%CI with bootstrap for arithmetic mean is: [7681.02,10295.12]\n",
      "The 95%CI with bootstrap for geometric mean is: [2095.79,2282.47]\n"
     ]
    }
   ],
   "source": [
    "print(\"The 95%CI with bootstrap for arithmetic mean is: [{:.2f},{:.2f}]\".format(res_arithmetic.confidence_interval[0], res_arithmetic.confidence_interval[1]))\n",
    "print(\"The 95%CI with bootstrap for geometric mean is: [{:.2f},{:.2f}]\".format(res_geometric.confidence_interval[0], res_geometric.confidence_interval[1]))"
   ]
  },
  {
   "cell_type": "markdown",
   "metadata": {},
   "source": [
    "**1.10 What advantages does the geometric mean have over the arithmetic mean to summarize the distribution?**\n",
    "\n"
   ]
  },
  {
   "cell_type": "markdown",
   "metadata": {},
   "source": [
    "Like most of our analysis in the first part, the primary reason for using geometric means over arithmetic means is to have it be less effected by our skewed data. (probably should add more)"
   ]
  },
  {
   "cell_type": "markdown",
   "metadata": {},
   "source": [
    "## Task 2 — 20 pts\n",
    "\n",
    "Next, investigate the question posed by Mr. Ogane. *Why do so many Tokyo FC players have birthdays in the same month?* \n",
    "Here you will not look specifically at Tokyo FC players, but more generally at the birthdays of the athletes in the dataset you have explored in Task 1\n",
    "\n",
    "**2.1** Calculate and plot the distribution of births (among the athletes contained in the Wikipedia dataset) over months, i.e., what percentage of births happen in January, February, etc."
   ]
  },
  {
   "cell_type": "code",
   "execution_count": 26,
   "metadata": {},
   "outputs": [
    {
     "data": {
      "text/plain": [
       "([<matplotlib.axis.XTick at 0x7f89e0c4ea60>,\n",
       "  <matplotlib.axis.XTick at 0x7f89e0c4ea30>,\n",
       "  <matplotlib.axis.XTick at 0x7f89e0c509a0>,\n",
       "  <matplotlib.axis.XTick at 0x7f89e1126bb0>,\n",
       "  <matplotlib.axis.XTick at 0x7f89e112e340>,\n",
       "  <matplotlib.axis.XTick at 0x7f89e112ea90>,\n",
       "  <matplotlib.axis.XTick at 0x7f89e1131220>,\n",
       "  <matplotlib.axis.XTick at 0x7f89e112e850>,\n",
       "  <matplotlib.axis.XTick at 0x7f89e0c4e910>,\n",
       "  <matplotlib.axis.XTick at 0x7f89e1131d30>,\n",
       "  <matplotlib.axis.XTick at 0x7f89e11334c0>,\n",
       "  <matplotlib.axis.XTick at 0x7f89e1133c10>],\n",
       " [Text(0, 0, 'January'),\n",
       "  Text(1, 0, 'February'),\n",
       "  Text(2, 0, 'March'),\n",
       "  Text(3, 0, 'April'),\n",
       "  Text(4, 0, 'May'),\n",
       "  Text(5, 0, 'June'),\n",
       "  Text(6, 0, 'July'),\n",
       "  Text(7, 0, 'August'),\n",
       "  Text(8, 0, 'September'),\n",
       "  Text(9, 0, 'October'),\n",
       "  Text(10, 0, 'November'),\n",
       "  Text(11, 0, 'December')])"
      ]
     },
     "execution_count": 26,
     "metadata": {},
     "output_type": "execute_result"
    },
    {
     "data": {
      "image/png": "[encoded data removed]",
      "text/plain": [
       "<Figure size 640x480 with 1 Axes>"
      ]
     },
     "metadata": {},
     "output_type": "display_data"
    }
   ],
   "source": [
    "#2.1 Calculate and plot the distribution of births (among the athletes contained in the Wikipedia dataset) over months, i.e., what percentage of births happen in January, February, etc.\n",
    "months = ['January', 'February', 'March', 'April', 'May', 'June', 'July', 'August','September', 'October', 'November', 'December']\n",
    "(df.groupby(df.birthdate.dt.month)['birthdate'].value_counts().unstack().sum(axis=1)/len(df)).plot.bar(xlabel='month', ylabel='proportion', title='Proportion of birhts per month')\n",
    "plt.xticks(np.arange(0,12), months)"
   ]
  },
  {
   "cell_type": "markdown",
   "metadata": {},
   "source": [
    "**2.2** Puzzled with the results, you use census data to retrieve the percentage of births happening each month (this is given to you in an array below). Plot this distribution."
   ]
  },
  {
   "cell_type": "code",
   "execution_count": 27,
   "metadata": {},
   "outputs": [
    {
     "data": {
      "text/plain": [
       "([0, 1, 2, 3, 4, 5, 6, 7, 8, 9, 10, 11],\n",
       " [Text(0, 0, ''),\n",
       "  Text(0, 0, ''),\n",
       "  Text(0, 0, ''),\n",
       "  Text(0, 0, ''),\n",
       "  Text(0, 0, ''),\n",
       "  Text(0, 0, ''),\n",
       "  Text(0, 0, ''),\n",
       "  Text(0, 0, ''),\n",
       "  Text(0, 0, ''),\n",
       "  Text(0, 0, ''),\n",
       "  Text(0, 0, ''),\n",
       "  Text(0, 0, '')])"
      ]
     },
     "execution_count": 27,
     "metadata": {},
     "output_type": "execute_result"
    },
    {
     "data": {
      "image/png": "[encoded data removed]",
      "text/plain": [
       "<Figure size 640x480 with 1 Axes>"
      ]
     },
     "metadata": {},
     "output_type": "display_data"
    }
   ],
   "source": [
    "#2.2  Puzzled with the results, you use census data to retrieve the percentage of births happening each month (this is given to you in an array below). Plot this distribution.\n",
    "birth_per_month = np.array([\n",
    "0.08118368,0.08148065, 0.08182577, 0.07982728, 0.08301363,\n",
    "0.08422556, 0.08518067, 0.08925791, 0.08635247, 0.08460279,\n",
    "0.08258825, 0.08046134\n",
    "])\n",
    "\n",
    "plt.bar(x=months, height=birth_per_month)\n",
    "plt.xlabel('months')\n",
    "plt.ylabel('proportion')\n",
    "plt.title('Proportion of birth per months in total population')\n",
    "plt.xticks(rotation=90)\n"
   ]
  },
  {
   "cell_type": "markdown",
   "metadata": {},
   "source": [
    "**2.3 What is different between the distributions you ploted in 2.1 and 2.2:**"
   ]
  },
  {
   "cell_type": "markdown",
   "metadata": {},
   "source": [
    "After discussing with your colleagues at work, a theory comes to your mind: school in Japan starts in April. Children who were born between April 1 and March 31 of the following year are placed within the same grade. Therefore, you suspect that the observed pattern may have something to do with when students start school.\n",
    "\n",
    "**2.4** Considering that students in Japanese schools have the same birth distribution over the months of the year as the overall Japanese population, i.e., the `birth_per_month` array that was provided to you, calculate:\n",
    "\n",
    "- For students born in April, how many months older are they than the average student in their grade?\n",
    "- For students born in March, how many months younger are they than the average student in their grade?"
   ]
  },
  {
   "cell_type": "code",
   "execution_count": 28,
   "metadata": {},
   "outputs": [
    {
     "name": "stdout",
     "output_type": "stream",
     "text": [
      "A student born in April is in average 5.47 months older than his classmates\n"
     ]
    }
   ],
   "source": [
    "# 2.4 Considering that students in Japanese schools have the same birth distribution over the months of the year as the overall Japanese population, i.e., the `birth_per_month` array that was provided to you, calculate:\n",
    "# 2.4a For students born in April, how many months older are they than the average student in their grade?\n",
    "k=0\n",
    "N = len(birth_per_month)\n",
    "diff = 0\n",
    "for i in range(len(birth_per_month)):\n",
    "    if i+3 < len(birth_per_month):\n",
    "        #print('i1', i, i+3)\n",
    "        diff += birth_per_month[i+3]*i\n",
    "    if i+3 > len(birth_per_month)-1:\n",
    "        j = N-(i+3-k)\n",
    "        diff += birth_per_month[j]*i\n",
    "        #print('i2,j',i,j)\n",
    "        k += 2\n",
    "print('A student born in April is in average {:.2f} months older than his classmates'.format(diff))"
   ]
  },
  {
   "cell_type": "code",
   "execution_count": 29,
   "metadata": {},
   "outputs": [
    {
     "name": "stdout",
     "output_type": "stream",
     "text": [
      "A student born in March is in average 5.53 months younger than his classmates\n"
     ]
    }
   ],
   "source": [
    "#2.4b For students born in March, how many months younger are they than the average student in their grade?\n",
    "k=0\n",
    "l=1\n",
    "N = len(birth_per_month)\n",
    "diff = 0\n",
    "for i in range(len(birth_per_month)):\n",
    "    if i <=2:\n",
    "        j = i+2-k\n",
    "        #print(i,j, birth_per_month[j])\n",
    "        diff += birth_per_month[j]*i\n",
    "        k +=2\n",
    "    if i >2:\n",
    "        m = N-l\n",
    "        #print(i,m, birth_per_month[m])\n",
    "        diff += birth_per_month[m]*i\n",
    "        l+=1\n",
    "        \n",
    "\n",
    "print('A student born in March is in average {:.2f} months younger than his classmates'.format(diff))"
   ]
  },
  {
   "cell_type": "markdown",
   "metadata": {},
   "source": [
    "**2.5 Considering your common sense and the results obtained from the simulation: what advantage do students born in April have over those born in March? How may this affect their odds of becoming professional athletes?** "
   ]
  },
  {
   "cell_type": "markdown",
   "metadata": {},
   "source": [
    "Students in April appear to have an inherent advantage over those in March because they have had far more time to be develop and practice their sport relative to their classmates. And perhaps since professional athletes are scouted by class groups, the ones born in April are a little older and more developed which tends to have an effect on their chances of becoming a professional athlete."
   ]
  },
  {
   "cell_type": "markdown",
   "metadata": {},
   "source": [
    "## Task 3 — 20 pts\n",
    "\n",
    "You report your findings to Mr. Ogane, who receives them with great interest. He asks you: *is there a causal effect between being older than your peers and becoming a Wikipedia-famous athlete?* (Here, “Wikipedia-famous” refers to those individuals notable enough to have made it into English Wikipedia.)\n",
    "\n",
    "**3.1** Create a new column in the dataframe called `date_diff` representing the distance between the athlete's birthdate and the cutoff date of his school class. \n",
    "- For individuals born in April, May, June, July, August, and September: The distance should be positive and represent the number of days between the birthdate and the previous April 1. For example, if someone is born on April 1, the distance is 0, if someone is born on April 10, the distance is 9, etc.\n",
    "- For individuals born in October, November, December, January, February, and March: The distance should be negative and represent the number of days between the following April 1 and the birthdate. For example, if someone is born on March 31, the distance is -1; if someone is born on March 27, the distance is -5.\n",
    "- Print the `date_diff` for the athletes with ids:  `20639249` and `58982155`."
   ]
  },
  {
   "cell_type": "markdown",
   "metadata": {},
   "source": [
    "# somone please review my work. I came up with a clever solution but i feel iffy about it. I feel iffy because of 3.5 and 3.6"
   ]
  },
  {
   "cell_type": "code",
   "execution_count": 30,
   "metadata": {},
   "outputs": [
    {
     "name": "stderr",
     "output_type": "stream",
     "text": [
      "/var/folders/q3/z0pdr58n4bn46rs6tvs5t1y00000gn/T/ipykernel_39150/612776290.py:18: SettingWithCopyWarning: \n",
      "A value is trying to be set on a copy of a slice from a DataFrame\n",
      "\n",
      "See the caveats in the documentation: https://pandas.pydata.org/pandas-docs/stable/user_guide/indexing.html#returning-a-view-versus-a-copy\n",
      "  df_date['cutoff_date'][i] = str(df_date['birthyear'][i]+1) + '-07-01'\n"
     ]
    },
    {
     "data": {
      "text/html": [
       "<div>\n",
       "<style scoped>\n",
       "    .dataframe tbody tr th:only-of-type {\n",
       "        vertical-align: middle;\n",
       "    }\n",
       "\n",
       "    .dataframe tbody tr th {\n",
       "        vertical-align: top;\n",
       "    }\n",
       "\n",
       "    .dataframe thead th {\n",
       "        text-align: right;\n",
       "    }\n",
       "</style>\n",
       "<table border=\"1\" class=\"dataframe\">\n",
       "  <thead>\n",
       "    <tr style=\"text-align: right;\">\n",
       "      <th></th>\n",
       "      <th>id</th>\n",
       "      <th>name</th>\n",
       "      <th>occupation</th>\n",
       "      <th>gender</th>\n",
       "      <th>alive</th>\n",
       "      <th>bplace_country</th>\n",
       "      <th>birthdate</th>\n",
       "      <th>birthyear</th>\n",
       "      <th>pageviews</th>\n",
       "      <th>date_diff</th>\n",
       "    </tr>\n",
       "  </thead>\n",
       "  <tbody>\n",
       "    <tr>\n",
       "      <th>0</th>\n",
       "      <td>25864486</td>\n",
       "      <td>Hisataka Okamoto</td>\n",
       "      <td>SOCCER PLAYER</td>\n",
       "      <td>M</td>\n",
       "      <td>True</td>\n",
       "      <td>Japan</td>\n",
       "      <td>1933-12-14</td>\n",
       "      <td>1933</td>\n",
       "      <td>455.0</td>\n",
       "      <td>-108</td>\n",
       "    </tr>\n",
       "    <tr>\n",
       "      <th>1</th>\n",
       "      <td>1682054</td>\n",
       "      <td>Kunishige Kamamoto</td>\n",
       "      <td>SOCCER PLAYER</td>\n",
       "      <td>M</td>\n",
       "      <td>True</td>\n",
       "      <td>Japan</td>\n",
       "      <td>1944-04-15</td>\n",
       "      <td>1944</td>\n",
       "      <td>57847.0</td>\n",
       "      <td>14</td>\n",
       "    </tr>\n",
       "    <tr>\n",
       "      <th>2</th>\n",
       "      <td>20639249</td>\n",
       "      <td>Akira Kitaguchi</td>\n",
       "      <td>SOCCER PLAYER</td>\n",
       "      <td>M</td>\n",
       "      <td>True</td>\n",
       "      <td>Japan</td>\n",
       "      <td>1935-03-08</td>\n",
       "      <td>1935</td>\n",
       "      <td>759.0</td>\n",
       "      <td>-24</td>\n",
       "    </tr>\n",
       "    <tr>\n",
       "      <th>3</th>\n",
       "      <td>20641463</td>\n",
       "      <td>Tsukasa Hosaka</td>\n",
       "      <td>SOCCER PLAYER</td>\n",
       "      <td>M</td>\n",
       "      <td>False</td>\n",
       "      <td>Japan</td>\n",
       "      <td>1937-03-03</td>\n",
       "      <td>1937</td>\n",
       "      <td>1672.0</td>\n",
       "      <td>-29</td>\n",
       "    </tr>\n",
       "    <tr>\n",
       "      <th>4</th>\n",
       "      <td>25864343</td>\n",
       "      <td>Takashi Kasahara</td>\n",
       "      <td>SOCCER PLAYER</td>\n",
       "      <td>M</td>\n",
       "      <td>True</td>\n",
       "      <td>Japan</td>\n",
       "      <td>1918-03-26</td>\n",
       "      <td>1918</td>\n",
       "      <td>541.0</td>\n",
       "      <td>-6</td>\n",
       "    </tr>\n",
       "    <tr>\n",
       "      <th>...</th>\n",
       "      <td>...</td>\n",
       "      <td>...</td>\n",
       "      <td>...</td>\n",
       "      <td>...</td>\n",
       "      <td>...</td>\n",
       "      <td>...</td>\n",
       "      <td>...</td>\n",
       "      <td>...</td>\n",
       "      <td>...</td>\n",
       "      <td>...</td>\n",
       "    </tr>\n",
       "    <tr>\n",
       "      <th>4118</th>\n",
       "      <td>58970633</td>\n",
       "      <td>Yuki Amano</td>\n",
       "      <td>SOCCER PLAYER</td>\n",
       "      <td>M</td>\n",
       "      <td>True</td>\n",
       "      <td>Japan</td>\n",
       "      <td>2000-04-17</td>\n",
       "      <td>2000</td>\n",
       "      <td>176.0</td>\n",
       "      <td>16</td>\n",
       "    </tr>\n",
       "    <tr>\n",
       "      <th>4119</th>\n",
       "      <td>61250844</td>\n",
       "      <td>Tomoya Uemura</td>\n",
       "      <td>SOCCER PLAYER</td>\n",
       "      <td>M</td>\n",
       "      <td>True</td>\n",
       "      <td>Japan</td>\n",
       "      <td>2000-05-19</td>\n",
       "      <td>2000</td>\n",
       "      <td>418.0</td>\n",
       "      <td>48</td>\n",
       "    </tr>\n",
       "    <tr>\n",
       "      <th>4120</th>\n",
       "      <td>58982155</td>\n",
       "      <td>Shosei Okamoto</td>\n",
       "      <td>SOCCER PLAYER</td>\n",
       "      <td>M</td>\n",
       "      <td>True</td>\n",
       "      <td>Japan</td>\n",
       "      <td>2000-04-07</td>\n",
       "      <td>2000</td>\n",
       "      <td>2354.0</td>\n",
       "      <td>6</td>\n",
       "    </tr>\n",
       "    <tr>\n",
       "      <th>4121</th>\n",
       "      <td>55188205</td>\n",
       "      <td>Taiga Nakajima</td>\n",
       "      <td>SOCCER PLAYER</td>\n",
       "      <td>M</td>\n",
       "      <td>True</td>\n",
       "      <td>Japan</td>\n",
       "      <td>1999-08-01</td>\n",
       "      <td>1999</td>\n",
       "      <td>77.0</td>\n",
       "      <td>122</td>\n",
       "    </tr>\n",
       "    <tr>\n",
       "      <th>4122</th>\n",
       "      <td>58982415</td>\n",
       "      <td>Sosuke Shibata</td>\n",
       "      <td>SOCCER PLAYER</td>\n",
       "      <td>M</td>\n",
       "      <td>True</td>\n",
       "      <td>Japan</td>\n",
       "      <td>2001-05-26</td>\n",
       "      <td>2001</td>\n",
       "      <td>1326.0</td>\n",
       "      <td>55</td>\n",
       "    </tr>\n",
       "  </tbody>\n",
       "</table>\n",
       "<p>4123 rows × 10 columns</p>\n",
       "</div>"
      ],
      "text/plain": [
       "            id                name     occupation gender  alive  \\\n",
       "0     25864486    Hisataka Okamoto  SOCCER PLAYER      M   True   \n",
       "1      1682054  Kunishige Kamamoto  SOCCER PLAYER      M   True   \n",
       "2     20639249     Akira Kitaguchi  SOCCER PLAYER      M   True   \n",
       "3     20641463      Tsukasa Hosaka  SOCCER PLAYER      M  False   \n",
       "4     25864343    Takashi Kasahara  SOCCER PLAYER      M   True   \n",
       "...        ...                 ...            ...    ...    ...   \n",
       "4118  58970633          Yuki Amano  SOCCER PLAYER      M   True   \n",
       "4119  61250844       Tomoya Uemura  SOCCER PLAYER      M   True   \n",
       "4120  58982155      Shosei Okamoto  SOCCER PLAYER      M   True   \n",
       "4121  55188205      Taiga Nakajima  SOCCER PLAYER      M   True   \n",
       "4122  58982415      Sosuke Shibata  SOCCER PLAYER      M   True   \n",
       "\n",
       "     bplace_country  birthdate  birthyear  pageviews  date_diff  \n",
       "0             Japan 1933-12-14       1933      455.0       -108  \n",
       "1             Japan 1944-04-15       1944    57847.0         14  \n",
       "2             Japan 1935-03-08       1935      759.0        -24  \n",
       "3             Japan 1937-03-03       1937     1672.0        -29  \n",
       "4             Japan 1918-03-26       1918      541.0         -6  \n",
       "...             ...        ...        ...        ...        ...  \n",
       "4118          Japan 2000-04-17       2000      176.0         16  \n",
       "4119          Japan 2000-05-19       2000      418.0         48  \n",
       "4120          Japan 2000-04-07       2000     2354.0          6  \n",
       "4121          Japan 1999-08-01       1999       77.0        122  \n",
       "4122          Japan 2001-05-26       2001     1326.0         55  \n",
       "\n",
       "[4123 rows x 10 columns]"
      ]
     },
     "execution_count": 30,
     "metadata": {},
     "output_type": "execute_result"
    }
   ],
   "source": [
    "# 3.1 - Make a copy of the dataframe, and make a new column that takes our athletes birthyear and combines it with april 1 (-04-01). Once we\n",
    "#       get that we can subtract two datetime objects to obtain the distance\n",
    "\n",
    "from pandas.tseries.offsets import DateOffset\n",
    "\n",
    "df_date = df.copy()\n",
    "df_date['cutoff_date'] = 0 \n",
    "df_date['month'] = df_date['birthdate'].dt.month \n",
    "\n",
    "\n",
    "# we shift our calendar so we can obtain the proper distance calculations. So we offset all months by 3\n",
    "df_date['new_bday'] = df_date['birthdate'] + DateOffset(days=91)\n",
    "special_months = [10,11,12]\n",
    "\n",
    "# calculates the cutoff time as specified in the instruction\n",
    "for i in range(len(df_date)):\n",
    "    if df_date['month'][i] in special_months:\n",
    "        df_date['cutoff_date'][i] = str(df_date['birthyear'][i]+1) + '-07-01'\n",
    "    else:\n",
    "        df_date['cutoff_date'][i] = str(df_date['birthyear'][i]) + '-07-01'\n",
    "df_date['cutoff_date'] = pd.to_datetime(df_date['cutoff_date'])\n",
    "\n",
    "# magic: because nothing in our original dataframe changes. range is between -180 to 179\n",
    "df['date_diff'] = (df_date['new_bday'] - df_date['cutoff_date']).dt.days \n",
    "df"
   ]
  },
  {
   "cell_type": "markdown",
   "metadata": {},
   "source": [
    "**3.2** Create three numpy arrays `x`, `y`, and `ind` all of size 360. \n",
    "- `x` should contain the integers between -180 and 179 (-180 and 179 inclusive). \n",
    "- `y` should contain the percentage of athletes born with a `date_diff` equal to the corresponding value of `x`.\n",
    "- `ind` should contain 0 if `x` is smaller than zero and 1 if `x` is bigger or equal to zero.\n",
    "\n",
    "**Comment**: Note that in **3.2**, the size of the array created is slightly smaller than the number of days in the year. This is for simplicity's sake."
   ]
  },
  {
   "cell_type": "code",
   "execution_count": 31,
   "metadata": {},
   "outputs": [],
   "source": [
    "# x array\n",
    "x = np.arange(-180,180)\n",
    "\n",
    "# y array (contains indices to map with the x array)\n",
    "df = df[df['date_diff'].isin(x)]\n",
    "y = df['date_diff'].value_counts(normalize=True) * 100\n",
    "y = y.sort_index()\n",
    "\n",
    "# z array\n",
    "ind = np.zeros(360)\n",
    "ind[180:] = 1\n"
   ]
  },
  {
   "cell_type": "code",
   "execution_count": 32,
   "metadata": {},
   "outputs": [
    {
     "data": {
      "text/plain": [
       "array([-180, -179, -178, -177, -176, -175, -174, -173, -172, -171, -170,\n",
       "       -169, -168, -167, -166, -165, -164, -163, -162, -161, -160, -159,\n",
       "       -158, -157, -156, -155, -154, -153, -152, -151, -150, -149, -148,\n",
       "       -147, -146, -145, -144, -143, -142, -141, -140, -139, -138, -137,\n",
       "       -136, -135, -134, -133, -132, -131, -130, -129, -128, -127, -126,\n",
       "       -125, -124, -123, -122, -121, -120, -119, -118, -117, -116, -115,\n",
       "       -114, -113, -112, -111, -110, -109, -108, -107, -106, -105, -104,\n",
       "       -103, -102, -101, -100,  -99,  -98,  -97,  -96,  -95,  -94,  -93,\n",
       "        -92,  -91,  -90,  -89,  -88,  -87,  -86,  -85,  -84,  -83,  -82,\n",
       "        -81,  -80,  -79,  -78,  -77,  -76,  -75,  -74,  -73,  -72,  -71,\n",
       "        -70,  -69,  -68,  -67,  -66,  -65,  -64,  -63,  -62,  -61,  -60,\n",
       "        -59,  -58,  -57,  -56,  -55,  -54,  -53,  -52,  -51,  -50,  -49,\n",
       "        -48,  -47,  -46,  -45,  -44,  -43,  -42,  -41,  -40,  -39,  -38,\n",
       "        -37,  -36,  -35,  -34,  -33,  -32,  -31,  -30,  -29,  -28,  -27,\n",
       "        -26,  -25,  -24,  -23,  -22,  -21,  -20,  -19,  -18,  -17,  -16,\n",
       "        -15,  -14,  -13,  -12,  -11,  -10,   -9,   -8,   -7,   -6,   -5,\n",
       "         -4,   -3,   -2,   -1,    0,    1,    2,    3,    4,    5,    6,\n",
       "          7,    8,    9,   10,   11,   12,   13,   14,   15,   16,   17,\n",
       "         18,   19,   20,   21,   22,   23,   24,   25,   26,   27,   28,\n",
       "         29,   30,   31,   32,   33,   34,   35,   36,   37,   38,   39,\n",
       "         40,   41,   42,   43,   44,   45,   46,   47,   48,   49,   50,\n",
       "         51,   52,   53,   54,   55,   56,   57,   58,   59,   60,   61,\n",
       "         62,   63,   64,   65,   66,   67,   68,   69,   70,   71,   72,\n",
       "         73,   74,   75,   76,   77,   78,   79,   80,   81,   82,   83,\n",
       "         84,   85,   86,   87,   88,   89,   90,   91,   92,   93,   94,\n",
       "         95,   96,   97,   98,   99,  100,  101,  102,  103,  104,  105,\n",
       "        106,  107,  108,  109,  110,  111,  112,  113,  114,  115,  116,\n",
       "        117,  118,  119,  120,  121,  122,  123,  124,  125,  126,  127,\n",
       "        128,  129,  130,  131,  132,  133,  134,  135,  136,  137,  138,\n",
       "        139,  140,  141,  142,  143,  144,  145,  146,  147,  148,  149,\n",
       "        150,  151,  152,  153,  154,  155,  156,  157,  158,  159,  160,\n",
       "        161,  162,  163,  164,  165,  166,  167,  168,  169,  170,  171,\n",
       "        172,  173,  174,  175,  176,  177,  178,  179])"
      ]
     },
     "execution_count": 32,
     "metadata": {},
     "output_type": "execute_result"
    }
   ],
   "source": [
    "x"
   ]
  },
  {
   "cell_type": "code",
   "execution_count": 33,
   "metadata": {},
   "outputs": [
    {
     "data": {
      "text/plain": [
       "-180    0.442696\n",
       "-179    0.393507\n",
       "-178    0.418101\n",
       "-177    0.319725\n",
       "-176    0.245942\n",
       "          ...   \n",
       " 175    0.393507\n",
       " 176    0.393507\n",
       " 177    0.393507\n",
       " 178    0.172159\n",
       " 179    0.196754\n",
       "Name: date_diff, Length: 360, dtype: float64"
      ]
     },
     "execution_count": 33,
     "metadata": {},
     "output_type": "execute_result"
    }
   ],
   "source": [
    "# ordered the y array, making sure values correspond \n",
    "y"
   ]
  },
  {
   "cell_type": "code",
   "execution_count": 34,
   "metadata": {},
   "outputs": [
    {
     "data": {
      "text/plain": [
       "array([0., 0., 0., 0., 0., 0., 0., 0., 0., 0., 0., 0., 0., 0., 0., 0., 0.,\n",
       "       0., 0., 0., 0., 0., 0., 0., 0., 0., 0., 0., 0., 0., 0., 0., 0., 0.,\n",
       "       0., 0., 0., 0., 0., 0., 0., 0., 0., 0., 0., 0., 0., 0., 0., 0., 0.,\n",
       "       0., 0., 0., 0., 0., 0., 0., 0., 0., 0., 0., 0., 0., 0., 0., 0., 0.,\n",
       "       0., 0., 0., 0., 0., 0., 0., 0., 0., 0., 0., 0., 0., 0., 0., 0., 0.,\n",
       "       0., 0., 0., 0., 0., 0., 0., 0., 0., 0., 0., 0., 0., 0., 0., 0., 0.,\n",
       "       0., 0., 0., 0., 0., 0., 0., 0., 0., 0., 0., 0., 0., 0., 0., 0., 0.,\n",
       "       0., 0., 0., 0., 0., 0., 0., 0., 0., 0., 0., 0., 0., 0., 0., 0., 0.,\n",
       "       0., 0., 0., 0., 0., 0., 0., 0., 0., 0., 0., 0., 0., 0., 0., 0., 0.,\n",
       "       0., 0., 0., 0., 0., 0., 0., 0., 0., 0., 0., 0., 0., 0., 0., 0., 0.,\n",
       "       0., 0., 0., 0., 0., 0., 0., 0., 0., 0., 1., 1., 1., 1., 1., 1., 1.,\n",
       "       1., 1., 1., 1., 1., 1., 1., 1., 1., 1., 1., 1., 1., 1., 1., 1., 1.,\n",
       "       1., 1., 1., 1., 1., 1., 1., 1., 1., 1., 1., 1., 1., 1., 1., 1., 1.,\n",
       "       1., 1., 1., 1., 1., 1., 1., 1., 1., 1., 1., 1., 1., 1., 1., 1., 1.,\n",
       "       1., 1., 1., 1., 1., 1., 1., 1., 1., 1., 1., 1., 1., 1., 1., 1., 1.,\n",
       "       1., 1., 1., 1., 1., 1., 1., 1., 1., 1., 1., 1., 1., 1., 1., 1., 1.,\n",
       "       1., 1., 1., 1., 1., 1., 1., 1., 1., 1., 1., 1., 1., 1., 1., 1., 1.,\n",
       "       1., 1., 1., 1., 1., 1., 1., 1., 1., 1., 1., 1., 1., 1., 1., 1., 1.,\n",
       "       1., 1., 1., 1., 1., 1., 1., 1., 1., 1., 1., 1., 1., 1., 1., 1., 1.,\n",
       "       1., 1., 1., 1., 1., 1., 1., 1., 1., 1., 1., 1., 1., 1., 1., 1., 1.,\n",
       "       1., 1., 1., 1., 1., 1., 1., 1., 1., 1., 1., 1., 1., 1., 1., 1., 1.,\n",
       "       1., 1., 1.])"
      ]
     },
     "execution_count": 34,
     "metadata": {},
     "output_type": "execute_result"
    }
   ],
   "source": [
    "ind"
   ]
  },
  {
   "cell_type": "markdown",
   "metadata": {},
   "source": [
    "**3.3** Estimate the following linear regression: `y ~ x + ind` using `statsmodels`. Report the summary of the model."
   ]
  },
  {
   "cell_type": "code",
   "execution_count": 35,
   "metadata": {},
   "outputs": [
    {
     "data": {
      "text/html": [
       "<div>\n",
       "<style scoped>\n",
       "    .dataframe tbody tr th:only-of-type {\n",
       "        vertical-align: middle;\n",
       "    }\n",
       "\n",
       "    .dataframe tbody tr th {\n",
       "        vertical-align: top;\n",
       "    }\n",
       "\n",
       "    .dataframe thead th {\n",
       "        text-align: right;\n",
       "    }\n",
       "</style>\n",
       "<table border=\"1\" class=\"dataframe\">\n",
       "  <thead>\n",
       "    <tr style=\"text-align: right;\">\n",
       "      <th></th>\n",
       "      <th>x</th>\n",
       "      <th>y</th>\n",
       "      <th>ind</th>\n",
       "    </tr>\n",
       "  </thead>\n",
       "  <tbody>\n",
       "    <tr>\n",
       "      <th>0</th>\n",
       "      <td>-180</td>\n",
       "      <td>0.442696</td>\n",
       "      <td>0.0</td>\n",
       "    </tr>\n",
       "    <tr>\n",
       "      <th>1</th>\n",
       "      <td>-179</td>\n",
       "      <td>0.393507</td>\n",
       "      <td>0.0</td>\n",
       "    </tr>\n",
       "    <tr>\n",
       "      <th>2</th>\n",
       "      <td>-178</td>\n",
       "      <td>0.418101</td>\n",
       "      <td>0.0</td>\n",
       "    </tr>\n",
       "    <tr>\n",
       "      <th>3</th>\n",
       "      <td>-177</td>\n",
       "      <td>0.319725</td>\n",
       "      <td>0.0</td>\n",
       "    </tr>\n",
       "    <tr>\n",
       "      <th>4</th>\n",
       "      <td>-176</td>\n",
       "      <td>0.245942</td>\n",
       "      <td>0.0</td>\n",
       "    </tr>\n",
       "    <tr>\n",
       "      <th>...</th>\n",
       "      <td>...</td>\n",
       "      <td>...</td>\n",
       "      <td>...</td>\n",
       "    </tr>\n",
       "    <tr>\n",
       "      <th>355</th>\n",
       "      <td>175</td>\n",
       "      <td>0.393507</td>\n",
       "      <td>1.0</td>\n",
       "    </tr>\n",
       "    <tr>\n",
       "      <th>356</th>\n",
       "      <td>176</td>\n",
       "      <td>0.393507</td>\n",
       "      <td>1.0</td>\n",
       "    </tr>\n",
       "    <tr>\n",
       "      <th>357</th>\n",
       "      <td>177</td>\n",
       "      <td>0.393507</td>\n",
       "      <td>1.0</td>\n",
       "    </tr>\n",
       "    <tr>\n",
       "      <th>358</th>\n",
       "      <td>178</td>\n",
       "      <td>0.172159</td>\n",
       "      <td>1.0</td>\n",
       "    </tr>\n",
       "    <tr>\n",
       "      <th>359</th>\n",
       "      <td>179</td>\n",
       "      <td>0.196754</td>\n",
       "      <td>1.0</td>\n",
       "    </tr>\n",
       "  </tbody>\n",
       "</table>\n",
       "<p>360 rows × 3 columns</p>\n",
       "</div>"
      ],
      "text/plain": [
       "       x         y  ind\n",
       "0   -180  0.442696  0.0\n",
       "1   -179  0.393507  0.0\n",
       "2   -178  0.418101  0.0\n",
       "3   -177  0.319725  0.0\n",
       "4   -176  0.245942  0.0\n",
       "..   ...       ...  ...\n",
       "355  175  0.393507  1.0\n",
       "356  176  0.393507  1.0\n",
       "357  177  0.393507  1.0\n",
       "358  178  0.172159  1.0\n",
       "359  179  0.196754  1.0\n",
       "\n",
       "[360 rows x 3 columns]"
      ]
     },
     "execution_count": 35,
     "metadata": {},
     "output_type": "execute_result"
    }
   ],
   "source": [
    "# turn our numpy arrays into dataframe so we can feed it into statsmodels\n",
    "dataset = pd.DataFrame({'x': x, 'y': list(y), 'ind': ind}, columns=['x', 'y', 'ind'])\n",
    "dataset"
   ]
  },
  {
   "cell_type": "code",
   "execution_count": 36,
   "metadata": {},
   "outputs": [
    {
     "name": "stdout",
     "output_type": "stream",
     "text": [
      "                            OLS Regression Results                            \n",
      "==============================================================================\n",
      "Dep. Variable:                      y   R-squared:                       0.400\n",
      "Model:                            OLS   Adj. R-squared:                  0.397\n",
      "Method:                 Least Squares   F-statistic:                     119.0\n",
      "Date:                Thu, 24 Nov 2022   Prob (F-statistic):           2.47e-40\n",
      "Time:                        14:28:15   Log-Likelihood:                 356.37\n",
      "No. Observations:                 360   AIC:                            -706.7\n",
      "Df Residuals:                     357   BIC:                            -695.1\n",
      "Df Model:                           2                                         \n",
      "Covariance Type:            nonrobust                                         \n",
      "==============================================================================\n",
      "                 coef    std err          t      P>|t|      [0.025      0.975]\n",
      "------------------------------------------------------------------------------\n",
      "Intercept      0.1568      0.011     14.686      0.000       0.136       0.178\n",
      "x             -0.0006   9.16e-05     -6.584      0.000      -0.001      -0.000\n",
      "ind            0.2414      0.019     12.679      0.000       0.204       0.279\n",
      "==============================================================================\n",
      "Omnibus:                       14.861   Durbin-Watson:                   1.964\n",
      "Prob(Omnibus):                  0.001   Jarque-Bera (JB):               17.859\n",
      "Skew:                           0.390   Prob(JB):                     0.000132\n",
      "Kurtosis:                       3.764   Cond. No.                         468.\n",
      "==============================================================================\n",
      "\n",
      "Notes:\n",
      "[1] Standard Errors assume that the covariance matrix of the errors is correctly specified.\n"
     ]
    }
   ],
   "source": [
    "# fit model like tutorials\n",
    "model = smf.ols(formula='y ~ x + ind', data=dataset)\n",
    "results = model.fit()\n",
    "print(results.summary())"
   ]
  },
  {
   "cell_type": "markdown",
   "metadata": {},
   "source": [
    "**3.4** **Discuss:** What does the coefficient associated with the dummy variable `ind` captures in the above regression?"
   ]
  },
  {
   "cell_type": "markdown",
   "metadata": {},
   "source": [
    "the dummy variable in this instance is to distinguish categorical groups between two groups. In our case we are trying to see if the two split groups of months plays a role in their career trajectory to become a professional athlete. "
   ]
  },
  {
   "cell_type": "markdown",
   "metadata": {},
   "source": [
    "**3.5** Use the model parameters to estimate the percentage of athletes born on March 31st, i.e., use the intercept ($\\beta_0$) and the coefficient associated with `x` ($\\beta_1$) and calculate: $\\beta_0 - 1 * \\beta_1$ (recall that $x$ equals -1 in March 31st)."
   ]
  },
  {
   "cell_type": "code",
   "execution_count": 37,
   "metadata": {},
   "outputs": [
    {
     "data": {
      "text/plain": [
       "0.15740209804040606"
      ]
     },
     "execution_count": 37,
     "metadata": {},
     "output_type": "execute_result"
    }
   ],
   "source": [
    "results.params[0] - 1 * results.params[1]"
   ]
  },
  {
   "cell_type": "markdown",
   "metadata": {},
   "source": [
    "**3.6** Use the model parameters to estimate the percentage of athletes born on April 1st."
   ]
  },
  {
   "cell_type": "code",
   "execution_count": 38,
   "metadata": {},
   "outputs": [
    {
     "data": {
      "text/plain": [
       "0.156799066183882"
      ]
     },
     "execution_count": 38,
     "metadata": {},
     "output_type": "execute_result"
    }
   ],
   "source": [
    "results.params[0] + 0 * results.params[1]"
   ]
  },
  {
   "cell_type": "markdown",
   "metadata": {},
   "source": [
    "**3.7** **Discuss:** Drawing from your knowledge of observational studies and the questions answered thus far, respond to Mr. Ogane's question: *is there a causal effect between being older than your peers and becoming a Wikipedia-famous athlete?* Explain whether the evidence you have obtained is convincing and why."
   ]
  },
  {
   "cell_type": "markdown",
   "metadata": {},
   "source": []
  },
  {
   "cell_type": "markdown",
   "metadata": {},
   "source": [
    "## Task 4 — 20 pts\n",
    "\n",
    "You return to Mr. Ogane with your findings, which he again receives with great interest. The sharp manager, however, asks a question that ignites your curiosity: *are athletes that are born right after the school cut-off date (i.e., in April or May) simply better?**\n",
    "\n",
    "To understand if that is the case, you come up with a plan: the number of pageviews received by a Wikipedia page is a good way to differentiate between mildly famous athletes and truly famous ones. Thus you can do a matched analysis comparing athletes born in February or March (right before the cut-off) with athletes born in April or May (right after the cut-off); you should discard all athletes that were not born in one of these four months.\n",
    "\n",
    "To make matched athletes even more comparable, you will also only consider pairs of athletes that:\n",
    "1. were born in the same year; \n",
    "2. have the same gender; and\n",
    "3. have the same occupation.\n",
    "\n",
    "Matching should be done 1-to-1; i.e., each athlete born in February/March should be matched to one and only one athlete born in April/May (there will naturally be some athletes left unmatched).\n",
    "\n",
    "**4.1** Obtain the matched data described in the text above. Report the number of matched pairs and the number of discarded athletes. Your resulting dataframe should contain one row per athlete and an indicator variable `is_after`, which equals 1 when the athlete was born in April or May and 0 otherwise. Note that here you are doing exact matching, and not propensity score matching!\n"
   ]
  },
  {
   "cell_type": "code",
   "execution_count": 39,
   "metadata": {},
   "outputs": [
    {
     "data": {
      "text/plain": [
       "1       14\n",
       "2      -24\n",
       "3      -29\n",
       "4       -6\n",
       "5      -29\n",
       "        ..\n",
       "4117    37\n",
       "4118    16\n",
       "4119    48\n",
       "4120     6\n",
       "4122    55\n",
       "Name: date_diff, Length: 1381, dtype: int64"
      ]
     },
     "execution_count": 39,
     "metadata": {},
     "output_type": "execute_result"
    }
   ],
   "source": [
    "# Create a dataframe that only contains athletes born in  feb, march, april and may\n",
    "df_ = df.copy()\n",
    "df_ = df_.loc[(df_[\"date_diff\"] >= -59)&(df_[\"date_diff\"] <= 61)]\n",
    "df_['date_diff'].describe()\n",
    "df_['date_diff'].astype(int)"
   ]
  },
  {
   "cell_type": "code",
   "execution_count": 40,
   "metadata": {},
   "outputs": [],
   "source": [
    "total_nb = len(df_)"
   ]
  },
  {
   "cell_type": "code",
   "execution_count": 41,
   "metadata": {},
   "outputs": [
    {
     "data": {
      "text/html": [
       "<div>\n",
       "<style scoped>\n",
       "    .dataframe tbody tr th:only-of-type {\n",
       "        vertical-align: middle;\n",
       "    }\n",
       "\n",
       "    .dataframe tbody tr th {\n",
       "        vertical-align: top;\n",
       "    }\n",
       "\n",
       "    .dataframe thead th {\n",
       "        text-align: right;\n",
       "    }\n",
       "</style>\n",
       "<table border=\"1\" class=\"dataframe\">\n",
       "  <thead>\n",
       "    <tr style=\"text-align: right;\">\n",
       "      <th></th>\n",
       "      <th>id</th>\n",
       "      <th>name</th>\n",
       "      <th>occupation</th>\n",
       "      <th>gender</th>\n",
       "      <th>alive</th>\n",
       "      <th>bplace_country</th>\n",
       "      <th>birthdate</th>\n",
       "      <th>birthyear</th>\n",
       "      <th>pageviews</th>\n",
       "      <th>date_diff</th>\n",
       "      <th>is_after</th>\n",
       "    </tr>\n",
       "  </thead>\n",
       "  <tbody>\n",
       "    <tr>\n",
       "      <th>1</th>\n",
       "      <td>1682054</td>\n",
       "      <td>Kunishige Kamamoto</td>\n",
       "      <td>SOCCER PLAYER</td>\n",
       "      <td>M</td>\n",
       "      <td>True</td>\n",
       "      <td>Japan</td>\n",
       "      <td>1944-04-15</td>\n",
       "      <td>1944</td>\n",
       "      <td>57847.0</td>\n",
       "      <td>14</td>\n",
       "      <td>0</td>\n",
       "    </tr>\n",
       "    <tr>\n",
       "      <th>2</th>\n",
       "      <td>20639249</td>\n",
       "      <td>Akira Kitaguchi</td>\n",
       "      <td>SOCCER PLAYER</td>\n",
       "      <td>M</td>\n",
       "      <td>True</td>\n",
       "      <td>Japan</td>\n",
       "      <td>1935-03-08</td>\n",
       "      <td>1935</td>\n",
       "      <td>759.0</td>\n",
       "      <td>-24</td>\n",
       "      <td>1</td>\n",
       "    </tr>\n",
       "    <tr>\n",
       "      <th>3</th>\n",
       "      <td>20641463</td>\n",
       "      <td>Tsukasa Hosaka</td>\n",
       "      <td>SOCCER PLAYER</td>\n",
       "      <td>M</td>\n",
       "      <td>False</td>\n",
       "      <td>Japan</td>\n",
       "      <td>1937-03-03</td>\n",
       "      <td>1937</td>\n",
       "      <td>1672.0</td>\n",
       "      <td>-29</td>\n",
       "      <td>1</td>\n",
       "    </tr>\n",
       "    <tr>\n",
       "      <th>4</th>\n",
       "      <td>25864343</td>\n",
       "      <td>Takashi Kasahara</td>\n",
       "      <td>SOCCER PLAYER</td>\n",
       "      <td>M</td>\n",
       "      <td>True</td>\n",
       "      <td>Japan</td>\n",
       "      <td>1918-03-26</td>\n",
       "      <td>1918</td>\n",
       "      <td>541.0</td>\n",
       "      <td>-6</td>\n",
       "      <td>1</td>\n",
       "    </tr>\n",
       "    <tr>\n",
       "      <th>5</th>\n",
       "      <td>20641239</td>\n",
       "      <td>Yasuo Takamori</td>\n",
       "      <td>SOCCER PLAYER</td>\n",
       "      <td>M</td>\n",
       "      <td>False</td>\n",
       "      <td>Japan</td>\n",
       "      <td>1934-03-03</td>\n",
       "      <td>1934</td>\n",
       "      <td>1047.0</td>\n",
       "      <td>-29</td>\n",
       "      <td>1</td>\n",
       "    </tr>\n",
       "  </tbody>\n",
       "</table>\n",
       "</div>"
      ],
      "text/plain": [
       "         id                name     occupation gender  alive bplace_country  \\\n",
       "1   1682054  Kunishige Kamamoto  SOCCER PLAYER      M   True          Japan   \n",
       "2  20639249     Akira Kitaguchi  SOCCER PLAYER      M   True          Japan   \n",
       "3  20641463      Tsukasa Hosaka  SOCCER PLAYER      M  False          Japan   \n",
       "4  25864343    Takashi Kasahara  SOCCER PLAYER      M   True          Japan   \n",
       "5  20641239      Yasuo Takamori  SOCCER PLAYER      M  False          Japan   \n",
       "\n",
       "   birthdate  birthyear  pageviews  date_diff  is_after  \n",
       "1 1944-04-15       1944    57847.0         14         0  \n",
       "2 1935-03-08       1935      759.0        -24         1  \n",
       "3 1937-03-03       1937     1672.0        -29         1  \n",
       "4 1918-03-26       1918      541.0         -6         1  \n",
       "5 1934-03-03       1934     1047.0        -29         1  "
      ]
     },
     "execution_count": 41,
     "metadata": {},
     "output_type": "execute_result"
    }
   ],
   "source": [
    "# Add is_after column\n",
    "df_['is_after'] = df_['date_diff'].lt(0).astype(int)\n",
    "df_.head()"
   ]
  },
  {
   "cell_type": "code",
   "execution_count": 42,
   "metadata": {},
   "outputs": [
    {
     "data": {
      "text/html": [
       "<div>\n",
       "<style scoped>\n",
       "    .dataframe tbody tr th:only-of-type {\n",
       "        vertical-align: middle;\n",
       "    }\n",
       "\n",
       "    .dataframe tbody tr th {\n",
       "        vertical-align: top;\n",
       "    }\n",
       "\n",
       "    .dataframe thead th {\n",
       "        text-align: right;\n",
       "    }\n",
       "</style>\n",
       "<table border=\"1\" class=\"dataframe\">\n",
       "  <thead>\n",
       "    <tr style=\"text-align: right;\">\n",
       "      <th></th>\n",
       "      <th>count</th>\n",
       "    </tr>\n",
       "    <tr>\n",
       "      <th>birthyear</th>\n",
       "      <th></th>\n",
       "    </tr>\n",
       "  </thead>\n",
       "  <tbody>\n",
       "    <tr>\n",
       "      <th>1904</th>\n",
       "      <td>1</td>\n",
       "    </tr>\n",
       "    <tr>\n",
       "      <th>1905</th>\n",
       "      <td>2</td>\n",
       "    </tr>\n",
       "    <tr>\n",
       "      <th>1906</th>\n",
       "      <td>2</td>\n",
       "    </tr>\n",
       "    <tr>\n",
       "      <th>1907</th>\n",
       "      <td>2</td>\n",
       "    </tr>\n",
       "    <tr>\n",
       "      <th>1909</th>\n",
       "      <td>2</td>\n",
       "    </tr>\n",
       "  </tbody>\n",
       "</table>\n",
       "</div>"
      ],
      "text/plain": [
       "           count\n",
       "birthyear       \n",
       "1904           1\n",
       "1905           2\n",
       "1906           2\n",
       "1907           2\n",
       "1909           2"
      ]
     },
     "execution_count": 42,
     "metadata": {},
     "output_type": "execute_result"
    }
   ],
   "source": [
    "# filter out players that are the only one born in their birth year\n",
    "birthyear_count_dict = {'count': df_.groupby(by='birthyear')['birthyear'].count()}\n",
    "birthyear_count = pd.DataFrame(birthyear_count_dict)\n",
    "birthyear_count.head()"
   ]
  },
  {
   "cell_type": "code",
   "execution_count": 43,
   "metadata": {},
   "outputs": [],
   "source": [
    "# filter years with counts smaller or equal to 1, since it won't match anyway\n",
    "birthyear_count = birthyear_count[birthyear_count['count'] > 1]\n",
    "birthyear_count.reset_index(inplace=True)\n",
    "birthyear_count = birthyear_count.rename(columns = {'index':'birthyear'})\n",
    "birthyear_list = birthyear_count['birthyear']"
   ]
  },
  {
   "cell_type": "code",
   "execution_count": 44,
   "metadata": {},
   "outputs": [],
   "source": [
    "# create dataframe containing the value of birthyear from the list that we created\n",
    "df_ = df_[df_['birthyear'].isin(birthyear_count['birthyear'])]"
   ]
  },
  {
   "cell_type": "code",
   "execution_count": 45,
   "metadata": {},
   "outputs": [
    {
     "name": "stderr",
     "output_type": "stream",
     "text": [
      "/var/folders/q3/z0pdr58n4bn46rs6tvs5t1y00000gn/T/ipykernel_39150/1491973115.py:14: SettingWithCopyWarning: \n",
      "A value is trying to be set on a copy of a slice from a DataFrame\n",
      "\n",
      "See the caveats in the documentation: https://pandas.pydata.org/pandas-docs/stable/user_guide/indexing.html#returning-a-view-versus-a-copy\n",
      "  df_matched['match'][i] = df_matched['match'][j] = 0\n",
      "/var/folders/q3/z0pdr58n4bn46rs6tvs5t1y00000gn/T/ipykernel_39150/1491973115.py:11: SettingWithCopyWarning: \n",
      "A value is trying to be set on a copy of a slice from a DataFrame\n",
      "\n",
      "See the caveats in the documentation: https://pandas.pydata.org/pandas-docs/stable/user_guide/indexing.html#returning-a-view-versus-a-copy\n",
      "  df_matched['match'][i] = df_matched['match'][j] = 1\n"
     ]
    },
    {
     "data": {
      "text/html": [
       "<div>\n",
       "<style scoped>\n",
       "    .dataframe tbody tr th:only-of-type {\n",
       "        vertical-align: middle;\n",
       "    }\n",
       "\n",
       "    .dataframe tbody tr th {\n",
       "        vertical-align: top;\n",
       "    }\n",
       "\n",
       "    .dataframe thead th {\n",
       "        text-align: right;\n",
       "    }\n",
       "</style>\n",
       "<table border=\"1\" class=\"dataframe\">\n",
       "  <thead>\n",
       "    <tr style=\"text-align: right;\">\n",
       "      <th></th>\n",
       "      <th>id</th>\n",
       "      <th>name</th>\n",
       "      <th>occupation</th>\n",
       "      <th>gender</th>\n",
       "      <th>alive</th>\n",
       "      <th>bplace_country</th>\n",
       "      <th>birthdate</th>\n",
       "      <th>birthyear</th>\n",
       "      <th>pageviews</th>\n",
       "      <th>date_diff</th>\n",
       "      <th>is_after</th>\n",
       "      <th>match</th>\n",
       "    </tr>\n",
       "  </thead>\n",
       "  <tbody>\n",
       "    <tr>\n",
       "      <th>5</th>\n",
       "      <td>20641239</td>\n",
       "      <td>Yasuo Takamori</td>\n",
       "      <td>SOCCER PLAYER</td>\n",
       "      <td>M</td>\n",
       "      <td>False</td>\n",
       "      <td>Japan</td>\n",
       "      <td>1934-03-03</td>\n",
       "      <td>1934</td>\n",
       "      <td>1047.0</td>\n",
       "      <td>-29</td>\n",
       "      <td>1</td>\n",
       "      <td>1</td>\n",
       "    </tr>\n",
       "    <tr>\n",
       "      <th>13</th>\n",
       "      <td>25864538</td>\n",
       "      <td>Kenzo Ohashi</td>\n",
       "      <td>SOCCER PLAYER</td>\n",
       "      <td>M</td>\n",
       "      <td>False</td>\n",
       "      <td>Japan</td>\n",
       "      <td>1934-04-21</td>\n",
       "      <td>1934</td>\n",
       "      <td>758.0</td>\n",
       "      <td>20</td>\n",
       "      <td>0</td>\n",
       "      <td>1</td>\n",
       "    </tr>\n",
       "    <tr>\n",
       "      <th>18</th>\n",
       "      <td>25864213</td>\n",
       "      <td>Shiro Teshima</td>\n",
       "      <td>SOCCER PLAYER</td>\n",
       "      <td>M</td>\n",
       "      <td>False</td>\n",
       "      <td>Japan</td>\n",
       "      <td>1907-02-26</td>\n",
       "      <td>1907</td>\n",
       "      <td>699.0</td>\n",
       "      <td>-34</td>\n",
       "      <td>1</td>\n",
       "      <td>1</td>\n",
       "    </tr>\n",
       "    <tr>\n",
       "      <th>21</th>\n",
       "      <td>25864203</td>\n",
       "      <td>Yasuo Haruyama</td>\n",
       "      <td>SOCCER PLAYER</td>\n",
       "      <td>M</td>\n",
       "      <td>False</td>\n",
       "      <td>Japan</td>\n",
       "      <td>1906-04-04</td>\n",
       "      <td>1906</td>\n",
       "      <td>935.0</td>\n",
       "      <td>3</td>\n",
       "      <td>0</td>\n",
       "      <td>1</td>\n",
       "    </tr>\n",
       "    <tr>\n",
       "      <th>29</th>\n",
       "      <td>733681</td>\n",
       "      <td>Kazuyoshi Miura</td>\n",
       "      <td>SOCCER PLAYER</td>\n",
       "      <td>M</td>\n",
       "      <td>True</td>\n",
       "      <td>Japan</td>\n",
       "      <td>1967-02-26</td>\n",
       "      <td>1967</td>\n",
       "      <td>496424.0</td>\n",
       "      <td>-34</td>\n",
       "      <td>1</td>\n",
       "      <td>1</td>\n",
       "    </tr>\n",
       "  </tbody>\n",
       "</table>\n",
       "</div>"
      ],
      "text/plain": [
       "          id             name     occupation gender  alive bplace_country  \\\n",
       "5   20641239   Yasuo Takamori  SOCCER PLAYER      M  False          Japan   \n",
       "13  25864538     Kenzo Ohashi  SOCCER PLAYER      M  False          Japan   \n",
       "18  25864213    Shiro Teshima  SOCCER PLAYER      M  False          Japan   \n",
       "21  25864203   Yasuo Haruyama  SOCCER PLAYER      M  False          Japan   \n",
       "29    733681  Kazuyoshi Miura  SOCCER PLAYER      M   True          Japan   \n",
       "\n",
       "    birthdate  birthyear  pageviews  date_diff  is_after  match  \n",
       "5  1934-03-03       1934     1047.0        -29         1      1  \n",
       "13 1934-04-21       1934      758.0         20         0      1  \n",
       "18 1907-02-26       1907      699.0        -34         1      1  \n",
       "21 1906-04-04       1906      935.0          3         0      1  \n",
       "29 1967-02-26       1967   496424.0        -34         1      1  "
      ]
     },
     "execution_count": 45,
     "metadata": {},
     "output_type": "execute_result"
    }
   ],
   "source": [
    "df_matched = df_.copy()\n",
    "#keep track of the matching of the players with the column 'match'\n",
    "df_matched['match'] = 0\n",
    "\n",
    "for i in df_matched.index:\n",
    "    if (df_matched['match'][i] == 0): \n",
    "        for j in df_matched.index:\n",
    "            if (df_matched['match'][j] == 0):\n",
    "                if (df_matched['birthyear'][i] == df_matched['birthyear'][j] and df_matched['occupation'][i] == df_matched['occupation'][j] and \n",
    "                    df_matched['gender'][i] == df_matched['gender'][j] and i!=j and df_matched['is_after'][i] != df_matched['is_after'][j]):\n",
    "                    df_matched['match'][i] = df_matched['match'][j] = 1\n",
    "                    break\n",
    "                else: \n",
    "                    df_matched['match'][i] = df_matched['match'][j] = 0\n",
    "\n",
    "df_matched = df_matched.loc[df_matched[\"match\"] == 1]\n",
    "df_matched.head()"
   ]
  },
  {
   "cell_type": "code",
   "execution_count": 46,
   "metadata": {},
   "outputs": [
    {
     "data": {
      "text/plain": [
       "720"
      ]
     },
     "execution_count": 46,
     "metadata": {},
     "output_type": "execute_result"
    }
   ],
   "source": [
    "len(df_matched)"
   ]
  },
  {
   "cell_type": "code",
   "execution_count": 47,
   "metadata": {},
   "outputs": [
    {
     "data": {
      "text/plain": [
       "661"
      ]
     },
     "execution_count": 47,
     "metadata": {},
     "output_type": "execute_result"
    }
   ],
   "source": [
    "total_nb - len(df_matched)"
   ]
  },
  {
   "cell_type": "markdown",
   "metadata": {},
   "source": [
    "The number of players that were matched is 720 and the number of players that were left unmatched is 661."
   ]
  },
  {
   "cell_type": "markdown",
   "metadata": {},
   "source": [
    "**4.2** The number of pageviews is heavy-tailed, as we have seen in Task 1. Create a new column in your matched dataframe containing the natural logarithm of the number of pageviews."
   ]
  },
  {
   "cell_type": "code",
   "execution_count": 48,
   "metadata": {},
   "outputs": [
    {
     "data": {
      "text/html": [
       "<div>\n",
       "<style scoped>\n",
       "    .dataframe tbody tr th:only-of-type {\n",
       "        vertical-align: middle;\n",
       "    }\n",
       "\n",
       "    .dataframe tbody tr th {\n",
       "        vertical-align: top;\n",
       "    }\n",
       "\n",
       "    .dataframe thead th {\n",
       "        text-align: right;\n",
       "    }\n",
       "</style>\n",
       "<table border=\"1\" class=\"dataframe\">\n",
       "  <thead>\n",
       "    <tr style=\"text-align: right;\">\n",
       "      <th></th>\n",
       "      <th>id</th>\n",
       "      <th>name</th>\n",
       "      <th>occupation</th>\n",
       "      <th>gender</th>\n",
       "      <th>alive</th>\n",
       "      <th>bplace_country</th>\n",
       "      <th>birthdate</th>\n",
       "      <th>birthyear</th>\n",
       "      <th>pageviews</th>\n",
       "      <th>date_diff</th>\n",
       "      <th>is_after</th>\n",
       "      <th>match</th>\n",
       "      <th>natural_logarithm_pageviews</th>\n",
       "    </tr>\n",
       "  </thead>\n",
       "  <tbody>\n",
       "    <tr>\n",
       "      <th>5</th>\n",
       "      <td>20641239</td>\n",
       "      <td>Yasuo Takamori</td>\n",
       "      <td>SOCCER PLAYER</td>\n",
       "      <td>M</td>\n",
       "      <td>False</td>\n",
       "      <td>Japan</td>\n",
       "      <td>1934-03-03</td>\n",
       "      <td>1934</td>\n",
       "      <td>1047.0</td>\n",
       "      <td>-29</td>\n",
       "      <td>1</td>\n",
       "      <td>1</td>\n",
       "      <td>6.953684</td>\n",
       "    </tr>\n",
       "    <tr>\n",
       "      <th>13</th>\n",
       "      <td>25864538</td>\n",
       "      <td>Kenzo Ohashi</td>\n",
       "      <td>SOCCER PLAYER</td>\n",
       "      <td>M</td>\n",
       "      <td>False</td>\n",
       "      <td>Japan</td>\n",
       "      <td>1934-04-21</td>\n",
       "      <td>1934</td>\n",
       "      <td>758.0</td>\n",
       "      <td>20</td>\n",
       "      <td>0</td>\n",
       "      <td>1</td>\n",
       "      <td>6.630683</td>\n",
       "    </tr>\n",
       "    <tr>\n",
       "      <th>18</th>\n",
       "      <td>25864213</td>\n",
       "      <td>Shiro Teshima</td>\n",
       "      <td>SOCCER PLAYER</td>\n",
       "      <td>M</td>\n",
       "      <td>False</td>\n",
       "      <td>Japan</td>\n",
       "      <td>1907-02-26</td>\n",
       "      <td>1907</td>\n",
       "      <td>699.0</td>\n",
       "      <td>-34</td>\n",
       "      <td>1</td>\n",
       "      <td>1</td>\n",
       "      <td>6.549651</td>\n",
       "    </tr>\n",
       "    <tr>\n",
       "      <th>21</th>\n",
       "      <td>25864203</td>\n",
       "      <td>Yasuo Haruyama</td>\n",
       "      <td>SOCCER PLAYER</td>\n",
       "      <td>M</td>\n",
       "      <td>False</td>\n",
       "      <td>Japan</td>\n",
       "      <td>1906-04-04</td>\n",
       "      <td>1906</td>\n",
       "      <td>935.0</td>\n",
       "      <td>3</td>\n",
       "      <td>0</td>\n",
       "      <td>1</td>\n",
       "      <td>6.840547</td>\n",
       "    </tr>\n",
       "    <tr>\n",
       "      <th>29</th>\n",
       "      <td>733681</td>\n",
       "      <td>Kazuyoshi Miura</td>\n",
       "      <td>SOCCER PLAYER</td>\n",
       "      <td>M</td>\n",
       "      <td>True</td>\n",
       "      <td>Japan</td>\n",
       "      <td>1967-02-26</td>\n",
       "      <td>1967</td>\n",
       "      <td>496424.0</td>\n",
       "      <td>-34</td>\n",
       "      <td>1</td>\n",
       "      <td>1</td>\n",
       "      <td>13.115186</td>\n",
       "    </tr>\n",
       "  </tbody>\n",
       "</table>\n",
       "</div>"
      ],
      "text/plain": [
       "          id             name     occupation gender  alive bplace_country  \\\n",
       "5   20641239   Yasuo Takamori  SOCCER PLAYER      M  False          Japan   \n",
       "13  25864538     Kenzo Ohashi  SOCCER PLAYER      M  False          Japan   \n",
       "18  25864213    Shiro Teshima  SOCCER PLAYER      M  False          Japan   \n",
       "21  25864203   Yasuo Haruyama  SOCCER PLAYER      M  False          Japan   \n",
       "29    733681  Kazuyoshi Miura  SOCCER PLAYER      M   True          Japan   \n",
       "\n",
       "    birthdate  birthyear  pageviews  date_diff  is_after  match  \\\n",
       "5  1934-03-03       1934     1047.0        -29         1      1   \n",
       "13 1934-04-21       1934      758.0         20         0      1   \n",
       "18 1907-02-26       1907      699.0        -34         1      1   \n",
       "21 1906-04-04       1906      935.0          3         0      1   \n",
       "29 1967-02-26       1967   496424.0        -34         1      1   \n",
       "\n",
       "    natural_logarithm_pageviews  \n",
       "5                      6.953684  \n",
       "13                     6.630683  \n",
       "18                     6.549651  \n",
       "21                     6.840547  \n",
       "29                    13.115186  "
      ]
     },
     "execution_count": 48,
     "metadata": {},
     "output_type": "execute_result"
    }
   ],
   "source": [
    "#Added a column containing the natural logarithm of the number of pageviews\n",
    "df_matched['natural_logarithm_pageviews'] = np.log(df_matched['pageviews'])\n",
    "df_matched.head()"
   ]
  },
  {
   "cell_type": "markdown",
   "metadata": {},
   "source": [
    "**4.3** Assuming that whether the athlete is born in the two months right before the cutoff (February and March) or the two months right after (April and May) is assigned at random, use a linear regression to estimate the effect of being born after rather than before the cutoff date in the number of pageviews athletes receive. Use the log-transformed value you calculated in **4.2** as the outcome of your model (i.e., the $y$ of the regression). Report the summary of your model."
   ]
  },
  {
   "cell_type": "code",
   "execution_count": 49,
   "metadata": {},
   "outputs": [],
   "source": [
    "# Declaration of the model, pageviews estimated according to whether the athlete was born before or after the cutoff\n",
    "mod = smf.ols(formula='natural_logarithm_pageviews ~ C(is_after)', data=df_matched)"
   ]
  },
  {
   "cell_type": "code",
   "execution_count": 50,
   "metadata": {},
   "outputs": [],
   "source": [
    "# Fits the model (find the optimal coefficients, adding a random seed ensures consistency)\n",
    "np.random.seed(2)\n",
    "res = mod.fit()"
   ]
  },
  {
   "cell_type": "code",
   "execution_count": 51,
   "metadata": {},
   "outputs": [
    {
     "name": "stdout",
     "output_type": "stream",
     "text": [
      "                                 OLS Regression Results                                \n",
      "=======================================================================================\n",
      "Dep. Variable:     natural_logarithm_pageviews   R-squared:                       0.000\n",
      "Model:                                     OLS   Adj. R-squared:                 -0.001\n",
      "Method:                          Least Squares   F-statistic:                    0.2675\n",
      "Date:                         Thu, 24 Nov 2022   Prob (F-statistic):              0.605\n",
      "Time:                                 14:30:39   Log-Likelihood:                -1265.5\n",
      "No. Observations:                          720   AIC:                             2535.\n",
      "Df Residuals:                              718   BIC:                             2544.\n",
      "Df Model:                                    1                                         \n",
      "Covariance Type:                     nonrobust                                         \n",
      "====================================================================================\n",
      "                       coef    std err          t      P>|t|      [0.025      0.975]\n",
      "------------------------------------------------------------------------------------\n",
      "Intercept            7.8793      0.074    106.407      0.000       7.734       8.025\n",
      "C(is_after)[T.1]    -0.0542      0.105     -0.517      0.605      -0.260       0.151\n",
      "==============================================================================\n",
      "Omnibus:                       22.933   Durbin-Watson:                   1.855\n",
      "Prob(Omnibus):                  0.000   Jarque-Bera (JB):               24.628\n",
      "Skew:                           0.413   Prob(JB):                     4.49e-06\n",
      "Kurtosis:                       3.374   Cond. No.                         2.62\n",
      "==============================================================================\n",
      "\n",
      "Notes:\n",
      "[1] Standard Errors assume that the covariance matrix of the errors is correctly specified.\n"
     ]
    }
   ],
   "source": [
    "# Print thes summary output provided by the library.\n",
    "print(res.summary())"
   ]
  },
  {
   "cell_type": "markdown",
   "metadata": {},
   "source": [
    "**4.4** **Discuss:** Interpret the coefficients obtained from the linear regression."
   ]
  },
  {
   "cell_type": "markdown",
   "metadata": {},
   "source": [
    "The equation obtained is: logarithmic pageviews = 7.8793 -0.0542*is_after.\n",
    "is_after is not a predictor of pageviews, the p-value equals 0.605, which is bigger than 0.05. \n",
    "Therefore, we can conclude that there is no correlation between the birthmonth of the players and the pageviews."
   ]
  },
  {
   "cell_type": "markdown",
   "metadata": {},
   "source": []
  },
  {
   "cell_type": "markdown",
   "metadata": {},
   "source": [
    "**4.5** Interpreting the results obtained throughout this homework, create a short text (max. 250 words) where you:\n",
    "- Present and explain a credible causal diagram capturing the relationship between the variables below, and justify your causal diagram given the questions answered in this homework:\n",
    "    1. \"Skill\": an individual's innate talent towards a sport.\n",
    "    2. \"Relative Age\": how old an individual was in comparison to his or her peers.\n",
    "    3. \"Success before adulthood\": how successful the individual is as an athlete as a child/teenager.\n",
    "    4. \"Success as an adult\": how successful the individual is as an athlete as an adult.\n",
    "- **Discuss:** Consider two equally successful children athletes, one born on March 31 and the other on April 1 — which will likely be more successful as an adult? Your answer should be consistent with your causal diagram."
   ]
  },
  {
   "cell_type": "code",
   "execution_count": null,
   "metadata": {},
   "outputs": [],
   "source": []
  },
  {
   "cell_type": "markdown",
   "metadata": {},
   "source": [
    "## Task 5 — 20 pts\n",
    "\n",
    "Your findings in Task 4 provide important information for Tokyo FC to scout for young athletes. However, Mr. Ogane points out that other countries have messier cut-off dates for school (e.g., in the U.S., it varies widely by state), and thus the results may be less applicable to other countries.\n",
    "\n",
    "While you could investigate specific cut-off dates per country, you decide to first use your machine learning skills to get a sense of how promising your efforts might turn out to be. This is made easy as you find an extended version of the dataset you've been working on so far, which contains data about all Wikipedia biographies all around the world\n",
    "\n",
    "**5.1**Load the dataset containing data about Wikipedia-famous individuals into memory using pandas. You should load the data directly from the compressed file. Then, print the first few lines of the dataset."
   ]
  },
  {
   "cell_type": "code",
   "execution_count": 52,
   "metadata": {},
   "outputs": [
    {
     "data": {
      "text/html": [
       "<div>\n",
       "<style scoped>\n",
       "    .dataframe tbody tr th:only-of-type {\n",
       "        vertical-align: middle;\n",
       "    }\n",
       "\n",
       "    .dataframe tbody tr th {\n",
       "        vertical-align: top;\n",
       "    }\n",
       "\n",
       "    .dataframe thead th {\n",
       "        text-align: right;\n",
       "    }\n",
       "</style>\n",
       "<table border=\"1\" class=\"dataframe\">\n",
       "  <thead>\n",
       "    <tr style=\"text-align: right;\">\n",
       "      <th></th>\n",
       "      <th>id</th>\n",
       "      <th>name</th>\n",
       "      <th>occupation</th>\n",
       "      <th>gender</th>\n",
       "      <th>alive</th>\n",
       "      <th>bplace_country</th>\n",
       "      <th>birthdate</th>\n",
       "      <th>birthyear</th>\n",
       "      <th>pageviews</th>\n",
       "    </tr>\n",
       "  </thead>\n",
       "  <tbody>\n",
       "    <tr>\n",
       "      <th>0</th>\n",
       "      <td>4848272</td>\n",
       "      <td>Donald Trump</td>\n",
       "      <td>POLITICIAN</td>\n",
       "      <td>M</td>\n",
       "      <td>True</td>\n",
       "      <td>United States</td>\n",
       "      <td>1946-06-14</td>\n",
       "      <td>1946.0</td>\n",
       "      <td>10221172.0</td>\n",
       "    </tr>\n",
       "    <tr>\n",
       "      <th>1</th>\n",
       "      <td>13623554</td>\n",
       "      <td>Che Guevara</td>\n",
       "      <td>SOCIAL ACTIVIST</td>\n",
       "      <td>M</td>\n",
       "      <td>False</td>\n",
       "      <td>Argentina</td>\n",
       "      <td>1928-06-14</td>\n",
       "      <td>1928.0</td>\n",
       "      <td>3660108.0</td>\n",
       "    </tr>\n",
       "    <tr>\n",
       "      <th>2</th>\n",
       "      <td>1687680</td>\n",
       "      <td>Pope Francis</td>\n",
       "      <td>RELIGIOUS FIGURE</td>\n",
       "      <td>M</td>\n",
       "      <td>True</td>\n",
       "      <td>Argentina</td>\n",
       "      <td>1936-12-17</td>\n",
       "      <td>1936.0</td>\n",
       "      <td>3893767.0</td>\n",
       "    </tr>\n",
       "    <tr>\n",
       "      <th>3</th>\n",
       "      <td>21492751</td>\n",
       "      <td>Nelson Mandela</td>\n",
       "      <td>SOCIAL ACTIVIST</td>\n",
       "      <td>M</td>\n",
       "      <td>False</td>\n",
       "      <td>South Africa</td>\n",
       "      <td>1918-07-18</td>\n",
       "      <td>1918.0</td>\n",
       "      <td>4359499.0</td>\n",
       "    </tr>\n",
       "    <tr>\n",
       "      <th>4</th>\n",
       "      <td>63747</td>\n",
       "      <td>Muhammad Ali</td>\n",
       "      <td>BOXER</td>\n",
       "      <td>M</td>\n",
       "      <td>False</td>\n",
       "      <td>United States</td>\n",
       "      <td>1942-01-17</td>\n",
       "      <td>1942.0</td>\n",
       "      <td>3940228.0</td>\n",
       "    </tr>\n",
       "  </tbody>\n",
       "</table>\n",
       "</div>"
      ],
      "text/plain": [
       "         id            name        occupation gender  alive bplace_country  \\\n",
       "0   4848272    Donald Trump        POLITICIAN      M   True  United States   \n",
       "1  13623554     Che Guevara   SOCIAL ACTIVIST      M  False      Argentina   \n",
       "2   1687680    Pope Francis  RELIGIOUS FIGURE      M   True      Argentina   \n",
       "3  21492751  Nelson Mandela   SOCIAL ACTIVIST      M  False   South Africa   \n",
       "4     63747    Muhammad Ali             BOXER      M  False  United States   \n",
       "\n",
       "    birthdate  birthyear   pageviews  \n",
       "0  1946-06-14     1946.0  10221172.0  \n",
       "1  1928-06-14     1928.0   3660108.0  \n",
       "2  1936-12-17     1936.0   3893767.0  \n",
       "3  1918-07-18     1918.0   4359499.0  \n",
       "4  1942-01-17     1942.0   3940228.0  "
      ]
     },
     "execution_count": 52,
     "metadata": {},
     "output_type": "execute_result"
    }
   ],
   "source": [
    "df_world = pd.read_csv('./data/all_entities.csv.gz')\n",
    "df_world.head()"
   ]
  },
  {
   "cell_type": "code",
   "execution_count": 53,
   "metadata": {},
   "outputs": [
    {
     "data": {
      "text/plain": [
       "True"
      ]
     },
     "execution_count": 53,
     "metadata": {},
     "output_type": "execute_result"
    }
   ],
   "source": [
    "df_world.isnull().values.any()"
   ]
  },
  {
   "cell_type": "markdown",
   "metadata": {},
   "source": [
    "**5.2** Create two columns in this dataframe:\n",
    "- `is_athlete` an indicator variable which equals 1 if the occupation of an individual is related to a sport (you are provided with a list below) and 0 otherwise.\n",
    "- `dayofyear` an integer between 1 and 366 indicating on which day of the year the individual was born."
   ]
  },
  {
   "cell_type": "code",
   "execution_count": 54,
   "metadata": {},
   "outputs": [],
   "source": [
    "athlete_categories = {\n",
    "    'ATHLETE',\n",
    "    'BASKETBALL PLAYER',\n",
    "    'BOXER',\n",
    "    'CYCLIST',\n",
    "    'GYMNAST',\n",
    "    'HANDBALL PLAYER',\n",
    "    'HOCKEY PLAYER',\n",
    "    'SKATER',\n",
    "    'SKIER',\n",
    "    'TENNIS PLAYER',\n",
    "    'SOCCER PLAYER',\n",
    "    'SWIMMER',\n",
    "    'WRESTLER'\n",
    "}"
   ]
  },
  {
   "cell_type": "code",
   "execution_count": 55,
   "metadata": {},
   "outputs": [],
   "source": [
    "# apply a one hot encoding if they are an athlete\n",
    "df_world['is_athlete'] = df_world['occupation'].apply(lambda y: 1 if y in athlete_categories else 0)\n",
    "df_world['birthdate'] = pd.to_datetime(df_world['birthdate'])\n",
    "df_world['dayofyear'] = df_world['birthdate'].dt.day"
   ]
  },
  {
   "cell_type": "code",
   "execution_count": 56,
   "metadata": {},
   "outputs": [
    {
     "data": {
      "text/html": [
       "<div>\n",
       "<style scoped>\n",
       "    .dataframe tbody tr th:only-of-type {\n",
       "        vertical-align: middle;\n",
       "    }\n",
       "\n",
       "    .dataframe tbody tr th {\n",
       "        vertical-align: top;\n",
       "    }\n",
       "\n",
       "    .dataframe thead th {\n",
       "        text-align: right;\n",
       "    }\n",
       "</style>\n",
       "<table border=\"1\" class=\"dataframe\">\n",
       "  <thead>\n",
       "    <tr style=\"text-align: right;\">\n",
       "      <th></th>\n",
       "      <th>id</th>\n",
       "      <th>name</th>\n",
       "      <th>occupation</th>\n",
       "      <th>gender</th>\n",
       "      <th>alive</th>\n",
       "      <th>bplace_country</th>\n",
       "      <th>birthdate</th>\n",
       "      <th>birthyear</th>\n",
       "      <th>pageviews</th>\n",
       "      <th>is_athlete</th>\n",
       "      <th>dayofyear</th>\n",
       "    </tr>\n",
       "  </thead>\n",
       "  <tbody>\n",
       "    <tr>\n",
       "      <th>0</th>\n",
       "      <td>4848272</td>\n",
       "      <td>Donald Trump</td>\n",
       "      <td>POLITICIAN</td>\n",
       "      <td>M</td>\n",
       "      <td>True</td>\n",
       "      <td>United States</td>\n",
       "      <td>1946-06-14</td>\n",
       "      <td>1946.0</td>\n",
       "      <td>10221172.0</td>\n",
       "      <td>0</td>\n",
       "      <td>14</td>\n",
       "    </tr>\n",
       "    <tr>\n",
       "      <th>1</th>\n",
       "      <td>13623554</td>\n",
       "      <td>Che Guevara</td>\n",
       "      <td>SOCIAL ACTIVIST</td>\n",
       "      <td>M</td>\n",
       "      <td>False</td>\n",
       "      <td>Argentina</td>\n",
       "      <td>1928-06-14</td>\n",
       "      <td>1928.0</td>\n",
       "      <td>3660108.0</td>\n",
       "      <td>0</td>\n",
       "      <td>14</td>\n",
       "    </tr>\n",
       "    <tr>\n",
       "      <th>2</th>\n",
       "      <td>1687680</td>\n",
       "      <td>Pope Francis</td>\n",
       "      <td>RELIGIOUS FIGURE</td>\n",
       "      <td>M</td>\n",
       "      <td>True</td>\n",
       "      <td>Argentina</td>\n",
       "      <td>1936-12-17</td>\n",
       "      <td>1936.0</td>\n",
       "      <td>3893767.0</td>\n",
       "      <td>0</td>\n",
       "      <td>17</td>\n",
       "    </tr>\n",
       "    <tr>\n",
       "      <th>3</th>\n",
       "      <td>21492751</td>\n",
       "      <td>Nelson Mandela</td>\n",
       "      <td>SOCIAL ACTIVIST</td>\n",
       "      <td>M</td>\n",
       "      <td>False</td>\n",
       "      <td>South Africa</td>\n",
       "      <td>1918-07-18</td>\n",
       "      <td>1918.0</td>\n",
       "      <td>4359499.0</td>\n",
       "      <td>0</td>\n",
       "      <td>18</td>\n",
       "    </tr>\n",
       "    <tr>\n",
       "      <th>4</th>\n",
       "      <td>63747</td>\n",
       "      <td>Muhammad Ali</td>\n",
       "      <td>BOXER</td>\n",
       "      <td>M</td>\n",
       "      <td>False</td>\n",
       "      <td>United States</td>\n",
       "      <td>1942-01-17</td>\n",
       "      <td>1942.0</td>\n",
       "      <td>3940228.0</td>\n",
       "      <td>1</td>\n",
       "      <td>17</td>\n",
       "    </tr>\n",
       "    <tr>\n",
       "      <th>...</th>\n",
       "      <td>...</td>\n",
       "      <td>...</td>\n",
       "      <td>...</td>\n",
       "      <td>...</td>\n",
       "      <td>...</td>\n",
       "      <td>...</td>\n",
       "      <td>...</td>\n",
       "      <td>...</td>\n",
       "      <td>...</td>\n",
       "      <td>...</td>\n",
       "      <td>...</td>\n",
       "    </tr>\n",
       "    <tr>\n",
       "      <th>49218</th>\n",
       "      <td>56315624</td>\n",
       "      <td>Red Gerard</td>\n",
       "      <td>ATHLETE</td>\n",
       "      <td>M</td>\n",
       "      <td>True</td>\n",
       "      <td>United States</td>\n",
       "      <td>2000-06-29</td>\n",
       "      <td>2000.0</td>\n",
       "      <td>1630.0</td>\n",
       "      <td>1</td>\n",
       "      <td>29</td>\n",
       "    </tr>\n",
       "    <tr>\n",
       "      <th>49219</th>\n",
       "      <td>44634432</td>\n",
       "      <td>Abbey Weitzeil</td>\n",
       "      <td>SWIMMER</td>\n",
       "      <td>F</td>\n",
       "      <td>True</td>\n",
       "      <td>United States</td>\n",
       "      <td>1996-12-03</td>\n",
       "      <td>1996.0</td>\n",
       "      <td>528.0</td>\n",
       "      <td>1</td>\n",
       "      <td>3</td>\n",
       "    </tr>\n",
       "    <tr>\n",
       "      <th>49220</th>\n",
       "      <td>34437098</td>\n",
       "      <td>Michelle Creber</td>\n",
       "      <td>ACTOR</td>\n",
       "      <td>F</td>\n",
       "      <td>True</td>\n",
       "      <td>Canada</td>\n",
       "      <td>1999-09-07</td>\n",
       "      <td>1999.0</td>\n",
       "      <td>463.0</td>\n",
       "      <td>0</td>\n",
       "      <td>7</td>\n",
       "    </tr>\n",
       "    <tr>\n",
       "      <th>49221</th>\n",
       "      <td>36605204</td>\n",
       "      <td>Constantine Louloudis</td>\n",
       "      <td>ATHLETE</td>\n",
       "      <td>M</td>\n",
       "      <td>True</td>\n",
       "      <td>United Kingdom</td>\n",
       "      <td>1991-09-15</td>\n",
       "      <td>1991.0</td>\n",
       "      <td>403.0</td>\n",
       "      <td>1</td>\n",
       "      <td>15</td>\n",
       "    </tr>\n",
       "    <tr>\n",
       "      <th>49222</th>\n",
       "      <td>41147956</td>\n",
       "      <td>Katy Marchant</td>\n",
       "      <td>CYCLIST</td>\n",
       "      <td>F</td>\n",
       "      <td>True</td>\n",
       "      <td>United Kingdom</td>\n",
       "      <td>1993-01-30</td>\n",
       "      <td>1993.0</td>\n",
       "      <td>466.0</td>\n",
       "      <td>1</td>\n",
       "      <td>30</td>\n",
       "    </tr>\n",
       "  </tbody>\n",
       "</table>\n",
       "<p>49223 rows × 11 columns</p>\n",
       "</div>"
      ],
      "text/plain": [
       "             id                   name        occupation gender  alive  \\\n",
       "0       4848272           Donald Trump        POLITICIAN      M   True   \n",
       "1      13623554            Che Guevara   SOCIAL ACTIVIST      M  False   \n",
       "2       1687680           Pope Francis  RELIGIOUS FIGURE      M   True   \n",
       "3      21492751         Nelson Mandela   SOCIAL ACTIVIST      M  False   \n",
       "4         63747           Muhammad Ali             BOXER      M  False   \n",
       "...         ...                    ...               ...    ...    ...   \n",
       "49218  56315624             Red Gerard           ATHLETE      M   True   \n",
       "49219  44634432         Abbey Weitzeil           SWIMMER      F   True   \n",
       "49220  34437098        Michelle Creber             ACTOR      F   True   \n",
       "49221  36605204  Constantine Louloudis           ATHLETE      M   True   \n",
       "49222  41147956          Katy Marchant           CYCLIST      F   True   \n",
       "\n",
       "       bplace_country  birthdate  birthyear   pageviews  is_athlete  dayofyear  \n",
       "0       United States 1946-06-14     1946.0  10221172.0           0         14  \n",
       "1           Argentina 1928-06-14     1928.0   3660108.0           0         14  \n",
       "2           Argentina 1936-12-17     1936.0   3893767.0           0         17  \n",
       "3        South Africa 1918-07-18     1918.0   4359499.0           0         18  \n",
       "4       United States 1942-01-17     1942.0   3940228.0           1         17  \n",
       "...               ...        ...        ...         ...         ...        ...  \n",
       "49218   United States 2000-06-29     2000.0      1630.0           1         29  \n",
       "49219   United States 1996-12-03     1996.0       528.0           1          3  \n",
       "49220          Canada 1999-09-07     1999.0       463.0           0          7  \n",
       "49221  United Kingdom 1991-09-15     1991.0       403.0           1         15  \n",
       "49222  United Kingdom 1993-01-30     1993.0       466.0           1         30  \n",
       "\n",
       "[49223 rows x 11 columns]"
      ]
     },
     "execution_count": 56,
     "metadata": {},
     "output_type": "execute_result"
    }
   ],
   "source": [
    "df_world"
   ]
  },
  {
   "cell_type": "markdown",
   "metadata": {},
   "source": [
    "**5.3** For each country:\n",
    "- Create a training set with 80% of the individuals and a test set with the remaining 20%;\n",
    "- Train a random forest model (using `sklearn`, you can use the default parameters) to predict whether an individual is an athlete or not based on: 1) the day of the year they were born `dayofyear`; 2) the year they were born (e.g., 1964, year should be a numerical variable) and 3) their gender.\n",
    "- report the precision of your classifier for each country."
   ]
  },
  {
   "cell_type": "code",
   "execution_count": 57,
   "metadata": {},
   "outputs": [],
   "source": [
    "df_world['year'] = df_world['birthdate'].dt.year\n",
    "# change categorical information of gender to 0 for women 1 for men\n",
    "df_world['gender'] = df_world['gender'].apply(lambda y: 1 if y == 'M' else 0)"
   ]
  },
  {
   "cell_type": "code",
   "execution_count": 58,
   "metadata": {},
   "outputs": [],
   "source": [
    "# train and test set - standard split\n",
    "X = df_world[['dayofyear', 'year', 'gender']]\n",
    "y = df_world['is_athlete']\n",
    "X_train,X_test,y_train,y_test=train_test_split(X,y,test_size=0.2)"
   ]
  },
  {
   "cell_type": "code",
   "execution_count": 59,
   "metadata": {},
   "outputs": [],
   "source": [
    "from sklearn.ensemble import RandomForestClassifier\n",
    "\n",
    "# create a classifier using random forest classifier\n",
    "clf=RandomForestClassifier()\n",
    "\n",
    "# train on our training set \n",
    "clf.fit(X_train,y_train)\n",
    "\n",
    "# predict on our test set\n",
    "y_pred=clf.predict(X_test)"
   ]
  },
  {
   "cell_type": "code",
   "execution_count": 60,
   "metadata": {},
   "outputs": [
    {
     "name": "stdout",
     "output_type": "stream",
     "text": [
      "Accuracy of our Random Forest Classifier: 0.7217877094972067\n"
     ]
    }
   ],
   "source": [
    "from sklearn import metrics\n",
    "# Get the model accuracy\n",
    "print(\"Accuracy of our Random Forest Classifier:\",metrics.accuracy_score(y_test, y_pred))"
   ]
  },
  {
   "cell_type": "markdown",
   "metadata": {},
   "source": [
    "classifier per country"
   ]
  },
  {
   "cell_type": "code",
   "execution_count": 61,
   "metadata": {},
   "outputs": [],
   "source": [
    "countries=df_world['bplace_country'].unique().tolist()"
   ]
  },
  {
   "cell_type": "code",
   "execution_count": 62,
   "metadata": {},
   "outputs": [
    {
     "name": "stdout",
     "output_type": "stream",
     "text": [
      "Accuracy of our Random Forest Classifier for United States: 0.8211946050096339\n",
      "Accuracy of our Random Forest Classifier for Argentina: 0.7454545454545455\n",
      "Accuracy of our Random Forest Classifier for South Africa: 0.7755102040816326\n",
      "Accuracy of our Random Forest Classifier for Spain: 0.7077363896848138\n",
      "Accuracy of our Random Forest Classifier for Mexico: 0.684931506849315\n",
      "Accuracy of our Random Forest Classifier for United Kingdom: 0.7167042889390519\n",
      "Accuracy of our Random Forest Classifier for Poland: 0.671875\n",
      "Accuracy of our Random Forest Classifier for Russia: 0.6666666666666666\n",
      "Accuracy of our Random Forest Classifier for Brazil: 0.8016528925619835\n",
      "Accuracy of our Random Forest Classifier for France: 0.7551867219917012\n",
      "Accuracy of our Random Forest Classifier for Germany: 0.6735537190082644\n",
      "Accuracy of our Random Forest Classifier for Romania: 0.5866666666666667\n",
      "Accuracy of our Random Forest Classifier for India: 0.9352941176470588\n",
      "Accuracy of our Random Forest Classifier for Italy: 0.711864406779661\n",
      "Accuracy of our Random Forest Classifier for Ukraine: 0.6460176991150443\n",
      "Accuracy of our Random Forest Classifier for Japan: 0.8220164609053497\n",
      "Accuracy of our Random Forest Classifier for China: 0.7567567567567568\n",
      "Accuracy of our Random Forest Classifier for Belgium: 0.6880733944954128\n",
      "Accuracy of our Random Forest Classifier for Czechia: 0.76\n",
      "Accuracy of our Random Forest Classifier for Austria: 0.7211538461538461\n",
      "Accuracy of our Random Forest Classifier for Sweden: 0.6538461538461539\n",
      "Accuracy of our Random Forest Classifier for Iran: 0.8333333333333334\n",
      "Accuracy of our Random Forest Classifier for Netherlands: 0.725609756097561\n",
      "Accuracy of our Random Forest Classifier for Hungary: 0.5903614457831325\n",
      "Accuracy of our Random Forest Classifier for Serbia: 0.7432432432432432\n",
      "Accuracy of our Random Forest Classifier for Portugal: 0.8103448275862069\n",
      "Accuracy of our Random Forest Classifier for Turkey: 0.7424242424242424\n",
      "Accuracy of our Random Forest Classifier for Norway: 0.6226415094339622\n",
      "Accuracy of our Random Forest Classifier for Israel: 0.8958333333333334\n",
      "Accuracy of our Random Forest Classifier for Canada: 0.6733668341708543\n",
      "Accuracy of our Random Forest Classifier for Ireland: 0.7222222222222222\n",
      "Accuracy of our Random Forest Classifier for Finland: 0.6533333333333333\n",
      "Accuracy of our Random Forest Classifier for Bosnia and Herzegovina: 0.7450980392156863\n",
      "Accuracy of our Random Forest Classifier for South Korea: 0.6015625\n",
      "Accuracy of our Random Forest Classifier for Uruguay: 0.8076923076923077\n",
      "Accuracy of our Random Forest Classifier for Switzerland: 0.7956989247311828\n",
      "Accuracy of our Random Forest Classifier for Greece: 0.7843137254901961\n",
      "Accuracy of our Random Forest Classifier for Croatia: 0.7951807228915663\n",
      "Accuracy of our Random Forest Classifier for Australia: 0.5869565217391305\n",
      "Accuracy of our Random Forest Classifier for Denmark: 0.6777777777777778\n"
     ]
    }
   ],
   "source": [
    "# the instructions says to do it per country so we took the previous steps and meshed them into one \n",
    "for country in countries:\n",
    "    curr = df_world.loc[df_world.bplace_country==country]\n",
    "    X = curr[['dayofyear', 'year', 'gender']]\n",
    "    y = curr['is_athlete']\n",
    "    X_train,X_test,y_train,y_test=train_test_split(X,y,test_size=0.2)\n",
    "    clf=RandomForestClassifier()\n",
    "    # train on our training set \n",
    "    clf.fit(X_train,y_train)\n",
    "    # predict on our test set\n",
    "    y_pred=clf.predict(X_test)\n",
    "    print(\"Accuracy of our Random Forest Classifier for {}: {}\".format(country, metrics.accuracy_score(y_test, y_pred)))\n"
   ]
  },
  {
   "cell_type": "markdown",
   "metadata": {},
   "source": [
    "**5.4** Estimate the percentage of `athlete` individuals per country (simply by counting in the data)."
   ]
  },
  {
   "cell_type": "code",
   "execution_count": 63,
   "metadata": {},
   "outputs": [
    {
     "name": "stdout",
     "output_type": "stream",
     "text": [
      "Percentage of athelets in United States: 0.1603082851637765\n",
      "Percentage of athelets in Argentina: 0.728380024360536\n",
      "Percentage of athelets in South Africa: 0.45041322314049587\n",
      "Percentage of athelets in Spain: 0.6517498565691336\n",
      "Percentage of athelets in Mexico: 0.41597796143250687\n",
      "Percentage of athelets in United Kingdom: 0.31179394487121553\n",
      "Percentage of athelets in Poland: 0.4474097331240188\n",
      "Percentage of athelets in Russia: 0.48035714285714287\n",
      "Percentage of athelets in Brazil: 0.8311258278145696\n",
      "Percentage of athelets in France: 0.45802161263507896\n",
      "Percentage of athelets in Germany: 0.49793046357615894\n",
      "Percentage of athelets in Romania: 0.5683646112600537\n",
      "Percentage of athelets in India: 0.05535924617196702\n",
      "Percentage of athelets in Italy: 0.4714527981910684\n",
      "Percentage of athelets in Ukraine: 0.43493761140819964\n",
      "Percentage of athelets in Japan: 0.8490527182866557\n",
      "Percentage of athelets in China: 0.38198198198198197\n",
      "Percentage of athelets in Belgium: 0.6158088235294118\n",
      "Percentage of athelets in Czechia: 0.64\n",
      "Percentage of athelets in Austria: 0.527027027027027\n",
      "Percentage of athelets in Sweden: 0.5164835164835165\n",
      "Percentage of athelets in Iran: 0.4041666666666667\n",
      "Percentage of athelets in Netherlands: 0.6515892420537898\n",
      "Percentage of athelets in Hungary: 0.5072815533980582\n",
      "Percentage of athelets in Serbia: 0.7138964577656676\n",
      "Percentage of athelets in Portugal: 0.65625\n",
      "Percentage of athelets in Turkey: 0.345565749235474\n",
      "Percentage of athelets in Norway: 0.5928030303030303\n",
      "Percentage of athelets in Israel: 0.21008403361344538\n",
      "Percentage of athelets in Canada: 0.3081570996978852\n",
      "Percentage of athelets in Ireland: 0.2947761194029851\n",
      "Percentage of athelets in Finland: 0.5026881720430108\n",
      "Percentage of athelets in Bosnia and Herzegovina: 0.5714285714285714\n",
      "Percentage of athelets in South Korea: 0.3092621664050236\n",
      "Percentage of athelets in Uruguay: 0.8404669260700389\n",
      "Percentage of athelets in Switzerland: 0.5818965517241379\n",
      "Percentage of athelets in Greece: 0.5215686274509804\n",
      "Percentage of athelets in Croatia: 0.7301204819277108\n",
      "Percentage of athelets in Australia: 0.5174927113702624\n",
      "Percentage of athelets in Denmark: 0.5711111111111111\n"
     ]
    }
   ],
   "source": [
    "for country in countries:\n",
    "    curr = df_world.loc[df_world.bplace_country==country]\n",
    "    percentage = curr['is_athlete'].sum()/len(curr)\n",
    "    print(\"Percentage of athelets in {}: {}\".format(country, percentage))"
   ]
  },
  {
   "cell_type": "markdown",
   "metadata": {},
   "source": [
    "**5.5** **Discuss:** how can the results from **5.4** impact the metric (precision) used in **5.3**? What could be a better suited metric to use here?"
   ]
  },
  {
   "cell_type": "markdown",
   "metadata": {},
   "source": []
  },
  {
   "cell_type": "markdown",
   "metadata": {},
   "source": [
    "**5.6** Repeat the procedure done in **5.3**, but now calculate the metric you proposed in **5.5**."
   ]
  },
  {
   "cell_type": "code",
   "execution_count": null,
   "metadata": {},
   "outputs": [],
   "source": []
  },
  {
   "cell_type": "markdown",
   "metadata": {},
   "source": [
    "**5.7** **Discuss:** according to this analysis, in which other countries might you be able to use the date of birth to recruit good athletes? Justify."
   ]
  },
  {
   "cell_type": "markdown",
   "metadata": {},
   "source": []
  },
  {
   "cell_type": "code",
   "execution_count": null,
   "metadata": {},
   "outputs": [],
   "source": []
  }
 ],
 "metadata": {
  "kernelspec": {
   "display_name": "Python 3",
   "language": "python",
   "name": "python3"
  },
  "language_info": {
   "codemirror_mode": {
    "name": "ipython",
    "version": 3
   },
   "file_extension": ".py",
   "mimetype": "text/x-python",
   "name": "python",
   "nbconvert_exporter": "python",
   "pygments_lexer": "ipython3",
   "version": "3.9.13"
  },
  "vscode": {
   "interpreter": {
    "hash": "b47ca7d216b8a465b979ff7f012da33d157a8eca88a6176851bc787c68093159"
   }
  }
 },
 "nbformat": 4,
 "nbformat_minor": 5
}
