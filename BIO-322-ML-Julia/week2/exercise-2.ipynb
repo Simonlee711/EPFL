{
 "cells": [
  {
   "cell_type": "markdown",
   "metadata": {},
   "source": [
    "# Exercises - Week 2 - Supervised Learning\n",
    "#### Simon Lee, BIO-322, Machine Learning for Bioengineers, Winter 2022"
   ]
  },
  {
   "cell_type": "markdown",
   "metadata": {},
   "source": [
    "# Conceptual"
   ]
  },
  {
   "cell_type": "markdown",
   "metadata": {},
   "source": [
    "### Exercise 1\n",
    "\n",
    "We have some training data $$((x_1 = 0, y_1 = -1), (x_2 = 2, y_2 = 4),(x_3 = 2, y_3 = 3))$$ and a family of probability densities\n",
    "\n",
    "$$ \n",
    "(p(y|x) = \\frac1{\\sqrt{2\\pi\\sigma^2}}\\exp\\left(-\\frac{(y - \\theta_0 - \\theta_1 x)^2}{2\\sigma^2}\\right))\n",
    "$$\n",
    "   \n",
    "   - Write the log-likelihood function of the parameters $\\theta_0$ and $\\theta_1$\n",
    "     for this data and model.\n",
    "   - Find the parameters $\\hat\\theta_0$ and $\\hat\\theta_1$ that maximize the log-likelihood function. *Hint*: You do not need to solve for the optimal parameters analytically; compare the loss function you derived in the previous step to the one we obtained in the lecture in the first blackboard example and use the fact that we know the optimum for the blackboard example.\n",
    "   - Show for general training data $((x_1, y_1), (x_2, y_2), \\ldots, (x_n, y_n))$ that the log-likelihood function is maximized by the same $\\hat\\theta$ that minimizes the loss function of linear regression.\n",
    "\n",
    "### Solution\n",
    "\n",
    "$$\n",
    "\\begin{align}\n",
    "\\log \\ell(\\theta) &= \\log\\ell(\\theta_0, \\theta_1)\\\\\n",
    "&=\\sum_{i=1}^3\\log p(y_i|x_i, \\theta_0, \\theta_1)\\\\\n",
    "&=\\sum_{i=1}^3\\log\\left(\\frac1{\\sqrt{2\\pi\\sigma^2}}\\exp\\left(-\\frac{(y_i - \\theta_0 - \\theta_1 x_i)^2}{2\\sigma^2}\\right)\\right)\\\\\n",
    "&=\\sum_{i=1}^3 - \\log\\left(\\sqrt{2\\pi\\sigma^2}\\right)-\\frac{(y_i - \\theta_0 - \\theta_1 x_i)^2}{2\\sigma^2}\\\\\n",
    "&=-3\\log\\left(\\sqrt{2\\pi\\sigma^2}\\right) - \\frac1{2\\sigma^2}\\big((-1 - \\theta_0)^2 + (4 - \\theta_0 - 2\\theta_1)^2 + (3 - \\theta_0 - 2\\theta_1)^2\\big)\n",
    "\\end{align}\n",
    "$$\n",
    "The maximum of this function is achieved at $\\hat\\theta_0 = -1, \\hat\\theta_1 = 2.25$.\n",
    "\n",
    "In general we find the following:\n",
    "$$\n",
    "\\begin{align}\n",
    "\\log \\ell(\\theta) &= \\log\\ell(\\theta_0, \\theta_1)\\\\\n",
    "&=\\sum_{i=1}^n\\log p(y_i|x_i, \\theta_0, \\theta_1)\\\\\n",
    "&=\\sum_{i=1}^n\\log\\left(\\frac1{\\sqrt{2\\pi\\sigma^2}}\\exp\\left(-\\frac{(y_i - \\theta_0 - \\theta_1 x_i)^2}{2\\sigma^2}\\right)\\right)\\\\\n",
    "&=\\sum_{i=1}^n - \\underbrace{\\log\\left(\\sqrt{2\\pi\\sigma^2}\\right)}_{[\\scriptsize independent of data}]-\\frac{(y_i - \\theta_0 - \\theta_1 x_i)^2}{2\\sigma^2}\\\\\n",
    "&=c-\\frac1{2\\sigma^2}\\sum_{i=1}^n(y_i-\\theta_0-\\theta_1x_i)^2\n",
    "\\end{align}\n",
    "$$\n",
    "In the last line we introduced the constant $c = -\\sum_{i=1}^n\\log\\left(\\sqrt{2\\pi\\sigma^2}\\right)$.\n",
    "$$\n",
    "\\begin{align}\n",
    "    \\arg\\max_{\\theta_0, \\theta_1}\\log\\ell(\\theta_0, \\theta_1) &= \\arg\\max_{\\theta_0, \\theta_1}c-\\frac1{2\\sigma^2}\\sum_{i=1}^n(y_i-\\theta_0-\\theta_1x_i)^2\\\\\n",
    "    &\\scriptsize[we apply the rule: ]\\arg\\max_xf(x)+c=\\arg\\max_xf(x)\\normalsize\\\\\n",
    "    &=\\arg\\max_{\\theta_0, \\theta_1}-\\frac1{2\\sigma^2}\\sum_{i=1}^n(y_i-\\theta_0-\\theta_1x_i)^2\\\\\n",
    "    &\\scriptsize\\arg\\max_x -f(x) = \\arg\\min_x f(x)\\normalsize\\\\\n",
    "    &=\\arg\\min_{\\theta_0, \\theta_1}\\frac1{2\\sigma^2}\\sum_{i=1}^n(y_i-\\theta_0-\\theta_1x_i)^2\\\\\n",
    "    &\\scriptsize\\arg\\min_x af(x) =\\arg\\min_x bf(x)\\normalsize\\\\\n",
    "    &=\\arg\\min_{\\theta_0, \\theta_1}\\frac1n\\sum_{i=1}^n(y_i-\\theta_0-\\theta_1x_i)^2\\\\\n",
    "\\end{align}\n",
    "$$\n",
    "**Conclusion** We find that the maximum likelihood solution for this family of\n",
    "    probability densities is equal to the solution of the mean-squared error\n",
    "    minimizing machine.\n",
    "\n",
    "### Exercise 2\n",
    "   Explain whether each scenario is a classification or regression problem, and\n",
    "   indicate whether we are most interested in inference/interpretation or prediction.\n",
    "   Finally, provide $n$ and $p$.\n",
    "   - We collect a set of data on the top 500 firms in the US. For each firm we\n",
    "     record profit, number of employees, industry and the CEO salary. We are\n",
    "     interested in understanding which factors affect CEO salary.\n",
    "   - We are considering launching a new product and wish to know\n",
    "     whether it will be a success or a failure. We collect data on 20\n",
    "     similar products that were previously launched. For each product\n",
    "     we have recorded whether it was a success or failure, price\n",
    "     charged for the product, marketing budget, competition price,\n",
    "     and ten other variables.\n",
    "   - We are interested in predicting the % change in the USD/Euro\n",
    "     exchange rate in relation to the weekly changes in the world\n",
    "     stock markets. Hence we collect weekly data for all of 2012. For\n",
    "     each week we record the % change in the USD/Euro, the %\n",
    "     change in the US market, the % change in the British market,\n",
    "     and the % change in the German market.\n",
    "\n",
    "### Solution\n",
    "1. Regression and inference with $n = 500$ and $p = 3$.\n",
    "1. Classification and prediction with $n = 20$ and $p=13$.\n",
    "2. Regression and prediction with $n = 52$ and $p = 3$.\n",
    "\n",
    "### Exercise 3\n",
    "Take one of the examples of supervised machine learning applications\n",
    "   discussed in the introductory lecture of this course. Discuss with a colleague\n",
    "   - the data generating process for X\n",
    "   - the data generating process for Y|X\n",
    "   - where the noise comes from\n",
    "   - a distribution that could be used to model Y|X\n",
    "   \n",
    "### Solution\n",
    "We take here the example of cancer detection.\n",
    "1. The generating process of images X are healthy patients and patients that get cancer and a standardized protocol to optain microscopy images of human tissue.\n",
    "2. The generating process of labels Y|X are doctors that look at the images and decide whether they see cancerous tissue in the center of the image.\n",
    "3. We perceive as noise all the uncontrolled and unmeasured factors that influence the decision of each doctor, like their training, how attentive they are when looking at the images, etc.\n",
    "4. This is a binary decision classification task that could be modeled with a Bernoulli distribution.\n",
    "\""
   ]
  },
  {
   "cell_type": "markdown",
   "metadata": {},
   "source": [
    "# Applied\n",
    "#### Exercise 4\n",
    "In this exercise we construct an example, where the response looks noisy, if we consider only some predictors, although the response would be deterministic if we consider all predictors. For this example we assume that the time it takes for a feather to reach the ground when dropping it from one meter is completely determined by the following factors: fluffiness of the feather ($f \\in [1, 4]$), shape of the feather ($s = \\{[s, e]\\}$, for spherical or elongated), air density ($ρ ∈ [1.1, 1.4]$ kg/m³), wind speed ($w ∈ [0, 5]$ m/s). We assume that time it takes to reach the ground is deterministically given by the function\n",
    "$$\n",
    "g(f, s, ρ, w) = ρ + 0.1f^2 + 0.3w + 2χ(s = [s]) + 0.5χ(s = [e])\n",
    "$$\n",
    "where we use the indicator function $χ([true]) = 1$ and $χ([false]) = 0$.\n",
    "1. Generate an artificial dataset that corresponds to 500 experiments of dropping different feathers under different conditions. *Hints:* you can sample from a uniform distribution over the interval $[a, b]$ using either $rand(500)*(b-a) .+ a$ or $rand(Uniform(a, b), 500)$ and you can sample categorical values in the same way as we did it in the first week when sampling column C in exercise 1. To implement the indicator function you can use for example the syntax $(s == :s)$ and $(s == :e)$.\n",
    "2. Create a scatter plot with fluffiness of the feather on the horizontal axis and time to reach the ground on the vertical axis.\n",
    "3. Argue, why it looks like the time to reach the ground depended probabilistically on the fluffiness, although we used a deterministic function to compute the time to reach the ground. *Optional*: If you feel courageous, use a mathematical argument (marginalization) that uses the fact that $P(t|f, s, \\rho, w) = \\delta(t - g(f, s, \\rho, w))$ is deterministic and shows that $P(t|f)$ is a non-degenerate conditional distribution."
   ]
  },
  {
   "cell_type": "code",
   "execution_count": 17,
   "metadata": {},
   "outputs": [
    {
     "name": "stderr",
     "output_type": "stream",
     "text": [
      "\u001b[32m\u001b[1m  Activating\u001b[22m\u001b[39m project at `~/.julia/dev/MLCourse`\n"
     ]
    }
   ],
   "source": [
    "using Pkg; Pkg.activate(joinpath(Pkg.devdir(), \"MLCourse\")) # loads the course environment"
   ]
  },
  {
   "cell_type": "code",
   "execution_count": 18,
   "metadata": {},
   "outputs": [],
   "source": [
    "using Distributions, Plots, DataFrames"
   ]
  },
  {
   "cell_type": "code",
   "execution_count": 19,
   "metadata": {},
   "outputs": [
    {
     "data": {
      "text/plain": [
       "g (generic function with 1 method)"
      ]
     },
     "execution_count": 19,
     "metadata": {},
     "output_type": "execute_result"
    }
   ],
   "source": [
    "g(f, s, rho, w) = rho + .1f^2 + .3w + 2*(s == :s) + .5*(s == :e)"
   ]
  },
  {
   "cell_type": "code",
   "execution_count": 20,
   "metadata": {},
   "outputs": [
    {
     "data": {
      "text/html": [
       "<div class=\"data-frame\"><p>500 rows × 4 columns</p><table class=\"data-frame\"><thead><tr><th></th><th>f</th><th>s</th><th>rho</th><th>w</th></tr><tr><th></th><th title=\"Float64\">Float64</th><th title=\"Symbol\">Symbol</th><th title=\"Float64\">Float64</th><th title=\"Float64\">Float64</th></tr></thead><tbody><tr><th>1</th><td>1.71213</td><td>e</td><td>1.31077</td><td>3.62116</td></tr><tr><th>2</th><td>3.7785</td><td>e</td><td>1.26677</td><td>1.35986</td></tr><tr><th>3</th><td>3.80902</td><td>e</td><td>1.39507</td><td>1.799</td></tr><tr><th>4</th><td>1.10381</td><td>s</td><td>1.23718</td><td>1.95716</td></tr><tr><th>5</th><td>1.28572</td><td>e</td><td>1.35439</td><td>1.84497</td></tr><tr><th>6</th><td>2.3265</td><td>e</td><td>1.32077</td><td>3.41436</td></tr><tr><th>7</th><td>2.83105</td><td>s</td><td>1.15269</td><td>1.08656</td></tr><tr><th>8</th><td>2.51909</td><td>s</td><td>1.17356</td><td>1.93425</td></tr><tr><th>9</th><td>2.82988</td><td>s</td><td>1.35235</td><td>1.75226</td></tr><tr><th>10</th><td>3.8446</td><td>s</td><td>1.38459</td><td>3.17345</td></tr><tr><th>11</th><td>2.39945</td><td>e</td><td>1.29057</td><td>0.0267118</td></tr><tr><th>12</th><td>1.36778</td><td>s</td><td>1.25697</td><td>4.42463</td></tr><tr><th>13</th><td>1.18363</td><td>e</td><td>1.1988</td><td>4.32758</td></tr><tr><th>14</th><td>2.82024</td><td>e</td><td>1.12832</td><td>2.57388</td></tr><tr><th>15</th><td>3.21551</td><td>e</td><td>1.20899</td><td>2.23389</td></tr><tr><th>16</th><td>1.84987</td><td>e</td><td>1.102</td><td>1.91189</td></tr><tr><th>17</th><td>1.40293</td><td>e</td><td>1.33547</td><td>1.34675</td></tr><tr><th>18</th><td>2.58857</td><td>s</td><td>1.25957</td><td>0.76572</td></tr><tr><th>19</th><td>1.88656</td><td>e</td><td>1.20019</td><td>0.6728</td></tr><tr><th>20</th><td>3.20194</td><td>s</td><td>1.35637</td><td>3.10642</td></tr><tr><th>21</th><td>2.35144</td><td>s</td><td>1.18351</td><td>1.06541</td></tr><tr><th>22</th><td>3.12596</td><td>e</td><td>1.2666</td><td>4.4832</td></tr><tr><th>23</th><td>2.4974</td><td>e</td><td>1.37197</td><td>1.63337</td></tr><tr><th>24</th><td>2.09474</td><td>e</td><td>1.28077</td><td>0.435772</td></tr><tr><th>25</th><td>3.06739</td><td>e</td><td>1.22224</td><td>4.85318</td></tr><tr><th>26</th><td>2.45238</td><td>e</td><td>1.37556</td><td>0.458973</td></tr><tr><th>27</th><td>1.85045</td><td>s</td><td>1.37844</td><td>3.61453</td></tr><tr><th>28</th><td>2.19684</td><td>e</td><td>1.22113</td><td>4.03472</td></tr><tr><th>29</th><td>2.50288</td><td>s</td><td>1.27196</td><td>3.38944</td></tr><tr><th>30</th><td>2.94292</td><td>e</td><td>1.32167</td><td>0.954094</td></tr><tr><th>&vellip;</th><td>&vellip;</td><td>&vellip;</td><td>&vellip;</td><td>&vellip;</td></tr></tbody></table></div>"
      ],
      "text/latex": [
       "\\begin{tabular}{r|cccc}\n",
       "\t& f & s & rho & w\\\\\n",
       "\t\\hline\n",
       "\t& Float64 & Symbol & Float64 & Float64\\\\\n",
       "\t\\hline\n",
       "\t1 & 1.71213 & e & 1.31077 & 3.62116 \\\\\n",
       "\t2 & 3.7785 & e & 1.26677 & 1.35986 \\\\\n",
       "\t3 & 3.80902 & e & 1.39507 & 1.799 \\\\\n",
       "\t4 & 1.10381 & s & 1.23718 & 1.95716 \\\\\n",
       "\t5 & 1.28572 & e & 1.35439 & 1.84497 \\\\\n",
       "\t6 & 2.3265 & e & 1.32077 & 3.41436 \\\\\n",
       "\t7 & 2.83105 & s & 1.15269 & 1.08656 \\\\\n",
       "\t8 & 2.51909 & s & 1.17356 & 1.93425 \\\\\n",
       "\t9 & 2.82988 & s & 1.35235 & 1.75226 \\\\\n",
       "\t10 & 3.8446 & s & 1.38459 & 3.17345 \\\\\n",
       "\t11 & 2.39945 & e & 1.29057 & 0.0267118 \\\\\n",
       "\t12 & 1.36778 & s & 1.25697 & 4.42463 \\\\\n",
       "\t13 & 1.18363 & e & 1.1988 & 4.32758 \\\\\n",
       "\t14 & 2.82024 & e & 1.12832 & 2.57388 \\\\\n",
       "\t15 & 3.21551 & e & 1.20899 & 2.23389 \\\\\n",
       "\t16 & 1.84987 & e & 1.102 & 1.91189 \\\\\n",
       "\t17 & 1.40293 & e & 1.33547 & 1.34675 \\\\\n",
       "\t18 & 2.58857 & s & 1.25957 & 0.76572 \\\\\n",
       "\t19 & 1.88656 & e & 1.20019 & 0.6728 \\\\\n",
       "\t20 & 3.20194 & s & 1.35637 & 3.10642 \\\\\n",
       "\t21 & 2.35144 & s & 1.18351 & 1.06541 \\\\\n",
       "\t22 & 3.12596 & e & 1.2666 & 4.4832 \\\\\n",
       "\t23 & 2.4974 & e & 1.37197 & 1.63337 \\\\\n",
       "\t24 & 2.09474 & e & 1.28077 & 0.435772 \\\\\n",
       "\t25 & 3.06739 & e & 1.22224 & 4.85318 \\\\\n",
       "\t26 & 2.45238 & e & 1.37556 & 0.458973 \\\\\n",
       "\t27 & 1.85045 & s & 1.37844 & 3.61453 \\\\\n",
       "\t28 & 2.19684 & e & 1.22113 & 4.03472 \\\\\n",
       "\t29 & 2.50288 & s & 1.27196 & 3.38944 \\\\\n",
       "\t30 & 2.94292 & e & 1.32167 & 0.954094 \\\\\n",
       "\t$\\dots$ & $\\dots$ & $\\dots$ & $\\dots$ & $\\dots$ \\\\\n",
       "\\end{tabular}\n"
      ],
      "text/plain": [
       "\u001b[1m500×4 DataFrame\u001b[0m\n",
       "\u001b[1m Row \u001b[0m│\u001b[1m f       \u001b[0m\u001b[1m s      \u001b[0m\u001b[1m rho     \u001b[0m\u001b[1m w         \u001b[0m\n",
       "\u001b[1m     \u001b[0m│\u001b[90m Float64 \u001b[0m\u001b[90m Symbol \u001b[0m\u001b[90m Float64 \u001b[0m\u001b[90m Float64   \u001b[0m\n",
       "─────┼─────────────────────────────────────\n",
       "   1 │ 1.71213  e       1.31077  3.62116\n",
       "   2 │ 3.7785   e       1.26677  1.35986\n",
       "   3 │ 3.80902  e       1.39507  1.799\n",
       "   4 │ 1.10381  s       1.23718  1.95716\n",
       "   5 │ 1.28572  e       1.35439  1.84497\n",
       "   6 │ 2.3265   e       1.32077  3.41436\n",
       "   7 │ 2.83105  s       1.15269  1.08656\n",
       "   8 │ 2.51909  s       1.17356  1.93425\n",
       "   9 │ 2.82988  s       1.35235  1.75226\n",
       "  10 │ 3.8446   s       1.38459  3.17345\n",
       "  11 │ 2.39945  e       1.29057  0.0267118\n",
       "  ⋮  │    ⋮       ⋮        ⋮         ⋮\n",
       " 491 │ 3.79675  e       1.31004  3.95222\n",
       " 492 │ 1.26762  e       1.37592  2.34289\n",
       " 493 │ 2.21965  s       1.24823  3.50639\n",
       " 494 │ 1.23449  s       1.31025  2.35094\n",
       " 495 │ 3.89964  e       1.16648  2.45665\n",
       " 496 │ 2.42567  s       1.32821  1.46872\n",
       " 497 │ 3.79298  s       1.32213  4.85797\n",
       " 498 │ 3.77129  s       1.35228  4.90241\n",
       " 499 │ 2.22124  s       1.30518  3.46624\n",
       " 500 │ 1.88507  e       1.13953  4.86979\n",
       "\u001b[36m                           479 rows omitted\u001b[0m"
      ]
     },
     "execution_count": 20,
     "metadata": {},
     "output_type": "execute_result"
    }
   ],
   "source": [
    "data = DataFrame(f = rand(Uniform(1, 4), 500),\n",
    "                 s = rand((:s, :e), 500),\n",
    "                 rho = rand(Uniform(1.1, 1.4), 500),\n",
    "                 w = 5*rand(500))"
   ]
  },
  {
   "cell_type": "code",
   "execution_count": 21,
   "metadata": {},
   "outputs": [
    {
     "data": {
      "text/plain": [
       "500-element Vector{Float64}:\n",
       " 3.190259449386474\n",
       " 3.6024375848670163\n",
       " 3.885626673368015\n",
       " 3.9461627643241446\n",
       " 2.5731886479081534\n",
       " 3.3863385575093177\n",
       " 4.2801396562035325\n",
       " 4.388415440270556\n",
       " 4.678845511531167\n",
       " 5.814717305957118\n",
       " 2.374321837347618\n",
       " 4.771434833755717\n",
       " 3.137170089888219\n",
       " ⋮\n",
       " 3.365640163362621\n",
       " 5.790875903183446\n",
       " 4.437232952842271\n",
       " 2.7394777413161684\n",
       " 4.792832091791558\n",
       " 4.167930390244663\n",
       " 3.9241994798099187\n",
       " 4.3572177287159075\n",
       " 6.218188647427262\n",
       " 6.245271092881249\n",
       " 4.838445250277044\n",
       " 3.4558171149520405"
      ]
     },
     "execution_count": 21,
     "metadata": {},
     "output_type": "execute_result"
    }
   ],
   "source": [
    "data.time = g.(data.f, data.s, data.rho, data.w)"
   ]
  },
  {
   "cell_type": "code",
   "execution_count": 22,
   "metadata": {},
   "outputs": [
    {
     "data": {
      "image/svg+xml": "<?xml version=\"1.0\" encoding=\"utf-8\"?>\n<svg xmlns=\"http://www.w3.org/2000/svg\" xmlns:xlink=\"http://www.w3.org/1999/xlink\" width=\"600\" height=\"400\" viewBox=\"0 0 2400 1600\">\n<defs>\n  <clipPath id=\"clip710\">\n    <rect x=\"0\" y=\"0\" width=\"2400\" height=\"1600\"/>\n  </clipPath>\n</defs>\n<path clip-path=\"url(#clip710)\" d=\"\nM0 1600 L2400 1600 L2400 0 L0 0  Z\n  \" fill=\"#ffffff\" fill-rule=\"evenodd\" fill-opacity=\"1\"/>\n<defs>\n  <clipPath id=\"clip711\">\n    <rect x=\"480\" y=\"0\" width=\"1681\" height=\"1600\"/>\n  </clipPath>\n</defs>\n<path clip-path=\"url(#clip710)\" d=\"\nM175.445 1423.18 L2352.76 1423.18 L2352.76 47.2441 L175.445 47.2441  Z\n  \" fill=\"#ffffff\" fill-rule=\"evenodd\" fill-opacity=\"1\"/>\n<defs>\n  <clipPath id=\"clip712\">\n    <rect x=\"175\" y=\"47\" width=\"2178\" height=\"1377\"/>\n  </clipPath>\n</defs>\n<polyline clip-path=\"url(#clip712)\" style=\"stroke:#000000; stroke-linecap:butt; stroke-linejoin:round; stroke-width:2; stroke-opacity:0.1; fill:none\" points=\"\n  234.731,1423.18 234.731,47.2441 \n  \"/>\n<polyline clip-path=\"url(#clip712)\" style=\"stroke:#000000; stroke-linecap:butt; stroke-linejoin:round; stroke-width:2; stroke-opacity:0.1; fill:none\" points=\"\n  921.924,1423.18 921.924,47.2441 \n  \"/>\n<polyline clip-path=\"url(#clip712)\" style=\"stroke:#000000; stroke-linecap:butt; stroke-linejoin:round; stroke-width:2; stroke-opacity:0.1; fill:none\" points=\"\n  1609.12,1423.18 1609.12,47.2441 \n  \"/>\n<polyline clip-path=\"url(#clip712)\" style=\"stroke:#000000; stroke-linecap:butt; stroke-linejoin:round; stroke-width:2; stroke-opacity:0.1; fill:none\" points=\"\n  2296.31,1423.18 2296.31,47.2441 \n  \"/>\n<polyline clip-path=\"url(#clip710)\" style=\"stroke:#000000; stroke-linecap:butt; stroke-linejoin:round; stroke-width:4; stroke-opacity:1; fill:none\" points=\"\n  175.445,1423.18 2352.76,1423.18 \n  \"/>\n<polyline clip-path=\"url(#clip710)\" style=\"stroke:#000000; stroke-linecap:butt; stroke-linejoin:round; stroke-width:4; stroke-opacity:1; fill:none\" points=\"\n  234.731,1423.18 234.731,1404.28 \n  \"/>\n<polyline clip-path=\"url(#clip710)\" style=\"stroke:#000000; stroke-linecap:butt; stroke-linejoin:round; stroke-width:4; stroke-opacity:1; fill:none\" points=\"\n  921.924,1423.18 921.924,1404.28 \n  \"/>\n<polyline clip-path=\"url(#clip710)\" style=\"stroke:#000000; stroke-linecap:butt; stroke-linejoin:round; stroke-width:4; stroke-opacity:1; fill:none\" points=\"\n  1609.12,1423.18 1609.12,1404.28 \n  \"/>\n<polyline clip-path=\"url(#clip710)\" style=\"stroke:#000000; stroke-linecap:butt; stroke-linejoin:round; stroke-width:4; stroke-opacity:1; fill:none\" points=\"\n  2296.31,1423.18 2296.31,1404.28 \n  \"/>\n<path clip-path=\"url(#clip710)\" d=\"M225.113 1481.64 L232.752 1481.64 L232.752 1455.28 L224.442 1456.95 L224.442 1452.69 L232.705 1451.02 L237.381 1451.02 L237.381 1481.64 L245.02 1481.64 L245.02 1485.58 L225.113 1485.58 L225.113 1481.64 Z\" fill=\"#000000\" fill-rule=\"evenodd\" fill-opacity=\"1\" /><path clip-path=\"url(#clip710)\" d=\"M916.577 1481.64 L932.897 1481.64 L932.897 1485.58 L910.952 1485.58 L910.952 1481.64 Q913.614 1478.89 918.198 1474.26 Q922.804 1469.61 923.985 1468.27 Q926.23 1465.74 927.11 1464.01 Q928.012 1462.25 928.012 1460.56 Q928.012 1457.8 926.068 1456.07 Q924.147 1454.33 921.045 1454.33 Q918.846 1454.33 916.392 1455.09 Q913.962 1455.86 911.184 1457.41 L911.184 1452.69 Q914.008 1451.55 916.462 1450.97 Q918.915 1450.39 920.952 1450.39 Q926.323 1450.39 929.517 1453.08 Q932.711 1455.77 932.711 1460.26 Q932.711 1462.39 931.901 1464.31 Q931.114 1466.2 929.008 1468.8 Q928.429 1469.47 925.327 1472.69 Q922.225 1475.88 916.577 1481.64 Z\" fill=\"#000000\" fill-rule=\"evenodd\" fill-opacity=\"1\" /><path clip-path=\"url(#clip710)\" d=\"M1613.37 1466.95 Q1616.72 1467.66 1618.6 1469.93 Q1620.5 1472.2 1620.5 1475.53 Q1620.5 1480.65 1616.98 1483.45 Q1613.46 1486.25 1606.98 1486.25 Q1604.8 1486.25 1602.49 1485.81 Q1600.19 1485.39 1597.74 1484.54 L1597.74 1480.02 Q1599.69 1481.16 1602 1481.74 Q1604.31 1482.32 1606.84 1482.32 Q1611.24 1482.32 1613.53 1480.58 Q1615.84 1478.84 1615.84 1475.53 Q1615.84 1472.48 1613.69 1470.77 Q1611.56 1469.03 1607.74 1469.03 L1603.71 1469.03 L1603.71 1465.19 L1607.93 1465.19 Q1611.38 1465.19 1613.2 1463.82 Q1615.03 1462.43 1615.03 1459.84 Q1615.03 1457.18 1613.13 1455.77 Q1611.26 1454.33 1607.74 1454.33 Q1605.82 1454.33 1603.62 1454.75 Q1601.42 1455.16 1598.78 1456.04 L1598.78 1451.88 Q1601.44 1451.14 1603.76 1450.77 Q1606.1 1450.39 1608.16 1450.39 Q1613.48 1450.39 1616.58 1452.83 Q1619.69 1455.23 1619.69 1459.35 Q1619.69 1462.22 1618.04 1464.21 Q1616.4 1466.18 1613.37 1466.95 Z\" fill=\"#000000\" fill-rule=\"evenodd\" fill-opacity=\"1\" /><path clip-path=\"url(#clip710)\" d=\"M2299.32 1455.09 L2287.52 1473.54 L2299.32 1473.54 L2299.32 1455.09 M2298.09 1451.02 L2303.97 1451.02 L2303.97 1473.54 L2308.9 1473.54 L2308.9 1477.43 L2303.97 1477.43 L2303.97 1485.58 L2299.32 1485.58 L2299.32 1477.43 L2283.72 1477.43 L2283.72 1472.92 L2298.09 1451.02 Z\" fill=\"#000000\" fill-rule=\"evenodd\" fill-opacity=\"1\" /><path clip-path=\"url(#clip710)\" d=\"M1141.27 1518.52 L1141.27 1523.39 L1135.67 1523.39 Q1132.52 1523.39 1131.28 1524.66 Q1130.07 1525.93 1130.07 1529.24 L1130.07 1532.4 L1139.71 1532.4 L1139.71 1536.95 L1130.07 1536.95 L1130.07 1568.04 L1124.18 1568.04 L1124.18 1536.95 L1118.58 1536.95 L1118.58 1532.4 L1124.18 1532.4 L1124.18 1529.91 Q1124.18 1523.96 1126.95 1521.26 Q1129.72 1518.52 1135.74 1518.52 L1141.27 1518.52 Z\" fill=\"#000000\" fill-rule=\"evenodd\" fill-opacity=\"1\" /><path clip-path=\"url(#clip710)\" d=\"M1146.18 1518.52 L1152.03 1518.52 L1152.03 1568.04 L1146.18 1568.04 L1146.18 1518.52 Z\" fill=\"#000000\" fill-rule=\"evenodd\" fill-opacity=\"1\" /><path clip-path=\"url(#clip710)\" d=\"M1163.68 1553.98 L1163.68 1532.4 L1169.54 1532.4 L1169.54 1553.75 Q1169.54 1558.81 1171.51 1561.36 Q1173.48 1563.87 1177.43 1563.87 Q1182.17 1563.87 1184.91 1560.85 Q1187.68 1557.83 1187.68 1552.61 L1187.68 1532.4 L1193.54 1532.4 L1193.54 1568.04 L1187.68 1568.04 L1187.68 1562.57 Q1185.55 1565.82 1182.71 1567.41 Q1179.91 1568.97 1176.19 1568.97 Q1170.05 1568.97 1166.86 1565.15 Q1163.68 1561.33 1163.68 1553.98 M1178.42 1531.54 L1178.42 1531.54 Z\" fill=\"#000000\" fill-rule=\"evenodd\" fill-opacity=\"1\" /><path clip-path=\"url(#clip710)\" d=\"M1223.65 1518.52 L1223.65 1523.39 L1218.04 1523.39 Q1214.89 1523.39 1213.65 1524.66 Q1212.44 1525.93 1212.44 1529.24 L1212.44 1532.4 L1222.09 1532.4 L1222.09 1536.95 L1212.44 1536.95 L1212.44 1568.04 L1206.55 1568.04 L1206.55 1536.95 L1200.95 1536.95 L1200.95 1532.4 L1206.55 1532.4 L1206.55 1529.91 Q1206.55 1523.96 1209.32 1521.26 Q1212.09 1518.52 1218.11 1518.52 L1223.65 1518.52 Z\" fill=\"#000000\" fill-rule=\"evenodd\" fill-opacity=\"1\" /><path clip-path=\"url(#clip710)\" d=\"M1246.59 1518.52 L1246.59 1523.39 L1240.99 1523.39 Q1237.84 1523.39 1236.6 1524.66 Q1235.39 1525.93 1235.39 1529.24 L1235.39 1532.4 L1245.04 1532.4 L1245.04 1536.95 L1235.39 1536.95 L1235.39 1568.04 L1229.5 1568.04 L1229.5 1536.95 L1223.9 1536.95 L1223.9 1532.4 L1229.5 1532.4 L1229.5 1529.91 Q1229.5 1523.96 1232.27 1521.26 Q1235.04 1518.52 1241.06 1518.52 L1246.59 1518.52 Z\" fill=\"#000000\" fill-rule=\"evenodd\" fill-opacity=\"1\" /><path clip-path=\"url(#clip710)\" d=\"M1251.5 1532.4 L1257.35 1532.4 L1257.35 1568.04 L1251.5 1568.04 L1251.5 1532.4 M1251.5 1518.52 L1257.35 1518.52 L1257.35 1525.93 L1251.5 1525.93 L1251.5 1518.52 Z\" fill=\"#000000\" fill-rule=\"evenodd\" fill-opacity=\"1\" /><path clip-path=\"url(#clip710)\" d=\"M1299.24 1546.53 L1299.24 1568.04 L1293.38 1568.04 L1293.38 1546.72 Q1293.38 1541.66 1291.41 1539.14 Q1289.44 1536.63 1285.49 1536.63 Q1280.75 1536.63 1278.01 1539.65 Q1275.27 1542.68 1275.27 1547.9 L1275.27 1568.04 L1269.38 1568.04 L1269.38 1532.4 L1275.27 1532.4 L1275.27 1537.93 Q1277.37 1534.72 1280.21 1533.13 Q1283.07 1531.54 1286.79 1531.54 Q1292.94 1531.54 1296.09 1535.36 Q1299.24 1539.14 1299.24 1546.53 Z\" fill=\"#000000\" fill-rule=\"evenodd\" fill-opacity=\"1\" /><path clip-path=\"url(#clip710)\" d=\"M1341.41 1548.76 L1341.41 1551.62 L1314.49 1551.62 Q1314.87 1557.67 1318.11 1560.85 Q1321.39 1564 1327.22 1564 Q1330.59 1564 1333.74 1563.17 Q1336.92 1562.35 1340.04 1560.69 L1340.04 1566.23 Q1336.89 1567.57 1333.58 1568.27 Q1330.27 1568.97 1326.87 1568.97 Q1318.34 1568.97 1313.34 1564 Q1308.37 1559.04 1308.37 1550.57 Q1308.37 1541.82 1313.08 1536.69 Q1317.83 1531.54 1325.85 1531.54 Q1333.04 1531.54 1337.21 1536.18 Q1341.41 1540.8 1341.41 1548.76 M1335.56 1547.04 Q1335.49 1542.23 1332.85 1539.37 Q1330.24 1536.5 1325.91 1536.5 Q1321.01 1536.5 1318.05 1539.27 Q1315.12 1542.04 1314.68 1547.07 L1335.56 1547.04 Z\" fill=\"#000000\" fill-rule=\"evenodd\" fill-opacity=\"1\" /><path clip-path=\"url(#clip710)\" d=\"M1373.75 1533.45 L1373.75 1538.98 Q1371.27 1537.71 1368.59 1537.07 Q1365.92 1536.44 1363.06 1536.44 Q1358.69 1536.44 1356.5 1537.77 Q1354.33 1539.11 1354.33 1541.79 Q1354.33 1543.82 1355.89 1545 Q1357.45 1546.15 1362.16 1547.2 L1364.17 1547.64 Q1370.41 1548.98 1373.02 1551.43 Q1375.66 1553.85 1375.66 1558.21 Q1375.66 1563.17 1371.71 1566.07 Q1367.8 1568.97 1360.92 1568.97 Q1358.06 1568.97 1354.94 1568.39 Q1351.85 1567.85 1348.41 1566.74 L1348.41 1560.69 Q1351.66 1562.38 1354.81 1563.24 Q1357.96 1564.07 1361.05 1564.07 Q1365.19 1564.07 1367.42 1562.66 Q1369.64 1561.23 1369.64 1558.65 Q1369.64 1556.27 1368.02 1554.99 Q1366.43 1553.72 1360.99 1552.54 L1358.95 1552.07 Q1353.51 1550.92 1351.09 1548.56 Q1348.67 1546.18 1348.67 1542.04 Q1348.67 1537.01 1352.23 1534.27 Q1355.8 1531.54 1362.36 1531.54 Q1365.6 1531.54 1368.47 1532.01 Q1371.33 1532.49 1373.75 1533.45 Z\" fill=\"#000000\" fill-rule=\"evenodd\" fill-opacity=\"1\" /><path clip-path=\"url(#clip710)\" d=\"M1407.71 1533.45 L1407.71 1538.98 Q1405.23 1537.71 1402.55 1537.07 Q1399.88 1536.44 1397.02 1536.44 Q1392.66 1536.44 1390.46 1537.77 Q1388.3 1539.11 1388.3 1541.79 Q1388.3 1543.82 1389.86 1545 Q1391.41 1546.15 1396.13 1547.2 L1398.13 1547.64 Q1404.37 1548.98 1406.98 1551.43 Q1409.62 1553.85 1409.62 1558.21 Q1409.62 1563.17 1405.67 1566.07 Q1401.76 1568.97 1394.88 1568.97 Q1392.02 1568.97 1388.9 1568.39 Q1385.81 1567.85 1382.38 1566.74 L1382.38 1560.69 Q1385.62 1562.38 1388.77 1563.24 Q1391.92 1564.07 1395.01 1564.07 Q1399.15 1564.07 1401.38 1562.66 Q1403.61 1561.23 1403.61 1558.65 Q1403.61 1556.27 1401.98 1554.99 Q1400.39 1553.72 1394.95 1552.54 L1392.91 1552.07 Q1387.47 1550.92 1385.05 1548.56 Q1382.63 1546.18 1382.63 1542.04 Q1382.63 1537.01 1386.19 1534.27 Q1389.76 1531.54 1396.32 1531.54 Q1399.56 1531.54 1402.43 1532.01 Q1405.29 1532.49 1407.71 1533.45 Z\" fill=\"#000000\" fill-rule=\"evenodd\" fill-opacity=\"1\" /><polyline clip-path=\"url(#clip712)\" style=\"stroke:#000000; stroke-linecap:butt; stroke-linejoin:round; stroke-width:2; stroke-opacity:0.1; fill:none\" points=\"\n  175.445,1343.44 2352.76,1343.44 \n  \"/>\n<polyline clip-path=\"url(#clip712)\" style=\"stroke:#000000; stroke-linecap:butt; stroke-linejoin:round; stroke-width:2; stroke-opacity:0.1; fill:none\" points=\"\n  175.445,1049.49 2352.76,1049.49 \n  \"/>\n<polyline clip-path=\"url(#clip712)\" style=\"stroke:#000000; stroke-linecap:butt; stroke-linejoin:round; stroke-width:2; stroke-opacity:0.1; fill:none\" points=\"\n  175.445,755.529 2352.76,755.529 \n  \"/>\n<polyline clip-path=\"url(#clip712)\" style=\"stroke:#000000; stroke-linecap:butt; stroke-linejoin:round; stroke-width:2; stroke-opacity:0.1; fill:none\" points=\"\n  175.445,461.573 2352.76,461.573 \n  \"/>\n<polyline clip-path=\"url(#clip712)\" style=\"stroke:#000000; stroke-linecap:butt; stroke-linejoin:round; stroke-width:2; stroke-opacity:0.1; fill:none\" points=\"\n  175.445,167.617 2352.76,167.617 \n  \"/>\n<polyline clip-path=\"url(#clip710)\" style=\"stroke:#000000; stroke-linecap:butt; stroke-linejoin:round; stroke-width:4; stroke-opacity:1; fill:none\" points=\"\n  175.445,1423.18 175.445,47.2441 \n  \"/>\n<polyline clip-path=\"url(#clip710)\" style=\"stroke:#000000; stroke-linecap:butt; stroke-linejoin:round; stroke-width:4; stroke-opacity:1; fill:none\" points=\"\n  175.445,1343.44 194.343,1343.44 \n  \"/>\n<polyline clip-path=\"url(#clip710)\" style=\"stroke:#000000; stroke-linecap:butt; stroke-linejoin:round; stroke-width:4; stroke-opacity:1; fill:none\" points=\"\n  175.445,1049.49 194.343,1049.49 \n  \"/>\n<polyline clip-path=\"url(#clip710)\" style=\"stroke:#000000; stroke-linecap:butt; stroke-linejoin:round; stroke-width:4; stroke-opacity:1; fill:none\" points=\"\n  175.445,755.529 194.343,755.529 \n  \"/>\n<polyline clip-path=\"url(#clip710)\" style=\"stroke:#000000; stroke-linecap:butt; stroke-linejoin:round; stroke-width:4; stroke-opacity:1; fill:none\" points=\"\n  175.445,461.573 194.343,461.573 \n  \"/>\n<polyline clip-path=\"url(#clip710)\" style=\"stroke:#000000; stroke-linecap:butt; stroke-linejoin:round; stroke-width:4; stroke-opacity:1; fill:none\" points=\"\n  175.445,167.617 194.343,167.617 \n  \"/>\n<path clip-path=\"url(#clip710)\" d=\"M123.126 1356.79 L139.445 1356.79 L139.445 1360.72 L117.501 1360.72 L117.501 1356.79 Q120.163 1354.03 124.746 1349.4 Q129.353 1344.75 130.533 1343.41 Q132.779 1340.88 133.658 1339.15 Q134.561 1337.39 134.561 1335.7 Q134.561 1332.94 132.617 1331.21 Q130.695 1329.47 127.593 1329.47 Q125.394 1329.47 122.941 1330.24 Q120.51 1331 117.732 1332.55 L117.732 1327.83 Q120.556 1326.69 123.01 1326.12 Q125.464 1325.54 127.501 1325.54 Q132.871 1325.54 136.066 1328.22 Q139.26 1330.91 139.26 1335.4 Q139.26 1337.53 138.45 1339.45 Q137.663 1341.35 135.556 1343.94 Q134.978 1344.61 131.876 1347.83 Q128.774 1351.02 123.126 1356.79 Z\" fill=\"#000000\" fill-rule=\"evenodd\" fill-opacity=\"1\" /><path clip-path=\"url(#clip710)\" d=\"M132.316 1048.13 Q135.672 1048.85 137.547 1051.12 Q139.445 1053.39 139.445 1056.72 Q139.445 1061.84 135.927 1064.64 Q132.408 1067.44 125.927 1067.44 Q123.751 1067.44 121.436 1067 Q119.144 1066.58 116.691 1065.72 L116.691 1061.21 Q118.635 1062.34 120.95 1062.92 Q123.265 1063.5 125.788 1063.5 Q130.186 1063.5 132.478 1061.77 Q134.792 1060.03 134.792 1056.72 Q134.792 1053.66 132.64 1051.95 Q130.51 1050.21 126.691 1050.21 L122.663 1050.21 L122.663 1046.37 L126.876 1046.37 Q130.325 1046.37 132.154 1045.01 Q133.982 1043.62 133.982 1041.03 Q133.982 1038.36 132.084 1036.95 Q130.209 1035.52 126.691 1035.52 Q124.769 1035.52 122.57 1035.93 Q120.371 1036.35 117.732 1037.23 L117.732 1033.06 Q120.394 1032.32 122.709 1031.95 Q125.047 1031.58 127.107 1031.58 Q132.431 1031.58 135.533 1034.01 Q138.635 1036.42 138.635 1040.54 Q138.635 1043.41 136.992 1045.4 Q135.348 1047.37 132.316 1048.13 Z\" fill=\"#000000\" fill-rule=\"evenodd\" fill-opacity=\"1\" /><path clip-path=\"url(#clip710)\" d=\"M129.862 742.323 L118.056 760.772 L129.862 760.772 L129.862 742.323 M128.635 738.249 L134.515 738.249 L134.515 760.772 L139.445 760.772 L139.445 764.661 L134.515 764.661 L134.515 772.809 L129.862 772.809 L129.862 764.661 L114.26 764.661 L114.26 760.147 L128.635 738.249 Z\" fill=\"#000000\" fill-rule=\"evenodd\" fill-opacity=\"1\" /><path clip-path=\"url(#clip710)\" d=\"M118.543 444.293 L136.899 444.293 L136.899 448.228 L122.825 448.228 L122.825 456.701 Q123.843 456.353 124.862 456.191 Q125.88 456.006 126.899 456.006 Q132.686 456.006 136.066 459.177 Q139.445 462.349 139.445 467.765 Q139.445 473.344 135.973 476.446 Q132.501 479.524 126.181 479.524 Q124.005 479.524 121.737 479.154 Q119.492 478.784 117.084 478.043 L117.084 473.344 Q119.168 474.478 121.39 475.034 Q123.612 475.589 126.089 475.589 Q130.093 475.589 132.431 473.483 Q134.769 471.376 134.769 467.765 Q134.769 464.154 132.431 462.048 Q130.093 459.941 126.089 459.941 Q124.214 459.941 122.339 460.358 Q120.487 460.775 118.543 461.654 L118.543 444.293 Z\" fill=\"#000000\" fill-rule=\"evenodd\" fill-opacity=\"1\" /><path clip-path=\"url(#clip710)\" d=\"M127.917 165.754 Q124.769 165.754 122.918 167.906 Q121.089 170.059 121.089 173.809 Q121.089 177.536 122.918 179.712 Q124.769 181.865 127.917 181.865 Q131.066 181.865 132.894 179.712 Q134.746 177.536 134.746 173.809 Q134.746 170.059 132.894 167.906 Q131.066 165.754 127.917 165.754 M137.2 151.101 L137.2 155.36 Q135.441 154.527 133.635 154.087 Q131.853 153.647 130.093 153.647 Q125.464 153.647 123.01 156.772 Q120.58 159.897 120.232 166.217 Q121.598 164.203 123.658 163.138 Q125.718 162.05 128.195 162.05 Q133.404 162.05 136.413 165.221 Q139.445 168.369 139.445 173.809 Q139.445 179.133 136.297 182.351 Q133.149 185.568 127.917 185.568 Q121.922 185.568 118.751 180.985 Q115.58 176.379 115.58 167.652 Q115.58 159.457 119.468 154.596 Q123.357 149.712 129.908 149.712 Q131.667 149.712 133.45 150.059 Q135.255 150.406 137.2 151.101 Z\" fill=\"#000000\" fill-rule=\"evenodd\" fill-opacity=\"1\" /><path clip-path=\"url(#clip710)\" d=\"M18.2347 1065.23 L28.3562 1065.23 L28.3562 1053.16 L32.9077 1053.16 L32.9077 1065.23 L52.2594 1065.23 Q56.6199 1065.23 57.8613 1064.05 Q59.1026 1062.84 59.1026 1059.18 L59.1026 1053.16 L64.0042 1053.16 L64.0042 1059.18 Q64.0042 1065.96 61.4897 1068.54 Q58.9434 1071.11 52.2594 1071.11 L32.9077 1071.11 L32.9077 1075.41 L28.3562 1075.41 L28.3562 1071.11 L18.2347 1071.11 L18.2347 1065.23 Z\" fill=\"#000000\" fill-rule=\"evenodd\" fill-opacity=\"1\" /><path clip-path=\"url(#clip710)\" d=\"M28.3562 1045.46 L28.3562 1039.6 L64.0042 1039.6 L64.0042 1045.46 L28.3562 1045.46 M14.479 1045.46 L14.479 1039.6 L21.895 1039.6 L21.895 1045.46 L14.479 1045.46 Z\" fill=\"#000000\" fill-rule=\"evenodd\" fill-opacity=\"1\" /><path clip-path=\"url(#clip710)\" d=\"M35.1993 999.596 Q31.2526 997.4 29.3747 994.344 Q27.4968 991.288 27.4968 987.151 Q27.4968 981.581 31.4117 978.557 Q35.2948 975.533 42.4881 975.533 L64.0042 975.533 L64.0042 981.422 L42.679 981.422 Q37.5546 981.422 35.072 983.236 Q32.5894 985.05 32.5894 988.774 Q32.5894 993.325 35.6131 995.967 Q38.6368 998.609 43.8567 998.609 L64.0042 998.609 L64.0042 1004.5 L42.679 1004.5 Q37.5228 1004.5 35.072 1006.31 Q32.5894 1008.13 32.5894 1011.91 Q32.5894 1016.4 35.6449 1019.04 Q38.6686 1021.68 43.8567 1021.68 L64.0042 1021.68 L64.0042 1027.57 L28.3562 1027.57 L28.3562 1021.68 L33.8944 1021.68 Q30.616 1019.68 29.0564 1016.88 Q27.4968 1014.08 27.4968 1010.23 Q27.4968 1006.34 29.4702 1003.64 Q31.4436 1000.9 35.1993 999.596 Z\" fill=\"#000000\" fill-rule=\"evenodd\" fill-opacity=\"1\" /><path clip-path=\"url(#clip710)\" d=\"M44.7161 933.361 L47.5806 933.361 L47.5806 960.287 Q53.6281 959.905 56.8109 956.659 Q59.9619 953.381 59.9619 947.556 Q59.9619 944.182 59.1344 941.031 Q58.3069 937.848 56.6518 934.729 L62.1899 934.729 Q63.5267 937.88 64.227 941.19 Q64.9272 944.5 64.9272 947.906 Q64.9272 956.436 59.9619 961.433 Q54.9967 966.399 46.5303 966.399 Q37.7774 966.399 32.6531 961.688 Q27.4968 956.945 27.4968 948.925 Q27.4968 941.731 32.1438 937.562 Q36.7589 933.361 44.7161 933.361 M42.9973 939.217 Q38.1912 939.281 35.3266 941.922 Q32.4621 944.532 32.4621 948.861 Q32.4621 953.763 35.2312 956.723 Q38.0002 959.651 43.0292 960.096 L42.9973 939.217 Z\" fill=\"#000000\" fill-rule=\"evenodd\" fill-opacity=\"1\" /><path clip-path=\"url(#clip710)\" d=\"M18.2347 897.235 L28.3562 897.235 L28.3562 885.172 L32.9077 885.172 L32.9077 897.235 L52.2594 897.235 Q56.6199 897.235 57.8613 896.057 Q59.1026 894.848 59.1026 891.188 L59.1026 885.172 L64.0042 885.172 L64.0042 891.188 Q64.0042 897.967 61.4897 900.545 Q58.9434 903.123 52.2594 903.123 L32.9077 903.123 L32.9077 907.42 L28.3562 907.42 L28.3562 903.123 L18.2347 903.123 L18.2347 897.235 Z\" fill=\"#000000\" fill-rule=\"evenodd\" fill-opacity=\"1\" /><path clip-path=\"url(#clip710)\" d=\"M32.4621 863.656 Q32.4621 868.367 36.1542 871.104 Q39.8145 873.841 46.212 873.841 Q52.6095 873.841 56.3017 871.136 Q59.9619 868.398 59.9619 863.656 Q59.9619 858.977 56.2698 856.24 Q52.5777 853.503 46.212 853.503 Q39.8781 853.503 36.186 856.24 Q32.4621 858.977 32.4621 863.656 M27.4968 863.656 Q27.4968 856.017 32.4621 851.657 Q37.4273 847.296 46.212 847.296 Q54.9649 847.296 59.9619 851.657 Q64.9272 856.017 64.9272 863.656 Q64.9272 871.327 59.9619 875.687 Q54.9649 880.016 46.212 880.016 Q37.4273 880.016 32.4621 875.687 Q27.4968 871.327 27.4968 863.656 Z\" fill=\"#000000\" fill-rule=\"evenodd\" fill-opacity=\"1\" /><path clip-path=\"url(#clip710)\" d=\"M33.8307 796.211 Q33.2578 797.198 33.0032 798.376 Q32.7167 799.522 32.7167 800.922 Q32.7167 805.887 35.9632 808.561 Q39.1779 811.203 45.2253 811.203 L64.0042 811.203 L64.0042 817.091 L28.3562 817.091 L28.3562 811.203 L33.8944 811.203 Q30.6479 809.357 29.0883 806.396 Q27.4968 803.436 27.4968 799.203 Q27.4968 798.598 27.5923 797.866 Q27.656 797.134 27.8151 796.243 L33.8307 796.211 Z\" fill=\"#000000\" fill-rule=\"evenodd\" fill-opacity=\"1\" /><path clip-path=\"url(#clip710)\" d=\"M44.7161 761.009 L47.5806 761.009 L47.5806 787.936 Q53.6281 787.554 56.8109 784.307 Q59.9619 781.029 59.9619 775.205 Q59.9619 771.831 59.1344 768.68 Q58.3069 765.497 56.6518 762.378 L62.1899 762.378 Q63.5267 765.529 64.227 768.839 Q64.9272 772.149 64.9272 775.555 Q64.9272 784.085 59.9619 789.082 Q54.9967 794.047 46.5303 794.047 Q37.7774 794.047 32.6531 789.336 Q27.4968 784.594 27.4968 776.573 Q27.4968 769.38 32.1438 765.21 Q36.7589 761.009 44.7161 761.009 M42.9973 766.865 Q38.1912 766.929 35.3266 769.571 Q32.4621 772.181 32.4621 776.509 Q32.4621 781.411 35.2312 784.371 Q38.0002 787.299 43.0292 787.745 L42.9973 766.865 Z\" fill=\"#000000\" fill-rule=\"evenodd\" fill-opacity=\"1\" /><path clip-path=\"url(#clip710)\" d=\"M46.0847 735.196 Q46.0847 742.294 47.7079 745.031 Q49.3312 747.768 53.2461 747.768 Q56.3653 747.768 58.2114 745.731 Q60.0256 743.662 60.0256 740.129 Q60.0256 735.26 56.5881 732.331 Q53.1188 729.371 47.3897 729.371 L46.0847 729.371 L46.0847 735.196 M43.6657 723.515 L64.0042 723.515 L64.0042 729.371 L58.5933 729.371 Q61.8398 731.377 63.3994 734.369 Q64.9272 737.36 64.9272 741.689 Q64.9272 747.164 61.8716 750.41 Q58.7843 753.625 53.6281 753.625 Q47.6125 753.625 44.5569 749.614 Q41.5014 745.572 41.5014 737.583 L41.5014 729.371 L40.9285 729.371 Q36.8862 729.371 34.6901 732.045 Q32.4621 734.687 32.4621 739.493 Q32.4621 742.548 33.1941 745.445 Q33.9262 748.341 35.3903 751.015 L29.9795 751.015 Q28.7381 747.8 28.1334 744.776 Q27.4968 741.753 27.4968 738.888 Q27.4968 731.154 31.5072 727.334 Q35.5176 723.515 43.6657 723.515 Z\" fill=\"#000000\" fill-rule=\"evenodd\" fill-opacity=\"1\" /><path clip-path=\"url(#clip710)\" d=\"M29.7248 685.798 L35.1993 685.798 Q33.8307 688.281 33.1623 690.795 Q32.4621 693.278 32.4621 695.824 Q32.4621 701.521 36.0905 704.672 Q39.6872 707.824 46.212 707.824 Q52.7369 707.824 56.3653 704.672 Q59.9619 701.521 59.9619 695.824 Q59.9619 693.278 59.2935 690.795 Q58.5933 688.281 57.2247 685.798 L62.6355 685.798 Q63.7814 688.249 64.3543 690.891 Q64.9272 693.501 64.9272 696.461 Q64.9272 704.513 59.8664 709.256 Q54.8057 713.998 46.212 713.998 Q37.491 713.998 32.4939 709.224 Q27.4968 704.418 27.4968 696.079 Q27.4968 693.373 28.0697 690.795 Q28.6108 688.217 29.7248 685.798 Z\" fill=\"#000000\" fill-rule=\"evenodd\" fill-opacity=\"1\" /><path clip-path=\"url(#clip710)\" d=\"M42.4881 645.981 L64.0042 645.981 L64.0042 651.837 L42.679 651.837 Q37.6183 651.837 35.1038 653.81 Q32.5894 655.784 32.5894 659.731 Q32.5894 664.473 35.6131 667.21 Q38.6368 669.948 43.8567 669.948 L64.0042 669.948 L64.0042 675.836 L14.479 675.836 L14.479 669.948 L33.8944 669.948 Q30.6797 667.847 29.0883 665.014 Q27.4968 662.15 27.4968 658.426 Q27.4968 652.283 31.3163 649.132 Q35.1038 645.981 42.4881 645.981 Z\" fill=\"#000000\" fill-rule=\"evenodd\" fill-opacity=\"1\" /><path clip-path=\"url(#clip710)\" d=\"M45.7664 590.122 Q39.4007 590.122 35.8996 592.763 Q32.3984 595.373 32.3984 600.116 Q32.3984 604.826 35.8996 607.468 Q39.4007 610.078 45.7664 610.078 Q52.1003 610.078 55.6014 607.468 Q59.1026 604.826 59.1026 600.116 Q59.1026 595.373 55.6014 592.763 Q52.1003 590.122 45.7664 590.122 M59.58 584.265 Q68.683 584.265 73.1071 588.307 Q77.5631 592.35 77.5631 600.689 Q77.5631 603.776 77.0857 606.513 Q76.6401 609.251 75.6852 611.829 L69.9879 611.829 Q71.3884 609.251 72.0568 606.736 Q72.7252 604.222 72.7252 601.612 Q72.7252 595.851 69.7015 592.986 Q66.7096 590.122 60.6303 590.122 L57.7339 590.122 Q60.885 591.936 62.4446 594.769 Q64.0042 597.601 64.0042 601.548 Q64.0042 608.105 59.0071 612.115 Q54.01 616.126 45.7664 616.126 Q37.491 616.126 32.4939 612.115 Q27.4968 608.105 27.4968 601.548 Q27.4968 597.601 29.0564 594.769 Q30.616 591.936 33.7671 590.122 L28.3562 590.122 L28.3562 584.265 L59.58 584.265 Z\" fill=\"#000000\" fill-rule=\"evenodd\" fill-opacity=\"1\" /><path clip-path=\"url(#clip710)\" d=\"M33.8307 551.545 Q33.2578 552.532 33.0032 553.71 Q32.7167 554.856 32.7167 556.256 Q32.7167 561.221 35.9632 563.895 Q39.1779 566.537 45.2253 566.537 L64.0042 566.537 L64.0042 572.425 L28.3562 572.425 L28.3562 566.537 L33.8944 566.537 Q30.6479 564.691 29.0883 561.731 Q27.4968 558.77 27.4968 554.537 Q27.4968 553.933 27.5923 553.201 Q27.656 552.468 27.8151 551.577 L33.8307 551.545 Z\" fill=\"#000000\" fill-rule=\"evenodd\" fill-opacity=\"1\" /><path clip-path=\"url(#clip710)\" d=\"M32.4621 533.021 Q32.4621 537.732 36.1542 540.469 Q39.8145 543.206 46.212 543.206 Q52.6095 543.206 56.3017 540.501 Q59.9619 537.764 59.9619 533.021 Q59.9619 528.342 56.2698 525.605 Q52.5777 522.868 46.212 522.868 Q39.8781 522.868 36.186 525.605 Q32.4621 528.342 32.4621 533.021 M27.4968 533.021 Q27.4968 525.382 32.4621 521.022 Q37.4273 516.661 46.212 516.661 Q54.9649 516.661 59.9619 521.022 Q64.9272 525.382 64.9272 533.021 Q64.9272 540.692 59.9619 545.052 Q54.9649 549.381 46.212 549.381 Q37.4273 549.381 32.4621 545.052 Q27.4968 540.692 27.4968 533.021 Z\" fill=\"#000000\" fill-rule=\"evenodd\" fill-opacity=\"1\" /><path clip-path=\"url(#clip710)\" d=\"M49.9359 507.558 L28.3562 507.558 L28.3562 501.702 L49.7131 501.702 Q54.7739 501.702 57.3202 499.729 Q59.8346 497.755 59.8346 493.808 Q59.8346 489.066 56.8109 486.329 Q53.7872 483.56 48.5673 483.56 L28.3562 483.56 L28.3562 477.703 L64.0042 477.703 L64.0042 483.56 L58.5296 483.56 Q61.7762 485.692 63.3676 488.525 Q64.9272 491.326 64.9272 495.05 Q64.9272 501.193 61.1078 504.376 Q57.2883 507.558 49.9359 507.558 M27.4968 492.822 L27.4968 492.822 Z\" fill=\"#000000\" fill-rule=\"evenodd\" fill-opacity=\"1\" /><path clip-path=\"url(#clip710)\" d=\"M42.4881 436.008 L64.0042 436.008 L64.0042 441.864 L42.679 441.864 Q37.6183 441.864 35.1038 443.838 Q32.5894 445.811 32.5894 449.758 Q32.5894 454.5 35.6131 457.237 Q38.6368 459.975 43.8567 459.975 L64.0042 459.975 L64.0042 465.863 L28.3562 465.863 L28.3562 459.975 L33.8944 459.975 Q30.6797 457.874 29.0883 455.041 Q27.4968 452.177 27.4968 448.453 Q27.4968 442.31 31.3163 439.159 Q35.1038 436.008 42.4881 436.008 Z\" fill=\"#000000\" fill-rule=\"evenodd\" fill-opacity=\"1\" /><path clip-path=\"url(#clip710)\" d=\"M33.7671 400.869 L14.479 400.869 L14.479 395.013 L64.0042 395.013 L64.0042 400.869 L58.657 400.869 Q61.8398 402.715 63.3994 405.548 Q64.9272 408.349 64.9272 412.296 Q64.9272 418.757 59.771 422.831 Q54.6147 426.873 46.212 426.873 Q37.8093 426.873 32.6531 422.831 Q27.4968 418.757 27.4968 412.296 Q27.4968 408.349 29.0564 405.548 Q30.5842 402.715 33.7671 400.869 M46.212 420.826 Q52.6732 420.826 56.3653 418.184 Q60.0256 415.51 60.0256 410.863 Q60.0256 406.216 56.3653 403.543 Q52.6732 400.869 46.212 400.869 Q39.7508 400.869 36.0905 403.543 Q32.3984 406.216 32.3984 410.863 Q32.3984 415.51 36.0905 418.184 Q39.7508 420.826 46.212 420.826 Z\" fill=\"#000000\" fill-rule=\"evenodd\" fill-opacity=\"1\" /><circle clip-path=\"url(#clip712)\" cx=\"724.102\" cy=\"993.558\" r=\"14.4\" fill=\"#009af9\" fill-rule=\"evenodd\" fill-opacity=\"1\" stroke=\"#000000\" stroke-opacity=\"1\" stroke-width=\"3.2\"/>\n<circle clip-path=\"url(#clip712)\" cx=\"2144.1\" cy=\"872.395\" r=\"14.4\" fill=\"#009af9\" fill-rule=\"evenodd\" fill-opacity=\"1\" stroke=\"#000000\" stroke-opacity=\"1\" stroke-width=\"3.2\"/>\n<circle clip-path=\"url(#clip712)\" cx=\"2165.07\" cy=\"789.15\" r=\"14.4\" fill=\"#009af9\" fill-rule=\"evenodd\" fill-opacity=\"1\" stroke=\"#000000\" stroke-opacity=\"1\" stroke-width=\"3.2\"/>\n<circle clip-path=\"url(#clip712)\" cx=\"306.067\" cy=\"771.355\" r=\"14.4\" fill=\"#009af9\" fill-rule=\"evenodd\" fill-opacity=\"1\" stroke=\"#000000\" stroke-opacity=\"1\" stroke-width=\"3.2\"/>\n<circle clip-path=\"url(#clip712)\" cx=\"431.075\" cy=\"1174.95\" r=\"14.4\" fill=\"#009af9\" fill-rule=\"evenodd\" fill-opacity=\"1\" stroke=\"#000000\" stroke-opacity=\"1\" stroke-width=\"3.2\"/>\n<circle clip-path=\"url(#clip712)\" cx=\"1146.29\" cy=\"935.919\" r=\"14.4\" fill=\"#009af9\" fill-rule=\"evenodd\" fill-opacity=\"1\" stroke=\"#000000\" stroke-opacity=\"1\" stroke-width=\"3.2\"/>\n<circle clip-path=\"url(#clip712)\" cx=\"1493.02\" cy=\"673.181\" r=\"14.4\" fill=\"#009af9\" fill-rule=\"evenodd\" fill-opacity=\"1\" stroke=\"#000000\" stroke-opacity=\"1\" stroke-width=\"3.2\"/>\n<circle clip-path=\"url(#clip712)\" cx=\"1278.64\" cy=\"641.352\" r=\"14.4\" fill=\"#009af9\" fill-rule=\"evenodd\" fill-opacity=\"1\" stroke=\"#000000\" stroke-opacity=\"1\" stroke-width=\"3.2\"/>\n<circle clip-path=\"url(#clip712)\" cx=\"1492.21\" cy=\"555.979\" r=\"14.4\" fill=\"#009af9\" fill-rule=\"evenodd\" fill-opacity=\"1\" stroke=\"#000000\" stroke-opacity=\"1\" stroke-width=\"3.2\"/>\n<circle clip-path=\"url(#clip712)\" cx=\"2189.52\" cy=\"222.082\" r=\"14.4\" fill=\"#009af9\" fill-rule=\"evenodd\" fill-opacity=\"1\" stroke=\"#000000\" stroke-opacity=\"1\" stroke-width=\"3.2\"/>\n<circle clip-path=\"url(#clip712)\" cx=\"1196.42\" cy=\"1233.41\" r=\"14.4\" fill=\"#009af9\" fill-rule=\"evenodd\" fill-opacity=\"1\" stroke=\"#000000\" stroke-opacity=\"1\" stroke-width=\"3.2\"/>\n<circle clip-path=\"url(#clip712)\" cx=\"487.466\" cy=\"528.761\" r=\"14.4\" fill=\"#009af9\" fill-rule=\"evenodd\" fill-opacity=\"1\" stroke=\"#000000\" stroke-opacity=\"1\" stroke-width=\"3.2\"/>\n<circle clip-path=\"url(#clip712)\" cx=\"360.918\" cy=\"1009.16\" r=\"14.4\" fill=\"#009af9\" fill-rule=\"evenodd\" fill-opacity=\"1\" stroke=\"#000000\" stroke-opacity=\"1\" stroke-width=\"3.2\"/>\n<circle clip-path=\"url(#clip712)\" cx=\"1485.59\" cy=\"991.91\" r=\"14.4\" fill=\"#009af9\" fill-rule=\"evenodd\" fill-opacity=\"1\" stroke=\"#000000\" stroke-opacity=\"1\" stroke-width=\"3.2\"/>\n<circle clip-path=\"url(#clip712)\" cx=\"1757.21\" cy=\"928.052\" r=\"14.4\" fill=\"#009af9\" fill-rule=\"evenodd\" fill-opacity=\"1\" stroke=\"#000000\" stroke-opacity=\"1\" stroke-width=\"3.2\"/>\n<circle clip-path=\"url(#clip712)\" cx=\"818.758\" cy=\"1191.24\" r=\"14.4\" fill=\"#009af9\" fill-rule=\"evenodd\" fill-opacity=\"1\" stroke=\"#000000\" stroke-opacity=\"1\" stroke-width=\"3.2\"/>\n<circle clip-path=\"url(#clip712)\" cx=\"511.624\" cy=\"1215.18\" r=\"14.4\" fill=\"#009af9\" fill-rule=\"evenodd\" fill-opacity=\"1\" stroke=\"#000000\" stroke-opacity=\"1\" stroke-width=\"3.2\"/>\n<circle clip-path=\"url(#clip712)\" cx=\"1326.39\" cy=\"708.686\" r=\"14.4\" fill=\"#009af9\" fill-rule=\"evenodd\" fill-opacity=\"1\" stroke=\"#000000\" stroke-opacity=\"1\" stroke-width=\"3.2\"/>\n<circle clip-path=\"url(#clip712)\" cx=\"843.967\" cy=\"1267.62\" r=\"14.4\" fill=\"#009af9\" fill-rule=\"evenodd\" fill-opacity=\"1\" stroke=\"#000000\" stroke-opacity=\"1\" stroke-width=\"3.2\"/>\n<circle clip-path=\"url(#clip712)\" cx=\"1747.89\" cy=\"369.408\" r=\"14.4\" fill=\"#009af9\" fill-rule=\"evenodd\" fill-opacity=\"1\" stroke=\"#000000\" stroke-opacity=\"1\" stroke-width=\"3.2\"/>\n<circle clip-path=\"url(#clip712)\" cx=\"1163.43\" cy=\"739.05\" r=\"14.4\" fill=\"#009af9\" fill-rule=\"evenodd\" fill-opacity=\"1\" stroke=\"#000000\" stroke-opacity=\"1\" stroke-width=\"3.2\"/>\n<circle clip-path=\"url(#clip712)\" cx=\"1695.67\" cy=\"729.45\" r=\"14.4\" fill=\"#009af9\" fill-rule=\"evenodd\" fill-opacity=\"1\" stroke=\"#000000\" stroke-opacity=\"1\" stroke-width=\"3.2\"/>\n<circle clip-path=\"url(#clip712)\" cx=\"1263.73\" cy=\"1053.69\" r=\"14.4\" fill=\"#009af9\" fill-rule=\"evenodd\" fill-opacity=\"1\" stroke=\"#000000\" stroke-opacity=\"1\" stroke-width=\"3.2\"/>\n<circle clip-path=\"url(#clip712)\" cx=\"987.03\" cy=\"1240.47\" r=\"14.4\" fill=\"#009af9\" fill-rule=\"evenodd\" fill-opacity=\"1\" stroke=\"#000000\" stroke-opacity=\"1\" stroke-width=\"3.2\"/>\n<circle clip-path=\"url(#clip712)\" cx=\"1655.43\" cy=\"720.524\" r=\"14.4\" fill=\"#009af9\" fill-rule=\"evenodd\" fill-opacity=\"1\" stroke=\"#000000\" stroke-opacity=\"1\" stroke-width=\"3.2\"/>\n<circle clip-path=\"url(#clip712)\" cx=\"1232.8\" cy=\"1162.76\" r=\"14.4\" fill=\"#009af9\" fill-rule=\"evenodd\" fill-opacity=\"1\" stroke=\"#000000\" stroke-opacity=\"1\" stroke-width=\"3.2\"/>\n<circle clip-path=\"url(#clip712)\" cx=\"819.153\" cy=\"518.831\" r=\"14.4\" fill=\"#009af9\" fill-rule=\"evenodd\" fill-opacity=\"1\" stroke=\"#000000\" stroke-opacity=\"1\" stroke-width=\"3.2\"/>\n<circle clip-path=\"url(#clip712)\" cx=\"1057.19\" cy=\"927.74\" r=\"14.4\" fill=\"#009af9\" fill-rule=\"evenodd\" fill-opacity=\"1\" stroke=\"#000000\" stroke-opacity=\"1\" stroke-width=\"3.2\"/>\n<circle clip-path=\"url(#clip712)\" cx=\"1267.5\" cy=\"486.491\" r=\"14.4\" fill=\"#009af9\" fill-rule=\"evenodd\" fill-opacity=\"1\" stroke=\"#000000\" stroke-opacity=\"1\" stroke-width=\"3.2\"/>\n<circle clip-path=\"url(#clip712)\" cx=\"1569.89\" cy=\"1057.14\" r=\"14.4\" fill=\"#009af9\" fill-rule=\"evenodd\" fill-opacity=\"1\" stroke=\"#000000\" stroke-opacity=\"1\" stroke-width=\"3.2\"/>\n<circle clip-path=\"url(#clip712)\" cx=\"1741.78\" cy=\"638.788\" r=\"14.4\" fill=\"#009af9\" fill-rule=\"evenodd\" fill-opacity=\"1\" stroke=\"#000000\" stroke-opacity=\"1\" stroke-width=\"3.2\"/>\n<circle clip-path=\"url(#clip712)\" cx=\"770.39\" cy=\"878.742\" r=\"14.4\" fill=\"#009af9\" fill-rule=\"evenodd\" fill-opacity=\"1\" stroke=\"#000000\" stroke-opacity=\"1\" stroke-width=\"3.2\"/>\n<circle clip-path=\"url(#clip712)\" cx=\"1513.66\" cy=\"742.095\" r=\"14.4\" fill=\"#009af9\" fill-rule=\"evenodd\" fill-opacity=\"1\" stroke=\"#000000\" stroke-opacity=\"1\" stroke-width=\"3.2\"/>\n<circle clip-path=\"url(#clip712)\" cx=\"1532.66\" cy=\"950.474\" r=\"14.4\" fill=\"#009af9\" fill-rule=\"evenodd\" fill-opacity=\"1\" stroke=\"#000000\" stroke-opacity=\"1\" stroke-width=\"3.2\"/>\n<circle clip-path=\"url(#clip712)\" cx=\"2168.71\" cy=\"687.369\" r=\"14.4\" fill=\"#009af9\" fill-rule=\"evenodd\" fill-opacity=\"1\" stroke=\"#000000\" stroke-opacity=\"1\" stroke-width=\"3.2\"/>\n<circle clip-path=\"url(#clip712)\" cx=\"1759.2\" cy=\"498.864\" r=\"14.4\" fill=\"#009af9\" fill-rule=\"evenodd\" fill-opacity=\"1\" stroke=\"#000000\" stroke-opacity=\"1\" stroke-width=\"3.2\"/>\n<circle clip-path=\"url(#clip712)\" cx=\"1670.47\" cy=\"298.701\" r=\"14.4\" fill=\"#009af9\" fill-rule=\"evenodd\" fill-opacity=\"1\" stroke=\"#000000\" stroke-opacity=\"1\" stroke-width=\"3.2\"/>\n<circle clip-path=\"url(#clip712)\" cx=\"1362.59\" cy=\"581.231\" r=\"14.4\" fill=\"#009af9\" fill-rule=\"evenodd\" fill-opacity=\"1\" stroke=\"#000000\" stroke-opacity=\"1\" stroke-width=\"3.2\"/>\n<circle clip-path=\"url(#clip712)\" cx=\"1487.64\" cy=\"348.866\" r=\"14.4\" fill=\"#009af9\" fill-rule=\"evenodd\" fill-opacity=\"1\" stroke=\"#000000\" stroke-opacity=\"1\" stroke-width=\"3.2\"/>\n<circle clip-path=\"url(#clip712)\" cx=\"1532.54\" cy=\"913.61\" r=\"14.4\" fill=\"#009af9\" fill-rule=\"evenodd\" fill-opacity=\"1\" stroke=\"#000000\" stroke-opacity=\"1\" stroke-width=\"3.2\"/>\n<circle clip-path=\"url(#clip712)\" cx=\"987.016\" cy=\"712.662\" r=\"14.4\" fill=\"#009af9\" fill-rule=\"evenodd\" fill-opacity=\"1\" stroke=\"#000000\" stroke-opacity=\"1\" stroke-width=\"3.2\"/>\n<circle clip-path=\"url(#clip712)\" cx=\"237.067\" cy=\"1256.85\" r=\"14.4\" fill=\"#009af9\" fill-rule=\"evenodd\" fill-opacity=\"1\" stroke=\"#000000\" stroke-opacity=\"1\" stroke-width=\"3.2\"/>\n<circle clip-path=\"url(#clip712)\" cx=\"2291.13\" cy=\"202.896\" r=\"14.4\" fill=\"#009af9\" fill-rule=\"evenodd\" fill-opacity=\"1\" stroke=\"#000000\" stroke-opacity=\"1\" stroke-width=\"3.2\"/>\n<circle clip-path=\"url(#clip712)\" cx=\"339.346\" cy=\"882.788\" r=\"14.4\" fill=\"#009af9\" fill-rule=\"evenodd\" fill-opacity=\"1\" stroke=\"#000000\" stroke-opacity=\"1\" stroke-width=\"3.2\"/>\n<circle clip-path=\"url(#clip712)\" cx=\"1256.12\" cy=\"987.097\" r=\"14.4\" fill=\"#009af9\" fill-rule=\"evenodd\" fill-opacity=\"1\" stroke=\"#000000\" stroke-opacity=\"1\" stroke-width=\"3.2\"/>\n<circle clip-path=\"url(#clip712)\" cx=\"1987.68\" cy=\"308.481\" r=\"14.4\" fill=\"#009af9\" fill-rule=\"evenodd\" fill-opacity=\"1\" stroke=\"#000000\" stroke-opacity=\"1\" stroke-width=\"3.2\"/>\n<circle clip-path=\"url(#clip712)\" cx=\"1264.34\" cy=\"752.33\" r=\"14.4\" fill=\"#009af9\" fill-rule=\"evenodd\" fill-opacity=\"1\" stroke=\"#000000\" stroke-opacity=\"1\" stroke-width=\"3.2\"/>\n<circle clip-path=\"url(#clip712)\" cx=\"485.848\" cy=\"1374.91\" r=\"14.4\" fill=\"#009af9\" fill-rule=\"evenodd\" fill-opacity=\"1\" stroke=\"#000000\" stroke-opacity=\"1\" stroke-width=\"3.2\"/>\n<circle clip-path=\"url(#clip712)\" cx=\"1105.01\" cy=\"895.753\" r=\"14.4\" fill=\"#009af9\" fill-rule=\"evenodd\" fill-opacity=\"1\" stroke=\"#000000\" stroke-opacity=\"1\" stroke-width=\"3.2\"/>\n<circle clip-path=\"url(#clip712)\" cx=\"2151.02\" cy=\"417.62\" r=\"14.4\" fill=\"#009af9\" fill-rule=\"evenodd\" fill-opacity=\"1\" stroke=\"#000000\" stroke-opacity=\"1\" stroke-width=\"3.2\"/>\n<circle clip-path=\"url(#clip712)\" cx=\"1186.48\" cy=\"663.399\" r=\"14.4\" fill=\"#009af9\" fill-rule=\"evenodd\" fill-opacity=\"1\" stroke=\"#000000\" stroke-opacity=\"1\" stroke-width=\"3.2\"/>\n<circle clip-path=\"url(#clip712)\" cx=\"1610.09\" cy=\"894.861\" r=\"14.4\" fill=\"#009af9\" fill-rule=\"evenodd\" fill-opacity=\"1\" stroke=\"#000000\" stroke-opacity=\"1\" stroke-width=\"3.2\"/>\n<circle clip-path=\"url(#clip712)\" cx=\"445.874\" cy=\"1382.02\" r=\"14.4\" fill=\"#009af9\" fill-rule=\"evenodd\" fill-opacity=\"1\" stroke=\"#000000\" stroke-opacity=\"1\" stroke-width=\"3.2\"/>\n<circle clip-path=\"url(#clip712)\" cx=\"742.578\" cy=\"1020.87\" r=\"14.4\" fill=\"#009af9\" fill-rule=\"evenodd\" fill-opacity=\"1\" stroke=\"#000000\" stroke-opacity=\"1\" stroke-width=\"3.2\"/>\n<circle clip-path=\"url(#clip712)\" cx=\"479.166\" cy=\"873.79\" r=\"14.4\" fill=\"#009af9\" fill-rule=\"evenodd\" fill-opacity=\"1\" stroke=\"#000000\" stroke-opacity=\"1\" stroke-width=\"3.2\"/>\n<circle clip-path=\"url(#clip712)\" cx=\"1297.25\" cy=\"1202.91\" r=\"14.4\" fill=\"#009af9\" fill-rule=\"evenodd\" fill-opacity=\"1\" stroke=\"#000000\" stroke-opacity=\"1\" stroke-width=\"3.2\"/>\n<circle clip-path=\"url(#clip712)\" cx=\"1458.35\" cy=\"937.556\" r=\"14.4\" fill=\"#009af9\" fill-rule=\"evenodd\" fill-opacity=\"1\" stroke=\"#000000\" stroke-opacity=\"1\" stroke-width=\"3.2\"/>\n<circle clip-path=\"url(#clip712)\" cx=\"1438.07\" cy=\"583.876\" r=\"14.4\" fill=\"#009af9\" fill-rule=\"evenodd\" fill-opacity=\"1\" stroke=\"#000000\" stroke-opacity=\"1\" stroke-width=\"3.2\"/>\n<circle clip-path=\"url(#clip712)\" cx=\"1627.65\" cy=\"327.899\" r=\"14.4\" fill=\"#009af9\" fill-rule=\"evenodd\" fill-opacity=\"1\" stroke=\"#000000\" stroke-opacity=\"1\" stroke-width=\"3.2\"/>\n<circle clip-path=\"url(#clip712)\" cx=\"1917.19\" cy=\"915.241\" r=\"14.4\" fill=\"#009af9\" fill-rule=\"evenodd\" fill-opacity=\"1\" stroke=\"#000000\" stroke-opacity=\"1\" stroke-width=\"3.2\"/>\n<circle clip-path=\"url(#clip712)\" cx=\"2152.07\" cy=\"506.155\" r=\"14.4\" fill=\"#009af9\" fill-rule=\"evenodd\" fill-opacity=\"1\" stroke=\"#000000\" stroke-opacity=\"1\" stroke-width=\"3.2\"/>\n<circle clip-path=\"url(#clip712)\" cx=\"549.635\" cy=\"724.555\" r=\"14.4\" fill=\"#009af9\" fill-rule=\"evenodd\" fill-opacity=\"1\" stroke=\"#000000\" stroke-opacity=\"1\" stroke-width=\"3.2\"/>\n<circle clip-path=\"url(#clip712)\" cx=\"532.088\" cy=\"1120.75\" r=\"14.4\" fill=\"#009af9\" fill-rule=\"evenodd\" fill-opacity=\"1\" stroke=\"#000000\" stroke-opacity=\"1\" stroke-width=\"3.2\"/>\n<circle clip-path=\"url(#clip712)\" cx=\"424.581\" cy=\"993.238\" r=\"14.4\" fill=\"#009af9\" fill-rule=\"evenodd\" fill-opacity=\"1\" stroke=\"#000000\" stroke-opacity=\"1\" stroke-width=\"3.2\"/>\n<circle clip-path=\"url(#clip712)\" cx=\"1969.57\" cy=\"619.251\" r=\"14.4\" fill=\"#009af9\" fill-rule=\"evenodd\" fill-opacity=\"1\" stroke=\"#000000\" stroke-opacity=\"1\" stroke-width=\"3.2\"/>\n<circle clip-path=\"url(#clip712)\" cx=\"244.098\" cy=\"758.963\" r=\"14.4\" fill=\"#009af9\" fill-rule=\"evenodd\" fill-opacity=\"1\" stroke=\"#000000\" stroke-opacity=\"1\" stroke-width=\"3.2\"/>\n<circle clip-path=\"url(#clip712)\" cx=\"291.101\" cy=\"545.641\" r=\"14.4\" fill=\"#009af9\" fill-rule=\"evenodd\" fill-opacity=\"1\" stroke=\"#000000\" stroke-opacity=\"1\" stroke-width=\"3.2\"/>\n<circle clip-path=\"url(#clip712)\" cx=\"2047.43\" cy=\"903.965\" r=\"14.4\" fill=\"#009af9\" fill-rule=\"evenodd\" fill-opacity=\"1\" stroke=\"#000000\" stroke-opacity=\"1\" stroke-width=\"3.2\"/>\n<circle clip-path=\"url(#clip712)\" cx=\"1443.73\" cy=\"812.589\" r=\"14.4\" fill=\"#009af9\" fill-rule=\"evenodd\" fill-opacity=\"1\" stroke=\"#000000\" stroke-opacity=\"1\" stroke-width=\"3.2\"/>\n<circle clip-path=\"url(#clip712)\" cx=\"1102.77\" cy=\"502.324\" r=\"14.4\" fill=\"#009af9\" fill-rule=\"evenodd\" fill-opacity=\"1\" stroke=\"#000000\" stroke-opacity=\"1\" stroke-width=\"3.2\"/>\n<circle clip-path=\"url(#clip712)\" cx=\"598.226\" cy=\"1254.44\" r=\"14.4\" fill=\"#009af9\" fill-rule=\"evenodd\" fill-opacity=\"1\" stroke=\"#000000\" stroke-opacity=\"1\" stroke-width=\"3.2\"/>\n<circle clip-path=\"url(#clip712)\" cx=\"1428.56\" cy=\"942.329\" r=\"14.4\" fill=\"#009af9\" fill-rule=\"evenodd\" fill-opacity=\"1\" stroke=\"#000000\" stroke-opacity=\"1\" stroke-width=\"3.2\"/>\n<circle clip-path=\"url(#clip712)\" cx=\"1347.03\" cy=\"452.694\" r=\"14.4\" fill=\"#009af9\" fill-rule=\"evenodd\" fill-opacity=\"1\" stroke=\"#000000\" stroke-opacity=\"1\" stroke-width=\"3.2\"/>\n<circle clip-path=\"url(#clip712)\" cx=\"1839.18\" cy=\"998.648\" r=\"14.4\" fill=\"#009af9\" fill-rule=\"evenodd\" fill-opacity=\"1\" stroke=\"#000000\" stroke-opacity=\"1\" stroke-width=\"3.2\"/>\n<circle clip-path=\"url(#clip712)\" cx=\"1233.59\" cy=\"1109.61\" r=\"14.4\" fill=\"#009af9\" fill-rule=\"evenodd\" fill-opacity=\"1\" stroke=\"#000000\" stroke-opacity=\"1\" stroke-width=\"3.2\"/>\n<circle clip-path=\"url(#clip712)\" cx=\"1296.94\" cy=\"821.587\" r=\"14.4\" fill=\"#009af9\" fill-rule=\"evenodd\" fill-opacity=\"1\" stroke=\"#000000\" stroke-opacity=\"1\" stroke-width=\"3.2\"/>\n<circle clip-path=\"url(#clip712)\" cx=\"1551.5\" cy=\"897.589\" r=\"14.4\" fill=\"#009af9\" fill-rule=\"evenodd\" fill-opacity=\"1\" stroke=\"#000000\" stroke-opacity=\"1\" stroke-width=\"3.2\"/>\n<circle clip-path=\"url(#clip712)\" cx=\"1860.08\" cy=\"1007.17\" r=\"14.4\" fill=\"#009af9\" fill-rule=\"evenodd\" fill-opacity=\"1\" stroke=\"#000000\" stroke-opacity=\"1\" stroke-width=\"3.2\"/>\n<circle clip-path=\"url(#clip712)\" cx=\"1254.12\" cy=\"771.736\" r=\"14.4\" fill=\"#009af9\" fill-rule=\"evenodd\" fill-opacity=\"1\" stroke=\"#000000\" stroke-opacity=\"1\" stroke-width=\"3.2\"/>\n<circle clip-path=\"url(#clip712)\" cx=\"1923\" cy=\"802.261\" r=\"14.4\" fill=\"#009af9\" fill-rule=\"evenodd\" fill-opacity=\"1\" stroke=\"#000000\" stroke-opacity=\"1\" stroke-width=\"3.2\"/>\n<circle clip-path=\"url(#clip712)\" cx=\"1759.95\" cy=\"435.294\" r=\"14.4\" fill=\"#009af9\" fill-rule=\"evenodd\" fill-opacity=\"1\" stroke=\"#000000\" stroke-opacity=\"1\" stroke-width=\"3.2\"/>\n<circle clip-path=\"url(#clip712)\" cx=\"597.067\" cy=\"1135.73\" r=\"14.4\" fill=\"#009af9\" fill-rule=\"evenodd\" fill-opacity=\"1\" stroke=\"#000000\" stroke-opacity=\"1\" stroke-width=\"3.2\"/>\n<circle clip-path=\"url(#clip712)\" cx=\"668.122\" cy=\"1248.53\" r=\"14.4\" fill=\"#009af9\" fill-rule=\"evenodd\" fill-opacity=\"1\" stroke=\"#000000\" stroke-opacity=\"1\" stroke-width=\"3.2\"/>\n<circle clip-path=\"url(#clip712)\" cx=\"809.471\" cy=\"1185.5\" r=\"14.4\" fill=\"#009af9\" fill-rule=\"evenodd\" fill-opacity=\"1\" stroke=\"#000000\" stroke-opacity=\"1\" stroke-width=\"3.2\"/>\n<circle clip-path=\"url(#clip712)\" cx=\"831.981\" cy=\"730.99\" r=\"14.4\" fill=\"#009af9\" fill-rule=\"evenodd\" fill-opacity=\"1\" stroke=\"#000000\" stroke-opacity=\"1\" stroke-width=\"3.2\"/>\n<circle clip-path=\"url(#clip712)\" cx=\"844.179\" cy=\"678.453\" r=\"14.4\" fill=\"#009af9\" fill-rule=\"evenodd\" fill-opacity=\"1\" stroke=\"#000000\" stroke-opacity=\"1\" stroke-width=\"3.2\"/>\n<circle clip-path=\"url(#clip712)\" cx=\"944.355\" cy=\"514.02\" r=\"14.4\" fill=\"#009af9\" fill-rule=\"evenodd\" fill-opacity=\"1\" stroke=\"#000000\" stroke-opacity=\"1\" stroke-width=\"3.2\"/>\n<circle clip-path=\"url(#clip712)\" cx=\"1998.34\" cy=\"927.783\" r=\"14.4\" fill=\"#009af9\" fill-rule=\"evenodd\" fill-opacity=\"1\" stroke=\"#000000\" stroke-opacity=\"1\" stroke-width=\"3.2\"/>\n<circle clip-path=\"url(#clip712)\" cx=\"1361.74\" cy=\"987.76\" r=\"14.4\" fill=\"#009af9\" fill-rule=\"evenodd\" fill-opacity=\"1\" stroke=\"#000000\" stroke-opacity=\"1\" stroke-width=\"3.2\"/>\n<circle clip-path=\"url(#clip712)\" cx=\"1764.68\" cy=\"651.667\" r=\"14.4\" fill=\"#009af9\" fill-rule=\"evenodd\" fill-opacity=\"1\" stroke=\"#000000\" stroke-opacity=\"1\" stroke-width=\"3.2\"/>\n<circle clip-path=\"url(#clip712)\" cx=\"1415.23\" cy=\"508.674\" r=\"14.4\" fill=\"#009af9\" fill-rule=\"evenodd\" fill-opacity=\"1\" stroke=\"#000000\" stroke-opacity=\"1\" stroke-width=\"3.2\"/>\n<circle clip-path=\"url(#clip712)\" cx=\"392.333\" cy=\"786.606\" r=\"14.4\" fill=\"#009af9\" fill-rule=\"evenodd\" fill-opacity=\"1\" stroke=\"#000000\" stroke-opacity=\"1\" stroke-width=\"3.2\"/>\n<circle clip-path=\"url(#clip712)\" cx=\"856.043\" cy=\"734.225\" r=\"14.4\" fill=\"#009af9\" fill-rule=\"evenodd\" fill-opacity=\"1\" stroke=\"#000000\" stroke-opacity=\"1\" stroke-width=\"3.2\"/>\n<circle clip-path=\"url(#clip712)\" cx=\"817.831\" cy=\"827.964\" r=\"14.4\" fill=\"#009af9\" fill-rule=\"evenodd\" fill-opacity=\"1\" stroke=\"#000000\" stroke-opacity=\"1\" stroke-width=\"3.2\"/>\n<circle clip-path=\"url(#clip712)\" cx=\"1158.66\" cy=\"849.122\" r=\"14.4\" fill=\"#009af9\" fill-rule=\"evenodd\" fill-opacity=\"1\" stroke=\"#000000\" stroke-opacity=\"1\" stroke-width=\"3.2\"/>\n<circle clip-path=\"url(#clip712)\" cx=\"633.407\" cy=\"784.975\" r=\"14.4\" fill=\"#009af9\" fill-rule=\"evenodd\" fill-opacity=\"1\" stroke=\"#000000\" stroke-opacity=\"1\" stroke-width=\"3.2\"/>\n<circle clip-path=\"url(#clip712)\" cx=\"916.344\" cy=\"613.397\" r=\"14.4\" fill=\"#009af9\" fill-rule=\"evenodd\" fill-opacity=\"1\" stroke=\"#000000\" stroke-opacity=\"1\" stroke-width=\"3.2\"/>\n<circle clip-path=\"url(#clip712)\" cx=\"1974.17\" cy=\"601.9\" r=\"14.4\" fill=\"#009af9\" fill-rule=\"evenodd\" fill-opacity=\"1\" stroke=\"#000000\" stroke-opacity=\"1\" stroke-width=\"3.2\"/>\n<circle clip-path=\"url(#clip712)\" cx=\"405.81\" cy=\"939.219\" r=\"14.4\" fill=\"#009af9\" fill-rule=\"evenodd\" fill-opacity=\"1\" stroke=\"#000000\" stroke-opacity=\"1\" stroke-width=\"3.2\"/>\n<circle clip-path=\"url(#clip712)\" cx=\"573.203\" cy=\"1049.29\" r=\"14.4\" fill=\"#009af9\" fill-rule=\"evenodd\" fill-opacity=\"1\" stroke=\"#000000\" stroke-opacity=\"1\" stroke-width=\"3.2\"/>\n<circle clip-path=\"url(#clip712)\" cx=\"1160.89\" cy=\"589.303\" r=\"14.4\" fill=\"#009af9\" fill-rule=\"evenodd\" fill-opacity=\"1\" stroke=\"#000000\" stroke-opacity=\"1\" stroke-width=\"3.2\"/>\n<circle clip-path=\"url(#clip712)\" cx=\"1652.41\" cy=\"806.62\" r=\"14.4\" fill=\"#009af9\" fill-rule=\"evenodd\" fill-opacity=\"1\" stroke=\"#000000\" stroke-opacity=\"1\" stroke-width=\"3.2\"/>\n<circle clip-path=\"url(#clip712)\" cx=\"1271.91\" cy=\"620.05\" r=\"14.4\" fill=\"#009af9\" fill-rule=\"evenodd\" fill-opacity=\"1\" stroke=\"#000000\" stroke-opacity=\"1\" stroke-width=\"3.2\"/>\n<circle clip-path=\"url(#clip712)\" cx=\"2036.02\" cy=\"856.963\" r=\"14.4\" fill=\"#009af9\" fill-rule=\"evenodd\" fill-opacity=\"1\" stroke=\"#000000\" stroke-opacity=\"1\" stroke-width=\"3.2\"/>\n<circle clip-path=\"url(#clip712)\" cx=\"1221.14\" cy=\"929.819\" r=\"14.4\" fill=\"#009af9\" fill-rule=\"evenodd\" fill-opacity=\"1\" stroke=\"#000000\" stroke-opacity=\"1\" stroke-width=\"3.2\"/>\n<circle clip-path=\"url(#clip712)\" cx=\"1338.31\" cy=\"505.005\" r=\"14.4\" fill=\"#009af9\" fill-rule=\"evenodd\" fill-opacity=\"1\" stroke=\"#000000\" stroke-opacity=\"1\" stroke-width=\"3.2\"/>\n<circle clip-path=\"url(#clip712)\" cx=\"1644.65\" cy=\"596.618\" r=\"14.4\" fill=\"#009af9\" fill-rule=\"evenodd\" fill-opacity=\"1\" stroke=\"#000000\" stroke-opacity=\"1\" stroke-width=\"3.2\"/>\n<circle clip-path=\"url(#clip712)\" cx=\"406.027\" cy=\"1028.1\" r=\"14.4\" fill=\"#009af9\" fill-rule=\"evenodd\" fill-opacity=\"1\" stroke=\"#000000\" stroke-opacity=\"1\" stroke-width=\"3.2\"/>\n<circle clip-path=\"url(#clip712)\" cx=\"1467.12\" cy=\"892.452\" r=\"14.4\" fill=\"#009af9\" fill-rule=\"evenodd\" fill-opacity=\"1\" stroke=\"#000000\" stroke-opacity=\"1\" stroke-width=\"3.2\"/>\n<circle clip-path=\"url(#clip712)\" cx=\"1223.4\" cy=\"972.574\" r=\"14.4\" fill=\"#009af9\" fill-rule=\"evenodd\" fill-opacity=\"1\" stroke=\"#000000\" stroke-opacity=\"1\" stroke-width=\"3.2\"/>\n<circle clip-path=\"url(#clip712)\" cx=\"1760.11\" cy=\"544.7\" r=\"14.4\" fill=\"#009af9\" fill-rule=\"evenodd\" fill-opacity=\"1\" stroke=\"#000000\" stroke-opacity=\"1\" stroke-width=\"3.2\"/>\n<circle clip-path=\"url(#clip712)\" cx=\"791.507\" cy=\"1202.48\" r=\"14.4\" fill=\"#009af9\" fill-rule=\"evenodd\" fill-opacity=\"1\" stroke=\"#000000\" stroke-opacity=\"1\" stroke-width=\"3.2\"/>\n<circle clip-path=\"url(#clip712)\" cx=\"1569.78\" cy=\"655.196\" r=\"14.4\" fill=\"#009af9\" fill-rule=\"evenodd\" fill-opacity=\"1\" stroke=\"#000000\" stroke-opacity=\"1\" stroke-width=\"3.2\"/>\n<circle clip-path=\"url(#clip712)\" cx=\"2240.1\" cy=\"442.616\" r=\"14.4\" fill=\"#009af9\" fill-rule=\"evenodd\" fill-opacity=\"1\" stroke=\"#000000\" stroke-opacity=\"1\" stroke-width=\"3.2\"/>\n<circle clip-path=\"url(#clip712)\" cx=\"1123.45\" cy=\"551.615\" r=\"14.4\" fill=\"#009af9\" fill-rule=\"evenodd\" fill-opacity=\"1\" stroke=\"#000000\" stroke-opacity=\"1\" stroke-width=\"3.2\"/>\n<circle clip-path=\"url(#clip712)\" cx=\"1676.04\" cy=\"443.26\" r=\"14.4\" fill=\"#009af9\" fill-rule=\"evenodd\" fill-opacity=\"1\" stroke=\"#000000\" stroke-opacity=\"1\" stroke-width=\"3.2\"/>\n<circle clip-path=\"url(#clip712)\" cx=\"392.099\" cy=\"1193.33\" r=\"14.4\" fill=\"#009af9\" fill-rule=\"evenodd\" fill-opacity=\"1\" stroke=\"#000000\" stroke-opacity=\"1\" stroke-width=\"3.2\"/>\n<circle clip-path=\"url(#clip712)\" cx=\"1019.35\" cy=\"594.29\" r=\"14.4\" fill=\"#009af9\" fill-rule=\"evenodd\" fill-opacity=\"1\" stroke=\"#000000\" stroke-opacity=\"1\" stroke-width=\"3.2\"/>\n<circle clip-path=\"url(#clip712)\" cx=\"559.102\" cy=\"1201.42\" r=\"14.4\" fill=\"#009af9\" fill-rule=\"evenodd\" fill-opacity=\"1\" stroke=\"#000000\" stroke-opacity=\"1\" stroke-width=\"3.2\"/>\n<circle clip-path=\"url(#clip712)\" cx=\"678.593\" cy=\"853.114\" r=\"14.4\" fill=\"#009af9\" fill-rule=\"evenodd\" fill-opacity=\"1\" stroke=\"#000000\" stroke-opacity=\"1\" stroke-width=\"3.2\"/>\n<circle clip-path=\"url(#clip712)\" cx=\"2139.2\" cy=\"570.947\" r=\"14.4\" fill=\"#009af9\" fill-rule=\"evenodd\" fill-opacity=\"1\" stroke=\"#000000\" stroke-opacity=\"1\" stroke-width=\"3.2\"/>\n<circle clip-path=\"url(#clip712)\" cx=\"457.854\" cy=\"1176.21\" r=\"14.4\" fill=\"#009af9\" fill-rule=\"evenodd\" fill-opacity=\"1\" stroke=\"#000000\" stroke-opacity=\"1\" stroke-width=\"3.2\"/>\n<circle clip-path=\"url(#clip712)\" cx=\"325.025\" cy=\"851.586\" r=\"14.4\" fill=\"#009af9\" fill-rule=\"evenodd\" fill-opacity=\"1\" stroke=\"#000000\" stroke-opacity=\"1\" stroke-width=\"3.2\"/>\n<circle clip-path=\"url(#clip712)\" cx=\"1775.96\" cy=\"316.926\" r=\"14.4\" fill=\"#009af9\" fill-rule=\"evenodd\" fill-opacity=\"1\" stroke=\"#000000\" stroke-opacity=\"1\" stroke-width=\"3.2\"/>\n<circle clip-path=\"url(#clip712)\" cx=\"1800.49\" cy=\"895.188\" r=\"14.4\" fill=\"#009af9\" fill-rule=\"evenodd\" fill-opacity=\"1\" stroke=\"#000000\" stroke-opacity=\"1\" stroke-width=\"3.2\"/>\n<circle clip-path=\"url(#clip712)\" cx=\"1539.98\" cy=\"488.643\" r=\"14.4\" fill=\"#009af9\" fill-rule=\"evenodd\" fill-opacity=\"1\" stroke=\"#000000\" stroke-opacity=\"1\" stroke-width=\"3.2\"/>\n<circle clip-path=\"url(#clip712)\" cx=\"827.53\" cy=\"826.817\" r=\"14.4\" fill=\"#009af9\" fill-rule=\"evenodd\" fill-opacity=\"1\" stroke=\"#000000\" stroke-opacity=\"1\" stroke-width=\"3.2\"/>\n<circle clip-path=\"url(#clip712)\" cx=\"1740.29\" cy=\"595.621\" r=\"14.4\" fill=\"#009af9\" fill-rule=\"evenodd\" fill-opacity=\"1\" stroke=\"#000000\" stroke-opacity=\"1\" stroke-width=\"3.2\"/>\n<circle clip-path=\"url(#clip712)\" cx=\"1325.42\" cy=\"691.564\" r=\"14.4\" fill=\"#009af9\" fill-rule=\"evenodd\" fill-opacity=\"1\" stroke=\"#000000\" stroke-opacity=\"1\" stroke-width=\"3.2\"/>\n<circle clip-path=\"url(#clip712)\" cx=\"1311.06\" cy=\"1033.86\" r=\"14.4\" fill=\"#009af9\" fill-rule=\"evenodd\" fill-opacity=\"1\" stroke=\"#000000\" stroke-opacity=\"1\" stroke-width=\"3.2\"/>\n<circle clip-path=\"url(#clip712)\" cx=\"1585.04\" cy=\"851.276\" r=\"14.4\" fill=\"#009af9\" fill-rule=\"evenodd\" fill-opacity=\"1\" stroke=\"#000000\" stroke-opacity=\"1\" stroke-width=\"3.2\"/>\n<circle clip-path=\"url(#clip712)\" cx=\"970.489\" cy=\"620.312\" r=\"14.4\" fill=\"#009af9\" fill-rule=\"evenodd\" fill-opacity=\"1\" stroke=\"#000000\" stroke-opacity=\"1\" stroke-width=\"3.2\"/>\n<circle clip-path=\"url(#clip712)\" cx=\"430.128\" cy=\"526.115\" r=\"14.4\" fill=\"#009af9\" fill-rule=\"evenodd\" fill-opacity=\"1\" stroke=\"#000000\" stroke-opacity=\"1\" stroke-width=\"3.2\"/>\n<circle clip-path=\"url(#clip712)\" cx=\"1126.13\" cy=\"744.541\" r=\"14.4\" fill=\"#009af9\" fill-rule=\"evenodd\" fill-opacity=\"1\" stroke=\"#000000\" stroke-opacity=\"1\" stroke-width=\"3.2\"/>\n<circle clip-path=\"url(#clip712)\" cx=\"1772.69\" cy=\"656.117\" r=\"14.4\" fill=\"#009af9\" fill-rule=\"evenodd\" fill-opacity=\"1\" stroke=\"#000000\" stroke-opacity=\"1\" stroke-width=\"3.2\"/>\n<circle clip-path=\"url(#clip712)\" cx=\"627.687\" cy=\"928.438\" r=\"14.4\" fill=\"#009af9\" fill-rule=\"evenodd\" fill-opacity=\"1\" stroke=\"#000000\" stroke-opacity=\"1\" stroke-width=\"3.2\"/>\n<circle clip-path=\"url(#clip712)\" cx=\"1049.8\" cy=\"1049.56\" r=\"14.4\" fill=\"#009af9\" fill-rule=\"evenodd\" fill-opacity=\"1\" stroke=\"#000000\" stroke-opacity=\"1\" stroke-width=\"3.2\"/>\n<circle clip-path=\"url(#clip712)\" cx=\"1416.27\" cy=\"877.545\" r=\"14.4\" fill=\"#009af9\" fill-rule=\"evenodd\" fill-opacity=\"1\" stroke=\"#000000\" stroke-opacity=\"1\" stroke-width=\"3.2\"/>\n<circle clip-path=\"url(#clip712)\" cx=\"2178.57\" cy=\"752.7\" r=\"14.4\" fill=\"#009af9\" fill-rule=\"evenodd\" fill-opacity=\"1\" stroke=\"#000000\" stroke-opacity=\"1\" stroke-width=\"3.2\"/>\n<circle clip-path=\"url(#clip712)\" cx=\"2282.2\" cy=\"269.03\" r=\"14.4\" fill=\"#009af9\" fill-rule=\"evenodd\" fill-opacity=\"1\" stroke=\"#000000\" stroke-opacity=\"1\" stroke-width=\"3.2\"/>\n<circle clip-path=\"url(#clip712)\" cx=\"719.493\" cy=\"1029.02\" r=\"14.4\" fill=\"#009af9\" fill-rule=\"evenodd\" fill-opacity=\"1\" stroke=\"#000000\" stroke-opacity=\"1\" stroke-width=\"3.2\"/>\n<circle clip-path=\"url(#clip712)\" cx=\"1797.14\" cy=\"720.02\" r=\"14.4\" fill=\"#009af9\" fill-rule=\"evenodd\" fill-opacity=\"1\" stroke=\"#000000\" stroke-opacity=\"1\" stroke-width=\"3.2\"/>\n<circle clip-path=\"url(#clip712)\" cx=\"1238.4\" cy=\"959.609\" r=\"14.4\" fill=\"#009af9\" fill-rule=\"evenodd\" fill-opacity=\"1\" stroke=\"#000000\" stroke-opacity=\"1\" stroke-width=\"3.2\"/>\n<circle clip-path=\"url(#clip712)\" cx=\"1450.19\" cy=\"310.381\" r=\"14.4\" fill=\"#009af9\" fill-rule=\"evenodd\" fill-opacity=\"1\" stroke=\"#000000\" stroke-opacity=\"1\" stroke-width=\"3.2\"/>\n<circle clip-path=\"url(#clip712)\" cx=\"674.76\" cy=\"1154.38\" r=\"14.4\" fill=\"#009af9\" fill-rule=\"evenodd\" fill-opacity=\"1\" stroke=\"#000000\" stroke-opacity=\"1\" stroke-width=\"3.2\"/>\n<circle clip-path=\"url(#clip712)\" cx=\"992.736\" cy=\"1101.61\" r=\"14.4\" fill=\"#009af9\" fill-rule=\"evenodd\" fill-opacity=\"1\" stroke=\"#000000\" stroke-opacity=\"1\" stroke-width=\"3.2\"/>\n<circle clip-path=\"url(#clip712)\" cx=\"2042.22\" cy=\"296.2\" r=\"14.4\" fill=\"#009af9\" fill-rule=\"evenodd\" fill-opacity=\"1\" stroke=\"#000000\" stroke-opacity=\"1\" stroke-width=\"3.2\"/>\n<circle clip-path=\"url(#clip712)\" cx=\"1990.64\" cy=\"210.754\" r=\"14.4\" fill=\"#009af9\" fill-rule=\"evenodd\" fill-opacity=\"1\" stroke=\"#000000\" stroke-opacity=\"1\" stroke-width=\"3.2\"/>\n<circle clip-path=\"url(#clip712)\" cx=\"1630.94\" cy=\"403.112\" r=\"14.4\" fill=\"#009af9\" fill-rule=\"evenodd\" fill-opacity=\"1\" stroke=\"#000000\" stroke-opacity=\"1\" stroke-width=\"3.2\"/>\n<circle clip-path=\"url(#clip712)\" cx=\"1041.5\" cy=\"539.172\" r=\"14.4\" fill=\"#009af9\" fill-rule=\"evenodd\" fill-opacity=\"1\" stroke=\"#000000\" stroke-opacity=\"1\" stroke-width=\"3.2\"/>\n<circle clip-path=\"url(#clip712)\" cx=\"684.586\" cy=\"909.109\" r=\"14.4\" fill=\"#009af9\" fill-rule=\"evenodd\" fill-opacity=\"1\" stroke=\"#000000\" stroke-opacity=\"1\" stroke-width=\"3.2\"/>\n<circle clip-path=\"url(#clip712)\" cx=\"839.235\" cy=\"588.434\" r=\"14.4\" fill=\"#009af9\" fill-rule=\"evenodd\" fill-opacity=\"1\" stroke=\"#000000\" stroke-opacity=\"1\" stroke-width=\"3.2\"/>\n<circle clip-path=\"url(#clip712)\" cx=\"1535.59\" cy=\"1074.09\" r=\"14.4\" fill=\"#009af9\" fill-rule=\"evenodd\" fill-opacity=\"1\" stroke=\"#000000\" stroke-opacity=\"1\" stroke-width=\"3.2\"/>\n<circle clip-path=\"url(#clip712)\" cx=\"1637.55\" cy=\"1003.06\" r=\"14.4\" fill=\"#009af9\" fill-rule=\"evenodd\" fill-opacity=\"1\" stroke=\"#000000\" stroke-opacity=\"1\" stroke-width=\"3.2\"/>\n<circle clip-path=\"url(#clip712)\" cx=\"853.828\" cy=\"1227.31\" r=\"14.4\" fill=\"#009af9\" fill-rule=\"evenodd\" fill-opacity=\"1\" stroke=\"#000000\" stroke-opacity=\"1\" stroke-width=\"3.2\"/>\n<circle clip-path=\"url(#clip712)\" cx=\"279.058\" cy=\"659.314\" r=\"14.4\" fill=\"#009af9\" fill-rule=\"evenodd\" fill-opacity=\"1\" stroke=\"#000000\" stroke-opacity=\"1\" stroke-width=\"3.2\"/>\n<circle clip-path=\"url(#clip712)\" cx=\"716.086\" cy=\"1203.05\" r=\"14.4\" fill=\"#009af9\" fill-rule=\"evenodd\" fill-opacity=\"1\" stroke=\"#000000\" stroke-opacity=\"1\" stroke-width=\"3.2\"/>\n<circle clip-path=\"url(#clip712)\" cx=\"1213.06\" cy=\"1210.67\" r=\"14.4\" fill=\"#009af9\" fill-rule=\"evenodd\" fill-opacity=\"1\" stroke=\"#000000\" stroke-opacity=\"1\" stroke-width=\"3.2\"/>\n<circle clip-path=\"url(#clip712)\" cx=\"728.337\" cy=\"572.59\" r=\"14.4\" fill=\"#009af9\" fill-rule=\"evenodd\" fill-opacity=\"1\" stroke=\"#000000\" stroke-opacity=\"1\" stroke-width=\"3.2\"/>\n<circle clip-path=\"url(#clip712)\" cx=\"861.47\" cy=\"1232.23\" r=\"14.4\" fill=\"#009af9\" fill-rule=\"evenodd\" fill-opacity=\"1\" stroke=\"#000000\" stroke-opacity=\"1\" stroke-width=\"3.2\"/>\n<circle clip-path=\"url(#clip712)\" cx=\"1088.21\" cy=\"986.61\" r=\"14.4\" fill=\"#009af9\" fill-rule=\"evenodd\" fill-opacity=\"1\" stroke=\"#000000\" stroke-opacity=\"1\" stroke-width=\"3.2\"/>\n<circle clip-path=\"url(#clip712)\" cx=\"1520.26\" cy=\"385.906\" r=\"14.4\" fill=\"#009af9\" fill-rule=\"evenodd\" fill-opacity=\"1\" stroke=\"#000000\" stroke-opacity=\"1\" stroke-width=\"3.2\"/>\n<circle clip-path=\"url(#clip712)\" cx=\"1797.11\" cy=\"1018.99\" r=\"14.4\" fill=\"#009af9\" fill-rule=\"evenodd\" fill-opacity=\"1\" stroke=\"#000000\" stroke-opacity=\"1\" stroke-width=\"3.2\"/>\n<circle clip-path=\"url(#clip712)\" cx=\"402.244\" cy=\"1070.8\" r=\"14.4\" fill=\"#009af9\" fill-rule=\"evenodd\" fill-opacity=\"1\" stroke=\"#000000\" stroke-opacity=\"1\" stroke-width=\"3.2\"/>\n<circle clip-path=\"url(#clip712)\" cx=\"1532.27\" cy=\"705.924\" r=\"14.4\" fill=\"#009af9\" fill-rule=\"evenodd\" fill-opacity=\"1\" stroke=\"#000000\" stroke-opacity=\"1\" stroke-width=\"3.2\"/>\n<circle clip-path=\"url(#clip712)\" cx=\"559.413\" cy=\"1234.63\" r=\"14.4\" fill=\"#009af9\" fill-rule=\"evenodd\" fill-opacity=\"1\" stroke=\"#000000\" stroke-opacity=\"1\" stroke-width=\"3.2\"/>\n<circle clip-path=\"url(#clip712)\" cx=\"443.306\" cy=\"1287.89\" r=\"14.4\" fill=\"#009af9\" fill-rule=\"evenodd\" fill-opacity=\"1\" stroke=\"#000000\" stroke-opacity=\"1\" stroke-width=\"3.2\"/>\n<circle clip-path=\"url(#clip712)\" cx=\"2077.98\" cy=\"875.16\" r=\"14.4\" fill=\"#009af9\" fill-rule=\"evenodd\" fill-opacity=\"1\" stroke=\"#000000\" stroke-opacity=\"1\" stroke-width=\"3.2\"/>\n<circle clip-path=\"url(#clip712)\" cx=\"432.574\" cy=\"931.262\" r=\"14.4\" fill=\"#009af9\" fill-rule=\"evenodd\" fill-opacity=\"1\" stroke=\"#000000\" stroke-opacity=\"1\" stroke-width=\"3.2\"/>\n<circle clip-path=\"url(#clip712)\" cx=\"426.627\" cy=\"1239.3\" r=\"14.4\" fill=\"#009af9\" fill-rule=\"evenodd\" fill-opacity=\"1\" stroke=\"#000000\" stroke-opacity=\"1\" stroke-width=\"3.2\"/>\n<circle clip-path=\"url(#clip712)\" cx=\"1590.11\" cy=\"975.361\" r=\"14.4\" fill=\"#009af9\" fill-rule=\"evenodd\" fill-opacity=\"1\" stroke=\"#000000\" stroke-opacity=\"1\" stroke-width=\"3.2\"/>\n<circle clip-path=\"url(#clip712)\" cx=\"1557.72\" cy=\"1068.77\" r=\"14.4\" fill=\"#009af9\" fill-rule=\"evenodd\" fill-opacity=\"1\" stroke=\"#000000\" stroke-opacity=\"1\" stroke-width=\"3.2\"/>\n<circle clip-path=\"url(#clip712)\" cx=\"1261.18\" cy=\"776.571\" r=\"14.4\" fill=\"#009af9\" fill-rule=\"evenodd\" fill-opacity=\"1\" stroke=\"#000000\" stroke-opacity=\"1\" stroke-width=\"3.2\"/>\n<circle clip-path=\"url(#clip712)\" cx=\"767.761\" cy=\"535.469\" r=\"14.4\" fill=\"#009af9\" fill-rule=\"evenodd\" fill-opacity=\"1\" stroke=\"#000000\" stroke-opacity=\"1\" stroke-width=\"3.2\"/>\n<circle clip-path=\"url(#clip712)\" cx=\"1150.42\" cy=\"973.085\" r=\"14.4\" fill=\"#009af9\" fill-rule=\"evenodd\" fill-opacity=\"1\" stroke=\"#000000\" stroke-opacity=\"1\" stroke-width=\"3.2\"/>\n<circle clip-path=\"url(#clip712)\" cx=\"355.611\" cy=\"956.59\" r=\"14.4\" fill=\"#009af9\" fill-rule=\"evenodd\" fill-opacity=\"1\" stroke=\"#000000\" stroke-opacity=\"1\" stroke-width=\"3.2\"/>\n<circle clip-path=\"url(#clip712)\" cx=\"1584.21\" cy=\"996.801\" r=\"14.4\" fill=\"#009af9\" fill-rule=\"evenodd\" fill-opacity=\"1\" stroke=\"#000000\" stroke-opacity=\"1\" stroke-width=\"3.2\"/>\n<circle clip-path=\"url(#clip712)\" cx=\"586.868\" cy=\"886.444\" r=\"14.4\" fill=\"#009af9\" fill-rule=\"evenodd\" fill-opacity=\"1\" stroke=\"#000000\" stroke-opacity=\"1\" stroke-width=\"3.2\"/>\n<circle clip-path=\"url(#clip712)\" cx=\"835.475\" cy=\"1011.84\" r=\"14.4\" fill=\"#009af9\" fill-rule=\"evenodd\" fill-opacity=\"1\" stroke=\"#000000\" stroke-opacity=\"1\" stroke-width=\"3.2\"/>\n<circle clip-path=\"url(#clip712)\" cx=\"595.974\" cy=\"1309.98\" r=\"14.4\" fill=\"#009af9\" fill-rule=\"evenodd\" fill-opacity=\"1\" stroke=\"#000000\" stroke-opacity=\"1\" stroke-width=\"3.2\"/>\n<circle clip-path=\"url(#clip712)\" cx=\"944.771\" cy=\"520.567\" r=\"14.4\" fill=\"#009af9\" fill-rule=\"evenodd\" fill-opacity=\"1\" stroke=\"#000000\" stroke-opacity=\"1\" stroke-width=\"3.2\"/>\n<circle clip-path=\"url(#clip712)\" cx=\"826.893\" cy=\"958.825\" r=\"14.4\" fill=\"#009af9\" fill-rule=\"evenodd\" fill-opacity=\"1\" stroke=\"#000000\" stroke-opacity=\"1\" stroke-width=\"3.2\"/>\n<circle clip-path=\"url(#clip712)\" cx=\"1843\" cy=\"368.721\" r=\"14.4\" fill=\"#009af9\" fill-rule=\"evenodd\" fill-opacity=\"1\" stroke=\"#000000\" stroke-opacity=\"1\" stroke-width=\"3.2\"/>\n<circle clip-path=\"url(#clip712)\" cx=\"248.981\" cy=\"1150.94\" r=\"14.4\" fill=\"#009af9\" fill-rule=\"evenodd\" fill-opacity=\"1\" stroke=\"#000000\" stroke-opacity=\"1\" stroke-width=\"3.2\"/>\n<circle clip-path=\"url(#clip712)\" cx=\"876.68\" cy=\"704.641\" r=\"14.4\" fill=\"#009af9\" fill-rule=\"evenodd\" fill-opacity=\"1\" stroke=\"#000000\" stroke-opacity=\"1\" stroke-width=\"3.2\"/>\n<circle clip-path=\"url(#clip712)\" cx=\"1514.97\" cy=\"875.643\" r=\"14.4\" fill=\"#009af9\" fill-rule=\"evenodd\" fill-opacity=\"1\" stroke=\"#000000\" stroke-opacity=\"1\" stroke-width=\"3.2\"/>\n<circle clip-path=\"url(#clip712)\" cx=\"1902.52\" cy=\"394.4\" r=\"14.4\" fill=\"#009af9\" fill-rule=\"evenodd\" fill-opacity=\"1\" stroke=\"#000000\" stroke-opacity=\"1\" stroke-width=\"3.2\"/>\n<circle clip-path=\"url(#clip712)\" cx=\"1191.59\" cy=\"526.287\" r=\"14.4\" fill=\"#009af9\" fill-rule=\"evenodd\" fill-opacity=\"1\" stroke=\"#000000\" stroke-opacity=\"1\" stroke-width=\"3.2\"/>\n<circle clip-path=\"url(#clip712)\" cx=\"1501.61\" cy=\"584.91\" r=\"14.4\" fill=\"#009af9\" fill-rule=\"evenodd\" fill-opacity=\"1\" stroke=\"#000000\" stroke-opacity=\"1\" stroke-width=\"3.2\"/>\n<circle clip-path=\"url(#clip712)\" cx=\"768.76\" cy=\"775.579\" r=\"14.4\" fill=\"#009af9\" fill-rule=\"evenodd\" fill-opacity=\"1\" stroke=\"#000000\" stroke-opacity=\"1\" stroke-width=\"3.2\"/>\n<circle clip-path=\"url(#clip712)\" cx=\"402.477\" cy=\"848.667\" r=\"14.4\" fill=\"#009af9\" fill-rule=\"evenodd\" fill-opacity=\"1\" stroke=\"#000000\" stroke-opacity=\"1\" stroke-width=\"3.2\"/>\n<circle clip-path=\"url(#clip712)\" cx=\"1477.73\" cy=\"782.109\" r=\"14.4\" fill=\"#009af9\" fill-rule=\"evenodd\" fill-opacity=\"1\" stroke=\"#000000\" stroke-opacity=\"1\" stroke-width=\"3.2\"/>\n<circle clip-path=\"url(#clip712)\" cx=\"1088.33\" cy=\"917.404\" r=\"14.4\" fill=\"#009af9\" fill-rule=\"evenodd\" fill-opacity=\"1\" stroke=\"#000000\" stroke-opacity=\"1\" stroke-width=\"3.2\"/>\n<circle clip-path=\"url(#clip712)\" cx=\"735.189\" cy=\"610.951\" r=\"14.4\" fill=\"#009af9\" fill-rule=\"evenodd\" fill-opacity=\"1\" stroke=\"#000000\" stroke-opacity=\"1\" stroke-width=\"3.2\"/>\n<circle clip-path=\"url(#clip712)\" cx=\"1369.78\" cy=\"1052.49\" r=\"14.4\" fill=\"#009af9\" fill-rule=\"evenodd\" fill-opacity=\"1\" stroke=\"#000000\" stroke-opacity=\"1\" stroke-width=\"3.2\"/>\n<circle clip-path=\"url(#clip712)\" cx=\"892.468\" cy=\"1013.8\" r=\"14.4\" fill=\"#009af9\" fill-rule=\"evenodd\" fill-opacity=\"1\" stroke=\"#000000\" stroke-opacity=\"1\" stroke-width=\"3.2\"/>\n<circle clip-path=\"url(#clip712)\" cx=\"1863.88\" cy=\"380.564\" r=\"14.4\" fill=\"#009af9\" fill-rule=\"evenodd\" fill-opacity=\"1\" stroke=\"#000000\" stroke-opacity=\"1\" stroke-width=\"3.2\"/>\n<circle clip-path=\"url(#clip712)\" cx=\"1235.28\" cy=\"1108.62\" r=\"14.4\" fill=\"#009af9\" fill-rule=\"evenodd\" fill-opacity=\"1\" stroke=\"#000000\" stroke-opacity=\"1\" stroke-width=\"3.2\"/>\n<circle clip-path=\"url(#clip712)\" cx=\"2195.23\" cy=\"614.458\" r=\"14.4\" fill=\"#009af9\" fill-rule=\"evenodd\" fill-opacity=\"1\" stroke=\"#000000\" stroke-opacity=\"1\" stroke-width=\"3.2\"/>\n<circle clip-path=\"url(#clip712)\" cx=\"2130.87\" cy=\"198.687\" r=\"14.4\" fill=\"#009af9\" fill-rule=\"evenodd\" fill-opacity=\"1\" stroke=\"#000000\" stroke-opacity=\"1\" stroke-width=\"3.2\"/>\n<circle clip-path=\"url(#clip712)\" cx=\"1297.33\" cy=\"959.394\" r=\"14.4\" fill=\"#009af9\" fill-rule=\"evenodd\" fill-opacity=\"1\" stroke=\"#000000\" stroke-opacity=\"1\" stroke-width=\"3.2\"/>\n<circle clip-path=\"url(#clip712)\" cx=\"2002.99\" cy=\"927.468\" r=\"14.4\" fill=\"#009af9\" fill-rule=\"evenodd\" fill-opacity=\"1\" stroke=\"#000000\" stroke-opacity=\"1\" stroke-width=\"3.2\"/>\n<circle clip-path=\"url(#clip712)\" cx=\"400.971\" cy=\"789.711\" r=\"14.4\" fill=\"#009af9\" fill-rule=\"evenodd\" fill-opacity=\"1\" stroke=\"#000000\" stroke-opacity=\"1\" stroke-width=\"3.2\"/>\n<circle clip-path=\"url(#clip712)\" cx=\"1782.35\" cy=\"840.593\" r=\"14.4\" fill=\"#009af9\" fill-rule=\"evenodd\" fill-opacity=\"1\" stroke=\"#000000\" stroke-opacity=\"1\" stroke-width=\"3.2\"/>\n<circle clip-path=\"url(#clip712)\" cx=\"385.051\" cy=\"876.618\" r=\"14.4\" fill=\"#009af9\" fill-rule=\"evenodd\" fill-opacity=\"1\" stroke=\"#000000\" stroke-opacity=\"1\" stroke-width=\"3.2\"/>\n<circle clip-path=\"url(#clip712)\" cx=\"1222.1\" cy=\"619.632\" r=\"14.4\" fill=\"#009af9\" fill-rule=\"evenodd\" fill-opacity=\"1\" stroke=\"#000000\" stroke-opacity=\"1\" stroke-width=\"3.2\"/>\n<circle clip-path=\"url(#clip712)\" cx=\"534.21\" cy=\"704.33\" r=\"14.4\" fill=\"#009af9\" fill-rule=\"evenodd\" fill-opacity=\"1\" stroke=\"#000000\" stroke-opacity=\"1\" stroke-width=\"3.2\"/>\n<circle clip-path=\"url(#clip712)\" cx=\"403.182\" cy=\"1080.46\" r=\"14.4\" fill=\"#009af9\" fill-rule=\"evenodd\" fill-opacity=\"1\" stroke=\"#000000\" stroke-opacity=\"1\" stroke-width=\"3.2\"/>\n<circle clip-path=\"url(#clip712)\" cx=\"625.536\" cy=\"640.235\" r=\"14.4\" fill=\"#009af9\" fill-rule=\"evenodd\" fill-opacity=\"1\" stroke=\"#000000\" stroke-opacity=\"1\" stroke-width=\"3.2\"/>\n<circle clip-path=\"url(#clip712)\" cx=\"898.203\" cy=\"615.389\" r=\"14.4\" fill=\"#009af9\" fill-rule=\"evenodd\" fill-opacity=\"1\" stroke=\"#000000\" stroke-opacity=\"1\" stroke-width=\"3.2\"/>\n<circle clip-path=\"url(#clip712)\" cx=\"2249\" cy=\"151.276\" r=\"14.4\" fill=\"#009af9\" fill-rule=\"evenodd\" fill-opacity=\"1\" stroke=\"#000000\" stroke-opacity=\"1\" stroke-width=\"3.2\"/>\n<circle clip-path=\"url(#clip712)\" cx=\"1109.33\" cy=\"691.962\" r=\"14.4\" fill=\"#009af9\" fill-rule=\"evenodd\" fill-opacity=\"1\" stroke=\"#000000\" stroke-opacity=\"1\" stroke-width=\"3.2\"/>\n<circle clip-path=\"url(#clip712)\" cx=\"1388.92\" cy=\"656.899\" r=\"14.4\" fill=\"#009af9\" fill-rule=\"evenodd\" fill-opacity=\"1\" stroke=\"#000000\" stroke-opacity=\"1\" stroke-width=\"3.2\"/>\n<circle clip-path=\"url(#clip712)\" cx=\"1339.96\" cy=\"1184.97\" r=\"14.4\" fill=\"#009af9\" fill-rule=\"evenodd\" fill-opacity=\"1\" stroke=\"#000000\" stroke-opacity=\"1\" stroke-width=\"3.2\"/>\n<circle clip-path=\"url(#clip712)\" cx=\"1647.88\" cy=\"341.625\" r=\"14.4\" fill=\"#009af9\" fill-rule=\"evenodd\" fill-opacity=\"1\" stroke=\"#000000\" stroke-opacity=\"1\" stroke-width=\"3.2\"/>\n<circle clip-path=\"url(#clip712)\" cx=\"560.826\" cy=\"983.086\" r=\"14.4\" fill=\"#009af9\" fill-rule=\"evenodd\" fill-opacity=\"1\" stroke=\"#000000\" stroke-opacity=\"1\" stroke-width=\"3.2\"/>\n<circle clip-path=\"url(#clip712)\" cx=\"1266.31\" cy=\"528.197\" r=\"14.4\" fill=\"#009af9\" fill-rule=\"evenodd\" fill-opacity=\"1\" stroke=\"#000000\" stroke-opacity=\"1\" stroke-width=\"3.2\"/>\n<circle clip-path=\"url(#clip712)\" cx=\"701.907\" cy=\"881.395\" r=\"14.4\" fill=\"#009af9\" fill-rule=\"evenodd\" fill-opacity=\"1\" stroke=\"#000000\" stroke-opacity=\"1\" stroke-width=\"3.2\"/>\n<circle clip-path=\"url(#clip712)\" cx=\"1730.19\" cy=\"658.475\" r=\"14.4\" fill=\"#009af9\" fill-rule=\"evenodd\" fill-opacity=\"1\" stroke=\"#000000\" stroke-opacity=\"1\" stroke-width=\"3.2\"/>\n<circle clip-path=\"url(#clip712)\" cx=\"600.546\" cy=\"1249.81\" r=\"14.4\" fill=\"#009af9\" fill-rule=\"evenodd\" fill-opacity=\"1\" stroke=\"#000000\" stroke-opacity=\"1\" stroke-width=\"3.2\"/>\n<circle clip-path=\"url(#clip712)\" cx=\"652.897\" cy=\"704.75\" r=\"14.4\" fill=\"#009af9\" fill-rule=\"evenodd\" fill-opacity=\"1\" stroke=\"#000000\" stroke-opacity=\"1\" stroke-width=\"3.2\"/>\n<circle clip-path=\"url(#clip712)\" cx=\"2037.25\" cy=\"507.041\" r=\"14.4\" fill=\"#009af9\" fill-rule=\"evenodd\" fill-opacity=\"1\" stroke=\"#000000\" stroke-opacity=\"1\" stroke-width=\"3.2\"/>\n<circle clip-path=\"url(#clip712)\" cx=\"1148.01\" cy=\"1206.77\" r=\"14.4\" fill=\"#009af9\" fill-rule=\"evenodd\" fill-opacity=\"1\" stroke=\"#000000\" stroke-opacity=\"1\" stroke-width=\"3.2\"/>\n<circle clip-path=\"url(#clip712)\" cx=\"1690.56\" cy=\"789.329\" r=\"14.4\" fill=\"#009af9\" fill-rule=\"evenodd\" fill-opacity=\"1\" stroke=\"#000000\" stroke-opacity=\"1\" stroke-width=\"3.2\"/>\n<circle clip-path=\"url(#clip712)\" cx=\"954.698\" cy=\"1288.03\" r=\"14.4\" fill=\"#009af9\" fill-rule=\"evenodd\" fill-opacity=\"1\" stroke=\"#000000\" stroke-opacity=\"1\" stroke-width=\"3.2\"/>\n<circle clip-path=\"url(#clip712)\" cx=\"2074.81\" cy=\"155.612\" r=\"14.4\" fill=\"#009af9\" fill-rule=\"evenodd\" fill-opacity=\"1\" stroke=\"#000000\" stroke-opacity=\"1\" stroke-width=\"3.2\"/>\n<circle clip-path=\"url(#clip712)\" cx=\"1195.16\" cy=\"762.936\" r=\"14.4\" fill=\"#009af9\" fill-rule=\"evenodd\" fill-opacity=\"1\" stroke=\"#000000\" stroke-opacity=\"1\" stroke-width=\"3.2\"/>\n<circle clip-path=\"url(#clip712)\" cx=\"736.646\" cy=\"1346.52\" r=\"14.4\" fill=\"#009af9\" fill-rule=\"evenodd\" fill-opacity=\"1\" stroke=\"#000000\" stroke-opacity=\"1\" stroke-width=\"3.2\"/>\n<circle clip-path=\"url(#clip712)\" cx=\"1946.91\" cy=\"329.565\" r=\"14.4\" fill=\"#009af9\" fill-rule=\"evenodd\" fill-opacity=\"1\" stroke=\"#000000\" stroke-opacity=\"1\" stroke-width=\"3.2\"/>\n<circle clip-path=\"url(#clip712)\" cx=\"370.055\" cy=\"1074.64\" r=\"14.4\" fill=\"#009af9\" fill-rule=\"evenodd\" fill-opacity=\"1\" stroke=\"#000000\" stroke-opacity=\"1\" stroke-width=\"3.2\"/>\n<circle clip-path=\"url(#clip712)\" cx=\"835.136\" cy=\"1106.08\" r=\"14.4\" fill=\"#009af9\" fill-rule=\"evenodd\" fill-opacity=\"1\" stroke=\"#000000\" stroke-opacity=\"1\" stroke-width=\"3.2\"/>\n<circle clip-path=\"url(#clip712)\" cx=\"716.16\" cy=\"568.055\" r=\"14.4\" fill=\"#009af9\" fill-rule=\"evenodd\" fill-opacity=\"1\" stroke=\"#000000\" stroke-opacity=\"1\" stroke-width=\"3.2\"/>\n<circle clip-path=\"url(#clip712)\" cx=\"340.388\" cy=\"1103.89\" r=\"14.4\" fill=\"#009af9\" fill-rule=\"evenodd\" fill-opacity=\"1\" stroke=\"#000000\" stroke-opacity=\"1\" stroke-width=\"3.2\"/>\n<circle clip-path=\"url(#clip712)\" cx=\"2262.98\" cy=\"395.309\" r=\"14.4\" fill=\"#009af9\" fill-rule=\"evenodd\" fill-opacity=\"1\" stroke=\"#000000\" stroke-opacity=\"1\" stroke-width=\"3.2\"/>\n<circle clip-path=\"url(#clip712)\" cx=\"619.472\" cy=\"700.037\" r=\"14.4\" fill=\"#009af9\" fill-rule=\"evenodd\" fill-opacity=\"1\" stroke=\"#000000\" stroke-opacity=\"1\" stroke-width=\"3.2\"/>\n<circle clip-path=\"url(#clip712)\" cx=\"1061.92\" cy=\"868.756\" r=\"14.4\" fill=\"#009af9\" fill-rule=\"evenodd\" fill-opacity=\"1\" stroke=\"#000000\" stroke-opacity=\"1\" stroke-width=\"3.2\"/>\n<circle clip-path=\"url(#clip712)\" cx=\"550.657\" cy=\"689.09\" r=\"14.4\" fill=\"#009af9\" fill-rule=\"evenodd\" fill-opacity=\"1\" stroke=\"#000000\" stroke-opacity=\"1\" stroke-width=\"3.2\"/>\n<circle clip-path=\"url(#clip712)\" cx=\"1111.78\" cy=\"432.756\" r=\"14.4\" fill=\"#009af9\" fill-rule=\"evenodd\" fill-opacity=\"1\" stroke=\"#000000\" stroke-opacity=\"1\" stroke-width=\"3.2\"/>\n<circle clip-path=\"url(#clip712)\" cx=\"517.788\" cy=\"866.637\" r=\"14.4\" fill=\"#009af9\" fill-rule=\"evenodd\" fill-opacity=\"1\" stroke=\"#000000\" stroke-opacity=\"1\" stroke-width=\"3.2\"/>\n<circle clip-path=\"url(#clip712)\" cx=\"1481.18\" cy=\"1078.64\" r=\"14.4\" fill=\"#009af9\" fill-rule=\"evenodd\" fill-opacity=\"1\" stroke=\"#000000\" stroke-opacity=\"1\" stroke-width=\"3.2\"/>\n<circle clip-path=\"url(#clip712)\" cx=\"1621.85\" cy=\"589.564\" r=\"14.4\" fill=\"#009af9\" fill-rule=\"evenodd\" fill-opacity=\"1\" stroke=\"#000000\" stroke-opacity=\"1\" stroke-width=\"3.2\"/>\n<circle clip-path=\"url(#clip712)\" cx=\"389.194\" cy=\"930.968\" r=\"14.4\" fill=\"#009af9\" fill-rule=\"evenodd\" fill-opacity=\"1\" stroke=\"#000000\" stroke-opacity=\"1\" stroke-width=\"3.2\"/>\n<circle clip-path=\"url(#clip712)\" cx=\"1121.14\" cy=\"1257.62\" r=\"14.4\" fill=\"#009af9\" fill-rule=\"evenodd\" fill-opacity=\"1\" stroke=\"#000000\" stroke-opacity=\"1\" stroke-width=\"3.2\"/>\n<circle clip-path=\"url(#clip712)\" cx=\"1684.3\" cy=\"779.995\" r=\"14.4\" fill=\"#009af9\" fill-rule=\"evenodd\" fill-opacity=\"1\" stroke=\"#000000\" stroke-opacity=\"1\" stroke-width=\"3.2\"/>\n<circle clip-path=\"url(#clip712)\" cx=\"1455.26\" cy=\"399.996\" r=\"14.4\" fill=\"#009af9\" fill-rule=\"evenodd\" fill-opacity=\"1\" stroke=\"#000000\" stroke-opacity=\"1\" stroke-width=\"3.2\"/>\n<circle clip-path=\"url(#clip712)\" cx=\"1910.53\" cy=\"727.884\" r=\"14.4\" fill=\"#009af9\" fill-rule=\"evenodd\" fill-opacity=\"1\" stroke=\"#000000\" stroke-opacity=\"1\" stroke-width=\"3.2\"/>\n<circle clip-path=\"url(#clip712)\" cx=\"2018.89\" cy=\"183.58\" r=\"14.4\" fill=\"#009af9\" fill-rule=\"evenodd\" fill-opacity=\"1\" stroke=\"#000000\" stroke-opacity=\"1\" stroke-width=\"3.2\"/>\n<circle clip-path=\"url(#clip712)\" cx=\"1842.52\" cy=\"745.583\" r=\"14.4\" fill=\"#009af9\" fill-rule=\"evenodd\" fill-opacity=\"1\" stroke=\"#000000\" stroke-opacity=\"1\" stroke-width=\"3.2\"/>\n<circle clip-path=\"url(#clip712)\" cx=\"2280.62\" cy=\"867.594\" r=\"14.4\" fill=\"#009af9\" fill-rule=\"evenodd\" fill-opacity=\"1\" stroke=\"#000000\" stroke-opacity=\"1\" stroke-width=\"3.2\"/>\n<circle clip-path=\"url(#clip712)\" cx=\"1755.82\" cy=\"333.07\" r=\"14.4\" fill=\"#009af9\" fill-rule=\"evenodd\" fill-opacity=\"1\" stroke=\"#000000\" stroke-opacity=\"1\" stroke-width=\"3.2\"/>\n<circle clip-path=\"url(#clip712)\" cx=\"2289.17\" cy=\"512.721\" r=\"14.4\" fill=\"#009af9\" fill-rule=\"evenodd\" fill-opacity=\"1\" stroke=\"#000000\" stroke-opacity=\"1\" stroke-width=\"3.2\"/>\n<circle clip-path=\"url(#clip712)\" cx=\"361.59\" cy=\"740.421\" r=\"14.4\" fill=\"#009af9\" fill-rule=\"evenodd\" fill-opacity=\"1\" stroke=\"#000000\" stroke-opacity=\"1\" stroke-width=\"3.2\"/>\n<circle clip-path=\"url(#clip712)\" cx=\"583.717\" cy=\"1264.62\" r=\"14.4\" fill=\"#009af9\" fill-rule=\"evenodd\" fill-opacity=\"1\" stroke=\"#000000\" stroke-opacity=\"1\" stroke-width=\"3.2\"/>\n<circle clip-path=\"url(#clip712)\" cx=\"1854.37\" cy=\"960.218\" r=\"14.4\" fill=\"#009af9\" fill-rule=\"evenodd\" fill-opacity=\"1\" stroke=\"#000000\" stroke-opacity=\"1\" stroke-width=\"3.2\"/>\n<circle clip-path=\"url(#clip712)\" cx=\"658.376\" cy=\"567.482\" r=\"14.4\" fill=\"#009af9\" fill-rule=\"evenodd\" fill-opacity=\"1\" stroke=\"#000000\" stroke-opacity=\"1\" stroke-width=\"3.2\"/>\n<circle clip-path=\"url(#clip712)\" cx=\"715.28\" cy=\"781.999\" r=\"14.4\" fill=\"#009af9\" fill-rule=\"evenodd\" fill-opacity=\"1\" stroke=\"#000000\" stroke-opacity=\"1\" stroke-width=\"3.2\"/>\n<circle clip-path=\"url(#clip712)\" cx=\"611.154\" cy=\"1147.74\" r=\"14.4\" fill=\"#009af9\" fill-rule=\"evenodd\" fill-opacity=\"1\" stroke=\"#000000\" stroke-opacity=\"1\" stroke-width=\"3.2\"/>\n<circle clip-path=\"url(#clip712)\" cx=\"1561.52\" cy=\"787.17\" r=\"14.4\" fill=\"#009af9\" fill-rule=\"evenodd\" fill-opacity=\"1\" stroke=\"#000000\" stroke-opacity=\"1\" stroke-width=\"3.2\"/>\n<circle clip-path=\"url(#clip712)\" cx=\"1728.19\" cy=\"359.525\" r=\"14.4\" fill=\"#009af9\" fill-rule=\"evenodd\" fill-opacity=\"1\" stroke=\"#000000\" stroke-opacity=\"1\" stroke-width=\"3.2\"/>\n<circle clip-path=\"url(#clip712)\" cx=\"436.334\" cy=\"670.729\" r=\"14.4\" fill=\"#009af9\" fill-rule=\"evenodd\" fill-opacity=\"1\" stroke=\"#000000\" stroke-opacity=\"1\" stroke-width=\"3.2\"/>\n<circle clip-path=\"url(#clip712)\" cx=\"2251.45\" cy=\"901.857\" r=\"14.4\" fill=\"#009af9\" fill-rule=\"evenodd\" fill-opacity=\"1\" stroke=\"#000000\" stroke-opacity=\"1\" stroke-width=\"3.2\"/>\n<circle clip-path=\"url(#clip712)\" cx=\"1935.22\" cy=\"687.239\" r=\"14.4\" fill=\"#009af9\" fill-rule=\"evenodd\" fill-opacity=\"1\" stroke=\"#000000\" stroke-opacity=\"1\" stroke-width=\"3.2\"/>\n<circle clip-path=\"url(#clip712)\" cx=\"2142.41\" cy=\"90.2344\" r=\"14.4\" fill=\"#009af9\" fill-rule=\"evenodd\" fill-opacity=\"1\" stroke=\"#000000\" stroke-opacity=\"1\" stroke-width=\"3.2\"/>\n<circle clip-path=\"url(#clip712)\" cx=\"850.657\" cy=\"1095.58\" r=\"14.4\" fill=\"#009af9\" fill-rule=\"evenodd\" fill-opacity=\"1\" stroke=\"#000000\" stroke-opacity=\"1\" stroke-width=\"3.2\"/>\n<circle clip-path=\"url(#clip712)\" cx=\"368.793\" cy=\"1208.57\" r=\"14.4\" fill=\"#009af9\" fill-rule=\"evenodd\" fill-opacity=\"1\" stroke=\"#000000\" stroke-opacity=\"1\" stroke-width=\"3.2\"/>\n<circle clip-path=\"url(#clip712)\" cx=\"1576.89\" cy=\"1142.73\" r=\"14.4\" fill=\"#009af9\" fill-rule=\"evenodd\" fill-opacity=\"1\" stroke=\"#000000\" stroke-opacity=\"1\" stroke-width=\"3.2\"/>\n<circle clip-path=\"url(#clip712)\" cx=\"2207.76\" cy=\"291.2\" r=\"14.4\" fill=\"#009af9\" fill-rule=\"evenodd\" fill-opacity=\"1\" stroke=\"#000000\" stroke-opacity=\"1\" stroke-width=\"3.2\"/>\n<circle clip-path=\"url(#clip712)\" cx=\"1877.56\" cy=\"502.895\" r=\"14.4\" fill=\"#009af9\" fill-rule=\"evenodd\" fill-opacity=\"1\" stroke=\"#000000\" stroke-opacity=\"1\" stroke-width=\"3.2\"/>\n<circle clip-path=\"url(#clip712)\" cx=\"1496.95\" cy=\"646.525\" r=\"14.4\" fill=\"#009af9\" fill-rule=\"evenodd\" fill-opacity=\"1\" stroke=\"#000000\" stroke-opacity=\"1\" stroke-width=\"3.2\"/>\n<circle clip-path=\"url(#clip712)\" cx=\"837\" cy=\"527.163\" r=\"14.4\" fill=\"#009af9\" fill-rule=\"evenodd\" fill-opacity=\"1\" stroke=\"#000000\" stroke-opacity=\"1\" stroke-width=\"3.2\"/>\n<circle clip-path=\"url(#clip712)\" cx=\"1565.29\" cy=\"539.088\" r=\"14.4\" fill=\"#009af9\" fill-rule=\"evenodd\" fill-opacity=\"1\" stroke=\"#000000\" stroke-opacity=\"1\" stroke-width=\"3.2\"/>\n<circle clip-path=\"url(#clip712)\" cx=\"1641.22\" cy=\"518.89\" r=\"14.4\" fill=\"#009af9\" fill-rule=\"evenodd\" fill-opacity=\"1\" stroke=\"#000000\" stroke-opacity=\"1\" stroke-width=\"3.2\"/>\n<circle clip-path=\"url(#clip712)\" cx=\"414.463\" cy=\"1219.19\" r=\"14.4\" fill=\"#009af9\" fill-rule=\"evenodd\" fill-opacity=\"1\" stroke=\"#000000\" stroke-opacity=\"1\" stroke-width=\"3.2\"/>\n<circle clip-path=\"url(#clip712)\" cx=\"1761.83\" cy=\"1025.49\" r=\"14.4\" fill=\"#009af9\" fill-rule=\"evenodd\" fill-opacity=\"1\" stroke=\"#000000\" stroke-opacity=\"1\" stroke-width=\"3.2\"/>\n<circle clip-path=\"url(#clip712)\" cx=\"453.55\" cy=\"539.308\" r=\"14.4\" fill=\"#009af9\" fill-rule=\"evenodd\" fill-opacity=\"1\" stroke=\"#000000\" stroke-opacity=\"1\" stroke-width=\"3.2\"/>\n<circle clip-path=\"url(#clip712)\" cx=\"2257.44\" cy=\"608.612\" r=\"14.4\" fill=\"#009af9\" fill-rule=\"evenodd\" fill-opacity=\"1\" stroke=\"#000000\" stroke-opacity=\"1\" stroke-width=\"3.2\"/>\n<circle clip-path=\"url(#clip712)\" cx=\"1863.96\" cy=\"951.895\" r=\"14.4\" fill=\"#009af9\" fill-rule=\"evenodd\" fill-opacity=\"1\" stroke=\"#000000\" stroke-opacity=\"1\" stroke-width=\"3.2\"/>\n<circle clip-path=\"url(#clip712)\" cx=\"590.076\" cy=\"1304.51\" r=\"14.4\" fill=\"#009af9\" fill-rule=\"evenodd\" fill-opacity=\"1\" stroke=\"#000000\" stroke-opacity=\"1\" stroke-width=\"3.2\"/>\n<circle clip-path=\"url(#clip712)\" cx=\"1932.95\" cy=\"720.51\" r=\"14.4\" fill=\"#009af9\" fill-rule=\"evenodd\" fill-opacity=\"1\" stroke=\"#000000\" stroke-opacity=\"1\" stroke-width=\"3.2\"/>\n<circle clip-path=\"url(#clip712)\" cx=\"700.921\" cy=\"665.871\" r=\"14.4\" fill=\"#009af9\" fill-rule=\"evenodd\" fill-opacity=\"1\" stroke=\"#000000\" stroke-opacity=\"1\" stroke-width=\"3.2\"/>\n<circle clip-path=\"url(#clip712)\" cx=\"274.574\" cy=\"1130.77\" r=\"14.4\" fill=\"#009af9\" fill-rule=\"evenodd\" fill-opacity=\"1\" stroke=\"#000000\" stroke-opacity=\"1\" stroke-width=\"3.2\"/>\n<circle clip-path=\"url(#clip712)\" cx=\"1641.07\" cy=\"1036.37\" r=\"14.4\" fill=\"#009af9\" fill-rule=\"evenodd\" fill-opacity=\"1\" stroke=\"#000000\" stroke-opacity=\"1\" stroke-width=\"3.2\"/>\n<circle clip-path=\"url(#clip712)\" cx=\"953.66\" cy=\"673.414\" r=\"14.4\" fill=\"#009af9\" fill-rule=\"evenodd\" fill-opacity=\"1\" stroke=\"#000000\" stroke-opacity=\"1\" stroke-width=\"3.2\"/>\n<circle clip-path=\"url(#clip712)\" cx=\"2012.18\" cy=\"731.11\" r=\"14.4\" fill=\"#009af9\" fill-rule=\"evenodd\" fill-opacity=\"1\" stroke=\"#000000\" stroke-opacity=\"1\" stroke-width=\"3.2\"/>\n<circle clip-path=\"url(#clip712)\" cx=\"520.577\" cy=\"861.105\" r=\"14.4\" fill=\"#009af9\" fill-rule=\"evenodd\" fill-opacity=\"1\" stroke=\"#000000\" stroke-opacity=\"1\" stroke-width=\"3.2\"/>\n<circle clip-path=\"url(#clip712)\" cx=\"1002.38\" cy=\"452.863\" r=\"14.4\" fill=\"#009af9\" fill-rule=\"evenodd\" fill-opacity=\"1\" stroke=\"#000000\" stroke-opacity=\"1\" stroke-width=\"3.2\"/>\n<circle clip-path=\"url(#clip712)\" cx=\"1953.57\" cy=\"761.885\" r=\"14.4\" fill=\"#009af9\" fill-rule=\"evenodd\" fill-opacity=\"1\" stroke=\"#000000\" stroke-opacity=\"1\" stroke-width=\"3.2\"/>\n<circle clip-path=\"url(#clip712)\" cx=\"2194.01\" cy=\"403.738\" r=\"14.4\" fill=\"#009af9\" fill-rule=\"evenodd\" fill-opacity=\"1\" stroke=\"#000000\" stroke-opacity=\"1\" stroke-width=\"3.2\"/>\n<circle clip-path=\"url(#clip712)\" cx=\"2201.94\" cy=\"208.624\" r=\"14.4\" fill=\"#009af9\" fill-rule=\"evenodd\" fill-opacity=\"1\" stroke=\"#000000\" stroke-opacity=\"1\" stroke-width=\"3.2\"/>\n<circle clip-path=\"url(#clip712)\" cx=\"1530.84\" cy=\"1131.95\" r=\"14.4\" fill=\"#009af9\" fill-rule=\"evenodd\" fill-opacity=\"1\" stroke=\"#000000\" stroke-opacity=\"1\" stroke-width=\"3.2\"/>\n<circle clip-path=\"url(#clip712)\" cx=\"1110.02\" cy=\"738.941\" r=\"14.4\" fill=\"#009af9\" fill-rule=\"evenodd\" fill-opacity=\"1\" stroke=\"#000000\" stroke-opacity=\"1\" stroke-width=\"3.2\"/>\n<circle clip-path=\"url(#clip712)\" cx=\"1905.92\" cy=\"670.977\" r=\"14.4\" fill=\"#009af9\" fill-rule=\"evenodd\" fill-opacity=\"1\" stroke=\"#000000\" stroke-opacity=\"1\" stroke-width=\"3.2\"/>\n<circle clip-path=\"url(#clip712)\" cx=\"2235.26\" cy=\"818.805\" r=\"14.4\" fill=\"#009af9\" fill-rule=\"evenodd\" fill-opacity=\"1\" stroke=\"#000000\" stroke-opacity=\"1\" stroke-width=\"3.2\"/>\n<circle clip-path=\"url(#clip712)\" cx=\"2255.94\" cy=\"115.704\" r=\"14.4\" fill=\"#009af9\" fill-rule=\"evenodd\" fill-opacity=\"1\" stroke=\"#000000\" stroke-opacity=\"1\" stroke-width=\"3.2\"/>\n<circle clip-path=\"url(#clip712)\" cx=\"405.988\" cy=\"724.72\" r=\"14.4\" fill=\"#009af9\" fill-rule=\"evenodd\" fill-opacity=\"1\" stroke=\"#000000\" stroke-opacity=\"1\" stroke-width=\"3.2\"/>\n<circle clip-path=\"url(#clip712)\" cx=\"441.645\" cy=\"702.217\" r=\"14.4\" fill=\"#009af9\" fill-rule=\"evenodd\" fill-opacity=\"1\" stroke=\"#000000\" stroke-opacity=\"1\" stroke-width=\"3.2\"/>\n<circle clip-path=\"url(#clip712)\" cx=\"1946.75\" cy=\"631.536\" r=\"14.4\" fill=\"#009af9\" fill-rule=\"evenodd\" fill-opacity=\"1\" stroke=\"#000000\" stroke-opacity=\"1\" stroke-width=\"3.2\"/>\n<circle clip-path=\"url(#clip712)\" cx=\"307.126\" cy=\"530.864\" r=\"14.4\" fill=\"#009af9\" fill-rule=\"evenodd\" fill-opacity=\"1\" stroke=\"#000000\" stroke-opacity=\"1\" stroke-width=\"3.2\"/>\n<circle clip-path=\"url(#clip712)\" cx=\"2257.63\" cy=\"462.941\" r=\"14.4\" fill=\"#009af9\" fill-rule=\"evenodd\" fill-opacity=\"1\" stroke=\"#000000\" stroke-opacity=\"1\" stroke-width=\"3.2\"/>\n<circle clip-path=\"url(#clip712)\" cx=\"529.448\" cy=\"909.933\" r=\"14.4\" fill=\"#009af9\" fill-rule=\"evenodd\" fill-opacity=\"1\" stroke=\"#000000\" stroke-opacity=\"1\" stroke-width=\"3.2\"/>\n<circle clip-path=\"url(#clip712)\" cx=\"952.649\" cy=\"1122.47\" r=\"14.4\" fill=\"#009af9\" fill-rule=\"evenodd\" fill-opacity=\"1\" stroke=\"#000000\" stroke-opacity=\"1\" stroke-width=\"3.2\"/>\n<circle clip-path=\"url(#clip712)\" cx=\"485.459\" cy=\"923.882\" r=\"14.4\" fill=\"#009af9\" fill-rule=\"evenodd\" fill-opacity=\"1\" stroke=\"#000000\" stroke-opacity=\"1\" stroke-width=\"3.2\"/>\n<circle clip-path=\"url(#clip712)\" cx=\"2118.02\" cy=\"299.579\" r=\"14.4\" fill=\"#009af9\" fill-rule=\"evenodd\" fill-opacity=\"1\" stroke=\"#000000\" stroke-opacity=\"1\" stroke-width=\"3.2\"/>\n<circle clip-path=\"url(#clip712)\" cx=\"551.536\" cy=\"1371.31\" r=\"14.4\" fill=\"#009af9\" fill-rule=\"evenodd\" fill-opacity=\"1\" stroke=\"#000000\" stroke-opacity=\"1\" stroke-width=\"3.2\"/>\n<circle clip-path=\"url(#clip712)\" cx=\"1719.86\" cy=\"398.438\" r=\"14.4\" fill=\"#009af9\" fill-rule=\"evenodd\" fill-opacity=\"1\" stroke=\"#000000\" stroke-opacity=\"1\" stroke-width=\"3.2\"/>\n<circle clip-path=\"url(#clip712)\" cx=\"263.037\" cy=\"1076.14\" r=\"14.4\" fill=\"#009af9\" fill-rule=\"evenodd\" fill-opacity=\"1\" stroke=\"#000000\" stroke-opacity=\"1\" stroke-width=\"3.2\"/>\n<circle clip-path=\"url(#clip712)\" cx=\"2098.29\" cy=\"276.194\" r=\"14.4\" fill=\"#009af9\" fill-rule=\"evenodd\" fill-opacity=\"1\" stroke=\"#000000\" stroke-opacity=\"1\" stroke-width=\"3.2\"/>\n<circle clip-path=\"url(#clip712)\" cx=\"1313.92\" cy=\"453.047\" r=\"14.4\" fill=\"#009af9\" fill-rule=\"evenodd\" fill-opacity=\"1\" stroke=\"#000000\" stroke-opacity=\"1\" stroke-width=\"3.2\"/>\n<circle clip-path=\"url(#clip712)\" cx=\"930.56\" cy=\"1223.36\" r=\"14.4\" fill=\"#009af9\" fill-rule=\"evenodd\" fill-opacity=\"1\" stroke=\"#000000\" stroke-opacity=\"1\" stroke-width=\"3.2\"/>\n<circle clip-path=\"url(#clip712)\" cx=\"1463.74\" cy=\"796.764\" r=\"14.4\" fill=\"#009af9\" fill-rule=\"evenodd\" fill-opacity=\"1\" stroke=\"#000000\" stroke-opacity=\"1\" stroke-width=\"3.2\"/>\n<circle clip-path=\"url(#clip712)\" cx=\"1951.51\" cy=\"746.756\" r=\"14.4\" fill=\"#009af9\" fill-rule=\"evenodd\" fill-opacity=\"1\" stroke=\"#000000\" stroke-opacity=\"1\" stroke-width=\"3.2\"/>\n<circle clip-path=\"url(#clip712)\" cx=\"1247.39\" cy=\"881.483\" r=\"14.4\" fill=\"#009af9\" fill-rule=\"evenodd\" fill-opacity=\"1\" stroke=\"#000000\" stroke-opacity=\"1\" stroke-width=\"3.2\"/>\n<circle clip-path=\"url(#clip712)\" cx=\"1750.15\" cy=\"402.036\" r=\"14.4\" fill=\"#009af9\" fill-rule=\"evenodd\" fill-opacity=\"1\" stroke=\"#000000\" stroke-opacity=\"1\" stroke-width=\"3.2\"/>\n<circle clip-path=\"url(#clip712)\" cx=\"2144.28\" cy=\"414.97\" r=\"14.4\" fill=\"#009af9\" fill-rule=\"evenodd\" fill-opacity=\"1\" stroke=\"#000000\" stroke-opacity=\"1\" stroke-width=\"3.2\"/>\n<circle clip-path=\"url(#clip712)\" cx=\"941.661\" cy=\"1253.98\" r=\"14.4\" fill=\"#009af9\" fill-rule=\"evenodd\" fill-opacity=\"1\" stroke=\"#000000\" stroke-opacity=\"1\" stroke-width=\"3.2\"/>\n<circle clip-path=\"url(#clip712)\" cx=\"1739.05\" cy=\"953.323\" r=\"14.4\" fill=\"#009af9\" fill-rule=\"evenodd\" fill-opacity=\"1\" stroke=\"#000000\" stroke-opacity=\"1\" stroke-width=\"3.2\"/>\n<circle clip-path=\"url(#clip712)\" cx=\"2199.62\" cy=\"284.608\" r=\"14.4\" fill=\"#009af9\" fill-rule=\"evenodd\" fill-opacity=\"1\" stroke=\"#000000\" stroke-opacity=\"1\" stroke-width=\"3.2\"/>\n<circle clip-path=\"url(#clip712)\" cx=\"759.956\" cy=\"669.498\" r=\"14.4\" fill=\"#009af9\" fill-rule=\"evenodd\" fill-opacity=\"1\" stroke=\"#000000\" stroke-opacity=\"1\" stroke-width=\"3.2\"/>\n<circle clip-path=\"url(#clip712)\" cx=\"639.695\" cy=\"640.196\" r=\"14.4\" fill=\"#009af9\" fill-rule=\"evenodd\" fill-opacity=\"1\" stroke=\"#000000\" stroke-opacity=\"1\" stroke-width=\"3.2\"/>\n<circle clip-path=\"url(#clip712)\" cx=\"1441.76\" cy=\"369.008\" r=\"14.4\" fill=\"#009af9\" fill-rule=\"evenodd\" fill-opacity=\"1\" stroke=\"#000000\" stroke-opacity=\"1\" stroke-width=\"3.2\"/>\n<circle clip-path=\"url(#clip712)\" cx=\"1169.03\" cy=\"800.749\" r=\"14.4\" fill=\"#009af9\" fill-rule=\"evenodd\" fill-opacity=\"1\" stroke=\"#000000\" stroke-opacity=\"1\" stroke-width=\"3.2\"/>\n<circle clip-path=\"url(#clip712)\" cx=\"957.722\" cy=\"707.705\" r=\"14.4\" fill=\"#009af9\" fill-rule=\"evenodd\" fill-opacity=\"1\" stroke=\"#000000\" stroke-opacity=\"1\" stroke-width=\"3.2\"/>\n<circle clip-path=\"url(#clip712)\" cx=\"1460.58\" cy=\"315.693\" r=\"14.4\" fill=\"#009af9\" fill-rule=\"evenodd\" fill-opacity=\"1\" stroke=\"#000000\" stroke-opacity=\"1\" stroke-width=\"3.2\"/>\n<circle clip-path=\"url(#clip712)\" cx=\"1338.02\" cy=\"1146.79\" r=\"14.4\" fill=\"#009af9\" fill-rule=\"evenodd\" fill-opacity=\"1\" stroke=\"#000000\" stroke-opacity=\"1\" stroke-width=\"3.2\"/>\n<circle clip-path=\"url(#clip712)\" cx=\"2230.38\" cy=\"966.736\" r=\"14.4\" fill=\"#009af9\" fill-rule=\"evenodd\" fill-opacity=\"1\" stroke=\"#000000\" stroke-opacity=\"1\" stroke-width=\"3.2\"/>\n<circle clip-path=\"url(#clip712)\" cx=\"1643.63\" cy=\"888.914\" r=\"14.4\" fill=\"#009af9\" fill-rule=\"evenodd\" fill-opacity=\"1\" stroke=\"#000000\" stroke-opacity=\"1\" stroke-width=\"3.2\"/>\n<circle clip-path=\"url(#clip712)\" cx=\"350.171\" cy=\"674.088\" r=\"14.4\" fill=\"#009af9\" fill-rule=\"evenodd\" fill-opacity=\"1\" stroke=\"#000000\" stroke-opacity=\"1\" stroke-width=\"3.2\"/>\n<circle clip-path=\"url(#clip712)\" cx=\"1530.17\" cy=\"661.375\" r=\"14.4\" fill=\"#009af9\" fill-rule=\"evenodd\" fill-opacity=\"1\" stroke=\"#000000\" stroke-opacity=\"1\" stroke-width=\"3.2\"/>\n<circle clip-path=\"url(#clip712)\" cx=\"637.527\" cy=\"767.023\" r=\"14.4\" fill=\"#009af9\" fill-rule=\"evenodd\" fill-opacity=\"1\" stroke=\"#000000\" stroke-opacity=\"1\" stroke-width=\"3.2\"/>\n<circle clip-path=\"url(#clip712)\" cx=\"2271.68\" cy=\"967.98\" r=\"14.4\" fill=\"#009af9\" fill-rule=\"evenodd\" fill-opacity=\"1\" stroke=\"#000000\" stroke-opacity=\"1\" stroke-width=\"3.2\"/>\n<circle clip-path=\"url(#clip712)\" cx=\"1842.39\" cy=\"900.059\" r=\"14.4\" fill=\"#009af9\" fill-rule=\"evenodd\" fill-opacity=\"1\" stroke=\"#000000\" stroke-opacity=\"1\" stroke-width=\"3.2\"/>\n<circle clip-path=\"url(#clip712)\" cx=\"2253.94\" cy=\"979.75\" r=\"14.4\" fill=\"#009af9\" fill-rule=\"evenodd\" fill-opacity=\"1\" stroke=\"#000000\" stroke-opacity=\"1\" stroke-width=\"3.2\"/>\n<circle clip-path=\"url(#clip712)\" cx=\"437.031\" cy=\"1012.11\" r=\"14.4\" fill=\"#009af9\" fill-rule=\"evenodd\" fill-opacity=\"1\" stroke=\"#000000\" stroke-opacity=\"1\" stroke-width=\"3.2\"/>\n<circle clip-path=\"url(#clip712)\" cx=\"852.262\" cy=\"1068.07\" r=\"14.4\" fill=\"#009af9\" fill-rule=\"evenodd\" fill-opacity=\"1\" stroke=\"#000000\" stroke-opacity=\"1\" stroke-width=\"3.2\"/>\n<circle clip-path=\"url(#clip712)\" cx=\"2045.76\" cy=\"595.415\" r=\"14.4\" fill=\"#009af9\" fill-rule=\"evenodd\" fill-opacity=\"1\" stroke=\"#000000\" stroke-opacity=\"1\" stroke-width=\"3.2\"/>\n<circle clip-path=\"url(#clip712)\" cx=\"1189.91\" cy=\"1169.62\" r=\"14.4\" fill=\"#009af9\" fill-rule=\"evenodd\" fill-opacity=\"1\" stroke=\"#000000\" stroke-opacity=\"1\" stroke-width=\"3.2\"/>\n<circle clip-path=\"url(#clip712)\" cx=\"1621.72\" cy=\"725.785\" r=\"14.4\" fill=\"#009af9\" fill-rule=\"evenodd\" fill-opacity=\"1\" stroke=\"#000000\" stroke-opacity=\"1\" stroke-width=\"3.2\"/>\n<circle clip-path=\"url(#clip712)\" cx=\"2219.2\" cy=\"639.778\" r=\"14.4\" fill=\"#009af9\" fill-rule=\"evenodd\" fill-opacity=\"1\" stroke=\"#000000\" stroke-opacity=\"1\" stroke-width=\"3.2\"/>\n<circle clip-path=\"url(#clip712)\" cx=\"2131.58\" cy=\"86.1857\" r=\"14.4\" fill=\"#009af9\" fill-rule=\"evenodd\" fill-opacity=\"1\" stroke=\"#000000\" stroke-opacity=\"1\" stroke-width=\"3.2\"/>\n<circle clip-path=\"url(#clip712)\" cx=\"1842.72\" cy=\"993.11\" r=\"14.4\" fill=\"#009af9\" fill-rule=\"evenodd\" fill-opacity=\"1\" stroke=\"#000000\" stroke-opacity=\"1\" stroke-width=\"3.2\"/>\n<circle clip-path=\"url(#clip712)\" cx=\"468.323\" cy=\"590.972\" r=\"14.4\" fill=\"#009af9\" fill-rule=\"evenodd\" fill-opacity=\"1\" stroke=\"#000000\" stroke-opacity=\"1\" stroke-width=\"3.2\"/>\n<circle clip-path=\"url(#clip712)\" cx=\"978.802\" cy=\"894.307\" r=\"14.4\" fill=\"#009af9\" fill-rule=\"evenodd\" fill-opacity=\"1\" stroke=\"#000000\" stroke-opacity=\"1\" stroke-width=\"3.2\"/>\n<circle clip-path=\"url(#clip712)\" cx=\"2034.11\" cy=\"837.676\" r=\"14.4\" fill=\"#009af9\" fill-rule=\"evenodd\" fill-opacity=\"1\" stroke=\"#000000\" stroke-opacity=\"1\" stroke-width=\"3.2\"/>\n<circle clip-path=\"url(#clip712)\" cx=\"951.927\" cy=\"948.48\" r=\"14.4\" fill=\"#009af9\" fill-rule=\"evenodd\" fill-opacity=\"1\" stroke=\"#000000\" stroke-opacity=\"1\" stroke-width=\"3.2\"/>\n<circle clip-path=\"url(#clip712)\" cx=\"282.082\" cy=\"760.38\" r=\"14.4\" fill=\"#009af9\" fill-rule=\"evenodd\" fill-opacity=\"1\" stroke=\"#000000\" stroke-opacity=\"1\" stroke-width=\"3.2\"/>\n<circle clip-path=\"url(#clip712)\" cx=\"1910.53\" cy=\"218.197\" r=\"14.4\" fill=\"#009af9\" fill-rule=\"evenodd\" fill-opacity=\"1\" stroke=\"#000000\" stroke-opacity=\"1\" stroke-width=\"3.2\"/>\n<circle clip-path=\"url(#clip712)\" cx=\"1063.87\" cy=\"1063.87\" r=\"14.4\" fill=\"#009af9\" fill-rule=\"evenodd\" fill-opacity=\"1\" stroke=\"#000000\" stroke-opacity=\"1\" stroke-width=\"3.2\"/>\n<circle clip-path=\"url(#clip712)\" cx=\"1100.37\" cy=\"781.113\" r=\"14.4\" fill=\"#009af9\" fill-rule=\"evenodd\" fill-opacity=\"1\" stroke=\"#000000\" stroke-opacity=\"1\" stroke-width=\"3.2\"/>\n<circle clip-path=\"url(#clip712)\" cx=\"1346.32\" cy=\"771.381\" r=\"14.4\" fill=\"#009af9\" fill-rule=\"evenodd\" fill-opacity=\"1\" stroke=\"#000000\" stroke-opacity=\"1\" stroke-width=\"3.2\"/>\n<circle clip-path=\"url(#clip712)\" cx=\"1147.73\" cy=\"660.578\" r=\"14.4\" fill=\"#009af9\" fill-rule=\"evenodd\" fill-opacity=\"1\" stroke=\"#000000\" stroke-opacity=\"1\" stroke-width=\"3.2\"/>\n<circle clip-path=\"url(#clip712)\" cx=\"2083.62\" cy=\"263.442\" r=\"14.4\" fill=\"#009af9\" fill-rule=\"evenodd\" fill-opacity=\"1\" stroke=\"#000000\" stroke-opacity=\"1\" stroke-width=\"3.2\"/>\n<circle clip-path=\"url(#clip712)\" cx=\"1563.44\" cy=\"627.237\" r=\"14.4\" fill=\"#009af9\" fill-rule=\"evenodd\" fill-opacity=\"1\" stroke=\"#000000\" stroke-opacity=\"1\" stroke-width=\"3.2\"/>\n<circle clip-path=\"url(#clip712)\" cx=\"886.39\" cy=\"983.665\" r=\"14.4\" fill=\"#009af9\" fill-rule=\"evenodd\" fill-opacity=\"1\" stroke=\"#000000\" stroke-opacity=\"1\" stroke-width=\"3.2\"/>\n<circle clip-path=\"url(#clip712)\" cx=\"955.046\" cy=\"1227.49\" r=\"14.4\" fill=\"#009af9\" fill-rule=\"evenodd\" fill-opacity=\"1\" stroke=\"#000000\" stroke-opacity=\"1\" stroke-width=\"3.2\"/>\n<circle clip-path=\"url(#clip712)\" cx=\"518.647\" cy=\"597.739\" r=\"14.4\" fill=\"#009af9\" fill-rule=\"evenodd\" fill-opacity=\"1\" stroke=\"#000000\" stroke-opacity=\"1\" stroke-width=\"3.2\"/>\n<circle clip-path=\"url(#clip712)\" cx=\"956.872\" cy=\"615.501\" r=\"14.4\" fill=\"#009af9\" fill-rule=\"evenodd\" fill-opacity=\"1\" stroke=\"#000000\" stroke-opacity=\"1\" stroke-width=\"3.2\"/>\n<circle clip-path=\"url(#clip712)\" cx=\"330.92\" cy=\"780.65\" r=\"14.4\" fill=\"#009af9\" fill-rule=\"evenodd\" fill-opacity=\"1\" stroke=\"#000000\" stroke-opacity=\"1\" stroke-width=\"3.2\"/>\n<circle clip-path=\"url(#clip712)\" cx=\"298.057\" cy=\"557.976\" r=\"14.4\" fill=\"#009af9\" fill-rule=\"evenodd\" fill-opacity=\"1\" stroke=\"#000000\" stroke-opacity=\"1\" stroke-width=\"3.2\"/>\n<circle clip-path=\"url(#clip712)\" cx=\"1390.51\" cy=\"806.365\" r=\"14.4\" fill=\"#009af9\" fill-rule=\"evenodd\" fill-opacity=\"1\" stroke=\"#000000\" stroke-opacity=\"1\" stroke-width=\"3.2\"/>\n<circle clip-path=\"url(#clip712)\" cx=\"1520.15\" cy=\"875.944\" r=\"14.4\" fill=\"#009af9\" fill-rule=\"evenodd\" fill-opacity=\"1\" stroke=\"#000000\" stroke-opacity=\"1\" stroke-width=\"3.2\"/>\n<circle clip-path=\"url(#clip712)\" cx=\"2088.09\" cy=\"329.4\" r=\"14.4\" fill=\"#009af9\" fill-rule=\"evenodd\" fill-opacity=\"1\" stroke=\"#000000\" stroke-opacity=\"1\" stroke-width=\"3.2\"/>\n<circle clip-path=\"url(#clip712)\" cx=\"1215.89\" cy=\"772.262\" r=\"14.4\" fill=\"#009af9\" fill-rule=\"evenodd\" fill-opacity=\"1\" stroke=\"#000000\" stroke-opacity=\"1\" stroke-width=\"3.2\"/>\n<circle clip-path=\"url(#clip712)\" cx=\"611.793\" cy=\"979.584\" r=\"14.4\" fill=\"#009af9\" fill-rule=\"evenodd\" fill-opacity=\"1\" stroke=\"#000000\" stroke-opacity=\"1\" stroke-width=\"3.2\"/>\n<circle clip-path=\"url(#clip712)\" cx=\"600.516\" cy=\"983.604\" r=\"14.4\" fill=\"#009af9\" fill-rule=\"evenodd\" fill-opacity=\"1\" stroke=\"#000000\" stroke-opacity=\"1\" stroke-width=\"3.2\"/>\n<circle clip-path=\"url(#clip712)\" cx=\"759.376\" cy=\"690.076\" r=\"14.4\" fill=\"#009af9\" fill-rule=\"evenodd\" fill-opacity=\"1\" stroke=\"#000000\" stroke-opacity=\"1\" stroke-width=\"3.2\"/>\n<circle clip-path=\"url(#clip712)\" cx=\"257.043\" cy=\"1007.27\" r=\"14.4\" fill=\"#009af9\" fill-rule=\"evenodd\" fill-opacity=\"1\" stroke=\"#000000\" stroke-opacity=\"1\" stroke-width=\"3.2\"/>\n<circle clip-path=\"url(#clip712)\" cx=\"332.76\" cy=\"1384.24\" r=\"14.4\" fill=\"#009af9\" fill-rule=\"evenodd\" fill-opacity=\"1\" stroke=\"#000000\" stroke-opacity=\"1\" stroke-width=\"3.2\"/>\n<circle clip-path=\"url(#clip712)\" cx=\"2110.75\" cy=\"310.149\" r=\"14.4\" fill=\"#009af9\" fill-rule=\"evenodd\" fill-opacity=\"1\" stroke=\"#000000\" stroke-opacity=\"1\" stroke-width=\"3.2\"/>\n<circle clip-path=\"url(#clip712)\" cx=\"2151.99\" cy=\"503.197\" r=\"14.4\" fill=\"#009af9\" fill-rule=\"evenodd\" fill-opacity=\"1\" stroke=\"#000000\" stroke-opacity=\"1\" stroke-width=\"3.2\"/>\n<circle clip-path=\"url(#clip712)\" cx=\"1946.43\" cy=\"256.61\" r=\"14.4\" fill=\"#009af9\" fill-rule=\"evenodd\" fill-opacity=\"1\" stroke=\"#000000\" stroke-opacity=\"1\" stroke-width=\"3.2\"/>\n<circle clip-path=\"url(#clip712)\" cx=\"2232.57\" cy=\"700.932\" r=\"14.4\" fill=\"#009af9\" fill-rule=\"evenodd\" fill-opacity=\"1\" stroke=\"#000000\" stroke-opacity=\"1\" stroke-width=\"3.2\"/>\n<circle clip-path=\"url(#clip712)\" cx=\"1222.56\" cy=\"654.606\" r=\"14.4\" fill=\"#009af9\" fill-rule=\"evenodd\" fill-opacity=\"1\" stroke=\"#000000\" stroke-opacity=\"1\" stroke-width=\"3.2\"/>\n<circle clip-path=\"url(#clip712)\" cx=\"1282.57\" cy=\"1152.36\" r=\"14.4\" fill=\"#009af9\" fill-rule=\"evenodd\" fill-opacity=\"1\" stroke=\"#000000\" stroke-opacity=\"1\" stroke-width=\"3.2\"/>\n<circle clip-path=\"url(#clip712)\" cx=\"1033.89\" cy=\"750.148\" r=\"14.4\" fill=\"#009af9\" fill-rule=\"evenodd\" fill-opacity=\"1\" stroke=\"#000000\" stroke-opacity=\"1\" stroke-width=\"3.2\"/>\n<circle clip-path=\"url(#clip712)\" cx=\"389.349\" cy=\"1285.62\" r=\"14.4\" fill=\"#009af9\" fill-rule=\"evenodd\" fill-opacity=\"1\" stroke=\"#000000\" stroke-opacity=\"1\" stroke-width=\"3.2\"/>\n<circle clip-path=\"url(#clip712)\" cx=\"831.052\" cy=\"1262.94\" r=\"14.4\" fill=\"#009af9\" fill-rule=\"evenodd\" fill-opacity=\"1\" stroke=\"#000000\" stroke-opacity=\"1\" stroke-width=\"3.2\"/>\n<circle clip-path=\"url(#clip712)\" cx=\"828.047\" cy=\"728.324\" r=\"14.4\" fill=\"#009af9\" fill-rule=\"evenodd\" fill-opacity=\"1\" stroke=\"#000000\" stroke-opacity=\"1\" stroke-width=\"3.2\"/>\n<circle clip-path=\"url(#clip712)\" cx=\"1808.62\" cy=\"659.69\" r=\"14.4\" fill=\"#009af9\" fill-rule=\"evenodd\" fill-opacity=\"1\" stroke=\"#000000\" stroke-opacity=\"1\" stroke-width=\"3.2\"/>\n<circle clip-path=\"url(#clip712)\" cx=\"405.279\" cy=\"837.341\" r=\"14.4\" fill=\"#009af9\" fill-rule=\"evenodd\" fill-opacity=\"1\" stroke=\"#000000\" stroke-opacity=\"1\" stroke-width=\"3.2\"/>\n<circle clip-path=\"url(#clip712)\" cx=\"724.169\" cy=\"998.638\" r=\"14.4\" fill=\"#009af9\" fill-rule=\"evenodd\" fill-opacity=\"1\" stroke=\"#000000\" stroke-opacity=\"1\" stroke-width=\"3.2\"/>\n<circle clip-path=\"url(#clip712)\" cx=\"2143.16\" cy=\"759.63\" r=\"14.4\" fill=\"#009af9\" fill-rule=\"evenodd\" fill-opacity=\"1\" stroke=\"#000000\" stroke-opacity=\"1\" stroke-width=\"3.2\"/>\n<circle clip-path=\"url(#clip712)\" cx=\"1833.02\" cy=\"361.648\" r=\"14.4\" fill=\"#009af9\" fill-rule=\"evenodd\" fill-opacity=\"1\" stroke=\"#000000\" stroke-opacity=\"1\" stroke-width=\"3.2\"/>\n<circle clip-path=\"url(#clip712)\" cx=\"780.82\" cy=\"657.722\" r=\"14.4\" fill=\"#009af9\" fill-rule=\"evenodd\" fill-opacity=\"1\" stroke=\"#000000\" stroke-opacity=\"1\" stroke-width=\"3.2\"/>\n<circle clip-path=\"url(#clip712)\" cx=\"1602.03\" cy=\"962.047\" r=\"14.4\" fill=\"#009af9\" fill-rule=\"evenodd\" fill-opacity=\"1\" stroke=\"#000000\" stroke-opacity=\"1\" stroke-width=\"3.2\"/>\n<circle clip-path=\"url(#clip712)\" cx=\"254.158\" cy=\"884.66\" r=\"14.4\" fill=\"#009af9\" fill-rule=\"evenodd\" fill-opacity=\"1\" stroke=\"#000000\" stroke-opacity=\"1\" stroke-width=\"3.2\"/>\n<circle clip-path=\"url(#clip712)\" cx=\"1549.73\" cy=\"627.514\" r=\"14.4\" fill=\"#009af9\" fill-rule=\"evenodd\" fill-opacity=\"1\" stroke=\"#000000\" stroke-opacity=\"1\" stroke-width=\"3.2\"/>\n<circle clip-path=\"url(#clip712)\" cx=\"1149.9\" cy=\"1051.8\" r=\"14.4\" fill=\"#009af9\" fill-rule=\"evenodd\" fill-opacity=\"1\" stroke=\"#000000\" stroke-opacity=\"1\" stroke-width=\"3.2\"/>\n<circle clip-path=\"url(#clip712)\" cx=\"1340.5\" cy=\"570.014\" r=\"14.4\" fill=\"#009af9\" fill-rule=\"evenodd\" fill-opacity=\"1\" stroke=\"#000000\" stroke-opacity=\"1\" stroke-width=\"3.2\"/>\n<circle clip-path=\"url(#clip712)\" cx=\"2127.41\" cy=\"752.534\" r=\"14.4\" fill=\"#009af9\" fill-rule=\"evenodd\" fill-opacity=\"1\" stroke=\"#000000\" stroke-opacity=\"1\" stroke-width=\"3.2\"/>\n<circle clip-path=\"url(#clip712)\" cx=\"638.278\" cy=\"1088.81\" r=\"14.4\" fill=\"#009af9\" fill-rule=\"evenodd\" fill-opacity=\"1\" stroke=\"#000000\" stroke-opacity=\"1\" stroke-width=\"3.2\"/>\n<circle clip-path=\"url(#clip712)\" cx=\"1599.03\" cy=\"952.048\" r=\"14.4\" fill=\"#009af9\" fill-rule=\"evenodd\" fill-opacity=\"1\" stroke=\"#000000\" stroke-opacity=\"1\" stroke-width=\"3.2\"/>\n<circle clip-path=\"url(#clip712)\" cx=\"1355.36\" cy=\"480.152\" r=\"14.4\" fill=\"#009af9\" fill-rule=\"evenodd\" fill-opacity=\"1\" stroke=\"#000000\" stroke-opacity=\"1\" stroke-width=\"3.2\"/>\n<circle clip-path=\"url(#clip712)\" cx=\"896.756\" cy=\"972.411\" r=\"14.4\" fill=\"#009af9\" fill-rule=\"evenodd\" fill-opacity=\"1\" stroke=\"#000000\" stroke-opacity=\"1\" stroke-width=\"3.2\"/>\n<circle clip-path=\"url(#clip712)\" cx=\"918.805\" cy=\"960.715\" r=\"14.4\" fill=\"#009af9\" fill-rule=\"evenodd\" fill-opacity=\"1\" stroke=\"#000000\" stroke-opacity=\"1\" stroke-width=\"3.2\"/>\n<circle clip-path=\"url(#clip712)\" cx=\"1001.97\" cy=\"425.163\" r=\"14.4\" fill=\"#009af9\" fill-rule=\"evenodd\" fill-opacity=\"1\" stroke=\"#000000\" stroke-opacity=\"1\" stroke-width=\"3.2\"/>\n<circle clip-path=\"url(#clip712)\" cx=\"566.829\" cy=\"790.236\" r=\"14.4\" fill=\"#009af9\" fill-rule=\"evenodd\" fill-opacity=\"1\" stroke=\"#000000\" stroke-opacity=\"1\" stroke-width=\"3.2\"/>\n<circle clip-path=\"url(#clip712)\" cx=\"311.693\" cy=\"1058.63\" r=\"14.4\" fill=\"#009af9\" fill-rule=\"evenodd\" fill-opacity=\"1\" stroke=\"#000000\" stroke-opacity=\"1\" stroke-width=\"3.2\"/>\n<circle clip-path=\"url(#clip712)\" cx=\"758.985\" cy=\"765.21\" r=\"14.4\" fill=\"#009af9\" fill-rule=\"evenodd\" fill-opacity=\"1\" stroke=\"#000000\" stroke-opacity=\"1\" stroke-width=\"3.2\"/>\n<circle clip-path=\"url(#clip712)\" cx=\"1325.09\" cy=\"1228.52\" r=\"14.4\" fill=\"#009af9\" fill-rule=\"evenodd\" fill-opacity=\"1\" stroke=\"#000000\" stroke-opacity=\"1\" stroke-width=\"3.2\"/>\n<circle clip-path=\"url(#clip712)\" cx=\"1858.11\" cy=\"329.166\" r=\"14.4\" fill=\"#009af9\" fill-rule=\"evenodd\" fill-opacity=\"1\" stroke=\"#000000\" stroke-opacity=\"1\" stroke-width=\"3.2\"/>\n<circle clip-path=\"url(#clip712)\" cx=\"323.336\" cy=\"753.269\" r=\"14.4\" fill=\"#009af9\" fill-rule=\"evenodd\" fill-opacity=\"1\" stroke=\"#000000\" stroke-opacity=\"1\" stroke-width=\"3.2\"/>\n<circle clip-path=\"url(#clip712)\" cx=\"1312.97\" cy=\"509.861\" r=\"14.4\" fill=\"#009af9\" fill-rule=\"evenodd\" fill-opacity=\"1\" stroke=\"#000000\" stroke-opacity=\"1\" stroke-width=\"3.2\"/>\n<circle clip-path=\"url(#clip712)\" cx=\"1703.86\" cy=\"920.167\" r=\"14.4\" fill=\"#009af9\" fill-rule=\"evenodd\" fill-opacity=\"1\" stroke=\"#000000\" stroke-opacity=\"1\" stroke-width=\"3.2\"/>\n<circle clip-path=\"url(#clip712)\" cx=\"1342.25\" cy=\"1041.88\" r=\"14.4\" fill=\"#009af9\" fill-rule=\"evenodd\" fill-opacity=\"1\" stroke=\"#000000\" stroke-opacity=\"1\" stroke-width=\"3.2\"/>\n<circle clip-path=\"url(#clip712)\" cx=\"1225.03\" cy=\"603.512\" r=\"14.4\" fill=\"#009af9\" fill-rule=\"evenodd\" fill-opacity=\"1\" stroke=\"#000000\" stroke-opacity=\"1\" stroke-width=\"3.2\"/>\n<circle clip-path=\"url(#clip712)\" cx=\"1262.54\" cy=\"690.919\" r=\"14.4\" fill=\"#009af9\" fill-rule=\"evenodd\" fill-opacity=\"1\" stroke=\"#000000\" stroke-opacity=\"1\" stroke-width=\"3.2\"/>\n<circle clip-path=\"url(#clip712)\" cx=\"1399.34\" cy=\"1064.58\" r=\"14.4\" fill=\"#009af9\" fill-rule=\"evenodd\" fill-opacity=\"1\" stroke=\"#000000\" stroke-opacity=\"1\" stroke-width=\"3.2\"/>\n<circle clip-path=\"url(#clip712)\" cx=\"676.821\" cy=\"988.455\" r=\"14.4\" fill=\"#009af9\" fill-rule=\"evenodd\" fill-opacity=\"1\" stroke=\"#000000\" stroke-opacity=\"1\" stroke-width=\"3.2\"/>\n<circle clip-path=\"url(#clip712)\" cx=\"512.165\" cy=\"779.263\" r=\"14.4\" fill=\"#009af9\" fill-rule=\"evenodd\" fill-opacity=\"1\" stroke=\"#000000\" stroke-opacity=\"1\" stroke-width=\"3.2\"/>\n<circle clip-path=\"url(#clip712)\" cx=\"1024.78\" cy=\"448.44\" r=\"14.4\" fill=\"#009af9\" fill-rule=\"evenodd\" fill-opacity=\"1\" stroke=\"#000000\" stroke-opacity=\"1\" stroke-width=\"3.2\"/>\n<circle clip-path=\"url(#clip712)\" cx=\"1905.26\" cy=\"266.98\" r=\"14.4\" fill=\"#009af9\" fill-rule=\"evenodd\" fill-opacity=\"1\" stroke=\"#000000\" stroke-opacity=\"1\" stroke-width=\"3.2\"/>\n<circle clip-path=\"url(#clip712)\" cx=\"2057.73\" cy=\"984.139\" r=\"14.4\" fill=\"#009af9\" fill-rule=\"evenodd\" fill-opacity=\"1\" stroke=\"#000000\" stroke-opacity=\"1\" stroke-width=\"3.2\"/>\n<circle clip-path=\"url(#clip712)\" cx=\"2077.26\" cy=\"269.941\" r=\"14.4\" fill=\"#009af9\" fill-rule=\"evenodd\" fill-opacity=\"1\" stroke=\"#000000\" stroke-opacity=\"1\" stroke-width=\"3.2\"/>\n<circle clip-path=\"url(#clip712)\" cx=\"923.13\" cy=\"492.393\" r=\"14.4\" fill=\"#009af9\" fill-rule=\"evenodd\" fill-opacity=\"1\" stroke=\"#000000\" stroke-opacity=\"1\" stroke-width=\"3.2\"/>\n<circle clip-path=\"url(#clip712)\" cx=\"2155.24\" cy=\"629.318\" r=\"14.4\" fill=\"#009af9\" fill-rule=\"evenodd\" fill-opacity=\"1\" stroke=\"#000000\" stroke-opacity=\"1\" stroke-width=\"3.2\"/>\n<circle clip-path=\"url(#clip712)\" cx=\"2043.49\" cy=\"816.132\" r=\"14.4\" fill=\"#009af9\" fill-rule=\"evenodd\" fill-opacity=\"1\" stroke=\"#000000\" stroke-opacity=\"1\" stroke-width=\"3.2\"/>\n<circle clip-path=\"url(#clip712)\" cx=\"675.484\" cy=\"1090.88\" r=\"14.4\" fill=\"#009af9\" fill-rule=\"evenodd\" fill-opacity=\"1\" stroke=\"#000000\" stroke-opacity=\"1\" stroke-width=\"3.2\"/>\n<circle clip-path=\"url(#clip712)\" cx=\"988.176\" cy=\"922.652\" r=\"14.4\" fill=\"#009af9\" fill-rule=\"evenodd\" fill-opacity=\"1\" stroke=\"#000000\" stroke-opacity=\"1\" stroke-width=\"3.2\"/>\n<circle clip-path=\"url(#clip712)\" cx=\"709.896\" cy=\"1244.3\" r=\"14.4\" fill=\"#009af9\" fill-rule=\"evenodd\" fill-opacity=\"1\" stroke=\"#000000\" stroke-opacity=\"1\" stroke-width=\"3.2\"/>\n<circle clip-path=\"url(#clip712)\" cx=\"1720.92\" cy=\"970.757\" r=\"14.4\" fill=\"#009af9\" fill-rule=\"evenodd\" fill-opacity=\"1\" stroke=\"#000000\" stroke-opacity=\"1\" stroke-width=\"3.2\"/>\n<circle clip-path=\"url(#clip712)\" cx=\"1183.89\" cy=\"1071.82\" r=\"14.4\" fill=\"#009af9\" fill-rule=\"evenodd\" fill-opacity=\"1\" stroke=\"#000000\" stroke-opacity=\"1\" stroke-width=\"3.2\"/>\n<circle clip-path=\"url(#clip712)\" cx=\"1439.3\" cy=\"562.262\" r=\"14.4\" fill=\"#009af9\" fill-rule=\"evenodd\" fill-opacity=\"1\" stroke=\"#000000\" stroke-opacity=\"1\" stroke-width=\"3.2\"/>\n<circle clip-path=\"url(#clip712)\" cx=\"916.671\" cy=\"939.052\" r=\"14.4\" fill=\"#009af9\" fill-rule=\"evenodd\" fill-opacity=\"1\" stroke=\"#000000\" stroke-opacity=\"1\" stroke-width=\"3.2\"/>\n<circle clip-path=\"url(#clip712)\" cx=\"1473.74\" cy=\"686.257\" r=\"14.4\" fill=\"#009af9\" fill-rule=\"evenodd\" fill-opacity=\"1\" stroke=\"#000000\" stroke-opacity=\"1\" stroke-width=\"3.2\"/>\n<circle clip-path=\"url(#clip712)\" cx=\"459.276\" cy=\"992.981\" r=\"14.4\" fill=\"#009af9\" fill-rule=\"evenodd\" fill-opacity=\"1\" stroke=\"#000000\" stroke-opacity=\"1\" stroke-width=\"3.2\"/>\n<circle clip-path=\"url(#clip712)\" cx=\"531.64\" cy=\"799.737\" r=\"14.4\" fill=\"#009af9\" fill-rule=\"evenodd\" fill-opacity=\"1\" stroke=\"#000000\" stroke-opacity=\"1\" stroke-width=\"3.2\"/>\n<circle clip-path=\"url(#clip712)\" cx=\"480.584\" cy=\"525.75\" r=\"14.4\" fill=\"#009af9\" fill-rule=\"evenodd\" fill-opacity=\"1\" stroke=\"#000000\" stroke-opacity=\"1\" stroke-width=\"3.2\"/>\n<circle clip-path=\"url(#clip712)\" cx=\"913.719\" cy=\"743.866\" r=\"14.4\" fill=\"#009af9\" fill-rule=\"evenodd\" fill-opacity=\"1\" stroke=\"#000000\" stroke-opacity=\"1\" stroke-width=\"3.2\"/>\n<circle clip-path=\"url(#clip712)\" cx=\"2068.04\" cy=\"192.346\" r=\"14.4\" fill=\"#009af9\" fill-rule=\"evenodd\" fill-opacity=\"1\" stroke=\"#000000\" stroke-opacity=\"1\" stroke-width=\"3.2\"/>\n<circle clip-path=\"url(#clip712)\" cx=\"774.575\" cy=\"745.57\" r=\"14.4\" fill=\"#009af9\" fill-rule=\"evenodd\" fill-opacity=\"1\" stroke=\"#000000\" stroke-opacity=\"1\" stroke-width=\"3.2\"/>\n<circle clip-path=\"url(#clip712)\" cx=\"879.603\" cy=\"519.503\" r=\"14.4\" fill=\"#009af9\" fill-rule=\"evenodd\" fill-opacity=\"1\" stroke=\"#000000\" stroke-opacity=\"1\" stroke-width=\"3.2\"/>\n<circle clip-path=\"url(#clip712)\" cx=\"674.036\" cy=\"550.417\" r=\"14.4\" fill=\"#009af9\" fill-rule=\"evenodd\" fill-opacity=\"1\" stroke=\"#000000\" stroke-opacity=\"1\" stroke-width=\"3.2\"/>\n<circle clip-path=\"url(#clip712)\" cx=\"1546.85\" cy=\"1141.42\" r=\"14.4\" fill=\"#009af9\" fill-rule=\"evenodd\" fill-opacity=\"1\" stroke=\"#000000\" stroke-opacity=\"1\" stroke-width=\"3.2\"/>\n<circle clip-path=\"url(#clip712)\" cx=\"803.475\" cy=\"1107.83\" r=\"14.4\" fill=\"#009af9\" fill-rule=\"evenodd\" fill-opacity=\"1\" stroke=\"#000000\" stroke-opacity=\"1\" stroke-width=\"3.2\"/>\n<circle clip-path=\"url(#clip712)\" cx=\"1240.08\" cy=\"462.805\" r=\"14.4\" fill=\"#009af9\" fill-rule=\"evenodd\" fill-opacity=\"1\" stroke=\"#000000\" stroke-opacity=\"1\" stroke-width=\"3.2\"/>\n<circle clip-path=\"url(#clip712)\" cx=\"2165.88\" cy=\"888.374\" r=\"14.4\" fill=\"#009af9\" fill-rule=\"evenodd\" fill-opacity=\"1\" stroke=\"#000000\" stroke-opacity=\"1\" stroke-width=\"3.2\"/>\n<circle clip-path=\"url(#clip712)\" cx=\"1790.48\" cy=\"337.004\" r=\"14.4\" fill=\"#009af9\" fill-rule=\"evenodd\" fill-opacity=\"1\" stroke=\"#000000\" stroke-opacity=\"1\" stroke-width=\"3.2\"/>\n<circle clip-path=\"url(#clip712)\" cx=\"1586.2\" cy=\"1083.95\" r=\"14.4\" fill=\"#009af9\" fill-rule=\"evenodd\" fill-opacity=\"1\" stroke=\"#000000\" stroke-opacity=\"1\" stroke-width=\"3.2\"/>\n<circle clip-path=\"url(#clip712)\" cx=\"2068.4\" cy=\"124.892\" r=\"14.4\" fill=\"#009af9\" fill-rule=\"evenodd\" fill-opacity=\"1\" stroke=\"#000000\" stroke-opacity=\"1\" stroke-width=\"3.2\"/>\n<circle clip-path=\"url(#clip712)\" cx=\"1822.73\" cy=\"979.603\" r=\"14.4\" fill=\"#009af9\" fill-rule=\"evenodd\" fill-opacity=\"1\" stroke=\"#000000\" stroke-opacity=\"1\" stroke-width=\"3.2\"/>\n<circle clip-path=\"url(#clip712)\" cx=\"1690.57\" cy=\"650.35\" r=\"14.4\" fill=\"#009af9\" fill-rule=\"evenodd\" fill-opacity=\"1\" stroke=\"#000000\" stroke-opacity=\"1\" stroke-width=\"3.2\"/>\n<circle clip-path=\"url(#clip712)\" cx=\"1351.08\" cy=\"1106.08\" r=\"14.4\" fill=\"#009af9\" fill-rule=\"evenodd\" fill-opacity=\"1\" stroke=\"#000000\" stroke-opacity=\"1\" stroke-width=\"3.2\"/>\n<circle clip-path=\"url(#clip712)\" cx=\"1000.05\" cy=\"694.739\" r=\"14.4\" fill=\"#009af9\" fill-rule=\"evenodd\" fill-opacity=\"1\" stroke=\"#000000\" stroke-opacity=\"1\" stroke-width=\"3.2\"/>\n<circle clip-path=\"url(#clip712)\" cx=\"2122.29\" cy=\"458.71\" r=\"14.4\" fill=\"#009af9\" fill-rule=\"evenodd\" fill-opacity=\"1\" stroke=\"#000000\" stroke-opacity=\"1\" stroke-width=\"3.2\"/>\n<circle clip-path=\"url(#clip712)\" cx=\"1726.82\" cy=\"416.246\" r=\"14.4\" fill=\"#009af9\" fill-rule=\"evenodd\" fill-opacity=\"1\" stroke=\"#000000\" stroke-opacity=\"1\" stroke-width=\"3.2\"/>\n<circle clip-path=\"url(#clip712)\" cx=\"1552.5\" cy=\"690.512\" r=\"14.4\" fill=\"#009af9\" fill-rule=\"evenodd\" fill-opacity=\"1\" stroke=\"#000000\" stroke-opacity=\"1\" stroke-width=\"3.2\"/>\n<circle clip-path=\"url(#clip712)\" cx=\"1313.12\" cy=\"1104.44\" r=\"14.4\" fill=\"#009af9\" fill-rule=\"evenodd\" fill-opacity=\"1\" stroke=\"#000000\" stroke-opacity=\"1\" stroke-width=\"3.2\"/>\n<circle clip-path=\"url(#clip712)\" cx=\"2094.06\" cy=\"294.972\" r=\"14.4\" fill=\"#009af9\" fill-rule=\"evenodd\" fill-opacity=\"1\" stroke=\"#000000\" stroke-opacity=\"1\" stroke-width=\"3.2\"/>\n<circle clip-path=\"url(#clip712)\" cx=\"2213.39\" cy=\"868.876\" r=\"14.4\" fill=\"#009af9\" fill-rule=\"evenodd\" fill-opacity=\"1\" stroke=\"#000000\" stroke-opacity=\"1\" stroke-width=\"3.2\"/>\n<circle clip-path=\"url(#clip712)\" cx=\"2233.07\" cy=\"835.18\" r=\"14.4\" fill=\"#009af9\" fill-rule=\"evenodd\" fill-opacity=\"1\" stroke=\"#000000\" stroke-opacity=\"1\" stroke-width=\"3.2\"/>\n<circle clip-path=\"url(#clip712)\" cx=\"792.531\" cy=\"1218.61\" r=\"14.4\" fill=\"#009af9\" fill-rule=\"evenodd\" fill-opacity=\"1\" stroke=\"#000000\" stroke-opacity=\"1\" stroke-width=\"3.2\"/>\n<circle clip-path=\"url(#clip712)\" cx=\"2223.13\" cy=\"828.522\" r=\"14.4\" fill=\"#009af9\" fill-rule=\"evenodd\" fill-opacity=\"1\" stroke=\"#000000\" stroke-opacity=\"1\" stroke-width=\"3.2\"/>\n<circle clip-path=\"url(#clip712)\" cx=\"416.47\" cy=\"864.269\" r=\"14.4\" fill=\"#009af9\" fill-rule=\"evenodd\" fill-opacity=\"1\" stroke=\"#000000\" stroke-opacity=\"1\" stroke-width=\"3.2\"/>\n<circle clip-path=\"url(#clip712)\" cx=\"869.137\" cy=\"711.073\" r=\"14.4\" fill=\"#009af9\" fill-rule=\"evenodd\" fill-opacity=\"1\" stroke=\"#000000\" stroke-opacity=\"1\" stroke-width=\"3.2\"/>\n<circle clip-path=\"url(#clip712)\" cx=\"953.374\" cy=\"531.886\" r=\"14.4\" fill=\"#009af9\" fill-rule=\"evenodd\" fill-opacity=\"1\" stroke=\"#000000\" stroke-opacity=\"1\" stroke-width=\"3.2\"/>\n<circle clip-path=\"url(#clip712)\" cx=\"702.658\" cy=\"826.702\" r=\"14.4\" fill=\"#009af9\" fill-rule=\"evenodd\" fill-opacity=\"1\" stroke=\"#000000\" stroke-opacity=\"1\" stroke-width=\"3.2\"/>\n<circle clip-path=\"url(#clip712)\" cx=\"370.787\" cy=\"641.728\" r=\"14.4\" fill=\"#009af9\" fill-rule=\"evenodd\" fill-opacity=\"1\" stroke=\"#000000\" stroke-opacity=\"1\" stroke-width=\"3.2\"/>\n<circle clip-path=\"url(#clip712)\" cx=\"347.06\" cy=\"779.703\" r=\"14.4\" fill=\"#009af9\" fill-rule=\"evenodd\" fill-opacity=\"1\" stroke=\"#000000\" stroke-opacity=\"1\" stroke-width=\"3.2\"/>\n<circle clip-path=\"url(#clip712)\" cx=\"2133\" cy=\"966.774\" r=\"14.4\" fill=\"#009af9\" fill-rule=\"evenodd\" fill-opacity=\"1\" stroke=\"#000000\" stroke-opacity=\"1\" stroke-width=\"3.2\"/>\n<circle clip-path=\"url(#clip712)\" cx=\"1008.26\" cy=\"1038.72\" r=\"14.4\" fill=\"#009af9\" fill-rule=\"evenodd\" fill-opacity=\"1\" stroke=\"#000000\" stroke-opacity=\"1\" stroke-width=\"3.2\"/>\n<circle clip-path=\"url(#clip712)\" cx=\"425.288\" cy=\"531.055\" r=\"14.4\" fill=\"#009af9\" fill-rule=\"evenodd\" fill-opacity=\"1\" stroke=\"#000000\" stroke-opacity=\"1\" stroke-width=\"3.2\"/>\n<circle clip-path=\"url(#clip712)\" cx=\"1277.26\" cy=\"657.475\" r=\"14.4\" fill=\"#009af9\" fill-rule=\"evenodd\" fill-opacity=\"1\" stroke=\"#000000\" stroke-opacity=\"1\" stroke-width=\"3.2\"/>\n<circle clip-path=\"url(#clip712)\" cx=\"2010.43\" cy=\"526.873\" r=\"14.4\" fill=\"#009af9\" fill-rule=\"evenodd\" fill-opacity=\"1\" stroke=\"#000000\" stroke-opacity=\"1\" stroke-width=\"3.2\"/>\n<circle clip-path=\"url(#clip712)\" cx=\"569.392\" cy=\"1075.57\" r=\"14.4\" fill=\"#009af9\" fill-rule=\"evenodd\" fill-opacity=\"1\" stroke=\"#000000\" stroke-opacity=\"1\" stroke-width=\"3.2\"/>\n<circle clip-path=\"url(#clip712)\" cx=\"1097.19\" cy=\"1138.33\" r=\"14.4\" fill=\"#009af9\" fill-rule=\"evenodd\" fill-opacity=\"1\" stroke=\"#000000\" stroke-opacity=\"1\" stroke-width=\"3.2\"/>\n<circle clip-path=\"url(#clip712)\" cx=\"2118.43\" cy=\"739.37\" r=\"14.4\" fill=\"#009af9\" fill-rule=\"evenodd\" fill-opacity=\"1\" stroke=\"#000000\" stroke-opacity=\"1\" stroke-width=\"3.2\"/>\n<circle clip-path=\"url(#clip712)\" cx=\"2001.47\" cy=\"238.599\" r=\"14.4\" fill=\"#009af9\" fill-rule=\"evenodd\" fill-opacity=\"1\" stroke=\"#000000\" stroke-opacity=\"1\" stroke-width=\"3.2\"/>\n<circle clip-path=\"url(#clip712)\" cx=\"1016.33\" cy=\"1281.53\" r=\"14.4\" fill=\"#009af9\" fill-rule=\"evenodd\" fill-opacity=\"1\" stroke=\"#000000\" stroke-opacity=\"1\" stroke-width=\"3.2\"/>\n<circle clip-path=\"url(#clip712)\" cx=\"2163.7\" cy=\"178.151\" r=\"14.4\" fill=\"#009af9\" fill-rule=\"evenodd\" fill-opacity=\"1\" stroke=\"#000000\" stroke-opacity=\"1\" stroke-width=\"3.2\"/>\n<circle clip-path=\"url(#clip712)\" cx=\"2002.09\" cy=\"777.66\" r=\"14.4\" fill=\"#009af9\" fill-rule=\"evenodd\" fill-opacity=\"1\" stroke=\"#000000\" stroke-opacity=\"1\" stroke-width=\"3.2\"/>\n<circle clip-path=\"url(#clip712)\" cx=\"1059.66\" cy=\"733.518\" r=\"14.4\" fill=\"#009af9\" fill-rule=\"evenodd\" fill-opacity=\"1\" stroke=\"#000000\" stroke-opacity=\"1\" stroke-width=\"3.2\"/>\n<circle clip-path=\"url(#clip712)\" cx=\"1388.6\" cy=\"564.506\" r=\"14.4\" fill=\"#009af9\" fill-rule=\"evenodd\" fill-opacity=\"1\" stroke=\"#000000\" stroke-opacity=\"1\" stroke-width=\"3.2\"/>\n<circle clip-path=\"url(#clip712)\" cx=\"1566.61\" cy=\"294.43\" r=\"14.4\" fill=\"#009af9\" fill-rule=\"evenodd\" fill-opacity=\"1\" stroke=\"#000000\" stroke-opacity=\"1\" stroke-width=\"3.2\"/>\n<circle clip-path=\"url(#clip712)\" cx=\"1473.03\" cy=\"890.505\" r=\"14.4\" fill=\"#009af9\" fill-rule=\"evenodd\" fill-opacity=\"1\" stroke=\"#000000\" stroke-opacity=\"1\" stroke-width=\"3.2\"/>\n<circle clip-path=\"url(#clip712)\" cx=\"515.034\" cy=\"548.477\" r=\"14.4\" fill=\"#009af9\" fill-rule=\"evenodd\" fill-opacity=\"1\" stroke=\"#000000\" stroke-opacity=\"1\" stroke-width=\"3.2\"/>\n<circle clip-path=\"url(#clip712)\" cx=\"1077.29\" cy=\"761.792\" r=\"14.4\" fill=\"#009af9\" fill-rule=\"evenodd\" fill-opacity=\"1\" stroke=\"#000000\" stroke-opacity=\"1\" stroke-width=\"3.2\"/>\n<circle clip-path=\"url(#clip712)\" cx=\"2116.16\" cy=\"615.155\" r=\"14.4\" fill=\"#009af9\" fill-rule=\"evenodd\" fill-opacity=\"1\" stroke=\"#000000\" stroke-opacity=\"1\" stroke-width=\"3.2\"/>\n<circle clip-path=\"url(#clip712)\" cx=\"566.208\" cy=\"964.39\" r=\"14.4\" fill=\"#009af9\" fill-rule=\"evenodd\" fill-opacity=\"1\" stroke=\"#000000\" stroke-opacity=\"1\" stroke-width=\"3.2\"/>\n<circle clip-path=\"url(#clip712)\" cx=\"417.923\" cy=\"1168.57\" r=\"14.4\" fill=\"#009af9\" fill-rule=\"evenodd\" fill-opacity=\"1\" stroke=\"#000000\" stroke-opacity=\"1\" stroke-width=\"3.2\"/>\n<circle clip-path=\"url(#clip712)\" cx=\"639.572\" cy=\"891.736\" r=\"14.4\" fill=\"#009af9\" fill-rule=\"evenodd\" fill-opacity=\"1\" stroke=\"#000000\" stroke-opacity=\"1\" stroke-width=\"3.2\"/>\n<circle clip-path=\"url(#clip712)\" cx=\"1344.19\" cy=\"907.321\" r=\"14.4\" fill=\"#009af9\" fill-rule=\"evenodd\" fill-opacity=\"1\" stroke=\"#000000\" stroke-opacity=\"1\" stroke-width=\"3.2\"/>\n<circle clip-path=\"url(#clip712)\" cx=\"291.713\" cy=\"972.573\" r=\"14.4\" fill=\"#009af9\" fill-rule=\"evenodd\" fill-opacity=\"1\" stroke=\"#000000\" stroke-opacity=\"1\" stroke-width=\"3.2\"/>\n<circle clip-path=\"url(#clip712)\" cx=\"1412.13\" cy=\"794.34\" r=\"14.4\" fill=\"#009af9\" fill-rule=\"evenodd\" fill-opacity=\"1\" stroke=\"#000000\" stroke-opacity=\"1\" stroke-width=\"3.2\"/>\n<circle clip-path=\"url(#clip712)\" cx=\"973.656\" cy=\"483.201\" r=\"14.4\" fill=\"#009af9\" fill-rule=\"evenodd\" fill-opacity=\"1\" stroke=\"#000000\" stroke-opacity=\"1\" stroke-width=\"3.2\"/>\n<circle clip-path=\"url(#clip712)\" cx=\"1273.57\" cy=\"442.929\" r=\"14.4\" fill=\"#009af9\" fill-rule=\"evenodd\" fill-opacity=\"1\" stroke=\"#000000\" stroke-opacity=\"1\" stroke-width=\"3.2\"/>\n<circle clip-path=\"url(#clip712)\" cx=\"2239.26\" cy=\"131.988\" r=\"14.4\" fill=\"#009af9\" fill-rule=\"evenodd\" fill-opacity=\"1\" stroke=\"#000000\" stroke-opacity=\"1\" stroke-width=\"3.2\"/>\n<circle clip-path=\"url(#clip712)\" cx=\"1047.88\" cy=\"1146.17\" r=\"14.4\" fill=\"#009af9\" fill-rule=\"evenodd\" fill-opacity=\"1\" stroke=\"#000000\" stroke-opacity=\"1\" stroke-width=\"3.2\"/>\n<circle clip-path=\"url(#clip712)\" cx=\"683.645\" cy=\"794.461\" r=\"14.4\" fill=\"#009af9\" fill-rule=\"evenodd\" fill-opacity=\"1\" stroke=\"#000000\" stroke-opacity=\"1\" stroke-width=\"3.2\"/>\n<circle clip-path=\"url(#clip712)\" cx=\"2048.65\" cy=\"942.003\" r=\"14.4\" fill=\"#009af9\" fill-rule=\"evenodd\" fill-opacity=\"1\" stroke=\"#000000\" stroke-opacity=\"1\" stroke-width=\"3.2\"/>\n<circle clip-path=\"url(#clip712)\" cx=\"1885.43\" cy=\"229.09\" r=\"14.4\" fill=\"#009af9\" fill-rule=\"evenodd\" fill-opacity=\"1\" stroke=\"#000000\" stroke-opacity=\"1\" stroke-width=\"3.2\"/>\n<circle clip-path=\"url(#clip712)\" cx=\"2156.64\" cy=\"627.002\" r=\"14.4\" fill=\"#009af9\" fill-rule=\"evenodd\" fill-opacity=\"1\" stroke=\"#000000\" stroke-opacity=\"1\" stroke-width=\"3.2\"/>\n<circle clip-path=\"url(#clip712)\" cx=\"418.638\" cy=\"1126.07\" r=\"14.4\" fill=\"#009af9\" fill-rule=\"evenodd\" fill-opacity=\"1\" stroke=\"#000000\" stroke-opacity=\"1\" stroke-width=\"3.2\"/>\n<circle clip-path=\"url(#clip712)\" cx=\"1072.86\" cy=\"522.471\" r=\"14.4\" fill=\"#009af9\" fill-rule=\"evenodd\" fill-opacity=\"1\" stroke=\"#000000\" stroke-opacity=\"1\" stroke-width=\"3.2\"/>\n<circle clip-path=\"url(#clip712)\" cx=\"395.874\" cy=\"706.165\" r=\"14.4\" fill=\"#009af9\" fill-rule=\"evenodd\" fill-opacity=\"1\" stroke=\"#000000\" stroke-opacity=\"1\" stroke-width=\"3.2\"/>\n<circle clip-path=\"url(#clip712)\" cx=\"2227.35\" cy=\"777.811\" r=\"14.4\" fill=\"#009af9\" fill-rule=\"evenodd\" fill-opacity=\"1\" stroke=\"#000000\" stroke-opacity=\"1\" stroke-width=\"3.2\"/>\n<circle clip-path=\"url(#clip712)\" cx=\"1214.44\" cy=\"650.523\" r=\"14.4\" fill=\"#009af9\" fill-rule=\"evenodd\" fill-opacity=\"1\" stroke=\"#000000\" stroke-opacity=\"1\" stroke-width=\"3.2\"/>\n<circle clip-path=\"url(#clip712)\" cx=\"2154.05\" cy=\"103.479\" r=\"14.4\" fill=\"#009af9\" fill-rule=\"evenodd\" fill-opacity=\"1\" stroke=\"#000000\" stroke-opacity=\"1\" stroke-width=\"3.2\"/>\n<circle clip-path=\"url(#clip712)\" cx=\"2139.15\" cy=\"95.518\" r=\"14.4\" fill=\"#009af9\" fill-rule=\"evenodd\" fill-opacity=\"1\" stroke=\"#000000\" stroke-opacity=\"1\" stroke-width=\"3.2\"/>\n<circle clip-path=\"url(#clip712)\" cx=\"1073.96\" cy=\"509.063\" r=\"14.4\" fill=\"#009af9\" fill-rule=\"evenodd\" fill-opacity=\"1\" stroke=\"#000000\" stroke-opacity=\"1\" stroke-width=\"3.2\"/>\n<circle clip-path=\"url(#clip712)\" cx=\"842.947\" cy=\"915.495\" r=\"14.4\" fill=\"#009af9\" fill-rule=\"evenodd\" fill-opacity=\"1\" stroke=\"#000000\" stroke-opacity=\"1\" stroke-width=\"3.2\"/>\n<path clip-path=\"url(#clip710)\" d=\"\nM1985.83 196.789 L2280.18 196.789 L2280.18 93.1086 L1985.83 93.1086  Z\n  \" fill=\"#ffffff\" fill-rule=\"evenodd\" fill-opacity=\"1\"/>\n<polyline clip-path=\"url(#clip710)\" style=\"stroke:#000000; stroke-linecap:butt; stroke-linejoin:round; stroke-width:4; stroke-opacity:1; fill:none\" points=\"\n  1985.83,196.789 2280.18,196.789 2280.18,93.1086 1985.83,93.1086 1985.83,196.789 \n  \"/>\n<circle clip-path=\"url(#clip710)\" cx=\"2082.59\" cy=\"144.949\" r=\"23.04\" fill=\"#009af9\" fill-rule=\"evenodd\" fill-opacity=\"1\" stroke=\"#000000\" stroke-opacity=\"1\" stroke-width=\"5.12\"/>\n<path clip-path=\"url(#clip710)\" d=\"M2193.21 164.636 Q2191.4 169.266 2189.69 170.678 Q2187.97 172.09 2185.1 172.09 L2181.7 172.09 L2181.7 168.525 L2184.2 168.525 Q2185.96 168.525 2186.93 167.692 Q2187.91 166.858 2189.09 163.756 L2189.85 161.812 L2179.36 136.303 L2183.88 136.303 L2191.98 156.581 L2200.08 136.303 L2204.6 136.303 L2193.21 164.636 Z\" fill=\"#000000\" fill-rule=\"evenodd\" fill-opacity=\"1\" /><path clip-path=\"url(#clip710)\" d=\"M2211.89 158.293 L2219.53 158.293 L2219.53 131.928 L2211.22 133.595 L2211.22 129.335 L2219.48 127.669 L2224.16 127.669 L2224.16 158.293 L2231.79 158.293 L2231.79 162.229 L2211.89 162.229 L2211.89 158.293 Z\" fill=\"#000000\" fill-rule=\"evenodd\" fill-opacity=\"1\" /></svg>\n"
     },
     "execution_count": 22,
     "metadata": {},
     "output_type": "execute_result"
    }
   ],
   "source": [
    "scatter(data.f, data.time, xlabel = \"fluffiness\", ylabel = \"time to reach ground\")"
   ]
  },
  {
   "cell_type": "markdown",
   "metadata": {},
   "source": [
    "Although the time to reach the ground is a deterministic function of the predictors $f, s, ρ, w$, it is more natural to model the relationship between the time $t$ and the fluffiness $f$ alone as a conditional probability distribution which is obtained by marginalizing $s, \\rho, w$, i.e.\n",
    "$$\n",
    "\\begin{align}\n",
    "P(t|f) &= \\sum_s\\int d\\rho\\int dw P(t|f, s, \\rho, w)P(s)P(\\rho)P(w)\\\\\n",
    "&= \\sum_{s \\in\\{[s, e]\\}}\\int_{1.1}^{1.4}d\\rho\\int_{0}^5dw\\, \\delta\\big(t - g(f, s, \\rho, w)\\big)\\frac12\\frac1{0.3}\\frac15\n",
    "\\end{align}\n",
    "$$\n",
    "where $\\delta(x)$ is the Dirac delta distribution."
   ]
  },
  {
   "cell_type": "markdown",
   "metadata": {},
   "source": [
    "#### Exercise 5\n",
    "Change the noise level $\\sigma$, the size of the training data $n$ and the seed with the sliders of the section \"Linear Regression\" and observe the training and the test losses. Write down your observations when\n",
    "- $n$ is small.\n",
    "- $n$ is large.\n",
    "- Compare training loss and test loss when $n$ is large for different seed values.\n",
    "- Compare for large $n$ the test error to $\\sigma^2$ for different values of $\\sigma$."
   ]
  },
  {
   "cell_type": "markdown",
   "metadata": {},
   "source": [
    "### Solution\n",
    "1. For low number $n$ of training points the training error is typically much lower than the test error.\n",
    "2. For large number $n$ of training points the training error and the test error are almost equally large.\n",
    "3. For large number $n$ of training points the training arror is lower than the test error for some random number seeds and higher for others.\n",
    "4. For large number $n$ of training points the training and the test error are approximately $\\sigma^2$"
   ]
  },
  {
   "cell_type": "markdown",
   "metadata": {},
   "source": [
    "#### Exercise 6\n",
    "Write a data generator function that samples inputs $x$ normally distributed\n",
    "   with mean 2 and standard deviation 3. The response $ y\\in\\{ [true, false] $\n",
    "   should be sampled from a Bernoulli distribution with rate of $[true]$\n",
    "   equal to $ \\sigma(0.5x - 2.7) $ where $ \\sigma(x) = 1/(1 + e^{-x}) $ is the sigmoid (or logistic) function.\n",
    "   - Create a training set of size $n = 20$.\n",
    "   - Fit the data with logistic regression.\n",
    "   - Look at the fitted parameters.\n",
    "   - Predict the probability of class `true` on the training input.  *Hint*: use the `pdf` function.\n",
    "   - Determine the class with highest predicted probability and compare the result to the labels of the training set.\n",
    "   - Create a test set of size $n = 10^4$ where the input is always at $x = 4$. Estimate the average test error at $x = 4$ using this test set. Use the negative log-likelihood as error function.\n",
    "   - Compute the test error at $x = 4$ using the fitted parameters and compare your result to the previous result. *Hint:* Have a look at the slides for how to compute the test error when the parameters of the generator and the fitted function are known.\n",
    "   - Rerun your solution with different training sets of size $n = 20$ and write down your observations.\n",
    "   - Rerun your solution multiple times with training sets of size $n = 10^4$. Compare the fitted parameters to the one of the generator and look at the test error. Write down your observations.\n"
   ]
  },
  {
   "cell_type": "code",
   "execution_count": 23,
   "metadata": {},
   "outputs": [
    {
     "name": "stderr",
     "output_type": "stream",
     "text": [
      "┌ Info: Precompiling MLJ [add582a8-e3ab-11e8-2d5e-e98b27df1bc7]\n",
      "└ @ Base loading.jl:1423\n"
     ]
    }
   ],
   "source": [
    "using MLJ, MLJLinearModels, DataFrames"
   ]
  },
  {
   "cell_type": "code",
   "execution_count": 24,
   "metadata": {},
   "outputs": [
    {
     "data": {
      "text/plain": [
       "logistic (generic function with 1 method)"
      ]
     },
     "execution_count": 24,
     "metadata": {},
     "output_type": "execute_result"
    }
   ],
   "source": [
    "logistic(x) = 1/(1 + exp(-x))"
   ]
  },
  {
   "cell_type": "code",
   "execution_count": 25,
   "metadata": {},
   "outputs": [
    {
     "data": {
      "text/plain": [
       "data_generator (generic function with 1 method)"
      ]
     },
     "execution_count": 25,
     "metadata": {},
     "output_type": "execute_result"
    }
   ],
   "source": [
    "function data_generator(; n = 20, x = randn(n) * 3 .+ 2)\n",
    "    # or x = rand(Normal(2, 3), n)\n",
    "    rate = logistic.(0.5x .- 2.7)\n",
    "    y = rate .> rand(length(x)) # or rand.(Bernoulli.(rate))\n",
    "    DataFrame(x = x, y = categorical(y, levels = [false, true], ordered = true))\n",
    "end"
   ]
  },
  {
   "cell_type": "code",
   "execution_count": 26,
   "metadata": {},
   "outputs": [
    {
     "data": {
      "text/html": [
       "<div class=\"data-frame\"><p>20 rows × 2 columns</p><table class=\"data-frame\"><thead><tr><th></th><th>x</th><th>y</th></tr><tr><th></th><th title=\"Float64\">Float64</th><th title=\"CategoricalArrays.CategoricalValue{Bool, UInt32}\">Cat…</th></tr></thead><tbody><tr><th>1</th><td>-0.834293</td><td>false</td></tr><tr><th>2</th><td>9.29431</td><td>true</td></tr><tr><th>3</th><td>-0.158587</td><td>false</td></tr><tr><th>4</th><td>4.52296</td><td>true</td></tr><tr><th>5</th><td>6.76964</td><td>true</td></tr><tr><th>6</th><td>2.54861</td><td>false</td></tr><tr><th>7</th><td>-0.324141</td><td>true</td></tr><tr><th>8</th><td>0.659662</td><td>true</td></tr><tr><th>9</th><td>0.52591</td><td>false</td></tr><tr><th>10</th><td>-6.8347</td><td>false</td></tr><tr><th>11</th><td>1.90038</td><td>false</td></tr><tr><th>12</th><td>3.25013</td><td>true</td></tr><tr><th>13</th><td>1.15853</td><td>false</td></tr><tr><th>14</th><td>0.436441</td><td>false</td></tr><tr><th>15</th><td>-1.67144</td><td>false</td></tr><tr><th>16</th><td>-1.22426</td><td>false</td></tr><tr><th>17</th><td>4.25943</td><td>false</td></tr><tr><th>18</th><td>2.15041</td><td>false</td></tr><tr><th>19</th><td>3.46507</td><td>false</td></tr><tr><th>20</th><td>-0.13471</td><td>false</td></tr></tbody></table></div>"
      ],
      "text/latex": [
       "\\begin{tabular}{r|cc}\n",
       "\t& x & y\\\\\n",
       "\t\\hline\n",
       "\t& Float64 & Cat…\\\\\n",
       "\t\\hline\n",
       "\t1 & -0.834293 & false \\\\\n",
       "\t2 & 9.29431 & true \\\\\n",
       "\t3 & -0.158587 & false \\\\\n",
       "\t4 & 4.52296 & true \\\\\n",
       "\t5 & 6.76964 & true \\\\\n",
       "\t6 & 2.54861 & false \\\\\n",
       "\t7 & -0.324141 & true \\\\\n",
       "\t8 & 0.659662 & true \\\\\n",
       "\t9 & 0.52591 & false \\\\\n",
       "\t10 & -6.8347 & false \\\\\n",
       "\t11 & 1.90038 & false \\\\\n",
       "\t12 & 3.25013 & true \\\\\n",
       "\t13 & 1.15853 & false \\\\\n",
       "\t14 & 0.436441 & false \\\\\n",
       "\t15 & -1.67144 & false \\\\\n",
       "\t16 & -1.22426 & false \\\\\n",
       "\t17 & 4.25943 & false \\\\\n",
       "\t18 & 2.15041 & false \\\\\n",
       "\t19 & 3.46507 & false \\\\\n",
       "\t20 & -0.13471 & false \\\\\n",
       "\\end{tabular}\n"
      ],
      "text/plain": [
       "\u001b[1m20×2 DataFrame\u001b[0m\n",
       "\u001b[1m Row \u001b[0m│\u001b[1m x         \u001b[0m\u001b[1m y     \u001b[0m\n",
       "\u001b[1m     \u001b[0m│\u001b[90m Float64   \u001b[0m\u001b[90m Cat…  \u001b[0m\n",
       "─────┼──────────────────\n",
       "   1 │ -0.834293  false\n",
       "   2 │  9.29431   true\n",
       "   3 │ -0.158587  false\n",
       "   4 │  4.52296   true\n",
       "   5 │  6.76964   true\n",
       "   6 │  2.54861   false\n",
       "   7 │ -0.324141  true\n",
       "   8 │  0.659662  true\n",
       "   9 │  0.52591   false\n",
       "  10 │ -6.8347    false\n",
       "  11 │  1.90038   false\n",
       "  12 │  3.25013   true\n",
       "  13 │  1.15853   false\n",
       "  14 │  0.436441  false\n",
       "  15 │ -1.67144   false\n",
       "  16 │ -1.22426   false\n",
       "  17 │  4.25943   false\n",
       "  18 │  2.15041   false\n",
       "  19 │  3.46507   false\n",
       "  20 │ -0.13471   false"
      ]
     },
     "execution_count": 26,
     "metadata": {},
     "output_type": "execute_result"
    }
   ],
   "source": [
    "data1 = data_generator(n = 20)"
   ]
  },
  {
   "cell_type": "code",
   "execution_count": 27,
   "metadata": {},
   "outputs": [],
   "source": [
    "mach1 = machine(LogisticClassifier(penalty = :none),\n",
    "                select(data1, :x),\n",
    "                data1.y);"
   ]
  },
  {
   "cell_type": "code",
   "execution_count": 28,
   "metadata": {},
   "outputs": [
    {
     "name": "stderr",
     "output_type": "stream",
     "text": [
      "┌ Info: Training machine(LogisticClassifier(lambda = 1.0, …), …).\n",
      "└ @ MLJBase /Users/simonlee/.julia/packages/MLJBase/kihuj/src/machines.jl:496\n",
      "┌ Info: Solver: LBFGS()\n",
      "└ @ MLJLinearModels /Users/simonlee/.julia/packages/MLJLinearModels/YvwMg/src/mlj/interface.jl:77\n"
     ]
    },
    {
     "data": {
      "text/plain": [
       "trained Machine; caches model-specific representations of data\n",
       "  model: LogisticClassifier(lambda = 1.0, …)\n",
       "  args: \n",
       "    1:\tSource @702 ⏎ Table{AbstractVector{ScientificTypesBase.Continuous}}\n",
       "    2:\tSource @203 ⏎ AbstractVector{OrderedFactor{2}}\n"
      ]
     },
     "execution_count": 28,
     "metadata": {},
     "output_type": "execute_result"
    }
   ],
   "source": [
    "fit!(mach1)"
   ]
  },
  {
   "cell_type": "code",
   "execution_count": 29,
   "metadata": {},
   "outputs": [
    {
     "data": {
      "text/plain": [
       "(classes = CategoricalArrays.CategoricalValue{Bool, UInt32}[false, true],\n",
       " coefs = [:x => 0.4811250100468941],\n",
       " intercept = -1.860673852763166,)"
      ]
     },
     "execution_count": 29,
     "metadata": {},
     "output_type": "execute_result"
    }
   ],
   "source": [
    "θ̂ = fitted_params(mach1)"
   ]
  },
  {
   "cell_type": "code",
   "execution_count": 30,
   "metadata": {},
   "outputs": [
    {
     "data": {
      "text/plain": [
       "20-element CategoricalDistributions.UnivariateFiniteVector{OrderedFactor{2}, Bool, UInt32, Float64}:\n",
       " UnivariateFinite{OrderedFactor{2}}(false=>0.906, true=>0.0943)\n",
       " UnivariateFinite{OrderedFactor{2}}(false=>0.0684, true=>0.932)\n",
       " UnivariateFinite{OrderedFactor{2}}(false=>0.874, true=>0.126)\n",
       " UnivariateFinite{OrderedFactor{2}}(false=>0.422, true=>0.578)\n",
       " UnivariateFinite{OrderedFactor{2}}(false=>0.198, true=>0.802)\n",
       " UnivariateFinite{OrderedFactor{2}}(false=>0.654, true=>0.346)\n",
       " UnivariateFinite{OrderedFactor{2}}(false=>0.883, true=>0.117)\n",
       " UnivariateFinite{OrderedFactor{2}}(false=>0.824, true=>0.176)\n",
       " UnivariateFinite{OrderedFactor{2}}(false=>0.833, true=>0.167)\n",
       " UnivariateFinite{OrderedFactor{2}}(false=>0.994, true=>0.00577)\n",
       " UnivariateFinite{OrderedFactor{2}}(false=>0.72, true=>0.28)\n",
       " UnivariateFinite{OrderedFactor{2}}(false=>0.574, true=>0.426)\n",
       " UnivariateFinite{OrderedFactor{2}}(false=>0.786, true=>0.214)\n",
       " UnivariateFinite{OrderedFactor{2}}(false=>0.839, true=>0.161)\n",
       " UnivariateFinite{OrderedFactor{2}}(false=>0.935, true=>0.0651)\n",
       " UnivariateFinite{OrderedFactor{2}}(false=>0.921, true=>0.0795)\n",
       " UnivariateFinite{OrderedFactor{2}}(false=>0.453, true=>0.547)\n",
       " UnivariateFinite{OrderedFactor{2}}(false=>0.696, true=>0.304)\n",
       " UnivariateFinite{OrderedFactor{2}}(false=>0.548, true=>0.452)\n",
       " UnivariateFinite{OrderedFactor{2}}(false=>0.873, true=>0.127)"
      ]
     },
     "execution_count": 30,
     "metadata": {},
     "output_type": "execute_result"
    }
   ],
   "source": [
    "p̂ = predict(mach1)"
   ]
  },
  {
   "cell_type": "code",
   "execution_count": 31,
   "metadata": {},
   "outputs": [
    {
     "data": {
      "text/plain": [
       "20-element Vector{Float64}:\n",
       " 0.09431313803266667\n",
       " 0.9315694960061063\n",
       " 0.12598065849900691\n",
       " 0.5782112837438551\n",
       " 0.8016069845080023\n",
       " 0.346496817480957\n",
       " 0.11746828381545178\n",
       " 0.17605691611805516\n",
       " 0.16691578414930694\n",
       " 0.005771603802066845\n",
       " 0.27961829897788326\n",
       " 0.4263025556375702\n",
       " 0.21361419513696386\n",
       " 0.16101553076714406\n",
       " 0.06507993716440061\n",
       " 0.07946068262002524\n",
       " 0.547022267405015\n",
       " 0.3044794559215706\n",
       " 0.451765101405041\n",
       " 0.12725100880891627"
      ]
     },
     "execution_count": 31,
     "metadata": {},
     "output_type": "execute_result"
    }
   ],
   "source": [
    "pdf.(p̂, true)"
   ]
  },
  {
   "cell_type": "code",
   "execution_count": 32,
   "metadata": {},
   "outputs": [
    {
     "data": {
      "text/plain": [
       "20-element CategoricalArrays.CategoricalArray{Bool,1,UInt32}:\n",
       " false\n",
       " true\n",
       " false\n",
       " true\n",
       " true\n",
       " false\n",
       " false\n",
       " false\n",
       " false\n",
       " false\n",
       " false\n",
       " false\n",
       " false\n",
       " false\n",
       " false\n",
       " false\n",
       " true\n",
       " false\n",
       " false\n",
       " false"
      ]
     },
     "execution_count": 32,
     "metadata": {},
     "output_type": "execute_result"
    }
   ],
   "source": [
    "ŷ = predict_mode(mach1)"
   ]
  },
  {
   "cell_type": "code",
   "execution_count": 33,
   "metadata": {},
   "outputs": [
    {
     "data": {
      "text/plain": [
       "20×2 CategoricalArrays.CategoricalArray{Bool,2,UInt32}:\n",
       " false  false\n",
       " true   true\n",
       " false  false\n",
       " true   true\n",
       " true   true\n",
       " false  false\n",
       " true   false\n",
       " true   false\n",
       " false  false\n",
       " false  false\n",
       " false  false\n",
       " true   false\n",
       " false  false\n",
       " false  false\n",
       " false  false\n",
       " false  false\n",
       " false  true\n",
       " false  false\n",
       " false  false\n",
       " false  false"
      ]
     },
     "execution_count": 33,
     "metadata": {},
     "output_type": "execute_result"
    }
   ],
   "source": [
    "[data1.y ŷ]"
   ]
  },
  {
   "cell_type": "markdown",
   "metadata": {},
   "source": [
    "- The class with highest predicted probability is not always the same as the one in the training set. This is expected because of the noise."
   ]
  },
  {
   "cell_type": "code",
   "execution_count": 34,
   "metadata": {},
   "outputs": [
    {
     "data": {
      "text/html": [
       "<div class=\"data-frame\"><p>10,000 rows × 2 columns</p><table class=\"data-frame\"><thead><tr><th></th><th>x</th><th>y</th></tr><tr><th></th><th title=\"Int64\">Int64</th><th title=\"CategoricalArrays.CategoricalValue{Bool, UInt32}\">Cat…</th></tr></thead><tbody><tr><th>1</th><td>4</td><td>true</td></tr><tr><th>2</th><td>4</td><td>false</td></tr><tr><th>3</th><td>4</td><td>false</td></tr><tr><th>4</th><td>4</td><td>false</td></tr><tr><th>5</th><td>4</td><td>true</td></tr><tr><th>6</th><td>4</td><td>true</td></tr><tr><th>7</th><td>4</td><td>false</td></tr><tr><th>8</th><td>4</td><td>false</td></tr><tr><th>9</th><td>4</td><td>false</td></tr><tr><th>10</th><td>4</td><td>false</td></tr><tr><th>11</th><td>4</td><td>false</td></tr><tr><th>12</th><td>4</td><td>false</td></tr><tr><th>13</th><td>4</td><td>false</td></tr><tr><th>14</th><td>4</td><td>false</td></tr><tr><th>15</th><td>4</td><td>false</td></tr><tr><th>16</th><td>4</td><td>false</td></tr><tr><th>17</th><td>4</td><td>false</td></tr><tr><th>18</th><td>4</td><td>true</td></tr><tr><th>19</th><td>4</td><td>false</td></tr><tr><th>20</th><td>4</td><td>false</td></tr><tr><th>21</th><td>4</td><td>false</td></tr><tr><th>22</th><td>4</td><td>false</td></tr><tr><th>23</th><td>4</td><td>false</td></tr><tr><th>24</th><td>4</td><td>true</td></tr><tr><th>25</th><td>4</td><td>true</td></tr><tr><th>26</th><td>4</td><td>true</td></tr><tr><th>27</th><td>4</td><td>true</td></tr><tr><th>28</th><td>4</td><td>true</td></tr><tr><th>29</th><td>4</td><td>false</td></tr><tr><th>30</th><td>4</td><td>false</td></tr><tr><th>&vellip;</th><td>&vellip;</td><td>&vellip;</td></tr></tbody></table></div>"
      ],
      "text/latex": [
       "\\begin{tabular}{r|cc}\n",
       "\t& x & y\\\\\n",
       "\t\\hline\n",
       "\t& Int64 & Cat…\\\\\n",
       "\t\\hline\n",
       "\t1 & 4 & true \\\\\n",
       "\t2 & 4 & false \\\\\n",
       "\t3 & 4 & false \\\\\n",
       "\t4 & 4 & false \\\\\n",
       "\t5 & 4 & true \\\\\n",
       "\t6 & 4 & true \\\\\n",
       "\t7 & 4 & false \\\\\n",
       "\t8 & 4 & false \\\\\n",
       "\t9 & 4 & false \\\\\n",
       "\t10 & 4 & false \\\\\n",
       "\t11 & 4 & false \\\\\n",
       "\t12 & 4 & false \\\\\n",
       "\t13 & 4 & false \\\\\n",
       "\t14 & 4 & false \\\\\n",
       "\t15 & 4 & false \\\\\n",
       "\t16 & 4 & false \\\\\n",
       "\t17 & 4 & false \\\\\n",
       "\t18 & 4 & true \\\\\n",
       "\t19 & 4 & false \\\\\n",
       "\t20 & 4 & false \\\\\n",
       "\t21 & 4 & false \\\\\n",
       "\t22 & 4 & false \\\\\n",
       "\t23 & 4 & false \\\\\n",
       "\t24 & 4 & true \\\\\n",
       "\t25 & 4 & true \\\\\n",
       "\t26 & 4 & true \\\\\n",
       "\t27 & 4 & true \\\\\n",
       "\t28 & 4 & true \\\\\n",
       "\t29 & 4 & false \\\\\n",
       "\t30 & 4 & false \\\\\n",
       "\t$\\dots$ & $\\dots$ & $\\dots$ \\\\\n",
       "\\end{tabular}\n"
      ],
      "text/plain": [
       "\u001b[1m10000×2 DataFrame\u001b[0m\n",
       "\u001b[1m   Row \u001b[0m│\u001b[1m x     \u001b[0m\u001b[1m y     \u001b[0m\n",
       "\u001b[1m       \u001b[0m│\u001b[90m Int64 \u001b[0m\u001b[90m Cat…  \u001b[0m\n",
       "───────┼──────────────\n",
       "     1 │     4  true\n",
       "     2 │     4  false\n",
       "     3 │     4  false\n",
       "     4 │     4  false\n",
       "     5 │     4  true\n",
       "     6 │     4  true\n",
       "     7 │     4  false\n",
       "     8 │     4  false\n",
       "     9 │     4  false\n",
       "    10 │     4  false\n",
       "    11 │     4  false\n",
       "   ⋮   │   ⋮      ⋮\n",
       "  9991 │     4  false\n",
       "  9992 │     4  false\n",
       "  9993 │     4  true\n",
       "  9994 │     4  false\n",
       "  9995 │     4  false\n",
       "  9996 │     4  false\n",
       "  9997 │     4  false\n",
       "  9998 │     4  false\n",
       "  9999 │     4  false\n",
       " 10000 │     4  false\n",
       "\u001b[36m     9979 rows omitted\u001b[0m"
      ]
     },
     "execution_count": 34,
     "metadata": {},
     "output_type": "execute_result"
    }
   ],
   "source": [
    "data_test = data_generator(x = fill(4, 10^4))"
   ]
  },
  {
   "cell_type": "code",
   "execution_count": 35,
   "metadata": {},
   "outputs": [
    {
     "data": {
      "text/plain": [
       "0.7044301773598528"
      ]
     },
     "execution_count": 35,
     "metadata": {},
     "output_type": "execute_result"
    }
   ],
   "source": [
    "mean(log_loss(predict(mach1, select(data_test, :x)), data_test.y))"
   ]
  },
  {
   "cell_type": "code",
   "execution_count": 36,
   "metadata": {},
   "outputs": [
    {
     "data": {
      "text/plain": [
       "0.7043911011915094"
      ]
     },
     "execution_count": 36,
     "metadata": {},
     "output_type": "execute_result"
    }
   ],
   "source": [
    "-logistic(0.5*4 - 2.7) * log(logistic(θ̂.coefs[1][2] * 4 + θ̂.intercept)) -\n",
    " logistic(-0.5*4 + 2.7) * log(logistic(-θ̂.coefs[1][2] * 4 - θ̂.intercept))"
   ]
  },
  {
   "cell_type": "markdown",
   "metadata": {},
   "source": [
    "**Conclusion** For training sets of size $n = 20$, the fitted parameters are somewhat close to the true parameters of the data generator, but the result is pretty variable, i.e. for different training sets ot size 20 we get quite different results. For training sets of size $n = 10^4$ the fitted parameters are very close to the true parameters and the results do not vary a lot. Most of the time the test error is lower for training sets of size $n = 10^4$ than for training sets of size $n = 20$.\""
   ]
  }
 ],
 "metadata": {
  "kernelspec": {
   "display_name": "Julia 1.7.3",
   "language": "julia",
   "name": "julia-1.7"
  },
  "language_info": {
   "name": "julia"
  },
  "orig_nbformat": 4
 },
 "nbformat": 4,
 "nbformat_minor": 2
}
