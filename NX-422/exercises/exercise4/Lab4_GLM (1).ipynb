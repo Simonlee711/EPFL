{
 "cells": [
  {
   "cell_type": "markdown",
   "id": "56e54670",
   "metadata": {},
   "source": [
    "<img src=\"https://www.epfl.ch/about/overview/wp-content/uploads/2020/07/logo-epfl-1024x576.png\" style=\"padding-right:10px;width:140px;float:left\"></td>\n",
    "<h2 style=\\\"white-space: nowrap\\\">Neural Signals and Signal Processing (NX-421)</h2>\n",
    "<hr style=\\\"clear:both\\\"></hr>\n",
    "<h1><font color='black'>Laboratory exercise: Basics of the General Linear Model</font></h1>"
   ]
  },
  {
   "cell_type": "markdown",
   "id": "469af8e5",
   "metadata": {},
   "source": [
    "## 0. Additional packages\n",
    "For this lab, we will require some packages!"
   ]
  },
  {
   "cell_type": "code",
   "execution_count": 1,
   "id": "4e72062c",
   "metadata": {},
   "outputs": [
    {
     "name": "stdout",
     "output_type": "stream",
     "text": [
      "Collecting package metadata (current_repodata.json): done\n",
      "Solving environment: done\n",
      "\n",
      "\n",
      "==> WARNING: A newer version of conda exists. <==\n",
      "  current version: 4.12.0\n",
      "  latest version: 22.9.0\n",
      "\n",
      "Please update conda by running\n",
      "\n",
      "    $ conda update -n base -c defaults conda\n",
      "\n",
      "\n",
      "\n",
      "## Package Plan ##\n",
      "\n",
      "  environment location: /Users/simonlee/opt/anaconda3/envs/NX-421\n",
      "\n",
      "  added / updated specs:\n",
      "    - statsmodels\n",
      "\n",
      "\n",
      "The following packages will be downloaded:\n",
      "\n",
      "    package                    |            build\n",
      "    ---------------------------|-----------------\n",
      "    ca-certificates-2022.9.24  |       h033912b_0         150 KB  conda-forge\n",
      "    certifi-2022.9.24          |     pyhd8ed1ab_0         155 KB  conda-forge\n",
      "    ------------------------------------------------------------\n",
      "                                           Total:         305 KB\n",
      "\n",
      "The following packages will be UPDATED:\n",
      "\n",
      "  ca-certificates                      2022.9.14-h033912b_0 --> 2022.9.24-h033912b_0\n",
      "  certifi                            2022.9.14-pyhd8ed1ab_0 --> 2022.9.24-pyhd8ed1ab_0\n",
      "\n",
      "\n",
      "\n",
      "Downloading and Extracting Packages\n",
      "ca-certificates-2022 | 150 KB    | ##################################### | 100% \n",
      "certifi-2022.9.24    | 155 KB    | ##################################### | 100% \n",
      "Preparing transaction: done\n",
      "Verifying transaction: done\n",
      "Executing transaction: done\n"
     ]
    }
   ],
   "source": [
    "import sys\n",
    "!conda install --yes --prefix {sys.prefix} --channel conda-forge statsmodels"
   ]
  },
  {
   "cell_type": "markdown",
   "id": "33b2480c",
   "metadata": {},
   "source": [
    "# 1. Fixed effect or random effect?\n",
    "\n",
    "\n",
    "<br>\n",
    "<div class=\"warning\" style='background-color:#90EE90; color: #805AD5; border-left: solid #805AD5 4px; border-radius: 4px; padding:0.7em;'>\n",
    "    <span>\n",
    "        <p style='margin-top:1em; text-align:center'><b>Inference at the population level or at the subject level</b></p>\n",
    "        <p style='text-indent: 10px;'> The first question to ask is if you want your findings to be only valid for these subjects or to try to generalize to the population. The former can be useful! Consider report of case studies. In this case, you are acknowledging and reporting a phenomenon particular to your subjects only. <br><br></p>\n",
    "        <u>Fixed factor</u>: You have gathered data for all levels (values) of interest for the variable (factor) of interest. <br>Here are some <u>fixed factors</u>:\n",
    "        <ul>\n",
    "            <li>A study wishes to compare smokers and non smokers. You've gathered data between smokers and non smokers to this end. Because there are no other possible categories, the smoking variable is a fixed factor: you have measurements of all observable values!\n",
    "            </li>\n",
    "            <li>A study quantifies the effect of 3 different dosages, and you've acquired repeated measurement for these 3 dosages. Because you have data for all levels of interest <i>and you do not want to say anything about other dosages</i>, this is a fixed factor.\n",
    "            </li>\n",
    "            <li>A study wishes to compare two car models, Ferori and Lamb'orgini to see which car model among the two might have fastest acceleration. You gather data from both models. Because your aim is to study only the two car models and because you have measurement for both, the car models is a fixed factor.\n",
    "            </li>\n",
    "        </ul>\n",
    "        <br><br><u>Random factor</u>: The factor has many possible levels (values) and you're interested in all of them, but only a random sample of levels is included in the data.\n",
    "        <br>Here are some <u>random factors</u>:\n",
    "        <ul>\n",
    "            <li>\n",
    "                A study wishes to assess the effect of car model on car speed. To this end, a random sample of car models is selected. In this case, the question is not which model is fastest, but what variability in car speed can be attributed to the model itself.\n",
    "            </li>\n",
    "            <li>A study wishes to compare two surgical procedures on horses. We train seven different vet teams in both procedures (so as to make them comparable) and make them perform an equal number of procedures. In this case, we want a statement about the surgery, regardless of the vet teams performing it. We must generalize our findings to the entire vet population; as a consequence, we must consider that the seven teams we have are but possible levels in the entire population of existing vet teams: this is a random factor.</li>\n",
    "        </ul>\n",
    "    </span>\n",
    "    </div>"
   ]
  },
  {
   "cell_type": "markdown",
   "id": "ac7e2efa",
   "metadata": {},
   "source": [
    "<div class=\"warning\" style='background-color:#805AD5; color: #90EE90; border-left: solid #805AD5 4px; border-radius: 4px; padding:0.7em;'>\n",
    "    <span>\n",
    "    <p style='margin-top:1em; text-align:center'>\n",
    "    <b>Why random effects matter: ⚠️ pseudoreplication ⚠️</b></p>\n",
    "    <p style='text-indent: 10px;'> Pseudoreplication happens when observations are not statistically independent but are treated as though they are. We must take care of these assumptions in the modelling, otherwise the math breaks down.<br> Consider the case of the smoker study. You gather for each participant 10 measurements, to alleviate measurement error, which is fine but...clearly measurements of a single participant are no longer independent. Blood pressure of a participant on average will differ from another one for reasons perhaps unrelated to smoking, so independence no longer holds! <br></p>\n",
    "        <p style='text-indent: 10px;'>The participant variable is clearly a random factor. To account for the effect of smoking, you therefore want to make a claim on the population of smokers against non smokers: you <u>must</u> account for the random effect of participants, otherwise your findings will not be valid.</p>\n",
    "        <p style='text-indent: 10px;'>In fact, random effects can arise from even more subtle effects. What if half your participants have their blood pressure measured by nurse A and the other half by nurse B? We're not interested in comparing the performance of these particular nurses, but we'd like to have a statement of smoking, regardless of the nurse measuring blood pressure.\n",
    "    </p>\n",
    "    </span>\n",
    "</div>"
   ]
  },
  {
   "cell_type": "markdown",
   "id": "a2385242",
   "metadata": {},
   "source": [
    "Now that you are hopefully more clear on what fixed effect and random effect might mean, you might wonder how we can account for both random and fixed effects? Mixed models do precisely this! Let's have a look at a practical example to make it all a bit clearer :) First of all, formally here is a linear mixed model:\n",
    "<img src=\"imgs/lmm.png\"/>"
   ]
  },
  {
   "cell_type": "markdown",
   "id": "66c09f01",
   "metadata": {},
   "source": [
    "Let's stop for a moment. The randon effect coefficients have an associated mean and covariance matrix (which maps back to their random behaviour, if you will :) ). Usually, one assumes these vectors to follow a gaussian distribution. As you can see from the above expression, this model really tries to disentangle on one side the effect of the random factors, on the other side the effect of the fixed factors. Assume we give you such a model to distinguish between the two-surgeries example above, with $X$ being a matrix describing for every data point whether it was acquired for surgery 1 or surgery 2. What is true?\n",
    "\n",
    "- [ ] The $u$ vector will contain the variability due to the different surgery teams. The $\\beta$ vector will have one component for each surgery. Inspecting these $\\beta$ components will yield insight into the research question.\n",
    "- [ ] The $u$ vector will contain the variability due to the surgery. The $\\beta$ vector will have one component per surgery team. Inspecting the $u$ vector will yield insight into the distribution of all possible surgeries in the world."
   ]
  },
  {
   "cell_type": "code",
   "execution_count": 2,
   "id": "80d9af71",
   "metadata": {},
   "outputs": [],
   "source": [
    "import matplotlib.pyplot as plt\n",
    "%matplotlib inline\n",
    "import numpy as np\n",
    "import pandas as pd\n",
    "import statsmodels.api as sm\n",
    "import statsmodels.formula.api as smf\n",
    "from statsmodels.tools.sm_exceptions import ConvergenceWarning"
   ]
  },
  {
   "cell_type": "markdown",
   "id": "1539973a",
   "metadata": {},
   "source": [
    "### 1.1 Application: is my pig getting fat?\n",
    "\n",
    "Imagine we own several pigs, and our pigs just love to climb on their special piggy-couch. Unfortunately, this couch can only support a weight up to 80 kgs (it is a very fragile couch). Knowing that our pigs will soon have piglets, we wonder if we need to invest in a new couch model or if it can support a pig throughout its life.\n",
    "<img src=\"imgs/pig_couch.jpg\"/>\n",
    "<center><i>Finally a research question of relevant clinical application!</i></center>\n",
    "\n",
    "To go about it, you first decide that you will need a critical information: how pigs tend to grow over time. Since we are expecting new piglets in the family very soon, clearly we want an information on the entire population and not just our current pigs. For simplicity, you decide to ignore other factors such as the variability in the food you give them (which you did not record).\n",
    "You assign every pig an id, to more easily differentiate them, and record twelve timepoints of growth for every one of your pigs, twice per year as pigs are fully grown by 6 years of age. The data is summarized below:"
   ]
  },
  {
   "cell_type": "code",
   "execution_count": 3,
   "id": "507ed3a1",
   "metadata": {},
   "outputs": [
    {
     "data": {
      "text/html": [
       "<div>\n",
       "<style scoped>\n",
       "    .dataframe tbody tr th:only-of-type {\n",
       "        vertical-align: middle;\n",
       "    }\n",
       "\n",
       "    .dataframe tbody tr th {\n",
       "        vertical-align: top;\n",
       "    }\n",
       "\n",
       "    .dataframe thead th {\n",
       "        text-align: right;\n",
       "    }\n",
       "</style>\n",
       "<table border=\"1\" class=\"dataframe\">\n",
       "  <thead>\n",
       "    <tr style=\"text-align: right;\">\n",
       "      <th></th>\n",
       "      <th>Pig</th>\n",
       "      <th>Time</th>\n",
       "      <th>Weight</th>\n",
       "    </tr>\n",
       "  </thead>\n",
       "  <tbody>\n",
       "    <tr>\n",
       "      <th>0</th>\n",
       "      <td>4601</td>\n",
       "      <td>1</td>\n",
       "      <td>26.50000</td>\n",
       "    </tr>\n",
       "    <tr>\n",
       "      <th>1</th>\n",
       "      <td>4601</td>\n",
       "      <td>2</td>\n",
       "      <td>27.59999</td>\n",
       "    </tr>\n",
       "    <tr>\n",
       "      <th>2</th>\n",
       "      <td>4601</td>\n",
       "      <td>3</td>\n",
       "      <td>36.50000</td>\n",
       "    </tr>\n",
       "    <tr>\n",
       "      <th>3</th>\n",
       "      <td>4601</td>\n",
       "      <td>4</td>\n",
       "      <td>40.29999</td>\n",
       "    </tr>\n",
       "    <tr>\n",
       "      <th>4</th>\n",
       "      <td>4601</td>\n",
       "      <td>5</td>\n",
       "      <td>49.09998</td>\n",
       "    </tr>\n",
       "    <tr>\n",
       "      <th>...</th>\n",
       "      <td>...</td>\n",
       "      <td>...</td>\n",
       "      <td>...</td>\n",
       "    </tr>\n",
       "    <tr>\n",
       "      <th>856</th>\n",
       "      <td>8442</td>\n",
       "      <td>8</td>\n",
       "      <td>73.19995</td>\n",
       "    </tr>\n",
       "    <tr>\n",
       "      <th>857</th>\n",
       "      <td>8442</td>\n",
       "      <td>9</td>\n",
       "      <td>81.69995</td>\n",
       "    </tr>\n",
       "    <tr>\n",
       "      <th>858</th>\n",
       "      <td>8442</td>\n",
       "      <td>10</td>\n",
       "      <td>90.29999</td>\n",
       "    </tr>\n",
       "    <tr>\n",
       "      <th>859</th>\n",
       "      <td>8442</td>\n",
       "      <td>11</td>\n",
       "      <td>96.00000</td>\n",
       "    </tr>\n",
       "    <tr>\n",
       "      <th>860</th>\n",
       "      <td>8442</td>\n",
       "      <td>12</td>\n",
       "      <td>103.50000</td>\n",
       "    </tr>\n",
       "  </tbody>\n",
       "</table>\n",
       "<p>861 rows × 3 columns</p>\n",
       "</div>"
      ],
      "text/plain": [
       "      Pig  Time     Weight\n",
       "0    4601     1   26.50000\n",
       "1    4601     2   27.59999\n",
       "2    4601     3   36.50000\n",
       "3    4601     4   40.29999\n",
       "4    4601     5   49.09998\n",
       "..    ...   ...        ...\n",
       "856  8442     8   73.19995\n",
       "857  8442     9   81.69995\n",
       "858  8442    10   90.29999\n",
       "859  8442    11   96.00000\n",
       "860  8442    12  103.50000\n",
       "\n",
       "[861 rows x 3 columns]"
      ]
     },
     "execution_count": 3,
     "metadata": {},
     "output_type": "execute_result"
    }
   ],
   "source": [
    "data = sm.datasets.get_rdataset(\"dietox\", \"geepack\").data\n",
    "data[[\"Pig\", \"Time\", \"Weight\"]]"
   ]
  },
  {
   "cell_type": "markdown",
   "id": "30c49d14",
   "metadata": {},
   "source": [
    "To answer this question, let's use a mixed model. For this, please fill in the cells below, to indicate which quantity is what in the model"
   ]
  },
  {
   "cell_type": "code",
   "execution_count": 6,
   "id": "411ab2e2",
   "metadata": {},
   "outputs": [],
   "source": [
    "observations_var = data['Time']\n",
    "fixed_effect_var = data['Pig']\n",
    "random_effect_var = data['Weight'] "
   ]
  },
  {
   "cell_type": "markdown",
   "id": "7965f03d",
   "metadata": {},
   "source": [
    "Let us fit the model now! :)"
   ]
  },
  {
   "cell_type": "code",
   "execution_count": 7,
   "id": "044505af",
   "metadata": {},
   "outputs": [
    {
     "ename": "KeyError",
     "evalue": "\"None of [Float64Index([    26.5, 27.59999,     36.5, 40.29999, 49.09998, 55.39999,\\n              59.59998,     67.0, 76.59998,     86.5,\\n              ...\\n              33.39999,     40.0, 46.69998, 56.59998, 65.19995, 73.19995,\\n              81.69995, 90.29999,     96.0,    103.5],\\n             dtype='float64', length=861)] are in the [columns]\"",
     "output_type": "error",
     "traceback": [
      "\u001b[0;31m---------------------------------------------------------------------------\u001b[0m",
      "\u001b[0;31mKeyError\u001b[0m                                  Traceback (most recent call last)",
      "Cell \u001b[0;32mIn [7], line 1\u001b[0m\n\u001b[0;32m----> 1\u001b[0m md \u001b[38;5;241m=\u001b[39m smf\u001b[38;5;241m.\u001b[39mmixedlm(\u001b[38;5;124m\"\u001b[39m\u001b[38;5;132;01m{}\u001b[39;00m\u001b[38;5;124m ~ \u001b[39m\u001b[38;5;132;01m{}\u001b[39;00m\u001b[38;5;124m\"\u001b[39m\u001b[38;5;241m.\u001b[39mformat(observations_var, fixed_effect_var), data, groups\u001b[38;5;241m=\u001b[39m\u001b[43mdata\u001b[49m\u001b[43m[\u001b[49m\u001b[43mrandom_effect_var\u001b[49m\u001b[43m]\u001b[49m, re_formula\u001b[38;5;241m=\u001b[39m\u001b[38;5;124m\"\u001b[39m\u001b[38;5;124m~\u001b[39m\u001b[38;5;132;01m{}\u001b[39;00m\u001b[38;5;124m\"\u001b[39m\u001b[38;5;241m.\u001b[39mformat(fixed_effect_var))\n\u001b[1;32m      2\u001b[0m mdf \u001b[38;5;241m=\u001b[39m md\u001b[38;5;241m.\u001b[39mfit(method\u001b[38;5;241m=\u001b[39m[\u001b[38;5;124m\"\u001b[39m\u001b[38;5;124mlbfgs\u001b[39m\u001b[38;5;124m\"\u001b[39m])\n\u001b[1;32m      3\u001b[0m mdf\u001b[38;5;241m.\u001b[39msummary()\n",
      "File \u001b[0;32m~/opt/anaconda3/envs/NX-421/lib/python3.8/site-packages/pandas/core/frame.py:3811\u001b[0m, in \u001b[0;36mDataFrame.__getitem__\u001b[0;34m(self, key)\u001b[0m\n\u001b[1;32m   3809\u001b[0m     \u001b[39mif\u001b[39;00m is_iterator(key):\n\u001b[1;32m   3810\u001b[0m         key \u001b[39m=\u001b[39m \u001b[39mlist\u001b[39m(key)\n\u001b[0;32m-> 3811\u001b[0m     indexer \u001b[39m=\u001b[39m \u001b[39mself\u001b[39;49m\u001b[39m.\u001b[39;49mcolumns\u001b[39m.\u001b[39;49m_get_indexer_strict(key, \u001b[39m\"\u001b[39;49m\u001b[39mcolumns\u001b[39;49m\u001b[39m\"\u001b[39;49m)[\u001b[39m1\u001b[39m]\n\u001b[1;32m   3813\u001b[0m \u001b[39m# take() does not accept boolean indexers\u001b[39;00m\n\u001b[1;32m   3814\u001b[0m \u001b[39mif\u001b[39;00m \u001b[39mgetattr\u001b[39m(indexer, \u001b[39m\"\u001b[39m\u001b[39mdtype\u001b[39m\u001b[39m\"\u001b[39m, \u001b[39mNone\u001b[39;00m) \u001b[39m==\u001b[39m \u001b[39mbool\u001b[39m:\n",
      "File \u001b[0;32m~/opt/anaconda3/envs/NX-421/lib/python3.8/site-packages/pandas/core/indexes/base.py:6108\u001b[0m, in \u001b[0;36mIndex._get_indexer_strict\u001b[0;34m(self, key, axis_name)\u001b[0m\n\u001b[1;32m   6105\u001b[0m \u001b[39melse\u001b[39;00m:\n\u001b[1;32m   6106\u001b[0m     keyarr, indexer, new_indexer \u001b[39m=\u001b[39m \u001b[39mself\u001b[39m\u001b[39m.\u001b[39m_reindex_non_unique(keyarr)\n\u001b[0;32m-> 6108\u001b[0m \u001b[39mself\u001b[39;49m\u001b[39m.\u001b[39;49m_raise_if_missing(keyarr, indexer, axis_name)\n\u001b[1;32m   6110\u001b[0m keyarr \u001b[39m=\u001b[39m \u001b[39mself\u001b[39m\u001b[39m.\u001b[39mtake(indexer)\n\u001b[1;32m   6111\u001b[0m \u001b[39mif\u001b[39;00m \u001b[39misinstance\u001b[39m(key, Index):\n\u001b[1;32m   6112\u001b[0m     \u001b[39m# GH 42790 - Preserve name from an Index\u001b[39;00m\n",
      "File \u001b[0;32m~/opt/anaconda3/envs/NX-421/lib/python3.8/site-packages/pandas/core/indexes/base.py:6168\u001b[0m, in \u001b[0;36mIndex._raise_if_missing\u001b[0;34m(self, key, indexer, axis_name)\u001b[0m\n\u001b[1;32m   6166\u001b[0m     \u001b[39mif\u001b[39;00m use_interval_msg:\n\u001b[1;32m   6167\u001b[0m         key \u001b[39m=\u001b[39m \u001b[39mlist\u001b[39m(key)\n\u001b[0;32m-> 6168\u001b[0m     \u001b[39mraise\u001b[39;00m \u001b[39mKeyError\u001b[39;00m(\u001b[39mf\u001b[39m\u001b[39m\"\u001b[39m\u001b[39mNone of [\u001b[39m\u001b[39m{\u001b[39;00mkey\u001b[39m}\u001b[39;00m\u001b[39m] are in the [\u001b[39m\u001b[39m{\u001b[39;00maxis_name\u001b[39m}\u001b[39;00m\u001b[39m]\u001b[39m\u001b[39m\"\u001b[39m)\n\u001b[1;32m   6170\u001b[0m not_found \u001b[39m=\u001b[39m \u001b[39mlist\u001b[39m(ensure_index(key)[missing_mask\u001b[39m.\u001b[39mnonzero()[\u001b[39m0\u001b[39m]]\u001b[39m.\u001b[39munique())\n\u001b[1;32m   6171\u001b[0m \u001b[39mraise\u001b[39;00m \u001b[39mKeyError\u001b[39;00m(\u001b[39mf\u001b[39m\u001b[39m\"\u001b[39m\u001b[39m{\u001b[39;00mnot_found\u001b[39m}\u001b[39;00m\u001b[39m not in index\u001b[39m\u001b[39m\"\u001b[39m)\n",
      "\u001b[0;31mKeyError\u001b[0m: \"None of [Float64Index([    26.5, 27.59999,     36.5, 40.29999, 49.09998, 55.39999,\\n              59.59998,     67.0, 76.59998,     86.5,\\n              ...\\n              33.39999,     40.0, 46.69998, 56.59998, 65.19995, 73.19995,\\n              81.69995, 90.29999,     96.0,    103.5],\\n             dtype='float64', length=861)] are in the [columns]\""
     ]
    }
   ],
   "source": [
    "md = smf.mixedlm(\"{} ~ {}\".format(observations_var, fixed_effect_var), data, groups=data[random_effect_var], re_formula=\"~{}\".format(fixed_effect_var))\n",
    "mdf = md.fit(method=[\"lbfgs\"])\n",
    "mdf.summary()"
   ]
  },
  {
   "cell_type": "markdown",
   "id": "881fd83f",
   "metadata": {},
   "source": [
    "Based on the above, we see that a linear coefficent of growth is 6.939 (the **Time** coefficient), with an intercept of **15.739** kgs. Because we allowed our pigs to be random samples of the population, we can say that our coefficients generalize to the population. Now, knowing that every six months our pig gains 6.393kgs, and that it has 12 such increases before reaching full maturity, do you think on average the piggy-couch is well proportioned?"
   ]
  },
  {
   "cell_type": "code",
   "execution_count": null,
   "id": "cca0ad11",
   "metadata": {},
   "outputs": [],
   "source": []
  },
  {
   "cell_type": "markdown",
   "id": "2dc37933",
   "metadata": {},
   "source": [
    "Let's assume you are given the choice to either go for a couch that can support on average 93 kgs, or one that can support 100kgs but costs 100CHF.- more, according to the average you found above, which one is the more sensible?"
   ]
  },
  {
   "cell_type": "code",
   "execution_count": null,
   "id": "cf0608bb",
   "metadata": {},
   "outputs": [],
   "source": []
  },
  {
   "cell_type": "markdown",
   "id": "2cf32a09",
   "metadata": {},
   "source": [
    "Now, let's run a model where we account only for the effect of time, ignoring the impact of pigs altogether."
   ]
  },
  {
   "cell_type": "code",
   "execution_count": null,
   "id": "3254c61d",
   "metadata": {},
   "outputs": [],
   "source": [
    "fm = smf.ols(\"{} ~ {}\".format(observations_var, fixed_effect_var),data)\n",
    "fm = fm.fit()\n",
    "fm.summary()"
   ]
  },
  {
   "cell_type": "markdown",
   "id": "3b406a7d",
   "metadata": {},
   "source": [
    "Based on the found intercept and time coefficient, which couch should you favor now?"
   ]
  },
  {
   "cell_type": "markdown",
   "id": "bdc0e768",
   "metadata": {},
   "source": [
    "In this toy example, you might argue that the difference is not too big, but we're talking almost a seven percent increase, which is not negligible! <br>"
   ]
  },
  {
   "cell_type": "markdown",
   "id": "a8f1bb8e",
   "metadata": {},
   "source": [
    "### 1.2. Where are the design matrices?\n",
    "In the example above, we simply gave you the data. You had to decide the variables to set as fixed effect and random effect, but that's it. In practice, you will often have to think about the design matrices themselves, which relate to your experimental design. Let's think about it for a bit and break down our design for the above experiment in appropriate matrices.<br>\n",
    "First off, the observations. Each observation is a single scalar: the weight of pig i at time k:"
   ]
  },
  {
   "cell_type": "code",
   "execution_count": null,
   "id": "dba566f1",
   "metadata": {},
   "outputs": [],
   "source": [
    "data['Weight']"
   ]
  },
  {
   "cell_type": "markdown",
   "id": "8f51c483",
   "metadata": {},
   "source": [
    "Now, if we look at our $\\beta$, should it be:\n",
    "- [ ] A matrix in the present case\n",
    "- [ ] A vector of size n_timepoints\n",
    "- [ ] A scalar\n",
    "\n",
    "*Hint: Think of what we are trying to express! Intuitively, we say that weight = timepoint x coefficient + pig category x another coefficient + modeling noise*"
   ]
  },
  {
   "cell_type": "markdown",
   "id": "9475b9a9",
   "metadata": {},
   "source": [
    "Now, how do we make the design matrix? Well, it is very simple. For each fixed effect **variable**, we model one column. The lines correspond to the observations.\n",
    "To give you a concrete example, let's imagine that I conduct an experiment. I flip a coin, obtaining head or tail. Depending on the result, I decide to either put my participant in a dark room or in a lit room, and I then record the time this participant takes to fall asleep. My hypothesis is that the presence or absence of light has an impact on this time to sleep (tts). I am also curious about the room temperature, and decide to model three temperatures: \n",
    "- 1°C\n",
    "- 19°C\n",
    "- 38°C\n",
    "Note that I do not want a general statement on room temperatures, only these three specific temperatures.\n",
    "\n",
    "Because I am trying lit against dark room and want to test for presence against absence of light, it is clear that the \"light\" condition is a fixed factor. Likewise, the room temperature is also a fixed factor.\n",
    "\n",
    "Here are the observations I gathered for the tts (in seconds):\n",
    "```python\n",
    "tts\n",
    "120\n",
    "135\n",
    "150\n",
    "400\n",
    "517\n",
    "520\n",
    "```\n",
    "\n",
    "I am unfortunately a bit messy. While conducting one of my experiments in the dark, I mess up my documents and shuffle my design matrices with previously considered designs. Here are the matrices I end up with:\n",
    "\n",
    "```python\n",
    "A\n",
    "room lit  temperature\n",
    "0         1°C         \n",
    "0         19°C\n",
    "0         38°C\n",
    "0         1°C\n",
    "0         19°C\n",
    "0         38°C\n",
    "1         1°C\n",
    "1         19°C\n",
    "1         38°C\n",
    "\n",
    "B\n",
    "room lit  temperature\n",
    "0         1°C         \n",
    "0         19°C\n",
    "0         38°C\n",
    "1         1°C\n",
    "1         19°C\n",
    "1         38°C\n",
    "\n",
    "C\n",
    "room lit  temperature\n",
    "0         1°C         \n",
    "0         1°C\n",
    "0         1°C\n",
    "1         1°C\n",
    "1         1°C\n",
    "1         1°C\n",
    "\n",
    "D\n",
    "room lit  temperature\n",
    "0         1°C         \n",
    "0         19°C\n",
    "0         39°C\n",
    "1         1°C\n",
    "1         19°C\n",
    "1         28°C\n",
    "\n",
    "E\n",
    "room lit  temperature 1  temperature 2 temperature 3\n",
    "0         1                 0              0\n",
    "0         0                 1              0\n",
    "0         0                 0              1\n",
    "1         1                 0              0\n",
    "1         0                 1              0\n",
    "1         0                 0              1\n",
    "\n",
    "```\n",
    "\n",
    "Which do you think would be **valid** design matrices (not necessarily **good**) for the fixed effect matrix $X$ in this case?\n",
    "- [ ] A\n",
    "- [ ] B\n",
    "- [ ] C\n",
    "- [ ] D\n",
    "- [ ] E\n",
    "- [ ] None of the above"
   ]
  },
  {
   "cell_type": "markdown",
   "id": "a8100c3f",
   "metadata": {},
   "source": [
    "#### 1.2.1 Dummy coding\n",
    "\n",
    "You might have noticed that A has wrong dimensions and thus cannot lead to the observations. Likewise, D contains temperatures outside of our experimentally allowed values, so it is not valid. C, likewise, models a fixed effect but does not include all potential values of room temperature - wrong for our experiment. But what of the others? Are they valid?\n",
    "\n",
    "The room temperature, in this case, is a categorical variable. In some cases (consider breeds of dogs), there is no clear directionality (for example if I code rottveiler=1 and chow-chow=2, the latter is mathematically higher than the former although there is no clear ordering in reality - even if rated for cuteness). When no clear directionality is involved, you can split the categories as shown in matrix E.\n",
    "Matrix E is basically matrix B rewritten **assuming that temperature has no directionality**. This is not totally true in this case, obviously, but you can see how it is done. For experimental conditions, such as stimuli, directionality is often not expected, so knowing how to move from B to E is useful :)\n",
    "\n",
    "\n",
    "<br>\n",
    "<div class=\"warning\" style='background-color:#90EE90; color: #805AD5; border-left: solid #805AD5 4px; border-radius: 4px; padding:0.7em;'>\n",
    "    <span>\n",
    "        <p style='margin-top:1em; text-align:center'><b>The contrast matrix</b></p>\n",
    "        <p style='text-indent: 10px;'> E is actually what we call a *contrast matrix*. The reason for this is that we have now one $\\beta$ coefficient for each category value in a categorical variable. This means we can now look at the impact of each combination. For example, in the case of breeds of dogs, we can look at the effect of chow-chow against rottveiler, or rottveiler against doberman and so on. This is particularly useful when looking at stimulus conditions in neuroscience, as you'll see in the next sections.</p>\n",
    "    </span>\n",
    "    </div>"
   ]
  },
  {
   "cell_type": "markdown",
   "id": "7936b296",
   "metadata": {},
   "source": [
    "Here's what I remember from memory: I first put the participant in the lit room, and chose decreasing temperature for the room, exploring all temperature settings. I then put the participant in the dark, and chose increasing temperature, exploring all settings. Can you design the dataframe that would correspond to this design matrix? To help you, here is an example, showcasing how you can do matrix D from above:\n",
    "\n",
    "```python\n",
    "matrix_D = pd.DataFrame({'room lit': ['no', 'no', 'no', 'yes', 'yes', 'yes'], 'temperature': [1, 19, 39, 1, 19, 39]})\n",
    "```"
   ]
  },
  {
   "cell_type": "code",
   "execution_count": null,
   "id": "97cb7a45",
   "metadata": {},
   "outputs": [],
   "source": [
    "design_matrix = ??? # Please fill in to create this matrix :)"
   ]
  },
  {
   "cell_type": "markdown",
   "id": "52662b7d",
   "metadata": {},
   "source": [
    "Great! Now you now the basics of a design matrix. As you can see, it is a fairly easy thing to do!\n",
    "Let's move away from our piggies and back to fMRI now!"
   ]
  },
  {
   "cell_type": "markdown",
   "id": "a1db76dd",
   "metadata": {},
   "source": [
    "## 2. Moving from univariate observations to multivariate: the GLM\n",
    "\n",
    "You've seen above that we used a linear model to relate our experimental conditions with the observations.\n",
    "But most of the time (such as in fMRI), our observations are not just a single scalar: they are multivariate quantities. Images consist of several pixels, physical experiments might record multiple different measurements at the same time - and in fMRI we have several voxels per volume.\n",
    "\n",
    "How does the formalism above fare, when we extend to such a scenario? Well, the *General Linear Model* is one way to extend what we've seen to cases of several dimensions and the answer is: it fares nicely.\n",
    "In the case of fMRI, we don't have a single variable: every voxel or brain region is a separate variable, for which we want to solve the system. For this purpose, we need to use what is called a *General Linear Model*.\n",
    "\n",
    "\n",
    "The equation of the GLM you've seen above is still the following:\n",
    "\n",
    "$$ Y = X\\beta + Zu + \\epsilon $$\n",
    "\n",
    "The only difference is that now, $\\beta$ and $u$ are matrices and $\\epsilon$ is a vector!"
   ]
  },
  {
   "cell_type": "markdown",
   "id": "5cf9f5d6",
   "metadata": {},
   "source": [
    "### 2.1 Analysis levels in fMRI\n",
    "\n",
    "In fMRI it turns out you can actually do the GLM in two steps, called *analysis levels*.\n",
    "\n",
    "The first step is conducted at the individual participant level. It accounts for the fixed effects in your experiment (so $X\\beta$).\n",
    "The higher order analysis is done by aggregating the individual model's results. This second level accounts for the random effect ($Zu$). In general this effect is due to population, but you can imagine different random effects as we discussed previously.\n",
    "\n",
    "We'll now teach you how to apply the GLM, first at the single participant level."
   ]
  },
  {
   "cell_type": "markdown",
   "id": "6795eccf",
   "metadata": {},
   "source": [
    "### 2.2 Loading the data\n",
    "\n",
    "The GLM should be done on data that have been preprocessed. To save you some time, we'll use data taken from nilearn's <a href=\"https://.github.io/stable/auto_examples/00_tutorials/plot_single_subject_single_run.html#sphx-glr-auto-examples-00-tutorials-plot-single-subject-single-run-py\">GLM tutorial</a>. Run the cell below to load them!"
   ]
  },
  {
   "cell_type": "code",
   "execution_count": 10,
   "id": "fa724a62",
   "metadata": {},
   "outputs": [
    {
     "name": "stdout",
     "output_type": "stream",
     "text": [
      "\n",
      "Dataset created in /Users/simonlee/nilearn_data/spm_auditory\n",
      "\n",
      "Data absent, downloading...\n",
      "Downloading data from http://www.fil.ion.ucl.ac.uk/spm/download/data/MoAEpilot/MoAEpilot.zip ...\n"
     ]
    },
    {
     "name": "stderr",
     "output_type": "stream",
     "text": [
      "Downloaded 33259520 of 34212021 bytes (97.2%,    0.8s remaining) ...done. (30 seconds, 0 min)\n",
      "Extracting data from /Users/simonlee/nilearn_data/spm_auditory/sub001/MoAEpilot.zip..... done.\n"
     ]
    }
   ],
   "source": [
    "from nilearn.datasets import fetch_spm_auditory\n",
    "subject_data = fetch_spm_auditory()"
   ]
  },
  {
   "cell_type": "markdown",
   "id": "f756199e",
   "metadata": {},
   "source": [
    "Let's have a look at the data in there! You'll see that the functional data is several images:"
   ]
  },
  {
   "cell_type": "code",
   "execution_count": 11,
   "id": "a7dd9fa3",
   "metadata": {},
   "outputs": [
    {
     "data": {
      "text/plain": [
       "['/Users/simonlee/nilearn_data/spm_auditory/sub001/fM00223/fM00223_004.img',\n",
       " '/Users/simonlee/nilearn_data/spm_auditory/sub001/fM00223/fM00223_005.img',\n",
       " '/Users/simonlee/nilearn_data/spm_auditory/sub001/fM00223/fM00223_006.img',\n",
       " '/Users/simonlee/nilearn_data/spm_auditory/sub001/fM00223/fM00223_007.img',\n",
       " '/Users/simonlee/nilearn_data/spm_auditory/sub001/fM00223/fM00223_008.img',\n",
       " '/Users/simonlee/nilearn_data/spm_auditory/sub001/fM00223/fM00223_009.img',\n",
       " '/Users/simonlee/nilearn_data/spm_auditory/sub001/fM00223/fM00223_010.img',\n",
       " '/Users/simonlee/nilearn_data/spm_auditory/sub001/fM00223/fM00223_011.img',\n",
       " '/Users/simonlee/nilearn_data/spm_auditory/sub001/fM00223/fM00223_012.img',\n",
       " '/Users/simonlee/nilearn_data/spm_auditory/sub001/fM00223/fM00223_013.img',\n",
       " '/Users/simonlee/nilearn_data/spm_auditory/sub001/fM00223/fM00223_014.img',\n",
       " '/Users/simonlee/nilearn_data/spm_auditory/sub001/fM00223/fM00223_015.img',\n",
       " '/Users/simonlee/nilearn_data/spm_auditory/sub001/fM00223/fM00223_016.img',\n",
       " '/Users/simonlee/nilearn_data/spm_auditory/sub001/fM00223/fM00223_017.img',\n",
       " '/Users/simonlee/nilearn_data/spm_auditory/sub001/fM00223/fM00223_018.img',\n",
       " '/Users/simonlee/nilearn_data/spm_auditory/sub001/fM00223/fM00223_019.img',\n",
       " '/Users/simonlee/nilearn_data/spm_auditory/sub001/fM00223/fM00223_020.img',\n",
       " '/Users/simonlee/nilearn_data/spm_auditory/sub001/fM00223/fM00223_021.img',\n",
       " '/Users/simonlee/nilearn_data/spm_auditory/sub001/fM00223/fM00223_022.img',\n",
       " '/Users/simonlee/nilearn_data/spm_auditory/sub001/fM00223/fM00223_023.img',\n",
       " '/Users/simonlee/nilearn_data/spm_auditory/sub001/fM00223/fM00223_024.img',\n",
       " '/Users/simonlee/nilearn_data/spm_auditory/sub001/fM00223/fM00223_025.img',\n",
       " '/Users/simonlee/nilearn_data/spm_auditory/sub001/fM00223/fM00223_026.img',\n",
       " '/Users/simonlee/nilearn_data/spm_auditory/sub001/fM00223/fM00223_027.img',\n",
       " '/Users/simonlee/nilearn_data/spm_auditory/sub001/fM00223/fM00223_028.img',\n",
       " '/Users/simonlee/nilearn_data/spm_auditory/sub001/fM00223/fM00223_029.img',\n",
       " '/Users/simonlee/nilearn_data/spm_auditory/sub001/fM00223/fM00223_030.img',\n",
       " '/Users/simonlee/nilearn_data/spm_auditory/sub001/fM00223/fM00223_031.img',\n",
       " '/Users/simonlee/nilearn_data/spm_auditory/sub001/fM00223/fM00223_032.img',\n",
       " '/Users/simonlee/nilearn_data/spm_auditory/sub001/fM00223/fM00223_033.img',\n",
       " '/Users/simonlee/nilearn_data/spm_auditory/sub001/fM00223/fM00223_034.img',\n",
       " '/Users/simonlee/nilearn_data/spm_auditory/sub001/fM00223/fM00223_035.img',\n",
       " '/Users/simonlee/nilearn_data/spm_auditory/sub001/fM00223/fM00223_036.img',\n",
       " '/Users/simonlee/nilearn_data/spm_auditory/sub001/fM00223/fM00223_037.img',\n",
       " '/Users/simonlee/nilearn_data/spm_auditory/sub001/fM00223/fM00223_038.img',\n",
       " '/Users/simonlee/nilearn_data/spm_auditory/sub001/fM00223/fM00223_039.img',\n",
       " '/Users/simonlee/nilearn_data/spm_auditory/sub001/fM00223/fM00223_040.img',\n",
       " '/Users/simonlee/nilearn_data/spm_auditory/sub001/fM00223/fM00223_041.img',\n",
       " '/Users/simonlee/nilearn_data/spm_auditory/sub001/fM00223/fM00223_042.img',\n",
       " '/Users/simonlee/nilearn_data/spm_auditory/sub001/fM00223/fM00223_043.img',\n",
       " '/Users/simonlee/nilearn_data/spm_auditory/sub001/fM00223/fM00223_044.img',\n",
       " '/Users/simonlee/nilearn_data/spm_auditory/sub001/fM00223/fM00223_045.img',\n",
       " '/Users/simonlee/nilearn_data/spm_auditory/sub001/fM00223/fM00223_046.img',\n",
       " '/Users/simonlee/nilearn_data/spm_auditory/sub001/fM00223/fM00223_047.img',\n",
       " '/Users/simonlee/nilearn_data/spm_auditory/sub001/fM00223/fM00223_048.img',\n",
       " '/Users/simonlee/nilearn_data/spm_auditory/sub001/fM00223/fM00223_049.img',\n",
       " '/Users/simonlee/nilearn_data/spm_auditory/sub001/fM00223/fM00223_050.img',\n",
       " '/Users/simonlee/nilearn_data/spm_auditory/sub001/fM00223/fM00223_051.img',\n",
       " '/Users/simonlee/nilearn_data/spm_auditory/sub001/fM00223/fM00223_052.img',\n",
       " '/Users/simonlee/nilearn_data/spm_auditory/sub001/fM00223/fM00223_053.img',\n",
       " '/Users/simonlee/nilearn_data/spm_auditory/sub001/fM00223/fM00223_054.img',\n",
       " '/Users/simonlee/nilearn_data/spm_auditory/sub001/fM00223/fM00223_055.img',\n",
       " '/Users/simonlee/nilearn_data/spm_auditory/sub001/fM00223/fM00223_056.img',\n",
       " '/Users/simonlee/nilearn_data/spm_auditory/sub001/fM00223/fM00223_057.img',\n",
       " '/Users/simonlee/nilearn_data/spm_auditory/sub001/fM00223/fM00223_058.img',\n",
       " '/Users/simonlee/nilearn_data/spm_auditory/sub001/fM00223/fM00223_059.img',\n",
       " '/Users/simonlee/nilearn_data/spm_auditory/sub001/fM00223/fM00223_060.img',\n",
       " '/Users/simonlee/nilearn_data/spm_auditory/sub001/fM00223/fM00223_061.img',\n",
       " '/Users/simonlee/nilearn_data/spm_auditory/sub001/fM00223/fM00223_062.img',\n",
       " '/Users/simonlee/nilearn_data/spm_auditory/sub001/fM00223/fM00223_063.img',\n",
       " '/Users/simonlee/nilearn_data/spm_auditory/sub001/fM00223/fM00223_064.img',\n",
       " '/Users/simonlee/nilearn_data/spm_auditory/sub001/fM00223/fM00223_065.img',\n",
       " '/Users/simonlee/nilearn_data/spm_auditory/sub001/fM00223/fM00223_066.img',\n",
       " '/Users/simonlee/nilearn_data/spm_auditory/sub001/fM00223/fM00223_067.img',\n",
       " '/Users/simonlee/nilearn_data/spm_auditory/sub001/fM00223/fM00223_068.img',\n",
       " '/Users/simonlee/nilearn_data/spm_auditory/sub001/fM00223/fM00223_069.img',\n",
       " '/Users/simonlee/nilearn_data/spm_auditory/sub001/fM00223/fM00223_070.img',\n",
       " '/Users/simonlee/nilearn_data/spm_auditory/sub001/fM00223/fM00223_071.img',\n",
       " '/Users/simonlee/nilearn_data/spm_auditory/sub001/fM00223/fM00223_072.img',\n",
       " '/Users/simonlee/nilearn_data/spm_auditory/sub001/fM00223/fM00223_073.img',\n",
       " '/Users/simonlee/nilearn_data/spm_auditory/sub001/fM00223/fM00223_074.img',\n",
       " '/Users/simonlee/nilearn_data/spm_auditory/sub001/fM00223/fM00223_075.img',\n",
       " '/Users/simonlee/nilearn_data/spm_auditory/sub001/fM00223/fM00223_076.img',\n",
       " '/Users/simonlee/nilearn_data/spm_auditory/sub001/fM00223/fM00223_077.img',\n",
       " '/Users/simonlee/nilearn_data/spm_auditory/sub001/fM00223/fM00223_078.img',\n",
       " '/Users/simonlee/nilearn_data/spm_auditory/sub001/fM00223/fM00223_079.img',\n",
       " '/Users/simonlee/nilearn_data/spm_auditory/sub001/fM00223/fM00223_080.img',\n",
       " '/Users/simonlee/nilearn_data/spm_auditory/sub001/fM00223/fM00223_081.img',\n",
       " '/Users/simonlee/nilearn_data/spm_auditory/sub001/fM00223/fM00223_082.img',\n",
       " '/Users/simonlee/nilearn_data/spm_auditory/sub001/fM00223/fM00223_083.img',\n",
       " '/Users/simonlee/nilearn_data/spm_auditory/sub001/fM00223/fM00223_084.img',\n",
       " '/Users/simonlee/nilearn_data/spm_auditory/sub001/fM00223/fM00223_085.img',\n",
       " '/Users/simonlee/nilearn_data/spm_auditory/sub001/fM00223/fM00223_086.img',\n",
       " '/Users/simonlee/nilearn_data/spm_auditory/sub001/fM00223/fM00223_087.img',\n",
       " '/Users/simonlee/nilearn_data/spm_auditory/sub001/fM00223/fM00223_088.img',\n",
       " '/Users/simonlee/nilearn_data/spm_auditory/sub001/fM00223/fM00223_089.img',\n",
       " '/Users/simonlee/nilearn_data/spm_auditory/sub001/fM00223/fM00223_090.img',\n",
       " '/Users/simonlee/nilearn_data/spm_auditory/sub001/fM00223/fM00223_091.img',\n",
       " '/Users/simonlee/nilearn_data/spm_auditory/sub001/fM00223/fM00223_092.img',\n",
       " '/Users/simonlee/nilearn_data/spm_auditory/sub001/fM00223/fM00223_093.img',\n",
       " '/Users/simonlee/nilearn_data/spm_auditory/sub001/fM00223/fM00223_094.img',\n",
       " '/Users/simonlee/nilearn_data/spm_auditory/sub001/fM00223/fM00223_095.img',\n",
       " '/Users/simonlee/nilearn_data/spm_auditory/sub001/fM00223/fM00223_096.img',\n",
       " '/Users/simonlee/nilearn_data/spm_auditory/sub001/fM00223/fM00223_097.img',\n",
       " '/Users/simonlee/nilearn_data/spm_auditory/sub001/fM00223/fM00223_098.img',\n",
       " '/Users/simonlee/nilearn_data/spm_auditory/sub001/fM00223/fM00223_099.img']"
      ]
     },
     "execution_count": 11,
     "metadata": {},
     "output_type": "execute_result"
    }
   ],
   "source": [
    "subject_data.func"
   ]
  },
  {
   "cell_type": "markdown",
   "id": "9b5c8f5a",
   "metadata": {},
   "source": [
    "Many volumes! But what are they, exactly? Let's open one of them to see!"
   ]
  },
  {
   "cell_type": "code",
   "execution_count": 12,
   "id": "7a5858cc",
   "metadata": {},
   "outputs": [],
   "source": [
    "# %load (subject_data.func[0])\n",
    "/Users/simonlee/nilearn_data/spm_auditory/sub001/fM00223/fM00223_004.img"
   ]
  },
  {
   "cell_type": "markdown",
   "id": "2821a05b",
   "metadata": {},
   "source": [
    "As you can see there are all 3D volumes. We need to aggregate them all in a timeserie before we can run our GLM. \n",
    "This can be done easily with nilearn's **concat** function:"
   ]
  },
  {
   "cell_type": "code",
   "execution_count": 13,
   "id": "0bafb7d7",
   "metadata": {},
   "outputs": [],
   "source": [
    "from nilearn.image import concat_imgs, mean_img\n",
    "fmri_img = concat_imgs(subject_data.func)"
   ]
  },
  {
   "cell_type": "markdown",
   "id": "4cd7138b",
   "metadata": {},
   "source": [
    "Great! Let's now load the experimental design. In this experiment, subjects could be in two conditions:\n",
    "- **active**, where they were subjected to **auditory** stimulation\n",
    "- **rest** otherwise\n",
    "\n",
    "We alternated between blocks of each condition, lasting 42 seconds each. Here is the list of these events:"
   ]
  },
  {
   "cell_type": "code",
   "execution_count": 14,
   "id": "9def7b1c",
   "metadata": {},
   "outputs": [
    {
     "data": {
      "text/html": [
       "<div>\n",
       "<style scoped>\n",
       "    .dataframe tbody tr th:only-of-type {\n",
       "        vertical-align: middle;\n",
       "    }\n",
       "\n",
       "    .dataframe tbody tr th {\n",
       "        vertical-align: top;\n",
       "    }\n",
       "\n",
       "    .dataframe thead th {\n",
       "        text-align: right;\n",
       "    }\n",
       "</style>\n",
       "<table border=\"1\" class=\"dataframe\">\n",
       "  <thead>\n",
       "    <tr style=\"text-align: right;\">\n",
       "      <th></th>\n",
       "      <th>onset</th>\n",
       "      <th>duration</th>\n",
       "      <th>trial_type</th>\n",
       "    </tr>\n",
       "  </thead>\n",
       "  <tbody>\n",
       "    <tr>\n",
       "      <th>0</th>\n",
       "      <td>0.0</td>\n",
       "      <td>42.0</td>\n",
       "      <td>rest</td>\n",
       "    </tr>\n",
       "    <tr>\n",
       "      <th>1</th>\n",
       "      <td>42.0</td>\n",
       "      <td>42.0</td>\n",
       "      <td>active</td>\n",
       "    </tr>\n",
       "    <tr>\n",
       "      <th>2</th>\n",
       "      <td>84.0</td>\n",
       "      <td>42.0</td>\n",
       "      <td>rest</td>\n",
       "    </tr>\n",
       "    <tr>\n",
       "      <th>3</th>\n",
       "      <td>126.0</td>\n",
       "      <td>42.0</td>\n",
       "      <td>active</td>\n",
       "    </tr>\n",
       "    <tr>\n",
       "      <th>4</th>\n",
       "      <td>168.0</td>\n",
       "      <td>42.0</td>\n",
       "      <td>rest</td>\n",
       "    </tr>\n",
       "    <tr>\n",
       "      <th>5</th>\n",
       "      <td>210.0</td>\n",
       "      <td>42.0</td>\n",
       "      <td>active</td>\n",
       "    </tr>\n",
       "    <tr>\n",
       "      <th>6</th>\n",
       "      <td>252.0</td>\n",
       "      <td>42.0</td>\n",
       "      <td>rest</td>\n",
       "    </tr>\n",
       "    <tr>\n",
       "      <th>7</th>\n",
       "      <td>294.0</td>\n",
       "      <td>42.0</td>\n",
       "      <td>active</td>\n",
       "    </tr>\n",
       "    <tr>\n",
       "      <th>8</th>\n",
       "      <td>336.0</td>\n",
       "      <td>42.0</td>\n",
       "      <td>rest</td>\n",
       "    </tr>\n",
       "    <tr>\n",
       "      <th>9</th>\n",
       "      <td>378.0</td>\n",
       "      <td>42.0</td>\n",
       "      <td>active</td>\n",
       "    </tr>\n",
       "    <tr>\n",
       "      <th>10</th>\n",
       "      <td>420.0</td>\n",
       "      <td>42.0</td>\n",
       "      <td>rest</td>\n",
       "    </tr>\n",
       "    <tr>\n",
       "      <th>11</th>\n",
       "      <td>462.0</td>\n",
       "      <td>42.0</td>\n",
       "      <td>active</td>\n",
       "    </tr>\n",
       "    <tr>\n",
       "      <th>12</th>\n",
       "      <td>504.0</td>\n",
       "      <td>42.0</td>\n",
       "      <td>rest</td>\n",
       "    </tr>\n",
       "    <tr>\n",
       "      <th>13</th>\n",
       "      <td>546.0</td>\n",
       "      <td>42.0</td>\n",
       "      <td>active</td>\n",
       "    </tr>\n",
       "    <tr>\n",
       "      <th>14</th>\n",
       "      <td>588.0</td>\n",
       "      <td>42.0</td>\n",
       "      <td>rest</td>\n",
       "    </tr>\n",
       "    <tr>\n",
       "      <th>15</th>\n",
       "      <td>630.0</td>\n",
       "      <td>42.0</td>\n",
       "      <td>active</td>\n",
       "    </tr>\n",
       "  </tbody>\n",
       "</table>\n",
       "</div>"
      ],
      "text/plain": [
       "    onset  duration trial_type\n",
       "0     0.0      42.0       rest\n",
       "1    42.0      42.0     active\n",
       "2    84.0      42.0       rest\n",
       "3   126.0      42.0     active\n",
       "4   168.0      42.0       rest\n",
       "5   210.0      42.0     active\n",
       "6   252.0      42.0       rest\n",
       "7   294.0      42.0     active\n",
       "8   336.0      42.0       rest\n",
       "9   378.0      42.0     active\n",
       "10  420.0      42.0       rest\n",
       "11  462.0      42.0     active\n",
       "12  504.0      42.0       rest\n",
       "13  546.0      42.0     active\n",
       "14  588.0      42.0       rest\n",
       "15  630.0      42.0     active"
      ]
     },
     "execution_count": 14,
     "metadata": {},
     "output_type": "execute_result"
    }
   ],
   "source": [
    "events = pd.read_table(subject_data['events'])\n",
    "events"
   ]
  },
  {
   "cell_type": "markdown",
   "id": "b8d7696c",
   "metadata": {},
   "source": [
    "<div class=\\\"warning\\\" style='background-color:#C1ECFA; color: #112A46; border-left: solid #darkblue 4px; border-radius: 4px; padding:0.7em;'>\n",
    "    <span>\n",
    "    <p style='margin-top:1em; text-align:center'>\n",
    "    <b>💡 Where to find these event files ? 💡</b></p>\n",
    "    <p style='text-indent: 10px;'>\n",
    "    Here we are showing you a nice example, where everything is already nicely put in its place. What if you wanted to load events from say an openneuro dataset? How should you proceed? \n",
    "        Well, let's take a practical example. Go to <a href=\"https://openneuro.org/datasets/ds004226\">this dataset</a> (which should be familiar) and navigate to the func folder of subject sub-001 (which again should be familiar from lab 2). In there, we see several things, but let's focus on files that end in events.tsv:\n",
    "        <img src=\"imgs/event_files.png\"/>\n",
    "     These files are exactly those that contain for each session the events in the appropriate format. As a consequence, you should download them. We give an example cell at the very end of the notebook, as it could be useful for your project :)\n",
    "    </p></span>\n",
    "</div>"
   ]
  },
  {
   "cell_type": "markdown",
   "id": "2dea5fbf",
   "metadata": {},
   "source": [
    "This way of specifying the stimulations is pretty standard in fMRI: the software will then construct for you the corresponding design matrix, based on repetition time and other regressors you might want to add. Let's first start with only our regressors of interest, plus noise.\n",
    "\n",
    "In this experiment, the TR of acquisition was **7 seconds**.\n",
    "\n",
    "In the cell below, we specify the model and fit it to our data and events (which is our experimental design, again!)"
   ]
  },
  {
   "cell_type": "code",
   "execution_count": 18,
   "id": "5a542f65",
   "metadata": {},
   "outputs": [],
   "source": [
    "from nilearn.glm.first_level import make_first_level_design_matrix, FirstLevelModel\n",
    "\n",
    "# Specify what sort of GLM we want (nature of the noise, repetition time of the data and other parameters)\n",
    "fmri_glm = FirstLevelModel(t_r=7,\n",
    "                           noise_model='ar1',\n",
    "                           standardize=False,\n",
    "                           hrf_model='spm',\n",
    "                           drift_model=None,\n",
    "                           high_pass=.01)\n",
    "\n",
    "# Fit the model to our design and data\n",
    "fmri_glm = fmri_glm.fit(fmri_img, events)"
   ]
  },
  {
   "cell_type": "markdown",
   "id": "c9c69f97",
   "metadata": {},
   "source": [
    "Great, let's inspect first the design matrix that the software created for us, shall we?"
   ]
  },
  {
   "cell_type": "code",
   "execution_count": 19,
   "id": "0de6ffba",
   "metadata": {},
   "outputs": [
    {
     "data": {
      "image/png": "[encoded data removed]",
      "text/plain": [
       "<Figure size 169x1000 with 1 Axes>"
      ]
     },
     "metadata": {},
     "output_type": "display_data"
    }
   ],
   "source": [
    "from nilearn.plotting import plot_design_matrix\n",
    "plot_design_matrix(fmri_glm.design_matrices_[0])\n",
    "plt.show()"
   ]
  },
  {
   "cell_type": "markdown",
   "id": "11c937be",
   "metadata": {},
   "source": [
    "You can see that we have alternating blocks of active and rest conditions, plus a constant. What you  might wonder, however is **why is it not binary**? Well, this has to do with the nature of fMRI. We need to talk about what is called the hemodynamic response function (HRF)."
   ]
  },
  {
   "cell_type": "markdown",
   "id": "5797693f",
   "metadata": {},
   "source": [
    "## 3. The HRF: neural basis and modelling\n",
    "\n",
    "One core assumption of GLM modelling is that the brain can be modelled as a linear time invariant system (LTI). \n",
    "Informally, it means that when I subject the brain to two stimulations, A and B, the total signal I observe can be decomposed as the sum of the effect of A and the effect of B on the brain.\n",
    "(If you need more information on LTI systems, check out <a href=\"https://www.youtube.com/watch?v=Y8iFJVmSQIk\">this video</a> for example).\n",
    "\n",
    "Just to make it a bit clear anyway, here the example of a very simple LTI system, the function F(x) = x.\n",
    "<br>Clearly $F(inputA) + F(inputB) = F(inputA + inputB)$, so linearity is very easy to check here. Visually, it would look like this:\n",
    "\n",
    "<img src=\"imgs/lti_example.png\"/>\n",
    "\n",
    "The core idea is that the brain is the same in fMRI!\n",
    "When you show first a stimulus A, and then a stimulus B, the brain will have a way of response for each. But the total effect you observe will be the linear combination of response to A and response to B.\n",
    "<br>\n",
    "### 3.1 The impulse response of the brain\n",
    "\n",
    "When the brain is presented with a very brief signal (so brief we can call it an impulse), it will respond with a function that has a very characteristic shape: the HRF. This profile is really typical:\n",
    "<img src=\"imgs/spm_example_resp.png\"/>\n",
    "\n",
    "As you have probably seen in other courses, having the impulse response of a system is very useful. All signals can be decomposed as a weighted sum of impulses. Imagine having this time three impulses, evenly spaced in time. Two of them will be at 0.5 amplitude, while the middle one will be at 1.0 amplitude. At each peak, I can put my HRF times the peak's amplitude. Here's what it would look like:\n",
    "\n",
    "<img src=\"imgs/multiple_inputs_hrf.png\"/>\n",
    "\n",
    "\n",
    "This operation is called a **convolution**. Summing up all response stimulations is how you obtain the above picture.\n",
    "\n",
    "\n",
    "\n",
    "<br>\n",
    "<div class=\"warning\" style='background-color:#90EE90; color: #805AD5; border-left: solid #805AD5 4px; border-radius: 4px; padding:0.7em;'>\n",
    "    <span>\n",
    "        <p style='margin-top:1em; text-align:center'><b>Relevance of the HRF in the GLM</b></p>\n",
    "        <p style='text-indent: 10px;'> \n",
    "            The goal of the GLM is to determine the response of the brain to a given stimulation. In other words, we are trying to find what the **BOLD response** will look like for a given stimulus. What do we know?</p>\n",
    "        <ul>\n",
    "            <li>The stereotypical response function to stimulation (the HRF)</li>\n",
    "            <li>Stimulus timing and type (your experimental design)</li>\n",
    "            <li>The brain output (the fMRI signal)</li>\n",
    "        </ul>\n",
    "        Because the stimuli are inputs to the brain, and the brain is LTI with impulse response being the HRF, what we can do is <b>convolve the stimuli with the HRF</b> and use this new convolved design matrix as input to the GLM. This is EXACTLY what you see in the design matrix below: the signal is no longer constant, because it has been convolved with the HRF!\n",
    "    </span>\n",
    "    </div>"
   ]
  },
  {
   "cell_type": "markdown",
   "id": "6836a788",
   "metadata": {},
   "source": [
    "To drive our point home, let's do the convolution of an experimental condition (rest), which starts at timepoint 0, and will be set to 1 for 42 samples before returning to zero. We will convolve it with the HRF, and compare it with the design matrix.\n",
    "\n",
    "Notice that the HRF takes some time to return to zero!\n",
    "To convince you, let's include thus about 12 timepoints **after** our last stimulation, just to be on the safe side.\n",
    "\n",
    "To do this, let's first create some quantites. We must know the following:\n",
    "\n",
    "- The time of each frame. You will have to create frames, starting from zero and extending to 55 seconds, spaced by 7 seconds (our TR).\n",
    "- The experimental condition start and end: in this case, from 0 to 42, with a value of 1.\n",
    "- The **oversampling** parameter. This is for the stability of the convolution. The idea is simple: we oversample the signal, convolve, and then downsample to go back to our scan times. In your case, the oversampling will be 50 (so we take 50 samples in between scans)"
   ]
  },
  {
   "cell_type": "code",
   "execution_count": 20,
   "id": "369e5a35",
   "metadata": {},
   "outputs": [],
   "source": [
    "start_time = 0 # Replace with start time please\n",
    "end_time = 55 # Replace with end of not stimulation but where we want our frame time to end!!\n",
    "tr = 7 # What is our TR?\n",
    "frame_times= np.asarray(list(range(start_time, end_time, tr)))\n",
    "\n",
    "oversampling = 50\n",
    "\n",
    "onset = 7 # Replace with the time at which stimulus starts\n",
    "duration = 42 # Replace with the duration of the stimulus\n",
    "amplitude = 5 # Replace with amplitude of the stimulus during stimulation\n",
    "\n",
    "exp_condition = np.asarray([[onset], [duration], [amplitude]])"
   ]
  },
  {
   "cell_type": "markdown",
   "id": "249908ba",
   "metadata": {},
   "source": [
    "Great! Now, let's oversample our condition, shall we?"
   ]
  },
  {
   "cell_type": "code",
   "execution_count": 21,
   "id": "cb5b97cd",
   "metadata": {},
   "outputs": [
    {
     "name": "stdout",
     "output_type": "stream",
     "text": [
      "(572,)\n",
      "(572,)\n"
     ]
    },
    {
     "data": {
      "text/plain": [
       "Text(0.5, 1.0, 'Frame time length: 8 / Total signal length: 572')"
      ]
     },
     "execution_count": 21,
     "metadata": {},
     "output_type": "execute_result"
    },
    {
     "data": {
      "image/png": "[encoded data removed]",
      "text/plain": [
       "<Figure size 640x480 with 1 Axes>"
      ]
     },
     "metadata": {},
     "output_type": "display_data"
    }
   ],
   "source": [
    "from nilearn.glm.first_level.hemodynamic_models import _sample_condition, _resample_regressor, glover_hrf\n",
    "\n",
    "hr_regressor, hr_frame_times = _sample_condition(exp_condition, frame_times)\n",
    "\n",
    "print(hr_regressor.shape)\n",
    "print(hr_frame_times.shape)\n",
    "\n",
    "plt.plot(hr_frame_times, hr_regressor)\n",
    "plt.xlabel('High res time')\n",
    "plt.title('Frame time length: {} / Total signal length: {}'.format(len(frame_times), len(hr_regressor)))"
   ]
  },
  {
   "cell_type": "markdown",
   "id": "2d6664b3",
   "metadata": {},
   "source": [
    "Notice that we have indeed oversampled our array. We've also added a bit of negative values: again this is for the stability of the convolution, to make it start from a clean zero signal around boundaries :)\n",
    "\n",
    "Now, we can convolve our HRF with our high resolution regressor. Here it is:"
   ]
  },
  {
   "cell_type": "code",
   "execution_count": 22,
   "id": "97c66393",
   "metadata": {},
   "outputs": [
    {
     "name": "stdout",
     "output_type": "stream",
     "text": [
      "(572,)\n",
      "(229,)\n",
      "(1, 572)\n"
     ]
    },
    {
     "data": {
      "text/plain": [
       "Text(0.5, 0, 'High res time')"
      ]
     },
     "execution_count": 22,
     "metadata": {},
     "output_type": "execute_result"
    },
    {
     "data": {
      "image/png": "[encoded data removed]",
      "text/plain": [
       "<Figure size 640x480 with 1 Axes>"
      ]
     },
     "metadata": {},
     "output_type": "display_data"
    }
   ],
   "source": [
    "hrf = glover_hrf(tr=tr)\n",
    "print(hr_regressor.shape)\n",
    "print(hrf.shape)\n",
    "conv_reg = np.array([np.convolve(hr_regressor, hrf)[:hr_regressor.size]])\n",
    "print(conv_reg.shape)\n",
    "\n",
    "plt.plot(hr_frame_times, conv_reg.T)\n",
    "plt.xlabel('High res time')"
   ]
  },
  {
   "cell_type": "markdown",
   "id": "3961a7aa",
   "metadata": {},
   "source": [
    "Nice! It remains to resample to proper resolution!"
   ]
  },
  {
   "cell_type": "code",
   "execution_count": 23,
   "id": "6904cd25",
   "metadata": {},
   "outputs": [
    {
     "name": "stdout",
     "output_type": "stream",
     "text": [
      "(1, 572)\n",
      "(572,)\n",
      "(8,)\n"
     ]
    },
    {
     "data": {
      "text/plain": [
       "[<matplotlib.lines.Line2D at 0x7fad24e5aa60>]"
      ]
     },
     "execution_count": 23,
     "metadata": {},
     "output_type": "execute_result"
    },
    {
     "data": {
      "image/png": "[encoded data removed]",
      "text/plain": [
       "<Figure size 640x480 with 1 Axes>"
      ]
     },
     "metadata": {},
     "output_type": "display_data"
    }
   ],
   "source": [
    "print(conv_reg.shape)\n",
    "print(hr_frame_times.shape)\n",
    "print(frame_times.shape)\n",
    "computed_regressors = _resample_regressor(\n",
    "            conv_reg, hr_frame_times, frame_times)\n",
    "\n",
    "plt.plot(frame_times, computed_regressors)"
   ]
  },
  {
   "cell_type": "markdown",
   "id": "a453d4de",
   "metadata": {},
   "source": [
    "How close are we to what was found in the design matrix?"
   ]
  },
  {
   "cell_type": "code",
   "execution_count": 24,
   "id": "0b28800c",
   "metadata": {},
   "outputs": [
    {
     "data": {
      "text/plain": [
       "[<matplotlib.lines.Line2D at 0x7fad24cec070>]"
      ]
     },
     "execution_count": 24,
     "metadata": {},
     "output_type": "execute_result"
    },
    {
     "data": {
      "image/png": "[encoded data removed]",
      "text/plain": [
       "<Figure size 640x480 with 1 Axes>"
      ]
     },
     "metadata": {},
     "output_type": "display_data"
    }
   ],
   "source": [
    "plt.plot(fmri_glm.design_matrices_[0]['rest'][:49])"
   ]
  },
  {
   "cell_type": "markdown",
   "id": "7ae07154",
   "metadata": {},
   "source": [
    "Not too far off, but there's a difference still, right? Why is that?\n",
    "**Because in the design matrix the regressors are orthogonalized with respect to each other**, hence the disparity you observe. You are hopefully convinced still that convolution with HRF is the reason you observe this:"
   ]
  },
  {
   "cell_type": "code",
   "execution_count": 25,
   "id": "974af3f5",
   "metadata": {},
   "outputs": [
    {
     "data": {
      "image/png": "[encoded data removed]",
      "text/plain": [
       "<Figure size 169x1000 with 1 Axes>"
      ]
     },
     "metadata": {},
     "output_type": "display_data"
    }
   ],
   "source": [
    "plot_design_matrix(fmri_glm.design_matrices_[0])\n",
    "plt.show()"
   ]
  },
  {
   "cell_type": "markdown",
   "id": "c98cf2b7",
   "metadata": {},
   "source": [
    "## 4. Using the GLM in fMRI\n",
    "\n",
    "We've taken a big detour to make you really understand what you see in the design matrix and *why* it shows up this way. The GLM from above, still, is fit to your data. I would like to know now, based on this model, which regions of the brain could be associated to the *active* condition **compared to the rest condition**.\n",
    "\n",
    "In other words, we want to **contrast** the active and rest conditions. This is done by building what is - aptly - called a contrast.\n",
    "Remember: in our modelling, what we fitted are the $\\beta$ coefficients. In particular, we will have here three beta vectors:\n",
    "<p style=\"font-size:20px;\">$\\vec{\\beta_{active}}$,  $\\vec{\\beta_{rest}}$,  $\\vec{\\beta_{constant}}$</p>\n",
    "\n",
    "My $\\beta$ matrix would look like this:\n",
    "<p style=\"font-size:20px;\">$$\\beta =\n",
    "\\begin{bmatrix}\n",
    "\\vec{\\beta_{active}}\\\\\n",
    "\\vec{\\beta_{rest}}\\\\\n",
    "\\vec{\\beta_{constant}}\\end{bmatrix}$$\n",
    "</p>\n",
    "\n",
    "If I now wish to compute the effect of active minus rest, obtaining the contrast $c_{active - rest}$, I should thus multiply like so:\n",
    "\n",
    "<p style=\"font-size:20px;\">$$c_{active - rest} = \n",
    "\\begin{bmatrix}\n",
    "1 & -1 & 0\\end{bmatrix}\n",
    "\\begin{bmatrix}\n",
    "\\vec{\\beta_{active}}\\\\\n",
    "\\vec{\\beta_{rest}}\\\\\n",
    "\\vec{\\beta_{constant}}\\end{bmatrix}$$\n",
    "</p>"
   ]
  },
  {
   "cell_type": "markdown",
   "id": "05a6c177",
   "metadata": {},
   "source": [
    "This is what it means to define a contrast. Let's do it now in practice. First, let's define our conditions. Can you find the vectors necessary to extract the rest and active conditions from the above beta matrix?"
   ]
  },
  {
   "cell_type": "code",
   "execution_count": 31,
   "id": "c6215560",
   "metadata": {},
   "outputs": [
    {
     "ename": "TypeError",
     "evalue": "'builtin_function_or_method' object is not subscriptable",
     "output_type": "error",
     "traceback": [
      "\u001b[0;31m---------------------------------------------------------------------------\u001b[0m",
      "\u001b[0;31mTypeError\u001b[0m                                 Traceback (most recent call last)",
      "Cell \u001b[0;32mIn [31], line 1\u001b[0m\n\u001b[0;32m----> 1\u001b[0m active \u001b[38;5;241m=\u001b[39m \u001b[43mnp\u001b[49m\u001b[38;5;241;43m.\u001b[39;49m\u001b[43marray\u001b[49m\u001b[43m[\u001b[49m\u001b[43mfmri_glm\u001b[49m\u001b[38;5;241;43m.\u001b[39;49m\u001b[43mdesign_matrices_\u001b[49m\u001b[43m[\u001b[49m\u001b[38;5;241;43m0\u001b[39;49m\u001b[43m]\u001b[49m\u001b[43m[\u001b[49m\u001b[38;5;124;43m'\u001b[39;49m\u001b[38;5;124;43mactive\u001b[39;49m\u001b[38;5;124;43m'\u001b[39;49m\u001b[43m]\u001b[49m\u001b[43m]\u001b[49m\n\u001b[1;32m      2\u001b[0m rest \u001b[38;5;241m=\u001b[39m fmri_glm\u001b[38;5;241m.\u001b[39mdesign_matrices_[\u001b[38;5;241m0\u001b[39m][\u001b[38;5;124m'\u001b[39m\u001b[38;5;124mrest\u001b[39m\u001b[38;5;124m'\u001b[39m]\n\u001b[1;32m      3\u001b[0m \u001b[38;5;28mprint\u001b[39m(active)\n",
      "\u001b[0;31mTypeError\u001b[0m: 'builtin_function_or_method' object is not subscriptable"
     ]
    }
   ],
   "source": [
    "active = np.array[fmri_glm.design_matrices_[0]['active']]\n",
    "rest = fmri_glm.design_matrices_[0]['rest']\n",
    "print(active)"
   ]
  },
  {
   "cell_type": "code",
   "execution_count": 29,
   "id": "50a00ead",
   "metadata": {},
   "outputs": [
    {
     "ename": "TypeError",
     "evalue": "unhashable type: 'Series'",
     "output_type": "error",
     "traceback": [
      "\u001b[0;31m---------------------------------------------------------------------------\u001b[0m",
      "\u001b[0;31mTypeError\u001b[0m                                 Traceback (most recent call last)",
      "Cell \u001b[0;32mIn [29], line 1\u001b[0m\n\u001b[0;32m----> 1\u001b[0m conditions \u001b[38;5;241m=\u001b[39m {\n\u001b[1;32m      2\u001b[0m     fmri_glm\u001b[38;5;241m.\u001b[39mdesign_matrices_[\u001b[38;5;241m0\u001b[39m][\u001b[38;5;124m'\u001b[39m\u001b[38;5;124mactive\u001b[39m\u001b[38;5;124m'\u001b[39m], \u001b[38;5;66;03m# Specify the np array, e.g. np.array([2, -1, 0]) to extract active\u001b[39;00m\n\u001b[1;32m      3\u001b[0m     fmri_glm\u001b[38;5;241m.\u001b[39mdesign_matrices_[\u001b[38;5;241m0\u001b[39m][\u001b[38;5;124m'\u001b[39m\u001b[38;5;124mrest\u001b[39m\u001b[38;5;124m'\u001b[39m], \u001b[38;5;66;03m# Specify the np array, e.g. np.array([2, -1, 0]) to extract rest\u001b[39;00m\n\u001b[1;32m      4\u001b[0m }\n\u001b[1;32m      6\u001b[0m active_minus_rest \u001b[38;5;241m=\u001b[39m conditions[\u001b[38;5;124m'\u001b[39m\u001b[38;5;124mactive\u001b[39m\u001b[38;5;124m'\u001b[39m] \u001b[38;5;241m-\u001b[39m conditions[\u001b[38;5;124m'\u001b[39m\u001b[38;5;124mrest\u001b[39m\u001b[38;5;124m'\u001b[39m]\n",
      "\u001b[0;31mTypeError\u001b[0m: unhashable type: 'Series'"
     ]
    }
   ],
   "source": [
    "conditions = {\n",
    "    fmri_glm.design_matrices_[0]['active'], # Specify the np array, e.g. np.array([2, -1, 0]) to extract active\n",
    "    fmri_glm.design_matrices_[0]['rest'], # Specify the np array, e.g. np.array([2, -1, 0]) to extract rest\n",
    "}\n",
    "\n",
    "active_minus_rest = conditions['active'] - conditions['rest']"
   ]
  },
  {
   "cell_type": "markdown",
   "id": "3d53a4ee",
   "metadata": {},
   "source": [
    "If we plot it, it will look like this:"
   ]
  },
  {
   "cell_type": "code",
   "execution_count": null,
   "id": "7c9f208d",
   "metadata": {},
   "outputs": [],
   "source": [
    "from nilearn.plotting import plot_contrast_matrix\n",
    "plot_contrast_matrix(active_minus_rest, design_matrix=fmri_glm.design_matrices_[0])"
   ]
  },
  {
   "cell_type": "markdown",
   "id": "2f0b6098",
   "metadata": {},
   "source": [
    "Now, let's finally compute the contrast! We form a t-statistic, and obtain a z-score map of the beta coefficients of active minus rest like so:"
   ]
  },
  {
   "cell_type": "code",
   "execution_count": null,
   "id": "2045fdc3",
   "metadata": {},
   "outputs": [],
   "source": [
    "import nibabel as nib\n",
    "z_map = fmri_glm.compute_contrast(active_minus_rest,\n",
    "                                  output_type='z_score')\n",
    "\n",
    "nib.save(z_map, 'z_map_uncorrected.nii.gz')"
   ]
  },
  {
   "cell_type": "markdown",
   "id": "47caef04",
   "metadata": {},
   "source": [
    "Let's visualize it!"
   ]
  },
  {
   "cell_type": "markdown",
   "id": "7408e171",
   "metadata": {},
   "source": [
    "Nilearn is kind enough to also provide us with visualization tools, so we can do this:"
   ]
  },
  {
   "cell_type": "code",
   "execution_count": null,
   "id": "15a67fe6",
   "metadata": {},
   "outputs": [],
   "source": [
    "from nilearn.plotting import plot_stat_map\n",
    "from nilearn.image import mean_img\n",
    "mean_img_ = mean_img(fmri_img),\n",
    "plot_stat_map(z_map, bg_img=mean_img_[0], threshold=3.0,\n",
    "              display_mode='z', cut_coords=3, black_bg=True,\n",
    "              title='Active minus Rest (Z>3)')\n",
    "plt.show()"
   ]
  },
  {
   "cell_type": "markdown",
   "id": "b9d80c94",
   "metadata": {},
   "source": [
    "### 4.1 A not-so insignificant issue: multiple-comparisons\n",
    "\n",
    "Let's think for a moment. We have a lot of voxels. For each such voxel, we've performed a statistical test to assess if the difference between the two conditions. Yet, we only showed results for an arbitrary visualization threshold, without caring once about the significance or the p-value! \n",
    "\n",
    "The issue with the p-value here is that we conducted *many tests*, one per voxel. You've probably seen in statistics that this increases the odds of a false positive. In other words, regions turn out positive, simply because we've conducted many tests.\n",
    "\n",
    "We need to control for this false-positive rate to have results that would be somewhat sensible. There are different ways to do it. To keep this tutorial simple, you'll use two procedures together:\n",
    "- False discovery rate correction, where we control the expected number of false discoveries\n",
    "- Removing isolated voxels (because the brain is locally smooth, an isolated peak is suspicious)\n",
    "\n",
    "To do so, please fill below the cell with:\n",
    "- Cluster size: any cluster smaller than 10 voxels is to be thrown away\n",
    "- False discovery rate: we will use a threshold at 0.05"
   ]
  },
  {
   "cell_type": "code",
   "execution_count": null,
   "id": "4f7fb0e4",
   "metadata": {},
   "outputs": [],
   "source": [
    "from nilearn.glm import threshold_stats_img\n",
    "\n",
    "cluster_size = ??? # Fill me with the number of voxels for a cluster to be kept\n",
    "fdr_rate = ??? # Fill me with the fdr rate to use!\n",
    "\n",
    "# Here, we apply the FDR correction + threshold\n",
    "clean_map, threshold = threshold_stats_img(z_map, alpha=fdr_rate, height_control='fdr', cluster_threshold=cluster_size)\n",
    "\n",
    "# And this is just to plot here!\n",
    "plot_stat_map(clean_map, bg_img=mean_img_[0], threshold=threshold,\n",
    "              display_mode='z', cut_coords=3, black_bg=True,\n",
    "              title='Active minus Rest (fdr={}, threshold={}), clusters > {} voxels'.format(fdr_rate, threshold, cluster_size))\n",
    "plt.show()"
   ]
  },
  {
   "cell_type": "markdown",
   "id": "c7b0924c",
   "metadata": {},
   "source": [
    "Knowing that the participant was subjected to auditory stimulation, do these results make sense to you?\n",
    "\n",
    "\n",
    "You now all the basics, which was the most painful part! Now that you understand how to move around the design matrix, we'll touch on some small details! :)"
   ]
  },
  {
   "cell_type": "markdown",
   "id": "9f7dd81b",
   "metadata": {},
   "source": [
    "## 5. Including regressors in the model\n",
    "\n",
    "You know the basics of the first level GLM, which is the most important part.\n",
    "But how should we include additional regressors in the GLM? Let's say I have heart rate for example, how can I bake it into my computations to mitigate hearbeat's effect on my signal?\n",
    "\n",
    "You've guessed it: we go back to our dear design matrix to modify it. In fact in the GLM, this is what you will always be manipulating since your observations are - well - what they are, and the beta coefficients are what you want to estimate.\n",
    "\n",
    "\n",
    "The idea is simple: adding a regressor is simply done by adding a column to the design matrix. Because these regressors are events that confound our signal (they are not part of the experiment and corrupt our estimates), they are called...confounds or no-interest regressors!\n",
    "\n",
    "For the purpose of this tutorial, we will model what is called the signal drift. The idea is simple: over time, the signal might decrease or increase, without relationship to the experimental paradigm itself (think for instance of fatigue). This variation in the mean of the signal over time can be modelled in the GLM to correct for it.\n",
    "Let's create a drift model, and put it as regressor!\n",
    "We will model it as a polynomial of order 3!"
   ]
  },
  {
   "cell_type": "code",
   "execution_count": 32,
   "id": "ca657a52",
   "metadata": {},
   "outputs": [],
   "source": [
    "# Creation of the drift model:\n",
    "from nilearn.glm.first_level.design_matrix import _make_drift\n",
    "\n",
    "column_values, column_names = _make_drift(drift_model='polynomial', frame_times=np.asarray(list(range(0, 666, 7))), order=3, high_pass=None)"
   ]
  },
  {
   "cell_type": "markdown",
   "id": "a28e1878",
   "metadata": {},
   "source": [
    "Beautiful! Let's add it to our design matrix, shall we?"
   ]
  },
  {
   "cell_type": "code",
   "execution_count": 33,
   "id": "52795aab",
   "metadata": {},
   "outputs": [],
   "source": [
    "design_mat = fmri_glm.design_matrices_[0]\n",
    "for (col, name) in zip(column_values.T, column_names):\n",
    "    design_mat[name] = col"
   ]
  },
  {
   "cell_type": "markdown",
   "id": "4c18dac8",
   "metadata": {},
   "source": [
    "The resulting matrix looks like this:"
   ]
  },
  {
   "cell_type": "code",
   "execution_count": 34,
   "id": "a6c4d9fd",
   "metadata": {},
   "outputs": [
    {
     "data": {
      "image/png": "[encoded data removed]",
      "text/plain": [
       "<Figure size 238x1000 with 1 Axes>"
      ]
     },
     "metadata": {},
     "output_type": "display_data"
    }
   ],
   "source": [
    "plot_design_matrix(design_mat)\n",
    "plt.show()"
   ]
  },
  {
   "cell_type": "markdown",
   "id": "c2b96c6b",
   "metadata": {},
   "source": [
    "You see that including additional regressors basically only boils down to updating your design matrix with relevant quantities. As in Nilearn the design matrix is a simple panda dataframe, this is *very* easy :)\n",
    "\n",
    "Now, to fit the GLM with the design matrix is very easy. During fitting, instead of passing the events, we will pass the design matrix, such that this\n",
    "```python\n",
    "some_glm.fit(data, events=event_df)\n",
    "```\n",
    "becomes this instead:\n",
    "```python\n",
    "some_glm.fit(data, design_matrices=[my_design_matrix])\n",
    "```\n",
    "\n",
    "In our case, the function becomes:"
   ]
  },
  {
   "cell_type": "code",
   "execution_count": 35,
   "id": "aaf0076d",
   "metadata": {},
   "outputs": [
    {
     "data": {
      "text/html": [
       "<style>#sk-container-id-1 {color: black;background-color: white;}#sk-container-id-1 pre{padding: 0;}#sk-container-id-1 div.sk-toggleable {background-color: white;}#sk-container-id-1 label.sk-toggleable__label {cursor: pointer;display: block;width: 100%;margin-bottom: 0;padding: 0.3em;box-sizing: border-box;text-align: center;}#sk-container-id-1 label.sk-toggleable__label-arrow:before {content: \"▸\";float: left;margin-right: 0.25em;color: #696969;}#sk-container-id-1 label.sk-toggleable__label-arrow:hover:before {color: black;}#sk-container-id-1 div.sk-estimator:hover label.sk-toggleable__label-arrow:before {color: black;}#sk-container-id-1 div.sk-toggleable__content {max-height: 0;max-width: 0;overflow: hidden;text-align: left;background-color: #f0f8ff;}#sk-container-id-1 div.sk-toggleable__content pre {margin: 0.2em;color: black;border-radius: 0.25em;background-color: #f0f8ff;}#sk-container-id-1 input.sk-toggleable__control:checked~div.sk-toggleable__content {max-height: 200px;max-width: 100%;overflow: auto;}#sk-container-id-1 input.sk-toggleable__control:checked~label.sk-toggleable__label-arrow:before {content: \"▾\";}#sk-container-id-1 div.sk-estimator input.sk-toggleable__control:checked~label.sk-toggleable__label {background-color: #d4ebff;}#sk-container-id-1 div.sk-label input.sk-toggleable__control:checked~label.sk-toggleable__label {background-color: #d4ebff;}#sk-container-id-1 input.sk-hidden--visually {border: 0;clip: rect(1px 1px 1px 1px);clip: rect(1px, 1px, 1px, 1px);height: 1px;margin: -1px;overflow: hidden;padding: 0;position: absolute;width: 1px;}#sk-container-id-1 div.sk-estimator {font-family: monospace;background-color: #f0f8ff;border: 1px dotted black;border-radius: 0.25em;box-sizing: border-box;margin-bottom: 0.5em;}#sk-container-id-1 div.sk-estimator:hover {background-color: #d4ebff;}#sk-container-id-1 div.sk-parallel-item::after {content: \"\";width: 100%;border-bottom: 1px solid gray;flex-grow: 1;}#sk-container-id-1 div.sk-label:hover label.sk-toggleable__label {background-color: #d4ebff;}#sk-container-id-1 div.sk-serial::before {content: \"\";position: absolute;border-left: 1px solid gray;box-sizing: border-box;top: 0;bottom: 0;left: 50%;z-index: 0;}#sk-container-id-1 div.sk-serial {display: flex;flex-direction: column;align-items: center;background-color: white;padding-right: 0.2em;padding-left: 0.2em;position: relative;}#sk-container-id-1 div.sk-item {position: relative;z-index: 1;}#sk-container-id-1 div.sk-parallel {display: flex;align-items: stretch;justify-content: center;background-color: white;position: relative;}#sk-container-id-1 div.sk-item::before, #sk-container-id-1 div.sk-parallel-item::before {content: \"\";position: absolute;border-left: 1px solid gray;box-sizing: border-box;top: 0;bottom: 0;left: 50%;z-index: -1;}#sk-container-id-1 div.sk-parallel-item {display: flex;flex-direction: column;z-index: 1;position: relative;background-color: white;}#sk-container-id-1 div.sk-parallel-item:first-child::after {align-self: flex-end;width: 50%;}#sk-container-id-1 div.sk-parallel-item:last-child::after {align-self: flex-start;width: 50%;}#sk-container-id-1 div.sk-parallel-item:only-child::after {width: 0;}#sk-container-id-1 div.sk-dashed-wrapped {border: 1px dashed gray;margin: 0 0.4em 0.5em 0.4em;box-sizing: border-box;padding-bottom: 0.4em;background-color: white;}#sk-container-id-1 div.sk-label label {font-family: monospace;font-weight: bold;display: inline-block;line-height: 1.2em;}#sk-container-id-1 div.sk-label-container {text-align: center;}#sk-container-id-1 div.sk-container {/* jupyter's `normalize.less` sets `[hidden] { display: none; }` but bootstrap.min.css set `[hidden] { display: none !important; }` so we also need the `!important` here to be able to override the default hidden behavior on the sphinx rendered scikit-learn.org. See: https://github.com/scikit-learn/scikit-learn/issues/21755 */display: inline-block !important;position: relative;}#sk-container-id-1 div.sk-text-repr-fallback {display: none;}</style><div id=\"sk-container-id-1\" class=\"sk-top-container\"><div class=\"sk-text-repr-fallback\"><pre>FirstLevelModel(drift_model=&#x27;None&#x27;, t_r=7.0)</pre><b>In a Jupyter environment, please rerun this cell to show the HTML representation or trust the notebook. <br />On GitHub, the HTML representation is unable to render, please try loading this page with nbviewer.org.</b></div><div class=\"sk-container\" hidden><div class=\"sk-item\"><div class=\"sk-estimator sk-toggleable\"><input class=\"sk-toggleable__control sk-hidden--visually\" id=\"sk-estimator-id-1\" type=\"checkbox\" checked><label for=\"sk-estimator-id-1\" class=\"sk-toggleable__label sk-toggleable__label-arrow\">FirstLevelModel</label><div class=\"sk-toggleable__content\"><pre>FirstLevelModel(drift_model=&#x27;None&#x27;, t_r=7.0)</pre></div></div></div></div></div>"
      ],
      "text/plain": [
       "FirstLevelModel(drift_model='None', t_r=7.0)"
      ]
     },
     "execution_count": 35,
     "metadata": {},
     "output_type": "execute_result"
    }
   ],
   "source": [
    "fit_glm = FirstLevelModel(t_r=7.0, drift_model='None')\n",
    "fit_glm.fit(fmri_img, design_matrices=[design_mat])"
   ]
  },
  {
   "cell_type": "markdown",
   "id": "f2714f90",
   "metadata": {},
   "source": [
    "You now know how to include any regressor in your design matrix!\n",
    "In pratice, we often include as additional columns:\n",
    "- Motion parameters\n",
    "- Derivatives of the motion parameters\n",
    "- Censoring of outlier volumes."
   ]
  },
  {
   "cell_type": "markdown",
   "id": "1afbf745",
   "metadata": {},
   "source": [
    "The censoring deserves at least a mention. Let's say that every for my 96 volumes of interest here, every 10th volume I get an outlier because of motion somehow. I could try to make a single regressor for all volumes, like so:"
   ]
  },
  {
   "cell_type": "code",
   "execution_count": 36,
   "id": "6fc86c6d",
   "metadata": {},
   "outputs": [
    {
     "data": {
      "image/png": "[encoded data removed]",
      "text/plain": [
       "<Figure size 261x1000 with 1 Axes>"
      ]
     },
     "metadata": {},
     "output_type": "display_data"
    }
   ],
   "source": [
    "reg = np.zeros((96))\n",
    "reg[::10] = 1\n",
    "\n",
    "\n",
    "design_mat_regged = design_mat.copy()\n",
    "design_mat_regged['motion outlier'] = reg\n",
    "\n",
    "plot_design_matrix(design_mat_regged)\n",
    "plt.show()"
   ]
  },
  {
   "cell_type": "markdown",
   "id": "d9e6c796",
   "metadata": {},
   "source": [
    "However, what we want implicitly is to censor the effect of each volume individually.\n",
    "For this reason, when doing **motion outlier regression** like so in the GLM, you will usually add one regressor **per outlying volume**. In this case:"
   ]
  },
  {
   "cell_type": "code",
   "execution_count": 37,
   "id": "1add1815",
   "metadata": {},
   "outputs": [
    {
     "data": {
      "image/png": "[encoded data removed]",
      "text/plain": [
       "<Figure size 468x1000 with 1 Axes>"
      ]
     },
     "metadata": {},
     "output_type": "display_data"
    }
   ],
   "source": [
    "design_mat_regged = design_mat.copy()\n",
    "\n",
    "for i in range(10):\n",
    "    reg = np.zeros((96,))*0.0\n",
    "    reg[i*10] = 1.0\n",
    "    design_mat_regged['motion outlier#' + str(i+1)] = reg\n",
    "\n",
    "plot_design_matrix(design_mat_regged)\n",
    "plt.show()"
   ]
  },
  {
   "cell_type": "markdown",
   "id": "c8882adc",
   "metadata": {},
   "source": [
    "## 6. Higher level analysis\n",
    "\n",
    "Now, for the final part (which will be fast, don't worry!) - the higher level analysis.\n",
    "\n",
    "This analysis aims to model the **random effect** of participants onto the effect you measure. In fMRI, the effect is a contrast map. As such, you will feed to the higher level model contrast maps.\n",
    "\n",
    "The above dataset unfortunately does not contain several participants, so we will load another one to have you work on it.\n",
    "\n",
    "In this experiment, participants performed a functional localizer task.\n",
    "Participants are exposed to four types of stimulation:\n",
    "- An auditory voice asks them to perform a mental computation (e.g: \"Compute seventeen minus four\")\n",
    "- A video projected on a screen asks them to perform a mental computation (same example as above)\n",
    "- An auditory voice reads a narrative sentence (e.g: \"A storm is approaching\")\n",
    "- A video projected on the screen displays a narrative sentence\n",
    "\n",
    "A first level GLM has already been run on these data. The contrast that has been created for each participant opposes mental computation (the first two stimuli) to narrative sentence reading/listening.\n",
    "\n",
    "Let us load these contrast maps and look at one of them:"
   ]
  },
  {
   "cell_type": "code",
   "execution_count": 40,
   "id": "5355a292",
   "metadata": {},
   "outputs": [
    {
     "ename": "NameError",
     "evalue": "name 'load' is not defined",
     "output_type": "error",
     "traceback": [
      "\u001b[0;31m---------------------------------------------------------------------------\u001b[0m",
      "\u001b[0;31mNameError\u001b[0m                                 Traceback (most recent call last)",
      "Cell \u001b[0;32mIn [40], line 6\u001b[0m\n\u001b[1;32m      2\u001b[0m n_samples \u001b[38;5;241m=\u001b[39m \u001b[38;5;241m20\u001b[39m\n\u001b[1;32m      3\u001b[0m localizer_dataset \u001b[38;5;241m=\u001b[39m datasets\u001b[38;5;241m.\u001b[39mfetch_localizer_calculation_task(\n\u001b[1;32m      4\u001b[0m     n_subjects\u001b[38;5;241m=\u001b[39mn_samples, legacy_format\u001b[38;5;241m=\u001b[39m\u001b[38;5;28;01mFalse\u001b[39;00m)\n\u001b[0;32m----> 6\u001b[0m \u001b[43mload\u001b[49m(localizer_dataset\u001b[38;5;241m.\u001b[39mcmaps[\u001b[38;5;241m0\u001b[39m])\n",
      "\u001b[0;31mNameError\u001b[0m: name 'load' is not defined"
     ]
    }
   ],
   "source": [
    "from nilearn import datasets\n",
    "n_samples = 20\n",
    "localizer_dataset = datasets.fetch_localizer_calculation_task(\n",
    "    n_subjects=n_samples, legacy_format=False)\n",
    "\n",
    "load(localizer_dataset.cmaps[0])"
   ]
  },
  {
   "cell_type": "markdown",
   "id": "f56b675b",
   "metadata": {},
   "source": [
    "Despite being heavily present in the task, neither visual nor auditory regions pop out, compared to our previous contrast. Why do you think that is?"
   ]
  },
  {
   "cell_type": "code",
   "execution_count": null,
   "id": "fdb0cd83",
   "metadata": {},
   "outputs": [],
   "source": []
  },
  {
   "cell_type": "markdown",
   "id": "505a84f2",
   "metadata": {},
   "source": [
    "Let's now conduct our second level analysis. To do this, we will specify our design matrix. We always need an intercept. Note that you could include here as a second regressor more interesting factors. In an interventional experiment, you could include a regressor to signal which subjects are 'control' and which ones are 'study'. You can also include effects such as the sex of your participants, their age etc."
   ]
  },
  {
   "cell_type": "code",
   "execution_count": 41,
   "id": "8f569493",
   "metadata": {},
   "outputs": [],
   "source": [
    "design_matrix = pd.DataFrame([1] * n_samples, columns=['intercept'])"
   ]
  },
  {
   "cell_type": "code",
   "execution_count": 42,
   "id": "61774cbe",
   "metadata": {},
   "outputs": [],
   "source": [
    "from nilearn.glm.second_level import SecondLevelModel\n",
    "second_level_model = SecondLevelModel().fit(\n",
    "    localizer_dataset.cmaps, design_matrix=design_matrix)"
   ]
  },
  {
   "cell_type": "markdown",
   "id": "789afdc2",
   "metadata": {},
   "source": [
    "Great! Now we run the following to obtain the contrast at the population level:"
   ]
  },
  {
   "cell_type": "code",
   "execution_count": 43,
   "id": "766da8a9",
   "metadata": {},
   "outputs": [],
   "source": [
    "z_map = second_level_model.compute_contrast(output_type='z_score')"
   ]
  },
  {
   "cell_type": "markdown",
   "id": "22d05064",
   "metadata": {},
   "source": [
    "Let's see what it looks like shall we?\n",
    "Please, get the cleam map by thresholding the above z-map with an FDR with rate 0.05 and cluster size 10!"
   ]
  },
  {
   "cell_type": "code",
   "execution_count": 44,
   "id": "662dbb56",
   "metadata": {},
   "outputs": [
    {
     "ename": "NameError",
     "evalue": "name 'threshold_stats_img' is not defined",
     "output_type": "error",
     "traceback": [
      "\u001b[0;31m---------------------------------------------------------------------------\u001b[0m",
      "\u001b[0;31mNameError\u001b[0m                                 Traceback (most recent call last)",
      "Cell \u001b[0;32mIn [44], line 1\u001b[0m\n\u001b[0;32m----> 1\u001b[0m clean_map, threshold \u001b[38;5;241m=\u001b[39m \u001b[43mthreshold_stats_img\u001b[49m(z_map, alpha\u001b[38;5;241m=\u001b[39mfdr_rate, height_control\u001b[38;5;241m=\u001b[39m\u001b[38;5;124m'\u001b[39m\u001b[38;5;124mfdr\u001b[39m\u001b[38;5;124m'\u001b[39m, cluster_threshold\u001b[38;5;241m=\u001b[39mcluster_size)\n\u001b[1;32m      3\u001b[0m \u001b[38;5;66;03m# Saving it to disk\u001b[39;00m\n\u001b[1;32m      4\u001b[0m nib\u001b[38;5;241m.\u001b[39msave(clean_map, \u001b[38;5;124m'\u001b[39m\u001b[38;5;124mlocalizer_population_cleaned_map.nii.gz\u001b[39m\u001b[38;5;124m'\u001b[39m)\n",
      "\u001b[0;31mNameError\u001b[0m: name 'threshold_stats_img' is not defined"
     ]
    }
   ],
   "source": [
    "clean_map, threshold = threshold_stats_img(z_map, alpha=fdr_rate, height_control='fdr', cluster_threshold=cluster_size)\n",
    "\n",
    "# Saving it to disk\n",
    "nib.save(clean_map, 'localizer_population_cleaned_map.nii.gz')\n",
    "\n",
    "# And this is just to plot here!\n",
    "plot_stat_map(clean_map, threshold=threshold,\n",
    "              display_mode='z', cut_coords=3, black_bg=True,\n",
    "              title='Mental comp. minus narrative read/listen. (fdr={}, threshold={}), clusters > {} voxels'.format(fdr_rate, threshold, cluster_size))\n",
    "plt.show()"
   ]
  },
  {
   "cell_type": "markdown",
   "id": "b50c6f2b",
   "metadata": {},
   "source": [
    "We've saved the map as localizer_population_cleaned_map, so that you can have a look at it in FSLeyes :) Feel free to explore it. Do you think based on what you know of the brain that these patterns make sense?"
   ]
  },
  {
   "cell_type": "code",
   "execution_count": null,
   "id": "f3b0280e",
   "metadata": {},
   "outputs": [],
   "source": [
    "load('localizer_population_cleaned_map')"
   ]
  },
  {
   "cell_type": "markdown",
   "id": "3d5fee47",
   "metadata": {},
   "source": [
    "## More to explore\n",
    "\n",
    "You have seen the basics of the GLM. However, there are many more things to be covered. The most important one is the experimental design itself. You can read more on what is called event-related against block design <a href=\"https://afni.nimh.nih.gov/pub/dist/HOWTO/howto/ht03_stim/html/stim_background.html\">here</a>.\n",
    "\n",
    "Secondly, we've used one HRF model, but there are other slightly different HRFs you can use instead. You can also conduct smoothing, include various regressors...all these choices are usually driven by the experiment at hand! They are a bit out of scope of this tutorial. For now: you are done! Congratulations!"
   ]
  },
  {
   "cell_type": "markdown",
   "id": "e78cdd2e",
   "metadata": {},
   "source": [
    "## Parenthesis: an example of how to load an event file from openneuro\n",
    "\n",
    "The below cell shows you how to load the event file of run04 of sub-001 in the dataset ds004226 of openneuro (<a href=\"https://openneuro.org/datasets/ds004226/versions/1.0.0\">this dataset)\n",
    "    \n",
    "<img src=\"imgs/event_files_demo.png\"/>\n",
    "    <center><i>This file specifically</i></center>"
   ]
  },
  {
   "cell_type": "code",
   "execution_count": null,
   "id": "e4d860df",
   "metadata": {},
   "outputs": [],
   "source": [
    "import os.path as op\n",
    "from mne.datasets import sample\n",
    "# Useful imports to define the direct download function below\n",
    "import requests\n",
    "import urllib.request\n",
    "from tqdm import tqdm\n",
    "\n",
    "def mkdir_no_exist(path):\n",
    "    if not op.isdir(path):\n",
    "        os.makedirs(path)\n",
    "        \n",
    "class DownloadProgressBar(tqdm):\n",
    "    def update_to(self, b=1, bsize=1, tsize=None):\n",
    "        if tsize is not None:\n",
    "            self.total = tsize\n",
    "        self.update(b * bsize - self.n)\n",
    "\n",
    "\n",
    "def download_url(url, output_path):\n",
    "    with DownloadProgressBar(unit='B', unit_scale=True,\n",
    "                             miniters=1, desc=url.split('/')[-1]) as t:\n",
    "        urllib.request.urlretrieve(url, filename=output_path, reporthook=t.update_to)\n",
    "\n",
    "def direct_file_download_open_neuro(file_list, file_types, dataset_id, dataset_version, save_dirs):\n",
    "    # https://openneuro.org/crn/datasets/ds004226/snapshots/1.0.0/files/sub-001:sub-001_scans.tsv\n",
    "    for i, n in enumerate(file_list):\n",
    "        subject = n.split('_')[0]\n",
    "        download_link = 'https://openneuro.org/crn/datasets/{}/snapshots/{}/files/{}:{}:{}'.format(dataset_id, dataset_version, subject, file_types[i],n)\n",
    "        print('Attempting download from ', download_link)\n",
    "        download_url(download_link, op.join(save_dirs[i], n))\n",
    "        print('Ok')"
   ]
  },
  {
   "cell_type": "markdown",
   "id": "fb6213a5",
   "metadata": {},
   "source": [
    "First, this cell will download the events file:"
   ]
  },
  {
   "cell_type": "code",
   "execution_count": null,
   "id": "1fa4a7d9",
   "metadata": {},
   "outputs": [],
   "source": [
    "dataset_fmap = 'ds004226'\n",
    "subject_fmap = '001' \n",
    "\n",
    "# Download one subject's data from each dataset\n",
    "bids_root = op.join(op.dirname(sample.data_path()), dataset_fmap)\n",
    "\n",
    "mkdir_no_exist(bids_root)\n",
    "\n",
    "\n",
    "\n",
    "func_path = op.join(bids_root, 'sub-001', 'func')\n",
    "mkdir_no_exist(op.join(bids_root, 'sub-001'))\n",
    "mkdir_no_exist(func_path)\n",
    "\n",
    "direct_file_download_open_neuro(file_list=['sub-001_task-sitrep_run-04_events.tsv'], \n",
    "                                file_types=['func'], \n",
    "                                dataset_id=dataset_fmap, \n",
    "                                dataset_version='1.0.0', \n",
    "                                save_dirs=[func_path])"
   ]
  },
  {
   "cell_type": "markdown",
   "id": "05acbd53",
   "metadata": {},
   "source": [
    "Now, we must load it. It has been placed into the functional folder of sub-001, given by the variable func_path. So to load it:"
   ]
  },
  {
   "cell_type": "code",
   "execution_count": null,
   "id": "7901ceff",
   "metadata": {},
   "outputs": [],
   "source": [
    "pd.read_csv(op.join(func_path, 'sub-001_task-sitrep_run-04_events.tsv'), sep='\\t')"
   ]
  },
  {
   "cell_type": "markdown",
   "id": "67630ab5",
   "metadata": {},
   "source": [
    "Easy enough right? :)"
   ]
  },
  {
   "cell_type": "code",
   "execution_count": null,
   "id": "1b87682e",
   "metadata": {},
   "outputs": [],
   "source": []
  }
 ],
 "metadata": {
  "kernelspec": {
   "display_name": "Python 3 (ipykernel)",
   "language": "python",
   "name": "python3"
  },
  "language_info": {
   "codemirror_mode": {
    "name": "ipython",
    "version": 3
   },
   "file_extension": ".py",
   "mimetype": "text/x-python",
   "name": "python",
   "nbconvert_exporter": "python",
   "pygments_lexer": "ipython3",
   "version": "3.8.13"
  }
 },
 "nbformat": 4,
 "nbformat_minor": 5
}
