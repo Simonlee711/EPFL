{
 "cells": [
  {
   "cell_type": "markdown",
   "metadata": {},
   "source": [
    "# Exercises - Week 7 - Feature Engineering\n",
    "#### Simon Lee, BIO-322, Machine Learning for Bioengineers, Winter 2022"
   ]
  },
  {
   "cell_type": "markdown",
   "metadata": {},
   "source": [
    "## Conceptual\n",
    "#### Exercise 1\n",
    "Suppose, for a regression problem with one-dimensional input $X$ and one-dimensional output $Y$ we use the feature functions $h_1(X) = X$, $h_2(X) = (X - 1)^2\\chi(X\\ge 1)$ (where $\\chi$ is the indicator function, being 1 when the condition inside the brackets is true and 0 otherwise), fit the linear regression model $Y = \\beta_0 + \\beta_1h_1(X) + \\beta_2h_2(X) + \\varepsilon,$ and obtain coefficient estimates $\\hat{\\beta}_0 = 1$, $\\hat{\\beta}_1 = 1$, $\\hat{\\beta}_2 = -2$. Draw the estimated curve between $X = -2$ and $X = 2$.\n"
   ]
  },
  {
   "cell_type": "markdown",
   "metadata": {},
   "source": [
    "#### Exercise 2\n",
    "The following table shows one-hot encoded input for columns `mean_of_transport` (car, train, airplane, ship) and `energy_source` (petrol, electric). Indicate for each row the mean of transport and the energy source.\n",
    "| car | train | airplane | petrol|\n",
    "|-----|-------|----------|-------|\n",
    "| 1   | 0     | 0        |  0    |\n",
    "| 0   | 0     | 0        |  1    |\n",
    "| 0   | 1     | 0        |  1    |\n",
    "| 0   | 0     | 0        |  0    |"
   ]
  },
  {
   "cell_type": "markdown",
   "metadata": {},
   "source": [
    "#### Exercise 3\n",
    "In the \\\"Vector Features\\\" section we said that the xor problem has a non-linear decision boundary in the original $X_1, X_2$ coordinates, but a linear decision boundary in the $H_1, H_2, H_3, H_4$ coordinates. Here we prove that $-H_1 + H_2 + H_3 - H_4 = 0$ defines indeed a linear decision boundary that solves the xor-problem.\n",
    "* Show that $-H_1 + H_2 + H_3 - H_4  < 0$ for all points with $X_1 > 0$ and $X_2 > 0$.\n",
    "* Show that $-H_1 + H_2 + H_3 - H_4  < 0$ for all points with $X_1 < 0$ and $X_2 < 0$.\n",
    "* Show that $-H_1 + H_2 + H_3 - H_4  > 0$ for all other points."
   ]
  },
  {
   "cell_type": "markdown",
   "metadata": {},
   "source": [
    "## Applied\n",
    "#### Exercise 4\n",
    "Load the mushroom data set `OpenML.load(24)` and determine if a linear logistic regression can correctly classify all datapoints if\n",
    "   * rows with missing values are dropped.\n",
    "   * rows with missing values are imputed with the most common class.\n",
    "   * rows with missing values are imputed with the most common class."
   ]
  },
  {
   "cell_type": "markdown",
   "metadata": {},
   "source": [
    "#### Exercise 5\n",
    "You are given the following artificial dataset. The data is not linearly separable, meaning that there is no linear decision boundary that would perfectly seperate the blue from the red data points.\n",
    "    * Find a 2-dimensional feature representation $H_1 = f_1(X_1, X_2), H_2 = f_2(X_1, X_2)$, such that the transformed data is linearly separable.\n",
    "    * Generate a similar plot as the one below for the transformed data to visualize that the decision boundary has become linear for the transformed data."
   ]
  },
  {
   "cell_type": "markdown",
   "metadata": {},
   "source": [
    "#### Exercise 6 (optional)\n",
    "In Exercise 5 of \\\"Generalized Linear Regression\\\" we fitted the bike sharing data using only `:temp` and `:humidity` as predictors. The quality of the fit was not good. Here we try to improve the fit by including more predictors. Many predictors can be treated as categorical, e.g. even the `:hour`, which is actually an ordered, periodic integer, can be treated as categorical to give the linear model a lot of flexibility. Try out different transformations of the input until you find a linear Poisson model that fits the data clearly better than what we had in the previous Exercise. You can measure quality of fit by looking at the same plot as in the previous exercise or by using cross-validation."
   ]
  }
 ],
 "metadata": {
  "kernelspec": {
   "display_name": "Julia 1.7.3",
   "language": "julia",
   "name": "julia-1.7"
  },
  "language_info": {
   "name": "julia"
  },
  "orig_nbformat": 4
 },
 "nbformat": 4,
 "nbformat_minor": 2
}
